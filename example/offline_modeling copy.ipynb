{
 "cells": [
  {
   "cell_type": "code",
   "execution_count": 1,
   "metadata": {},
   "outputs": [
    {
     "data": {
      "text/plain": [
       "<torch._C.Generator at 0x249f89e0ed0>"
      ]
     },
     "execution_count": 1,
     "metadata": {},
     "output_type": "execute_result"
    }
   ],
   "source": [
    "import os\n",
    "\n",
    "os.chdir(r'C:\\Users\\carlo\\GitHub\\ProjectBuffalo')\n",
    "\n",
    "import buffalo.ingestion as ingestion\n",
    "import buffalo.predictor as predictor\n",
    "import buffalo.algorithm as algorithm\n",
    "import buffalo.predictor.models as modeling\n",
    "import torch\n",
    "import pickle\n",
    "import pandas as pd\n",
    "from buffalo.utility import expand_grid\n",
    "from tqdm.auto import tqdm\n",
    "\n",
    "torch.manual_seed(0)"
   ]
  },
  {
   "cell_type": "code",
   "execution_count": 2,
   "metadata": {},
   "outputs": [],
   "source": [
    "ingestor = ingestion.DataIngestion(ingestion.enum.API.ADVANTAGE)"
   ]
  },
  {
   "cell_type": "code",
   "execution_count": 3,
   "metadata": {},
   "outputs": [],
   "source": [
    "ingestor.load_data(r'cached_data/ingestion.sqlite')"
   ]
  },
  {
   "cell_type": "code",
   "execution_count": 4,
   "metadata": {},
   "outputs": [],
   "source": [
    "target_symbol = 'GE'"
   ]
  },
  {
   "cell_type": "code",
   "execution_count": 5,
   "metadata": {},
   "outputs": [
    {
     "data": {
      "text/plain": [
       "array(['AAPL', 'MSFT', 'IBM', 'META', 'JNJ', 'PFE', 'UNH', 'MARK', 'XLV',\n",
       "       'JPM', 'BAC', 'GS', 'MS', 'XLF', 'PG', 'KO', 'PEP', 'NKE', 'XLP',\n",
       "       'GE', 'HON', 'UTX', 'MMM', 'XLI'], dtype=object)"
      ]
     },
     "execution_count": 5,
     "metadata": {},
     "output_type": "execute_result"
    }
   ],
   "source": [
    "ingestor.data['ADJUSTED_DAILY_STOCK'].symbol.unique()"
   ]
  },
  {
   "cell_type": "code",
   "execution_count": 6,
   "metadata": {},
   "outputs": [],
   "source": [
    "target_stock = ingestor.data['ADJUSTED_DAILY_STOCK'].query('symbol == @target_symbol')[['open', 'high', 'low', 'adjusted_close', 'volume']]"
   ]
  },
  {
   "cell_type": "code",
   "execution_count": 7,
   "metadata": {},
   "outputs": [],
   "source": [
    "other_stocks = ingestor.data['ADJUSTED_DAILY_STOCK'].query('symbol != @target_symbol')"
   ]
  },
  {
   "cell_type": "code",
   "execution_count": 9,
   "metadata": {},
   "outputs": [],
   "source": [
    "for symbol in ['MSFT', 'IBM', 'JNJ', 'PFE', 'UNH', 'XLV', 'JPM', 'BAC', 'GS', 'XLF', 'AAPL', 'KO', 'PEP', 'NKE', 'XLP', 'PG', 'HON', 'MMM', 'XLI']:\n",
    "    temp = other_stocks[other_stocks['symbol'] == symbol][['open', 'high', 'low', 'adjusted_close', 'volume']].rename(columns={'adjusted_close': 'close'})\n",
    "    temp.columns = symbol + '_' + temp.columns\n",
    "    target_stock = predictor.util.align_dataframe_by_time(target_stock, temp)"
   ]
  },
  {
   "cell_type": "code",
   "execution_count": 10,
   "metadata": {},
   "outputs": [],
   "source": [
    "target_income_statement = ingestor.data['COMPANY_INCOME_STATEMENT'].query('symbol == @target_symbol & freq == \"quarterly\"').drop(columns=['reported_currency', 'symbol', 'freq', 'function']).dropna(axis=1, how='all')\n",
    "target_balance_sheet = ingestor.data['COMPANY_BALANCE_SHEET'].query('symbol == @target_symbol & freq == \"quarterly\"').drop(columns=['reported_currency', 'symbol', 'freq', 'function']).dropna(axis=1, how='all')\n",
    "target_cash_flow = ingestor.data['COMPANY_CASH_FLOW'].query('symbol == @target_symbol & freq == \"quarterly\"').drop(columns=['reported_currency', 'symbol', 'freq', 'function', 'net_income']).dropna(axis=1, how='all')\n",
    "fed_funds_rate = ingestor.data['FEDERAL_FUNDS_RATE'][['value']].rename(columns={'value': 'effective_federal_funds_rate'}).dropna(axis=1, how='all')\n",
    "payroll = ingestor.data['NONFARM_PAYROLL'][['value']].rename(columns={'value': 'total_nonfarm_payroll'}).dropna(axis=1, how='all')\n",
    "cpi = ingestor.data['CPI'][['value']].rename(columns={'value': 'consumer_price_index'}).dropna(axis=1, how='all')\n",
    "unemployment = ingestor.data['UNEMPLOYMENT'][['value']].rename(columns={'value': 'unemployment_rate'}).dropna(axis=1, how='all')\n",
    "real_gdp = ingestor.data['REAL_GDP'][['value']].rename(columns={'value': 'real_gross_domestic_product'}).dropna(axis=1, how='all')\n",
    "real_gdp_per_capita = ingestor.data['REAL_GDP_PER_CAPITA'][['value']].rename(columns={'value': 'real_gross_domestic_product_per_capita'})\n",
    "treasury_yield = ingestor.data['TREASURY_YIELD'][['value', 'maturity']].pivot(columns=['maturity'], values=['value']).dropna(axis=1, how='all')\n",
    "treasury_yield.columns = 'treasury_yield_' + treasury_yield.columns.droplevel(level=0)"
   ]
  },
  {
   "cell_type": "code",
   "execution_count": 11,
   "metadata": {},
   "outputs": [],
   "source": [
    "sma = ingestor.data['SMA'].query('symbol == @target_symbol & interval == \"daily\"')\n",
    "roc = ingestor.data['ROC'].query('symbol == @target_symbol & interval == \"daily\"')\n",
    "ht_sine = ingestor.data['HT_SINE'].query('symbol == @target_symbol & interval == \"daily\"')\n",
    "mom = ingestor.data['MOM'].query('symbol == @target_symbol & interval == \"daily\"')\n",
    "sma = sma.pivot(columns=['time_period', 'series_type'], values=['sma']).dropna(axis=1, how='all')\n",
    "sma.columns = sma.columns.map(lambda x: '-'.join([str(t) for t in x]))\n",
    "target_stock = predictor.util.align_dataframe_by_time(target_stock, sma)\n",
    "roc = roc.pivot(columns=['time_period', 'series_type'], values=['roc']).dropna(axis=1, how='all')\n",
    "roc.columns = roc.columns.map(lambda x: '-'.join([str(t) for t in x]))\n",
    "target_stock = predictor.util.align_dataframe_by_time(target_stock, roc)\n",
    "ht_sine = ht_sine.pivot(columns=['time_period', 'series_type'], values=['lead_sine', 'sine']).dropna(axis=1, how='all')\n",
    "ht_sine.columns = ht_sine.columns.map(lambda x: '-'.join([str(t) for t in x]))\n",
    "target_stock = predictor.util.align_dataframe_by_time(target_stock, ht_sine)\n",
    "mom = mom.pivot(columns=['time_period', 'series_type'], values=['mom']).dropna(axis=1, how='all')\n",
    "mom.columns = mom.columns.map(lambda x: '-'.join([str(t) for t in x]))\n",
    "target_stock = predictor.util.align_dataframe_by_time(target_stock, mom)"
   ]
  },
  {
   "cell_type": "code",
   "execution_count": 12,
   "metadata": {},
   "outputs": [
    {
     "name": "stdout",
     "output_type": "stream",
     "text": [
      "(5692, 160)\n",
      "(5691, 161)\n",
      "(5671, 162)\n",
      "(5671, 163)\n",
      "(5671, 164)\n",
      "(5286, 165)\n"
     ]
    },
    {
     "name": "stderr",
     "output_type": "stream",
     "text": [
      "c:\\Users\\carlo\\miniconda3\\lib\\site-packages\\scipy\\signal\\_spectral_py.py:1999: UserWarning: nperseg = 256 is greater than input length  = 83, using nperseg = 83\n",
      "  warnings.warn('nperseg = {0:d} is greater than input length '\n"
     ]
    },
    {
     "name": "stdout",
     "output_type": "stream",
     "text": [
      "(5286, 166)\n",
      "(5246, 171)\n"
     ]
    }
   ],
   "source": [
    "print(target_stock.shape)\n",
    "target_stock = predictor.util.align_dataframe_by_time(target_stock, fed_funds_rate)\n",
    "print(target_stock.shape)\n",
    "target_stock = predictor.util.align_dataframe_by_time(target_stock, payroll)\n",
    "print(target_stock.shape)\n",
    "target_stock = predictor.util.align_dataframe_by_time(target_stock, cpi)\n",
    "print(target_stock.shape)\n",
    "target_stock = predictor.util.align_dataframe_by_time(target_stock, unemployment)\n",
    "print(target_stock.shape)\n",
    "target_stock = predictor.util.align_dataframe_by_time(target_stock, real_gdp)\n",
    "print(target_stock.shape)\n",
    "target_stock = predictor.util.align_dataframe_by_time(target_stock, real_gdp_per_capita)\n",
    "print(target_stock.shape)\n",
    "target_stock = predictor.util.align_dataframe_by_time(target_stock, treasury_yield)\n",
    "print(target_stock.shape)\n",
    "#target_stock = predictor.util.align_dataframe_by_time(target_stock, target_income_statement)\n",
    "#print(target_stock.shape)\n",
    "#target_stock = predictor.util.align_dataframe_by_time(target_stock, target_balance_sheet)\n",
    "#print(target_stock.shape)\n",
    "#target_stock = predictor.util.align_dataframe_by_time(target_stock, target_cash_flow)\n",
    "#print(target_stock.shape)"
   ]
  },
  {
   "cell_type": "code",
   "execution_count": 13,
   "metadata": {},
   "outputs": [],
   "source": [
    "pickle.dump(target_stock, open(r'cached_data/target_stock.pickle', 'wb'))"
   ]
  },
  {
   "cell_type": "code",
   "execution_count": 14,
   "metadata": {},
   "outputs": [],
   "source": [
    "target_stock = pickle.load(open(r'cached_data/target_stock.pickle', 'rb'))"
   ]
  },
  {
   "cell_type": "code",
   "execution_count": 15,
   "metadata": {},
   "outputs": [
    {
     "data": {
      "text/plain": [
       "(5246, 171)"
      ]
     },
     "execution_count": 15,
     "metadata": {},
     "output_type": "execute_result"
    }
   ],
   "source": [
    "target_stock.shape"
   ]
  },
  {
   "cell_type": "code",
   "execution_count": 16,
   "metadata": {},
   "outputs": [],
   "source": [
    "n_head = 1"
   ]
  },
  {
   "cell_type": "code",
   "execution_count": 17,
   "metadata": {},
   "outputs": [],
   "source": [
    "time_series_data = predictor.util.TimeSeriesData(endog=target_stock[['adjusted_close']], exog=target_stock.drop(columns=['adjusted_close']), seq_len=180, label_len=n_head, name=f'DAILY_ADJUSTED_CLOSE_{target_symbol}')"
   ]
  },
  {
   "attachments": {},
   "cell_type": "markdown",
   "metadata": {},
   "source": [
    "#### Offline Learning"
   ]
  },
  {
   "cell_type": "code",
   "execution_count": 20,
   "metadata": {},
   "outputs": [],
   "source": [
    "sweep_params = expand_grid(\n",
    "    hidden_size=[128, 256, 64, 32],\n",
    "    num_layers=[1, 2, 4],\n",
    "    dropout=[0.2, 0.4],\n",
    "    batch_size=[64],\n",
    "    learning_rate=[0.001],\n",
    "    weight_decay=[0.001],\n",
    "    epochs=[30, 60],\n",
    "    bidirectional = [True, False],\n",
    "    n_fold=1,\n",
    "    activation='relu'\n",
    ")"
   ]
  },
  {
   "cell_type": "code",
   "execution_count": 21,
   "metadata": {},
   "outputs": [
    {
     "data": {
      "application/vnd.jupyter.widget-view+json": {
       "model_id": "ec43ed8121734148a4f7293f4aa0b649",
       "version_major": 2,
       "version_minor": 0
      },
      "text/plain": [
       "  0%|          | 0/96 [00:00<?, ?it/s]"
      ]
     },
     "metadata": {},
     "output_type": "display_data"
    },
    {
     "name": "stderr",
     "output_type": "stream",
     "text": [
      "c:\\Users\\carlo\\miniconda3\\lib\\site-packages\\torch\\nn\\modules\\rnn.py:71: UserWarning: dropout option adds dropout after all but last recurrent layer, so non-zero dropout expects num_layers greater than 1, but got dropout=0.2 and num_layers=1\n",
      "  warnings.warn(\"dropout option adds dropout after all but last \"\n"
     ]
    },
    {
     "data": {
      "application/vnd.jupyter.widget-view+json": {
       "model_id": "902e4a3160444508bb93bd1b1dccfaee",
       "version_major": 2,
       "version_minor": 0
      },
      "text/plain": [
       "Multi-fold validation:   0%|          | 0/1 [00:00<?, ?it/s]"
      ]
     },
     "metadata": {},
     "output_type": "display_data"
    },
    {
     "data": {
      "application/vnd.jupyter.widget-view+json": {
       "model_id": "55641a66fa674ad8a5f2fae0fa5938ff",
       "version_major": 2,
       "version_minor": 0
      },
      "text/plain": [
       "Epoch:   0%|          | 0/30 [00:00<?, ?it/s]"
      ]
     },
     "metadata": {},
     "output_type": "display_data"
    },
    {
     "name": "stderr",
     "output_type": "stream",
     "text": [
      "C:\\Users\\carlo\\GitHub\\ProjectBuffalo\\buffalo\\predictor\\__init__.py:223: RuntimeWarning: Mean of empty slice\n",
      "  print(f'Averaged validation loss: {np.nanmean(train_valid_loss)}. Test loss: {test_loss}.')\n",
      "C:\\Users\\carlo\\GitHub\\ProjectBuffalo\\buffalo\\predictor\\__init__.py:236: RuntimeWarning: Mean of empty slice\n",
      "  'average_validation_loss': np.nanmean(train_valid_loss) if non_empty_train_indices else None}\n"
     ]
    },
    {
     "name": "stdout",
     "output_type": "stream",
     "text": [
      "Averaged validation loss: nan. Test loss: 2155.4717681372626.\n"
     ]
    },
    {
     "name": "stderr",
     "output_type": "stream",
     "text": [
      "c:\\Users\\carlo\\miniconda3\\lib\\site-packages\\torch\\nn\\modules\\rnn.py:71: UserWarning: dropout option adds dropout after all but last recurrent layer, so non-zero dropout expects num_layers greater than 1, but got dropout=0.2 and num_layers=1\n",
      "  warnings.warn(\"dropout option adds dropout after all but last \"\n"
     ]
    },
    {
     "data": {
      "application/vnd.jupyter.widget-view+json": {
       "model_id": "c44454894edd4599982bd0d1f002677e",
       "version_major": 2,
       "version_minor": 0
      },
      "text/plain": [
       "Multi-fold validation:   0%|          | 0/1 [00:00<?, ?it/s]"
      ]
     },
     "metadata": {},
     "output_type": "display_data"
    },
    {
     "data": {
      "application/vnd.jupyter.widget-view+json": {
       "model_id": "a53b6c0599c8487983b1dc2a8b1e891b",
       "version_major": 2,
       "version_minor": 0
      },
      "text/plain": [
       "Epoch:   0%|          | 0/30 [00:00<?, ?it/s]"
      ]
     },
     "metadata": {},
     "output_type": "display_data"
    },
    {
     "name": "stdout",
     "output_type": "stream",
     "text": [
      "Averaged validation loss: nan. Test loss: 2125.6070822953943.\n"
     ]
    },
    {
     "name": "stderr",
     "output_type": "stream",
     "text": [
      "C:\\Users\\carlo\\GitHub\\ProjectBuffalo\\buffalo\\predictor\\__init__.py:223: RuntimeWarning: Mean of empty slice\n",
      "  print(f'Averaged validation loss: {np.nanmean(train_valid_loss)}. Test loss: {test_loss}.')\n",
      "C:\\Users\\carlo\\GitHub\\ProjectBuffalo\\buffalo\\predictor\\__init__.py:236: RuntimeWarning: Mean of empty slice\n",
      "  'average_validation_loss': np.nanmean(train_valid_loss) if non_empty_train_indices else None}\n",
      "C:\\Users\\carlo\\GitHub\\ProjectBuffalo\\buffalo\\predictor\\util.py:224: UserWarning: dataset_info with the same primary keys already exists with id 1, will not store dataset information.\n",
      "  warn(f\"dataset_info with the same primary keys already exists with id {searched_id}, will not store dataset information.\")\n",
      "c:\\Users\\carlo\\miniconda3\\lib\\site-packages\\torch\\nn\\modules\\rnn.py:71: UserWarning: dropout option adds dropout after all but last recurrent layer, so non-zero dropout expects num_layers greater than 1, but got dropout=0.2 and num_layers=1\n",
      "  warnings.warn(\"dropout option adds dropout after all but last \"\n"
     ]
    },
    {
     "data": {
      "application/vnd.jupyter.widget-view+json": {
       "model_id": "b8404d84d97f4760a6f3d0ed82ad704a",
       "version_major": 2,
       "version_minor": 0
      },
      "text/plain": [
       "Multi-fold validation:   0%|          | 0/1 [00:00<?, ?it/s]"
      ]
     },
     "metadata": {},
     "output_type": "display_data"
    },
    {
     "data": {
      "application/vnd.jupyter.widget-view+json": {
       "model_id": "763b99d786d14cd5b5f9d57e92e6f395",
       "version_major": 2,
       "version_minor": 0
      },
      "text/plain": [
       "Epoch:   0%|          | 0/60 [00:00<?, ?it/s]"
      ]
     },
     "metadata": {},
     "output_type": "display_data"
    },
    {
     "name": "stdout",
     "output_type": "stream",
     "text": [
      "Averaged validation loss: nan. Test loss: 1995.6204931592424.\n"
     ]
    },
    {
     "name": "stderr",
     "output_type": "stream",
     "text": [
      "C:\\Users\\carlo\\GitHub\\ProjectBuffalo\\buffalo\\predictor\\__init__.py:223: RuntimeWarning: Mean of empty slice\n",
      "  print(f'Averaged validation loss: {np.nanmean(train_valid_loss)}. Test loss: {test_loss}.')\n",
      "C:\\Users\\carlo\\GitHub\\ProjectBuffalo\\buffalo\\predictor\\__init__.py:236: RuntimeWarning: Mean of empty slice\n",
      "  'average_validation_loss': np.nanmean(train_valid_loss) if non_empty_train_indices else None}\n",
      "C:\\Users\\carlo\\GitHub\\ProjectBuffalo\\buffalo\\predictor\\util.py:224: UserWarning: dataset_info with the same primary keys already exists with id 1, will not store dataset information.\n",
      "  warn(f\"dataset_info with the same primary keys already exists with id {searched_id}, will not store dataset information.\")\n",
      "C:\\Users\\carlo\\GitHub\\ProjectBuffalo\\buffalo\\predictor\\util.py:397: UserWarning: model_info with the same primary keys already exists with id 1, will not store model information.\n",
      "  warn(f'model_info with the same primary keys already exists with id {searched_id}, will not store model information.')\n",
      "c:\\Users\\carlo\\miniconda3\\lib\\site-packages\\torch\\nn\\modules\\rnn.py:71: UserWarning: dropout option adds dropout after all but last recurrent layer, so non-zero dropout expects num_layers greater than 1, but got dropout=0.2 and num_layers=1\n",
      "  warnings.warn(\"dropout option adds dropout after all but last \"\n"
     ]
    },
    {
     "data": {
      "application/vnd.jupyter.widget-view+json": {
       "model_id": "22c597d530d44bb48187c7e3c5b4d5be",
       "version_major": 2,
       "version_minor": 0
      },
      "text/plain": [
       "Multi-fold validation:   0%|          | 0/1 [00:00<?, ?it/s]"
      ]
     },
     "metadata": {},
     "output_type": "display_data"
    },
    {
     "data": {
      "application/vnd.jupyter.widget-view+json": {
       "model_id": "2b033f818c25475f9d6b0117d9822f69",
       "version_major": 2,
       "version_minor": 0
      },
      "text/plain": [
       "Epoch:   0%|          | 0/60 [00:00<?, ?it/s]"
      ]
     },
     "metadata": {},
     "output_type": "display_data"
    },
    {
     "name": "stdout",
     "output_type": "stream",
     "text": [
      "Averaged validation loss: nan. Test loss: 3313.9748518285724.\n"
     ]
    },
    {
     "name": "stderr",
     "output_type": "stream",
     "text": [
      "C:\\Users\\carlo\\GitHub\\ProjectBuffalo\\buffalo\\predictor\\__init__.py:223: RuntimeWarning: Mean of empty slice\n",
      "  print(f'Averaged validation loss: {np.nanmean(train_valid_loss)}. Test loss: {test_loss}.')\n",
      "C:\\Users\\carlo\\GitHub\\ProjectBuffalo\\buffalo\\predictor\\__init__.py:236: RuntimeWarning: Mean of empty slice\n",
      "  'average_validation_loss': np.nanmean(train_valid_loss) if non_empty_train_indices else None}\n",
      "C:\\Users\\carlo\\GitHub\\ProjectBuffalo\\buffalo\\predictor\\util.py:224: UserWarning: dataset_info with the same primary keys already exists with id 1, will not store dataset information.\n",
      "  warn(f\"dataset_info with the same primary keys already exists with id {searched_id}, will not store dataset information.\")\n",
      "C:\\Users\\carlo\\GitHub\\ProjectBuffalo\\buffalo\\predictor\\util.py:397: UserWarning: model_info with the same primary keys already exists with id 2, will not store model information.\n",
      "  warn(f'model_info with the same primary keys already exists with id {searched_id}, will not store model information.')\n",
      "c:\\Users\\carlo\\miniconda3\\lib\\site-packages\\torch\\nn\\modules\\rnn.py:71: UserWarning: dropout option adds dropout after all but last recurrent layer, so non-zero dropout expects num_layers greater than 1, but got dropout=0.4 and num_layers=1\n",
      "  warnings.warn(\"dropout option adds dropout after all but last \"\n"
     ]
    },
    {
     "data": {
      "application/vnd.jupyter.widget-view+json": {
       "model_id": "1714413517d04985a4aa511d599f7020",
       "version_major": 2,
       "version_minor": 0
      },
      "text/plain": [
       "Multi-fold validation:   0%|          | 0/1 [00:00<?, ?it/s]"
      ]
     },
     "metadata": {},
     "output_type": "display_data"
    },
    {
     "data": {
      "application/vnd.jupyter.widget-view+json": {
       "model_id": "46a62bd75b504d3b820dbd2197795cd4",
       "version_major": 2,
       "version_minor": 0
      },
      "text/plain": [
       "Epoch:   0%|          | 0/30 [00:00<?, ?it/s]"
      ]
     },
     "metadata": {},
     "output_type": "display_data"
    },
    {
     "name": "stdout",
     "output_type": "stream",
     "text": [
      "Averaged validation loss: nan. Test loss: 2040.2353474653721.\n"
     ]
    },
    {
     "name": "stderr",
     "output_type": "stream",
     "text": [
      "C:\\Users\\carlo\\GitHub\\ProjectBuffalo\\buffalo\\predictor\\__init__.py:223: RuntimeWarning: Mean of empty slice\n",
      "  print(f'Averaged validation loss: {np.nanmean(train_valid_loss)}. Test loss: {test_loss}.')\n",
      "C:\\Users\\carlo\\GitHub\\ProjectBuffalo\\buffalo\\predictor\\__init__.py:236: RuntimeWarning: Mean of empty slice\n",
      "  'average_validation_loss': np.nanmean(train_valid_loss) if non_empty_train_indices else None}\n",
      "C:\\Users\\carlo\\GitHub\\ProjectBuffalo\\buffalo\\predictor\\util.py:224: UserWarning: dataset_info with the same primary keys already exists with id 1, will not store dataset information.\n",
      "  warn(f\"dataset_info with the same primary keys already exists with id {searched_id}, will not store dataset information.\")\n",
      "c:\\Users\\carlo\\miniconda3\\lib\\site-packages\\torch\\nn\\modules\\rnn.py:71: UserWarning: dropout option adds dropout after all but last recurrent layer, so non-zero dropout expects num_layers greater than 1, but got dropout=0.4 and num_layers=1\n",
      "  warnings.warn(\"dropout option adds dropout after all but last \"\n"
     ]
    },
    {
     "data": {
      "application/vnd.jupyter.widget-view+json": {
       "model_id": "22ee9f03bc2f436587fdd5ffbcb54f92",
       "version_major": 2,
       "version_minor": 0
      },
      "text/plain": [
       "Multi-fold validation:   0%|          | 0/1 [00:00<?, ?it/s]"
      ]
     },
     "metadata": {},
     "output_type": "display_data"
    },
    {
     "data": {
      "application/vnd.jupyter.widget-view+json": {
       "model_id": "5a558f5b4a384b90851fe0b1cc91a68a",
       "version_major": 2,
       "version_minor": 0
      },
      "text/plain": [
       "Epoch:   0%|          | 0/30 [00:00<?, ?it/s]"
      ]
     },
     "metadata": {},
     "output_type": "display_data"
    },
    {
     "name": "stdout",
     "output_type": "stream",
     "text": [
      "Averaged validation loss: nan. Test loss: 2938.5218986669393.\n"
     ]
    },
    {
     "name": "stderr",
     "output_type": "stream",
     "text": [
      "C:\\Users\\carlo\\GitHub\\ProjectBuffalo\\buffalo\\predictor\\__init__.py:223: RuntimeWarning: Mean of empty slice\n",
      "  print(f'Averaged validation loss: {np.nanmean(train_valid_loss)}. Test loss: {test_loss}.')\n",
      "C:\\Users\\carlo\\GitHub\\ProjectBuffalo\\buffalo\\predictor\\__init__.py:236: RuntimeWarning: Mean of empty slice\n",
      "  'average_validation_loss': np.nanmean(train_valid_loss) if non_empty_train_indices else None}\n",
      "C:\\Users\\carlo\\GitHub\\ProjectBuffalo\\buffalo\\predictor\\util.py:224: UserWarning: dataset_info with the same primary keys already exists with id 1, will not store dataset information.\n",
      "  warn(f\"dataset_info with the same primary keys already exists with id {searched_id}, will not store dataset information.\")\n",
      "c:\\Users\\carlo\\miniconda3\\lib\\site-packages\\torch\\nn\\modules\\rnn.py:71: UserWarning: dropout option adds dropout after all but last recurrent layer, so non-zero dropout expects num_layers greater than 1, but got dropout=0.4 and num_layers=1\n",
      "  warnings.warn(\"dropout option adds dropout after all but last \"\n"
     ]
    },
    {
     "data": {
      "application/vnd.jupyter.widget-view+json": {
       "model_id": "278b3b9100524ad6865a5770f0c2f972",
       "version_major": 2,
       "version_minor": 0
      },
      "text/plain": [
       "Multi-fold validation:   0%|          | 0/1 [00:00<?, ?it/s]"
      ]
     },
     "metadata": {},
     "output_type": "display_data"
    },
    {
     "data": {
      "application/vnd.jupyter.widget-view+json": {
       "model_id": "4f8e1fa9ab14490ba8eacd055bdffdb2",
       "version_major": 2,
       "version_minor": 0
      },
      "text/plain": [
       "Epoch:   0%|          | 0/60 [00:00<?, ?it/s]"
      ]
     },
     "metadata": {},
     "output_type": "display_data"
    },
    {
     "name": "stdout",
     "output_type": "stream",
     "text": [
      "Averaged validation loss: nan. Test loss: 2084.37908266751.\n"
     ]
    },
    {
     "name": "stderr",
     "output_type": "stream",
     "text": [
      "C:\\Users\\carlo\\GitHub\\ProjectBuffalo\\buffalo\\predictor\\__init__.py:223: RuntimeWarning: Mean of empty slice\n",
      "  print(f'Averaged validation loss: {np.nanmean(train_valid_loss)}. Test loss: {test_loss}.')\n",
      "C:\\Users\\carlo\\GitHub\\ProjectBuffalo\\buffalo\\predictor\\__init__.py:236: RuntimeWarning: Mean of empty slice\n",
      "  'average_validation_loss': np.nanmean(train_valid_loss) if non_empty_train_indices else None}\n",
      "C:\\Users\\carlo\\GitHub\\ProjectBuffalo\\buffalo\\predictor\\util.py:224: UserWarning: dataset_info with the same primary keys already exists with id 1, will not store dataset information.\n",
      "  warn(f\"dataset_info with the same primary keys already exists with id {searched_id}, will not store dataset information.\")\n",
      "C:\\Users\\carlo\\GitHub\\ProjectBuffalo\\buffalo\\predictor\\util.py:397: UserWarning: model_info with the same primary keys already exists with id 3, will not store model information.\n",
      "  warn(f'model_info with the same primary keys already exists with id {searched_id}, will not store model information.')\n",
      "c:\\Users\\carlo\\miniconda3\\lib\\site-packages\\torch\\nn\\modules\\rnn.py:71: UserWarning: dropout option adds dropout after all but last recurrent layer, so non-zero dropout expects num_layers greater than 1, but got dropout=0.4 and num_layers=1\n",
      "  warnings.warn(\"dropout option adds dropout after all but last \"\n"
     ]
    },
    {
     "data": {
      "application/vnd.jupyter.widget-view+json": {
       "model_id": "a5566babbfd7465d9520bd5c3db6459a",
       "version_major": 2,
       "version_minor": 0
      },
      "text/plain": [
       "Multi-fold validation:   0%|          | 0/1 [00:00<?, ?it/s]"
      ]
     },
     "metadata": {},
     "output_type": "display_data"
    },
    {
     "data": {
      "application/vnd.jupyter.widget-view+json": {
       "model_id": "5cc42ad895af4943a2e317123f2fe4e3",
       "version_major": 2,
       "version_minor": 0
      },
      "text/plain": [
       "Epoch:   0%|          | 0/60 [00:00<?, ?it/s]"
      ]
     },
     "metadata": {},
     "output_type": "display_data"
    },
    {
     "name": "stdout",
     "output_type": "stream",
     "text": [
      "Averaged validation loss: nan. Test loss: 3197.7165076659676.\n"
     ]
    },
    {
     "name": "stderr",
     "output_type": "stream",
     "text": [
      "C:\\Users\\carlo\\GitHub\\ProjectBuffalo\\buffalo\\predictor\\__init__.py:223: RuntimeWarning: Mean of empty slice\n",
      "  print(f'Averaged validation loss: {np.nanmean(train_valid_loss)}. Test loss: {test_loss}.')\n",
      "C:\\Users\\carlo\\GitHub\\ProjectBuffalo\\buffalo\\predictor\\__init__.py:236: RuntimeWarning: Mean of empty slice\n",
      "  'average_validation_loss': np.nanmean(train_valid_loss) if non_empty_train_indices else None}\n",
      "C:\\Users\\carlo\\GitHub\\ProjectBuffalo\\buffalo\\predictor\\util.py:224: UserWarning: dataset_info with the same primary keys already exists with id 1, will not store dataset information.\n",
      "  warn(f\"dataset_info with the same primary keys already exists with id {searched_id}, will not store dataset information.\")\n",
      "C:\\Users\\carlo\\GitHub\\ProjectBuffalo\\buffalo\\predictor\\util.py:397: UserWarning: model_info with the same primary keys already exists with id 4, will not store model information.\n",
      "  warn(f'model_info with the same primary keys already exists with id {searched_id}, will not store model information.')\n",
      "c:\\Users\\carlo\\miniconda3\\lib\\site-packages\\torch\\nn\\modules\\rnn.py:71: UserWarning: dropout option adds dropout after all but last recurrent layer, so non-zero dropout expects num_layers greater than 1, but got dropout=0.2 and num_layers=1\n",
      "  warnings.warn(\"dropout option adds dropout after all but last \"\n"
     ]
    },
    {
     "data": {
      "application/vnd.jupyter.widget-view+json": {
       "model_id": "989143ea57984d3388482b2e864e313b",
       "version_major": 2,
       "version_minor": 0
      },
      "text/plain": [
       "Multi-fold validation:   0%|          | 0/1 [00:00<?, ?it/s]"
      ]
     },
     "metadata": {},
     "output_type": "display_data"
    },
    {
     "data": {
      "application/vnd.jupyter.widget-view+json": {
       "model_id": "5256f87a8d68433fa2a29fbda7e44b9f",
       "version_major": 2,
       "version_minor": 0
      },
      "text/plain": [
       "Epoch:   0%|          | 0/30 [00:00<?, ?it/s]"
      ]
     },
     "metadata": {},
     "output_type": "display_data"
    },
    {
     "name": "stdout",
     "output_type": "stream",
     "text": [
      "Averaged validation loss: nan. Test loss: 2226.475266361519.\n"
     ]
    },
    {
     "name": "stderr",
     "output_type": "stream",
     "text": [
      "C:\\Users\\carlo\\GitHub\\ProjectBuffalo\\buffalo\\predictor\\__init__.py:223: RuntimeWarning: Mean of empty slice\n",
      "  print(f'Averaged validation loss: {np.nanmean(train_valid_loss)}. Test loss: {test_loss}.')\n",
      "C:\\Users\\carlo\\GitHub\\ProjectBuffalo\\buffalo\\predictor\\__init__.py:236: RuntimeWarning: Mean of empty slice\n",
      "  'average_validation_loss': np.nanmean(train_valid_loss) if non_empty_train_indices else None}\n",
      "C:\\Users\\carlo\\GitHub\\ProjectBuffalo\\buffalo\\predictor\\util.py:224: UserWarning: dataset_info with the same primary keys already exists with id 1, will not store dataset information.\n",
      "  warn(f\"dataset_info with the same primary keys already exists with id {searched_id}, will not store dataset information.\")\n",
      "c:\\Users\\carlo\\miniconda3\\lib\\site-packages\\torch\\nn\\modules\\rnn.py:71: UserWarning: dropout option adds dropout after all but last recurrent layer, so non-zero dropout expects num_layers greater than 1, but got dropout=0.2 and num_layers=1\n",
      "  warnings.warn(\"dropout option adds dropout after all but last \"\n"
     ]
    },
    {
     "data": {
      "application/vnd.jupyter.widget-view+json": {
       "model_id": "63287d07f7c64c80bc9347d4c8f63784",
       "version_major": 2,
       "version_minor": 0
      },
      "text/plain": [
       "Multi-fold validation:   0%|          | 0/1 [00:00<?, ?it/s]"
      ]
     },
     "metadata": {},
     "output_type": "display_data"
    },
    {
     "data": {
      "application/vnd.jupyter.widget-view+json": {
       "model_id": "4bc23160cd794345bce996e3c887f9ba",
       "version_major": 2,
       "version_minor": 0
      },
      "text/plain": [
       "Epoch:   0%|          | 0/30 [00:00<?, ?it/s]"
      ]
     },
     "metadata": {},
     "output_type": "display_data"
    },
    {
     "name": "stdout",
     "output_type": "stream",
     "text": [
      "Averaged validation loss: nan. Test loss: 2307.2937884166.\n"
     ]
    },
    {
     "name": "stderr",
     "output_type": "stream",
     "text": [
      "C:\\Users\\carlo\\GitHub\\ProjectBuffalo\\buffalo\\predictor\\__init__.py:223: RuntimeWarning: Mean of empty slice\n",
      "  print(f'Averaged validation loss: {np.nanmean(train_valid_loss)}. Test loss: {test_loss}.')\n",
      "C:\\Users\\carlo\\GitHub\\ProjectBuffalo\\buffalo\\predictor\\__init__.py:236: RuntimeWarning: Mean of empty slice\n",
      "  'average_validation_loss': np.nanmean(train_valid_loss) if non_empty_train_indices else None}\n",
      "C:\\Users\\carlo\\GitHub\\ProjectBuffalo\\buffalo\\predictor\\util.py:224: UserWarning: dataset_info with the same primary keys already exists with id 1, will not store dataset information.\n",
      "  warn(f\"dataset_info with the same primary keys already exists with id {searched_id}, will not store dataset information.\")\n",
      "c:\\Users\\carlo\\miniconda3\\lib\\site-packages\\torch\\nn\\modules\\rnn.py:71: UserWarning: dropout option adds dropout after all but last recurrent layer, so non-zero dropout expects num_layers greater than 1, but got dropout=0.2 and num_layers=1\n",
      "  warnings.warn(\"dropout option adds dropout after all but last \"\n"
     ]
    },
    {
     "data": {
      "application/vnd.jupyter.widget-view+json": {
       "model_id": "7beae67fd2ea468eafac5d541b22ad51",
       "version_major": 2,
       "version_minor": 0
      },
      "text/plain": [
       "Multi-fold validation:   0%|          | 0/1 [00:00<?, ?it/s]"
      ]
     },
     "metadata": {},
     "output_type": "display_data"
    },
    {
     "data": {
      "application/vnd.jupyter.widget-view+json": {
       "model_id": "e034a0ef234e4132b64f32c1e8be5d4a",
       "version_major": 2,
       "version_minor": 0
      },
      "text/plain": [
       "Epoch:   0%|          | 0/60 [00:00<?, ?it/s]"
      ]
     },
     "metadata": {},
     "output_type": "display_data"
    },
    {
     "name": "stdout",
     "output_type": "stream",
     "text": [
      "Averaged validation loss: nan. Test loss: 2110.326143918127.\n"
     ]
    },
    {
     "name": "stderr",
     "output_type": "stream",
     "text": [
      "C:\\Users\\carlo\\GitHub\\ProjectBuffalo\\buffalo\\predictor\\__init__.py:223: RuntimeWarning: Mean of empty slice\n",
      "  print(f'Averaged validation loss: {np.nanmean(train_valid_loss)}. Test loss: {test_loss}.')\n",
      "C:\\Users\\carlo\\GitHub\\ProjectBuffalo\\buffalo\\predictor\\__init__.py:236: RuntimeWarning: Mean of empty slice\n",
      "  'average_validation_loss': np.nanmean(train_valid_loss) if non_empty_train_indices else None}\n",
      "C:\\Users\\carlo\\GitHub\\ProjectBuffalo\\buffalo\\predictor\\util.py:224: UserWarning: dataset_info with the same primary keys already exists with id 1, will not store dataset information.\n",
      "  warn(f\"dataset_info with the same primary keys already exists with id {searched_id}, will not store dataset information.\")\n",
      "C:\\Users\\carlo\\GitHub\\ProjectBuffalo\\buffalo\\predictor\\util.py:397: UserWarning: model_info with the same primary keys already exists with id 5, will not store model information.\n",
      "  warn(f'model_info with the same primary keys already exists with id {searched_id}, will not store model information.')\n",
      "c:\\Users\\carlo\\miniconda3\\lib\\site-packages\\torch\\nn\\modules\\rnn.py:71: UserWarning: dropout option adds dropout after all but last recurrent layer, so non-zero dropout expects num_layers greater than 1, but got dropout=0.2 and num_layers=1\n",
      "  warnings.warn(\"dropout option adds dropout after all but last \"\n"
     ]
    },
    {
     "data": {
      "application/vnd.jupyter.widget-view+json": {
       "model_id": "a7489eca417540689fd0bef93aa4d85f",
       "version_major": 2,
       "version_minor": 0
      },
      "text/plain": [
       "Multi-fold validation:   0%|          | 0/1 [00:00<?, ?it/s]"
      ]
     },
     "metadata": {},
     "output_type": "display_data"
    },
    {
     "data": {
      "application/vnd.jupyter.widget-view+json": {
       "model_id": "2c02830e68eb4c7696b9dba70a8ce8f6",
       "version_major": 2,
       "version_minor": 0
      },
      "text/plain": [
       "Epoch:   0%|          | 0/60 [00:00<?, ?it/s]"
      ]
     },
     "metadata": {},
     "output_type": "display_data"
    },
    {
     "name": "stdout",
     "output_type": "stream",
     "text": [
      "Averaged validation loss: nan. Test loss: 2957.9508571191695.\n"
     ]
    },
    {
     "name": "stderr",
     "output_type": "stream",
     "text": [
      "C:\\Users\\carlo\\GitHub\\ProjectBuffalo\\buffalo\\predictor\\__init__.py:223: RuntimeWarning: Mean of empty slice\n",
      "  print(f'Averaged validation loss: {np.nanmean(train_valid_loss)}. Test loss: {test_loss}.')\n",
      "C:\\Users\\carlo\\GitHub\\ProjectBuffalo\\buffalo\\predictor\\__init__.py:236: RuntimeWarning: Mean of empty slice\n",
      "  'average_validation_loss': np.nanmean(train_valid_loss) if non_empty_train_indices else None}\n",
      "C:\\Users\\carlo\\GitHub\\ProjectBuffalo\\buffalo\\predictor\\util.py:224: UserWarning: dataset_info with the same primary keys already exists with id 1, will not store dataset information.\n",
      "  warn(f\"dataset_info with the same primary keys already exists with id {searched_id}, will not store dataset information.\")\n",
      "C:\\Users\\carlo\\GitHub\\ProjectBuffalo\\buffalo\\predictor\\util.py:397: UserWarning: model_info with the same primary keys already exists with id 6, will not store model information.\n",
      "  warn(f'model_info with the same primary keys already exists with id {searched_id}, will not store model information.')\n",
      "c:\\Users\\carlo\\miniconda3\\lib\\site-packages\\torch\\nn\\modules\\rnn.py:71: UserWarning: dropout option adds dropout after all but last recurrent layer, so non-zero dropout expects num_layers greater than 1, but got dropout=0.4 and num_layers=1\n",
      "  warnings.warn(\"dropout option adds dropout after all but last \"\n"
     ]
    },
    {
     "data": {
      "application/vnd.jupyter.widget-view+json": {
       "model_id": "a8bb852e3d8d49abb46c391202091e22",
       "version_major": 2,
       "version_minor": 0
      },
      "text/plain": [
       "Multi-fold validation:   0%|          | 0/1 [00:00<?, ?it/s]"
      ]
     },
     "metadata": {},
     "output_type": "display_data"
    },
    {
     "data": {
      "application/vnd.jupyter.widget-view+json": {
       "model_id": "b81502a7672e45afb918c9c03c3246ac",
       "version_major": 2,
       "version_minor": 0
      },
      "text/plain": [
       "Epoch:   0%|          | 0/30 [00:00<?, ?it/s]"
      ]
     },
     "metadata": {},
     "output_type": "display_data"
    },
    {
     "name": "stdout",
     "output_type": "stream",
     "text": [
      "Averaged validation loss: nan. Test loss: 2274.1875602518817.\n"
     ]
    },
    {
     "name": "stderr",
     "output_type": "stream",
     "text": [
      "C:\\Users\\carlo\\GitHub\\ProjectBuffalo\\buffalo\\predictor\\__init__.py:223: RuntimeWarning: Mean of empty slice\n",
      "  print(f'Averaged validation loss: {np.nanmean(train_valid_loss)}. Test loss: {test_loss}.')\n",
      "C:\\Users\\carlo\\GitHub\\ProjectBuffalo\\buffalo\\predictor\\__init__.py:236: RuntimeWarning: Mean of empty slice\n",
      "  'average_validation_loss': np.nanmean(train_valid_loss) if non_empty_train_indices else None}\n",
      "C:\\Users\\carlo\\GitHub\\ProjectBuffalo\\buffalo\\predictor\\util.py:224: UserWarning: dataset_info with the same primary keys already exists with id 1, will not store dataset information.\n",
      "  warn(f\"dataset_info with the same primary keys already exists with id {searched_id}, will not store dataset information.\")\n",
      "c:\\Users\\carlo\\miniconda3\\lib\\site-packages\\torch\\nn\\modules\\rnn.py:71: UserWarning: dropout option adds dropout after all but last recurrent layer, so non-zero dropout expects num_layers greater than 1, but got dropout=0.4 and num_layers=1\n",
      "  warnings.warn(\"dropout option adds dropout after all but last \"\n"
     ]
    },
    {
     "data": {
      "application/vnd.jupyter.widget-view+json": {
       "model_id": "0994e7c1968d4a27a993e551db08e794",
       "version_major": 2,
       "version_minor": 0
      },
      "text/plain": [
       "Multi-fold validation:   0%|          | 0/1 [00:00<?, ?it/s]"
      ]
     },
     "metadata": {},
     "output_type": "display_data"
    },
    {
     "data": {
      "application/vnd.jupyter.widget-view+json": {
       "model_id": "de83cc4637d0499381774ce7761fe32c",
       "version_major": 2,
       "version_minor": 0
      },
      "text/plain": [
       "Epoch:   0%|          | 0/30 [00:00<?, ?it/s]"
      ]
     },
     "metadata": {},
     "output_type": "display_data"
    },
    {
     "name": "stdout",
     "output_type": "stream",
     "text": [
      "Averaged validation loss: nan. Test loss: 2264.8224058913806.\n"
     ]
    },
    {
     "name": "stderr",
     "output_type": "stream",
     "text": [
      "C:\\Users\\carlo\\GitHub\\ProjectBuffalo\\buffalo\\predictor\\__init__.py:223: RuntimeWarning: Mean of empty slice\n",
      "  print(f'Averaged validation loss: {np.nanmean(train_valid_loss)}. Test loss: {test_loss}.')\n",
      "C:\\Users\\carlo\\GitHub\\ProjectBuffalo\\buffalo\\predictor\\__init__.py:236: RuntimeWarning: Mean of empty slice\n",
      "  'average_validation_loss': np.nanmean(train_valid_loss) if non_empty_train_indices else None}\n",
      "C:\\Users\\carlo\\GitHub\\ProjectBuffalo\\buffalo\\predictor\\util.py:224: UserWarning: dataset_info with the same primary keys already exists with id 1, will not store dataset information.\n",
      "  warn(f\"dataset_info with the same primary keys already exists with id {searched_id}, will not store dataset information.\")\n",
      "c:\\Users\\carlo\\miniconda3\\lib\\site-packages\\torch\\nn\\modules\\rnn.py:71: UserWarning: dropout option adds dropout after all but last recurrent layer, so non-zero dropout expects num_layers greater than 1, but got dropout=0.4 and num_layers=1\n",
      "  warnings.warn(\"dropout option adds dropout after all but last \"\n"
     ]
    },
    {
     "data": {
      "application/vnd.jupyter.widget-view+json": {
       "model_id": "77120883e3d04dc88deeff5da089d94d",
       "version_major": 2,
       "version_minor": 0
      },
      "text/plain": [
       "Multi-fold validation:   0%|          | 0/1 [00:00<?, ?it/s]"
      ]
     },
     "metadata": {},
     "output_type": "display_data"
    },
    {
     "data": {
      "application/vnd.jupyter.widget-view+json": {
       "model_id": "26b826a7d887492b8797e029829916c2",
       "version_major": 2,
       "version_minor": 0
      },
      "text/plain": [
       "Epoch:   0%|          | 0/60 [00:00<?, ?it/s]"
      ]
     },
     "metadata": {},
     "output_type": "display_data"
    },
    {
     "name": "stdout",
     "output_type": "stream",
     "text": [
      "Averaged validation loss: nan. Test loss: 2149.5986426938084.\n"
     ]
    },
    {
     "name": "stderr",
     "output_type": "stream",
     "text": [
      "C:\\Users\\carlo\\GitHub\\ProjectBuffalo\\buffalo\\predictor\\__init__.py:223: RuntimeWarning: Mean of empty slice\n",
      "  print(f'Averaged validation loss: {np.nanmean(train_valid_loss)}. Test loss: {test_loss}.')\n",
      "C:\\Users\\carlo\\GitHub\\ProjectBuffalo\\buffalo\\predictor\\__init__.py:236: RuntimeWarning: Mean of empty slice\n",
      "  'average_validation_loss': np.nanmean(train_valid_loss) if non_empty_train_indices else None}\n",
      "C:\\Users\\carlo\\GitHub\\ProjectBuffalo\\buffalo\\predictor\\util.py:224: UserWarning: dataset_info with the same primary keys already exists with id 1, will not store dataset information.\n",
      "  warn(f\"dataset_info with the same primary keys already exists with id {searched_id}, will not store dataset information.\")\n",
      "C:\\Users\\carlo\\GitHub\\ProjectBuffalo\\buffalo\\predictor\\util.py:397: UserWarning: model_info with the same primary keys already exists with id 7, will not store model information.\n",
      "  warn(f'model_info with the same primary keys already exists with id {searched_id}, will not store model information.')\n",
      "c:\\Users\\carlo\\miniconda3\\lib\\site-packages\\torch\\nn\\modules\\rnn.py:71: UserWarning: dropout option adds dropout after all but last recurrent layer, so non-zero dropout expects num_layers greater than 1, but got dropout=0.4 and num_layers=1\n",
      "  warnings.warn(\"dropout option adds dropout after all but last \"\n"
     ]
    },
    {
     "data": {
      "application/vnd.jupyter.widget-view+json": {
       "model_id": "66cd107ddb664178a561825a07ad7abc",
       "version_major": 2,
       "version_minor": 0
      },
      "text/plain": [
       "Multi-fold validation:   0%|          | 0/1 [00:00<?, ?it/s]"
      ]
     },
     "metadata": {},
     "output_type": "display_data"
    },
    {
     "data": {
      "application/vnd.jupyter.widget-view+json": {
       "model_id": "e3e5de35ea0143eab482a7ff5d654e42",
       "version_major": 2,
       "version_minor": 0
      },
      "text/plain": [
       "Epoch:   0%|          | 0/60 [00:00<?, ?it/s]"
      ]
     },
     "metadata": {},
     "output_type": "display_data"
    },
    {
     "name": "stdout",
     "output_type": "stream",
     "text": [
      "Averaged validation loss: nan. Test loss: 3297.510335366794.\n"
     ]
    },
    {
     "name": "stderr",
     "output_type": "stream",
     "text": [
      "C:\\Users\\carlo\\GitHub\\ProjectBuffalo\\buffalo\\predictor\\__init__.py:223: RuntimeWarning: Mean of empty slice\n",
      "  print(f'Averaged validation loss: {np.nanmean(train_valid_loss)}. Test loss: {test_loss}.')\n",
      "C:\\Users\\carlo\\GitHub\\ProjectBuffalo\\buffalo\\predictor\\__init__.py:236: RuntimeWarning: Mean of empty slice\n",
      "  'average_validation_loss': np.nanmean(train_valid_loss) if non_empty_train_indices else None}\n",
      "C:\\Users\\carlo\\GitHub\\ProjectBuffalo\\buffalo\\predictor\\util.py:224: UserWarning: dataset_info with the same primary keys already exists with id 1, will not store dataset information.\n",
      "  warn(f\"dataset_info with the same primary keys already exists with id {searched_id}, will not store dataset information.\")\n",
      "C:\\Users\\carlo\\GitHub\\ProjectBuffalo\\buffalo\\predictor\\util.py:397: UserWarning: model_info with the same primary keys already exists with id 8, will not store model information.\n",
      "  warn(f'model_info with the same primary keys already exists with id {searched_id}, will not store model information.')\n",
      "c:\\Users\\carlo\\miniconda3\\lib\\site-packages\\torch\\nn\\modules\\rnn.py:71: UserWarning: dropout option adds dropout after all but last recurrent layer, so non-zero dropout expects num_layers greater than 1, but got dropout=0.2 and num_layers=1\n",
      "  warnings.warn(\"dropout option adds dropout after all but last \"\n"
     ]
    },
    {
     "data": {
      "application/vnd.jupyter.widget-view+json": {
       "model_id": "d8ed3bae11b74256bf9fd87905f308cd",
       "version_major": 2,
       "version_minor": 0
      },
      "text/plain": [
       "Multi-fold validation:   0%|          | 0/1 [00:00<?, ?it/s]"
      ]
     },
     "metadata": {},
     "output_type": "display_data"
    },
    {
     "data": {
      "application/vnd.jupyter.widget-view+json": {
       "model_id": "632930849e324c369eea35d85ace280f",
       "version_major": 2,
       "version_minor": 0
      },
      "text/plain": [
       "Epoch:   0%|          | 0/30 [00:00<?, ?it/s]"
      ]
     },
     "metadata": {},
     "output_type": "display_data"
    },
    {
     "name": "stdout",
     "output_type": "stream",
     "text": [
      "Averaged validation loss: nan. Test loss: 1920.2582629430683.\n"
     ]
    },
    {
     "name": "stderr",
     "output_type": "stream",
     "text": [
      "C:\\Users\\carlo\\GitHub\\ProjectBuffalo\\buffalo\\predictor\\__init__.py:223: RuntimeWarning: Mean of empty slice\n",
      "  print(f'Averaged validation loss: {np.nanmean(train_valid_loss)}. Test loss: {test_loss}.')\n",
      "C:\\Users\\carlo\\GitHub\\ProjectBuffalo\\buffalo\\predictor\\__init__.py:236: RuntimeWarning: Mean of empty slice\n",
      "  'average_validation_loss': np.nanmean(train_valid_loss) if non_empty_train_indices else None}\n",
      "C:\\Users\\carlo\\GitHub\\ProjectBuffalo\\buffalo\\predictor\\util.py:224: UserWarning: dataset_info with the same primary keys already exists with id 1, will not store dataset information.\n",
      "  warn(f\"dataset_info with the same primary keys already exists with id {searched_id}, will not store dataset information.\")\n",
      "c:\\Users\\carlo\\miniconda3\\lib\\site-packages\\torch\\nn\\modules\\rnn.py:71: UserWarning: dropout option adds dropout after all but last recurrent layer, so non-zero dropout expects num_layers greater than 1, but got dropout=0.2 and num_layers=1\n",
      "  warnings.warn(\"dropout option adds dropout after all but last \"\n"
     ]
    },
    {
     "data": {
      "application/vnd.jupyter.widget-view+json": {
       "model_id": "6803f10f696448399d95779e1e57e0d8",
       "version_major": 2,
       "version_minor": 0
      },
      "text/plain": [
       "Multi-fold validation:   0%|          | 0/1 [00:00<?, ?it/s]"
      ]
     },
     "metadata": {},
     "output_type": "display_data"
    },
    {
     "data": {
      "application/vnd.jupyter.widget-view+json": {
       "model_id": "389877aa097b4a77ae51c328c498da8e",
       "version_major": 2,
       "version_minor": 0
      },
      "text/plain": [
       "Epoch:   0%|          | 0/30 [00:00<?, ?it/s]"
      ]
     },
     "metadata": {},
     "output_type": "display_data"
    },
    {
     "name": "stdout",
     "output_type": "stream",
     "text": [
      "Averaged validation loss: nan. Test loss: 1265.746139059415.\n"
     ]
    },
    {
     "name": "stderr",
     "output_type": "stream",
     "text": [
      "C:\\Users\\carlo\\GitHub\\ProjectBuffalo\\buffalo\\predictor\\__init__.py:223: RuntimeWarning: Mean of empty slice\n",
      "  print(f'Averaged validation loss: {np.nanmean(train_valid_loss)}. Test loss: {test_loss}.')\n",
      "C:\\Users\\carlo\\GitHub\\ProjectBuffalo\\buffalo\\predictor\\__init__.py:236: RuntimeWarning: Mean of empty slice\n",
      "  'average_validation_loss': np.nanmean(train_valid_loss) if non_empty_train_indices else None}\n",
      "C:\\Users\\carlo\\GitHub\\ProjectBuffalo\\buffalo\\predictor\\util.py:224: UserWarning: dataset_info with the same primary keys already exists with id 1, will not store dataset information.\n",
      "  warn(f\"dataset_info with the same primary keys already exists with id {searched_id}, will not store dataset information.\")\n",
      "c:\\Users\\carlo\\miniconda3\\lib\\site-packages\\torch\\nn\\modules\\rnn.py:71: UserWarning: dropout option adds dropout after all but last recurrent layer, so non-zero dropout expects num_layers greater than 1, but got dropout=0.2 and num_layers=1\n",
      "  warnings.warn(\"dropout option adds dropout after all but last \"\n"
     ]
    },
    {
     "data": {
      "application/vnd.jupyter.widget-view+json": {
       "model_id": "36c444789f3247918e79cf72b2a8690a",
       "version_major": 2,
       "version_minor": 0
      },
      "text/plain": [
       "Multi-fold validation:   0%|          | 0/1 [00:00<?, ?it/s]"
      ]
     },
     "metadata": {},
     "output_type": "display_data"
    },
    {
     "data": {
      "application/vnd.jupyter.widget-view+json": {
       "model_id": "4f6373dea4ef43afa55b036d1c95b5e2",
       "version_major": 2,
       "version_minor": 0
      },
      "text/plain": [
       "Epoch:   0%|          | 0/60 [00:00<?, ?it/s]"
      ]
     },
     "metadata": {},
     "output_type": "display_data"
    },
    {
     "name": "stdout",
     "output_type": "stream",
     "text": [
      "Averaged validation loss: nan. Test loss: 2157.6810985990714.\n"
     ]
    },
    {
     "name": "stderr",
     "output_type": "stream",
     "text": [
      "C:\\Users\\carlo\\GitHub\\ProjectBuffalo\\buffalo\\predictor\\__init__.py:223: RuntimeWarning: Mean of empty slice\n",
      "  print(f'Averaged validation loss: {np.nanmean(train_valid_loss)}. Test loss: {test_loss}.')\n",
      "C:\\Users\\carlo\\GitHub\\ProjectBuffalo\\buffalo\\predictor\\__init__.py:236: RuntimeWarning: Mean of empty slice\n",
      "  'average_validation_loss': np.nanmean(train_valid_loss) if non_empty_train_indices else None}\n",
      "C:\\Users\\carlo\\GitHub\\ProjectBuffalo\\buffalo\\predictor\\util.py:224: UserWarning: dataset_info with the same primary keys already exists with id 1, will not store dataset information.\n",
      "  warn(f\"dataset_info with the same primary keys already exists with id {searched_id}, will not store dataset information.\")\n",
      "C:\\Users\\carlo\\GitHub\\ProjectBuffalo\\buffalo\\predictor\\util.py:397: UserWarning: model_info with the same primary keys already exists with id 9, will not store model information.\n",
      "  warn(f'model_info with the same primary keys already exists with id {searched_id}, will not store model information.')\n",
      "c:\\Users\\carlo\\miniconda3\\lib\\site-packages\\torch\\nn\\modules\\rnn.py:71: UserWarning: dropout option adds dropout after all but last recurrent layer, so non-zero dropout expects num_layers greater than 1, but got dropout=0.2 and num_layers=1\n",
      "  warnings.warn(\"dropout option adds dropout after all but last \"\n"
     ]
    },
    {
     "data": {
      "application/vnd.jupyter.widget-view+json": {
       "model_id": "db95e9e27e5643efa1fd124bdd1c9a8e",
       "version_major": 2,
       "version_minor": 0
      },
      "text/plain": [
       "Multi-fold validation:   0%|          | 0/1 [00:00<?, ?it/s]"
      ]
     },
     "metadata": {},
     "output_type": "display_data"
    },
    {
     "data": {
      "application/vnd.jupyter.widget-view+json": {
       "model_id": "48210ddc16df48388b55b3c2b560e0bd",
       "version_major": 2,
       "version_minor": 0
      },
      "text/plain": [
       "Epoch:   0%|          | 0/60 [00:00<?, ?it/s]"
      ]
     },
     "metadata": {},
     "output_type": "display_data"
    },
    {
     "name": "stdout",
     "output_type": "stream",
     "text": [
      "Averaged validation loss: nan. Test loss: 2529.967573160245.\n"
     ]
    },
    {
     "name": "stderr",
     "output_type": "stream",
     "text": [
      "C:\\Users\\carlo\\GitHub\\ProjectBuffalo\\buffalo\\predictor\\__init__.py:223: RuntimeWarning: Mean of empty slice\n",
      "  print(f'Averaged validation loss: {np.nanmean(train_valid_loss)}. Test loss: {test_loss}.')\n",
      "C:\\Users\\carlo\\GitHub\\ProjectBuffalo\\buffalo\\predictor\\__init__.py:236: RuntimeWarning: Mean of empty slice\n",
      "  'average_validation_loss': np.nanmean(train_valid_loss) if non_empty_train_indices else None}\n",
      "C:\\Users\\carlo\\GitHub\\ProjectBuffalo\\buffalo\\predictor\\util.py:224: UserWarning: dataset_info with the same primary keys already exists with id 1, will not store dataset information.\n",
      "  warn(f\"dataset_info with the same primary keys already exists with id {searched_id}, will not store dataset information.\")\n",
      "C:\\Users\\carlo\\GitHub\\ProjectBuffalo\\buffalo\\predictor\\util.py:397: UserWarning: model_info with the same primary keys already exists with id 10, will not store model information.\n",
      "  warn(f'model_info with the same primary keys already exists with id {searched_id}, will not store model information.')\n",
      "c:\\Users\\carlo\\miniconda3\\lib\\site-packages\\torch\\nn\\modules\\rnn.py:71: UserWarning: dropout option adds dropout after all but last recurrent layer, so non-zero dropout expects num_layers greater than 1, but got dropout=0.4 and num_layers=1\n",
      "  warnings.warn(\"dropout option adds dropout after all but last \"\n"
     ]
    },
    {
     "data": {
      "application/vnd.jupyter.widget-view+json": {
       "model_id": "c7425ba9338741a180e49593772903eb",
       "version_major": 2,
       "version_minor": 0
      },
      "text/plain": [
       "Multi-fold validation:   0%|          | 0/1 [00:00<?, ?it/s]"
      ]
     },
     "metadata": {},
     "output_type": "display_data"
    },
    {
     "data": {
      "application/vnd.jupyter.widget-view+json": {
       "model_id": "210447ee842c4816a202cae6437a8cd8",
       "version_major": 2,
       "version_minor": 0
      },
      "text/plain": [
       "Epoch:   0%|          | 0/30 [00:00<?, ?it/s]"
      ]
     },
     "metadata": {},
     "output_type": "display_data"
    },
    {
     "name": "stdout",
     "output_type": "stream",
     "text": [
      "Averaged validation loss: nan. Test loss: 1999.1046505294453.\n"
     ]
    },
    {
     "name": "stderr",
     "output_type": "stream",
     "text": [
      "C:\\Users\\carlo\\GitHub\\ProjectBuffalo\\buffalo\\predictor\\__init__.py:223: RuntimeWarning: Mean of empty slice\n",
      "  print(f'Averaged validation loss: {np.nanmean(train_valid_loss)}. Test loss: {test_loss}.')\n",
      "C:\\Users\\carlo\\GitHub\\ProjectBuffalo\\buffalo\\predictor\\__init__.py:236: RuntimeWarning: Mean of empty slice\n",
      "  'average_validation_loss': np.nanmean(train_valid_loss) if non_empty_train_indices else None}\n",
      "C:\\Users\\carlo\\GitHub\\ProjectBuffalo\\buffalo\\predictor\\util.py:224: UserWarning: dataset_info with the same primary keys already exists with id 1, will not store dataset information.\n",
      "  warn(f\"dataset_info with the same primary keys already exists with id {searched_id}, will not store dataset information.\")\n",
      "c:\\Users\\carlo\\miniconda3\\lib\\site-packages\\torch\\nn\\modules\\rnn.py:71: UserWarning: dropout option adds dropout after all but last recurrent layer, so non-zero dropout expects num_layers greater than 1, but got dropout=0.4 and num_layers=1\n",
      "  warnings.warn(\"dropout option adds dropout after all but last \"\n"
     ]
    },
    {
     "data": {
      "application/vnd.jupyter.widget-view+json": {
       "model_id": "b0aec875582a41b589c9f0a931c23226",
       "version_major": 2,
       "version_minor": 0
      },
      "text/plain": [
       "Multi-fold validation:   0%|          | 0/1 [00:00<?, ?it/s]"
      ]
     },
     "metadata": {},
     "output_type": "display_data"
    },
    {
     "data": {
      "application/vnd.jupyter.widget-view+json": {
       "model_id": "65bd901061ac43048408e44feb3f0c7d",
       "version_major": 2,
       "version_minor": 0
      },
      "text/plain": [
       "Epoch:   0%|          | 0/30 [00:00<?, ?it/s]"
      ]
     },
     "metadata": {},
     "output_type": "display_data"
    },
    {
     "name": "stdout",
     "output_type": "stream",
     "text": [
      "Averaged validation loss: nan. Test loss: 1275.9922652249275.\n"
     ]
    },
    {
     "name": "stderr",
     "output_type": "stream",
     "text": [
      "C:\\Users\\carlo\\GitHub\\ProjectBuffalo\\buffalo\\predictor\\__init__.py:223: RuntimeWarning: Mean of empty slice\n",
      "  print(f'Averaged validation loss: {np.nanmean(train_valid_loss)}. Test loss: {test_loss}.')\n",
      "C:\\Users\\carlo\\GitHub\\ProjectBuffalo\\buffalo\\predictor\\__init__.py:236: RuntimeWarning: Mean of empty slice\n",
      "  'average_validation_loss': np.nanmean(train_valid_loss) if non_empty_train_indices else None}\n",
      "C:\\Users\\carlo\\GitHub\\ProjectBuffalo\\buffalo\\predictor\\util.py:224: UserWarning: dataset_info with the same primary keys already exists with id 1, will not store dataset information.\n",
      "  warn(f\"dataset_info with the same primary keys already exists with id {searched_id}, will not store dataset information.\")\n",
      "c:\\Users\\carlo\\miniconda3\\lib\\site-packages\\torch\\nn\\modules\\rnn.py:71: UserWarning: dropout option adds dropout after all but last recurrent layer, so non-zero dropout expects num_layers greater than 1, but got dropout=0.4 and num_layers=1\n",
      "  warnings.warn(\"dropout option adds dropout after all but last \"\n"
     ]
    },
    {
     "data": {
      "application/vnd.jupyter.widget-view+json": {
       "model_id": "1733e80846c244bbb80d24d08a783354",
       "version_major": 2,
       "version_minor": 0
      },
      "text/plain": [
       "Multi-fold validation:   0%|          | 0/1 [00:00<?, ?it/s]"
      ]
     },
     "metadata": {},
     "output_type": "display_data"
    },
    {
     "data": {
      "application/vnd.jupyter.widget-view+json": {
       "model_id": "f5a6bc9283804d17985f1bf1ca931238",
       "version_major": 2,
       "version_minor": 0
      },
      "text/plain": [
       "Epoch:   0%|          | 0/60 [00:00<?, ?it/s]"
      ]
     },
     "metadata": {},
     "output_type": "display_data"
    },
    {
     "name": "stdout",
     "output_type": "stream",
     "text": [
      "Averaged validation loss: nan. Test loss: 2012.4689541333755.\n"
     ]
    },
    {
     "name": "stderr",
     "output_type": "stream",
     "text": [
      "C:\\Users\\carlo\\GitHub\\ProjectBuffalo\\buffalo\\predictor\\__init__.py:223: RuntimeWarning: Mean of empty slice\n",
      "  print(f'Averaged validation loss: {np.nanmean(train_valid_loss)}. Test loss: {test_loss}.')\n",
      "C:\\Users\\carlo\\GitHub\\ProjectBuffalo\\buffalo\\predictor\\__init__.py:236: RuntimeWarning: Mean of empty slice\n",
      "  'average_validation_loss': np.nanmean(train_valid_loss) if non_empty_train_indices else None}\n",
      "C:\\Users\\carlo\\GitHub\\ProjectBuffalo\\buffalo\\predictor\\util.py:224: UserWarning: dataset_info with the same primary keys already exists with id 1, will not store dataset information.\n",
      "  warn(f\"dataset_info with the same primary keys already exists with id {searched_id}, will not store dataset information.\")\n",
      "C:\\Users\\carlo\\GitHub\\ProjectBuffalo\\buffalo\\predictor\\util.py:397: UserWarning: model_info with the same primary keys already exists with id 11, will not store model information.\n",
      "  warn(f'model_info with the same primary keys already exists with id {searched_id}, will not store model information.')\n",
      "c:\\Users\\carlo\\miniconda3\\lib\\site-packages\\torch\\nn\\modules\\rnn.py:71: UserWarning: dropout option adds dropout after all but last recurrent layer, so non-zero dropout expects num_layers greater than 1, but got dropout=0.4 and num_layers=1\n",
      "  warnings.warn(\"dropout option adds dropout after all but last \"\n"
     ]
    },
    {
     "data": {
      "application/vnd.jupyter.widget-view+json": {
       "model_id": "3e97de7e5a6f4b5abb7b3e8456a52c7b",
       "version_major": 2,
       "version_minor": 0
      },
      "text/plain": [
       "Multi-fold validation:   0%|          | 0/1 [00:00<?, ?it/s]"
      ]
     },
     "metadata": {},
     "output_type": "display_data"
    },
    {
     "data": {
      "application/vnd.jupyter.widget-view+json": {
       "model_id": "b643cfa58de04b9295ebd8a10cf53da9",
       "version_major": 2,
       "version_minor": 0
      },
      "text/plain": [
       "Epoch:   0%|          | 0/60 [00:00<?, ?it/s]"
      ]
     },
     "metadata": {},
     "output_type": "display_data"
    },
    {
     "name": "stdout",
     "output_type": "stream",
     "text": [
      "Averaged validation loss: nan. Test loss: 2444.7136977592086.\n"
     ]
    },
    {
     "name": "stderr",
     "output_type": "stream",
     "text": [
      "C:\\Users\\carlo\\GitHub\\ProjectBuffalo\\buffalo\\predictor\\__init__.py:223: RuntimeWarning: Mean of empty slice\n",
      "  print(f'Averaged validation loss: {np.nanmean(train_valid_loss)}. Test loss: {test_loss}.')\n",
      "C:\\Users\\carlo\\GitHub\\ProjectBuffalo\\buffalo\\predictor\\__init__.py:236: RuntimeWarning: Mean of empty slice\n",
      "  'average_validation_loss': np.nanmean(train_valid_loss) if non_empty_train_indices else None}\n",
      "C:\\Users\\carlo\\GitHub\\ProjectBuffalo\\buffalo\\predictor\\util.py:224: UserWarning: dataset_info with the same primary keys already exists with id 1, will not store dataset information.\n",
      "  warn(f\"dataset_info with the same primary keys already exists with id {searched_id}, will not store dataset information.\")\n",
      "C:\\Users\\carlo\\GitHub\\ProjectBuffalo\\buffalo\\predictor\\util.py:397: UserWarning: model_info with the same primary keys already exists with id 12, will not store model information.\n",
      "  warn(f'model_info with the same primary keys already exists with id {searched_id}, will not store model information.')\n",
      "c:\\Users\\carlo\\miniconda3\\lib\\site-packages\\torch\\nn\\modules\\rnn.py:71: UserWarning: dropout option adds dropout after all but last recurrent layer, so non-zero dropout expects num_layers greater than 1, but got dropout=0.2 and num_layers=1\n",
      "  warnings.warn(\"dropout option adds dropout after all but last \"\n"
     ]
    },
    {
     "data": {
      "application/vnd.jupyter.widget-view+json": {
       "model_id": "79e3a83483f44f9d9f51b1701bd797f3",
       "version_major": 2,
       "version_minor": 0
      },
      "text/plain": [
       "Multi-fold validation:   0%|          | 0/1 [00:00<?, ?it/s]"
      ]
     },
     "metadata": {},
     "output_type": "display_data"
    },
    {
     "data": {
      "application/vnd.jupyter.widget-view+json": {
       "model_id": "1a854ea6536142608855f7a9c7a7683d",
       "version_major": 2,
       "version_minor": 0
      },
      "text/plain": [
       "Epoch:   0%|          | 0/30 [00:00<?, ?it/s]"
      ]
     },
     "metadata": {},
     "output_type": "display_data"
    },
    {
     "name": "stdout",
     "output_type": "stream",
     "text": [
      "Averaged validation loss: nan. Test loss: 1005.2028701947919.\n"
     ]
    },
    {
     "name": "stderr",
     "output_type": "stream",
     "text": [
      "C:\\Users\\carlo\\GitHub\\ProjectBuffalo\\buffalo\\predictor\\__init__.py:223: RuntimeWarning: Mean of empty slice\n",
      "  print(f'Averaged validation loss: {np.nanmean(train_valid_loss)}. Test loss: {test_loss}.')\n",
      "C:\\Users\\carlo\\GitHub\\ProjectBuffalo\\buffalo\\predictor\\__init__.py:236: RuntimeWarning: Mean of empty slice\n",
      "  'average_validation_loss': np.nanmean(train_valid_loss) if non_empty_train_indices else None}\n",
      "C:\\Users\\carlo\\GitHub\\ProjectBuffalo\\buffalo\\predictor\\util.py:224: UserWarning: dataset_info with the same primary keys already exists with id 1, will not store dataset information.\n",
      "  warn(f\"dataset_info with the same primary keys already exists with id {searched_id}, will not store dataset information.\")\n",
      "c:\\Users\\carlo\\miniconda3\\lib\\site-packages\\torch\\nn\\modules\\rnn.py:71: UserWarning: dropout option adds dropout after all but last recurrent layer, so non-zero dropout expects num_layers greater than 1, but got dropout=0.2 and num_layers=1\n",
      "  warnings.warn(\"dropout option adds dropout after all but last \"\n"
     ]
    },
    {
     "data": {
      "application/vnd.jupyter.widget-view+json": {
       "model_id": "a1f3962c51a749258fadaaea34e73363",
       "version_major": 2,
       "version_minor": 0
      },
      "text/plain": [
       "Multi-fold validation:   0%|          | 0/1 [00:00<?, ?it/s]"
      ]
     },
     "metadata": {},
     "output_type": "display_data"
    },
    {
     "data": {
      "application/vnd.jupyter.widget-view+json": {
       "model_id": "726f33c24b8c4912aaa8d40b04d0b368",
       "version_major": 2,
       "version_minor": 0
      },
      "text/plain": [
       "Epoch:   0%|          | 0/30 [00:00<?, ?it/s]"
      ]
     },
     "metadata": {},
     "output_type": "display_data"
    },
    {
     "name": "stdout",
     "output_type": "stream",
     "text": [
      "Averaged validation loss: nan. Test loss: 190.91926115098144.\n"
     ]
    },
    {
     "name": "stderr",
     "output_type": "stream",
     "text": [
      "C:\\Users\\carlo\\GitHub\\ProjectBuffalo\\buffalo\\predictor\\__init__.py:223: RuntimeWarning: Mean of empty slice\n",
      "  print(f'Averaged validation loss: {np.nanmean(train_valid_loss)}. Test loss: {test_loss}.')\n",
      "C:\\Users\\carlo\\GitHub\\ProjectBuffalo\\buffalo\\predictor\\__init__.py:236: RuntimeWarning: Mean of empty slice\n",
      "  'average_validation_loss': np.nanmean(train_valid_loss) if non_empty_train_indices else None}\n",
      "C:\\Users\\carlo\\GitHub\\ProjectBuffalo\\buffalo\\predictor\\util.py:224: UserWarning: dataset_info with the same primary keys already exists with id 1, will not store dataset information.\n",
      "  warn(f\"dataset_info with the same primary keys already exists with id {searched_id}, will not store dataset information.\")\n",
      "c:\\Users\\carlo\\miniconda3\\lib\\site-packages\\torch\\nn\\modules\\rnn.py:71: UserWarning: dropout option adds dropout after all but last recurrent layer, so non-zero dropout expects num_layers greater than 1, but got dropout=0.2 and num_layers=1\n",
      "  warnings.warn(\"dropout option adds dropout after all but last \"\n"
     ]
    },
    {
     "data": {
      "application/vnd.jupyter.widget-view+json": {
       "model_id": "47528217a19840f2935356297faade9c",
       "version_major": 2,
       "version_minor": 0
      },
      "text/plain": [
       "Multi-fold validation:   0%|          | 0/1 [00:00<?, ?it/s]"
      ]
     },
     "metadata": {},
     "output_type": "display_data"
    },
    {
     "data": {
      "application/vnd.jupyter.widget-view+json": {
       "model_id": "8b705c4820624a6ba89e4239bf195743",
       "version_major": 2,
       "version_minor": 0
      },
      "text/plain": [
       "Epoch:   0%|          | 0/60 [00:00<?, ?it/s]"
      ]
     },
     "metadata": {},
     "output_type": "display_data"
    },
    {
     "name": "stdout",
     "output_type": "stream",
     "text": [
      "Averaged validation loss: nan. Test loss: 2080.886948671181.\n"
     ]
    },
    {
     "name": "stderr",
     "output_type": "stream",
     "text": [
      "C:\\Users\\carlo\\GitHub\\ProjectBuffalo\\buffalo\\predictor\\__init__.py:223: RuntimeWarning: Mean of empty slice\n",
      "  print(f'Averaged validation loss: {np.nanmean(train_valid_loss)}. Test loss: {test_loss}.')\n",
      "C:\\Users\\carlo\\GitHub\\ProjectBuffalo\\buffalo\\predictor\\__init__.py:236: RuntimeWarning: Mean of empty slice\n",
      "  'average_validation_loss': np.nanmean(train_valid_loss) if non_empty_train_indices else None}\n",
      "C:\\Users\\carlo\\GitHub\\ProjectBuffalo\\buffalo\\predictor\\util.py:224: UserWarning: dataset_info with the same primary keys already exists with id 1, will not store dataset information.\n",
      "  warn(f\"dataset_info with the same primary keys already exists with id {searched_id}, will not store dataset information.\")\n",
      "C:\\Users\\carlo\\GitHub\\ProjectBuffalo\\buffalo\\predictor\\util.py:397: UserWarning: model_info with the same primary keys already exists with id 13, will not store model information.\n",
      "  warn(f'model_info with the same primary keys already exists with id {searched_id}, will not store model information.')\n",
      "c:\\Users\\carlo\\miniconda3\\lib\\site-packages\\torch\\nn\\modules\\rnn.py:71: UserWarning: dropout option adds dropout after all but last recurrent layer, so non-zero dropout expects num_layers greater than 1, but got dropout=0.2 and num_layers=1\n",
      "  warnings.warn(\"dropout option adds dropout after all but last \"\n"
     ]
    },
    {
     "data": {
      "application/vnd.jupyter.widget-view+json": {
       "model_id": "0e116fb223bc4405a2ed18cb0e644443",
       "version_major": 2,
       "version_minor": 0
      },
      "text/plain": [
       "Multi-fold validation:   0%|          | 0/1 [00:00<?, ?it/s]"
      ]
     },
     "metadata": {},
     "output_type": "display_data"
    },
    {
     "data": {
      "application/vnd.jupyter.widget-view+json": {
       "model_id": "de745740e60542de9098401e5a72d677",
       "version_major": 2,
       "version_minor": 0
      },
      "text/plain": [
       "Epoch:   0%|          | 0/60 [00:00<?, ?it/s]"
      ]
     },
     "metadata": {},
     "output_type": "display_data"
    },
    {
     "name": "stdout",
     "output_type": "stream",
     "text": [
      "Averaged validation loss: nan. Test loss: 1223.3771502691573.\n"
     ]
    },
    {
     "name": "stderr",
     "output_type": "stream",
     "text": [
      "C:\\Users\\carlo\\GitHub\\ProjectBuffalo\\buffalo\\predictor\\__init__.py:223: RuntimeWarning: Mean of empty slice\n",
      "  print(f'Averaged validation loss: {np.nanmean(train_valid_loss)}. Test loss: {test_loss}.')\n",
      "C:\\Users\\carlo\\GitHub\\ProjectBuffalo\\buffalo\\predictor\\__init__.py:236: RuntimeWarning: Mean of empty slice\n",
      "  'average_validation_loss': np.nanmean(train_valid_loss) if non_empty_train_indices else None}\n",
      "C:\\Users\\carlo\\GitHub\\ProjectBuffalo\\buffalo\\predictor\\util.py:224: UserWarning: dataset_info with the same primary keys already exists with id 1, will not store dataset information.\n",
      "  warn(f\"dataset_info with the same primary keys already exists with id {searched_id}, will not store dataset information.\")\n",
      "C:\\Users\\carlo\\GitHub\\ProjectBuffalo\\buffalo\\predictor\\util.py:397: UserWarning: model_info with the same primary keys already exists with id 14, will not store model information.\n",
      "  warn(f'model_info with the same primary keys already exists with id {searched_id}, will not store model information.')\n",
      "c:\\Users\\carlo\\miniconda3\\lib\\site-packages\\torch\\nn\\modules\\rnn.py:71: UserWarning: dropout option adds dropout after all but last recurrent layer, so non-zero dropout expects num_layers greater than 1, but got dropout=0.4 and num_layers=1\n",
      "  warnings.warn(\"dropout option adds dropout after all but last \"\n"
     ]
    },
    {
     "data": {
      "application/vnd.jupyter.widget-view+json": {
       "model_id": "b1908d93401a47ae95ab6295b43d9688",
       "version_major": 2,
       "version_minor": 0
      },
      "text/plain": [
       "Multi-fold validation:   0%|          | 0/1 [00:00<?, ?it/s]"
      ]
     },
     "metadata": {},
     "output_type": "display_data"
    },
    {
     "data": {
      "application/vnd.jupyter.widget-view+json": {
       "model_id": "1c48e7c7034f47e795d07e846a7fa516",
       "version_major": 2,
       "version_minor": 0
      },
      "text/plain": [
       "Epoch:   0%|          | 0/30 [00:00<?, ?it/s]"
      ]
     },
     "metadata": {},
     "output_type": "display_data"
    },
    {
     "name": "stdout",
     "output_type": "stream",
     "text": [
      "Averaged validation loss: nan. Test loss: 1002.6989473152726.\n"
     ]
    },
    {
     "name": "stderr",
     "output_type": "stream",
     "text": [
      "C:\\Users\\carlo\\GitHub\\ProjectBuffalo\\buffalo\\predictor\\__init__.py:223: RuntimeWarning: Mean of empty slice\n",
      "  print(f'Averaged validation loss: {np.nanmean(train_valid_loss)}. Test loss: {test_loss}.')\n",
      "C:\\Users\\carlo\\GitHub\\ProjectBuffalo\\buffalo\\predictor\\__init__.py:236: RuntimeWarning: Mean of empty slice\n",
      "  'average_validation_loss': np.nanmean(train_valid_loss) if non_empty_train_indices else None}\n",
      "C:\\Users\\carlo\\GitHub\\ProjectBuffalo\\buffalo\\predictor\\util.py:224: UserWarning: dataset_info with the same primary keys already exists with id 1, will not store dataset information.\n",
      "  warn(f\"dataset_info with the same primary keys already exists with id {searched_id}, will not store dataset information.\")\n",
      "c:\\Users\\carlo\\miniconda3\\lib\\site-packages\\torch\\nn\\modules\\rnn.py:71: UserWarning: dropout option adds dropout after all but last recurrent layer, so non-zero dropout expects num_layers greater than 1, but got dropout=0.4 and num_layers=1\n",
      "  warnings.warn(\"dropout option adds dropout after all but last \"\n"
     ]
    },
    {
     "data": {
      "application/vnd.jupyter.widget-view+json": {
       "model_id": "7531f478e5494953a40ad0d8bbd77deb",
       "version_major": 2,
       "version_minor": 0
      },
      "text/plain": [
       "Multi-fold validation:   0%|          | 0/1 [00:00<?, ?it/s]"
      ]
     },
     "metadata": {},
     "output_type": "display_data"
    },
    {
     "data": {
      "application/vnd.jupyter.widget-view+json": {
       "model_id": "f5e59d70b15a45de85c0c489a7d4a27e",
       "version_major": 2,
       "version_minor": 0
      },
      "text/plain": [
       "Epoch:   0%|          | 0/30 [00:00<?, ?it/s]"
      ]
     },
     "metadata": {},
     "output_type": "display_data"
    },
    {
     "name": "stdout",
     "output_type": "stream",
     "text": [
      "Averaged validation loss: nan. Test loss: 189.3520590357578.\n"
     ]
    },
    {
     "name": "stderr",
     "output_type": "stream",
     "text": [
      "C:\\Users\\carlo\\GitHub\\ProjectBuffalo\\buffalo\\predictor\\__init__.py:223: RuntimeWarning: Mean of empty slice\n",
      "  print(f'Averaged validation loss: {np.nanmean(train_valid_loss)}. Test loss: {test_loss}.')\n",
      "C:\\Users\\carlo\\GitHub\\ProjectBuffalo\\buffalo\\predictor\\__init__.py:236: RuntimeWarning: Mean of empty slice\n",
      "  'average_validation_loss': np.nanmean(train_valid_loss) if non_empty_train_indices else None}\n",
      "C:\\Users\\carlo\\GitHub\\ProjectBuffalo\\buffalo\\predictor\\util.py:224: UserWarning: dataset_info with the same primary keys already exists with id 1, will not store dataset information.\n",
      "  warn(f\"dataset_info with the same primary keys already exists with id {searched_id}, will not store dataset information.\")\n",
      "c:\\Users\\carlo\\miniconda3\\lib\\site-packages\\torch\\nn\\modules\\rnn.py:71: UserWarning: dropout option adds dropout after all but last recurrent layer, so non-zero dropout expects num_layers greater than 1, but got dropout=0.4 and num_layers=1\n",
      "  warnings.warn(\"dropout option adds dropout after all but last \"\n"
     ]
    },
    {
     "data": {
      "application/vnd.jupyter.widget-view+json": {
       "model_id": "fadd574dc9674684a51058d356d7c519",
       "version_major": 2,
       "version_minor": 0
      },
      "text/plain": [
       "Multi-fold validation:   0%|          | 0/1 [00:00<?, ?it/s]"
      ]
     },
     "metadata": {},
     "output_type": "display_data"
    },
    {
     "data": {
      "application/vnd.jupyter.widget-view+json": {
       "model_id": "6b100c40e98446b4bef280ef88c55787",
       "version_major": 2,
       "version_minor": 0
      },
      "text/plain": [
       "Epoch:   0%|          | 0/60 [00:00<?, ?it/s]"
      ]
     },
     "metadata": {},
     "output_type": "display_data"
    },
    {
     "name": "stdout",
     "output_type": "stream",
     "text": [
      "Averaged validation loss: nan. Test loss: 2392.1397033872163.\n"
     ]
    },
    {
     "name": "stderr",
     "output_type": "stream",
     "text": [
      "C:\\Users\\carlo\\GitHub\\ProjectBuffalo\\buffalo\\predictor\\__init__.py:223: RuntimeWarning: Mean of empty slice\n",
      "  print(f'Averaged validation loss: {np.nanmean(train_valid_loss)}. Test loss: {test_loss}.')\n",
      "C:\\Users\\carlo\\GitHub\\ProjectBuffalo\\buffalo\\predictor\\__init__.py:236: RuntimeWarning: Mean of empty slice\n",
      "  'average_validation_loss': np.nanmean(train_valid_loss) if non_empty_train_indices else None}\n",
      "C:\\Users\\carlo\\GitHub\\ProjectBuffalo\\buffalo\\predictor\\util.py:224: UserWarning: dataset_info with the same primary keys already exists with id 1, will not store dataset information.\n",
      "  warn(f\"dataset_info with the same primary keys already exists with id {searched_id}, will not store dataset information.\")\n",
      "C:\\Users\\carlo\\GitHub\\ProjectBuffalo\\buffalo\\predictor\\util.py:397: UserWarning: model_info with the same primary keys already exists with id 15, will not store model information.\n",
      "  warn(f'model_info with the same primary keys already exists with id {searched_id}, will not store model information.')\n",
      "c:\\Users\\carlo\\miniconda3\\lib\\site-packages\\torch\\nn\\modules\\rnn.py:71: UserWarning: dropout option adds dropout after all but last recurrent layer, so non-zero dropout expects num_layers greater than 1, but got dropout=0.4 and num_layers=1\n",
      "  warnings.warn(\"dropout option adds dropout after all but last \"\n"
     ]
    },
    {
     "data": {
      "application/vnd.jupyter.widget-view+json": {
       "model_id": "8148d33b469f4febbef1b87fd1edf7f4",
       "version_major": 2,
       "version_minor": 0
      },
      "text/plain": [
       "Multi-fold validation:   0%|          | 0/1 [00:00<?, ?it/s]"
      ]
     },
     "metadata": {},
     "output_type": "display_data"
    },
    {
     "data": {
      "application/vnd.jupyter.widget-view+json": {
       "model_id": "26c3703c9c29406597805849f35195df",
       "version_major": 2,
       "version_minor": 0
      },
      "text/plain": [
       "Epoch:   0%|          | 0/60 [00:00<?, ?it/s]"
      ]
     },
     "metadata": {},
     "output_type": "display_data"
    },
    {
     "name": "stdout",
     "output_type": "stream",
     "text": [
      "Averaged validation loss: nan. Test loss: 1176.338239242388.\n"
     ]
    },
    {
     "name": "stderr",
     "output_type": "stream",
     "text": [
      "C:\\Users\\carlo\\GitHub\\ProjectBuffalo\\buffalo\\predictor\\__init__.py:223: RuntimeWarning: Mean of empty slice\n",
      "  print(f'Averaged validation loss: {np.nanmean(train_valid_loss)}. Test loss: {test_loss}.')\n",
      "C:\\Users\\carlo\\GitHub\\ProjectBuffalo\\buffalo\\predictor\\__init__.py:236: RuntimeWarning: Mean of empty slice\n",
      "  'average_validation_loss': np.nanmean(train_valid_loss) if non_empty_train_indices else None}\n",
      "C:\\Users\\carlo\\GitHub\\ProjectBuffalo\\buffalo\\predictor\\util.py:224: UserWarning: dataset_info with the same primary keys already exists with id 1, will not store dataset information.\n",
      "  warn(f\"dataset_info with the same primary keys already exists with id {searched_id}, will not store dataset information.\")\n",
      "C:\\Users\\carlo\\GitHub\\ProjectBuffalo\\buffalo\\predictor\\util.py:397: UserWarning: model_info with the same primary keys already exists with id 16, will not store model information.\n",
      "  warn(f'model_info with the same primary keys already exists with id {searched_id}, will not store model information.')\n"
     ]
    },
    {
     "data": {
      "application/vnd.jupyter.widget-view+json": {
       "model_id": "4399752f3cc64db8a657498d16484355",
       "version_major": 2,
       "version_minor": 0
      },
      "text/plain": [
       "Multi-fold validation:   0%|          | 0/1 [00:00<?, ?it/s]"
      ]
     },
     "metadata": {},
     "output_type": "display_data"
    },
    {
     "data": {
      "application/vnd.jupyter.widget-view+json": {
       "model_id": "e714cae9912d4737bd01220082744937",
       "version_major": 2,
       "version_minor": 0
      },
      "text/plain": [
       "Epoch:   0%|          | 0/30 [00:00<?, ?it/s]"
      ]
     },
     "metadata": {},
     "output_type": "display_data"
    },
    {
     "name": "stdout",
     "output_type": "stream",
     "text": [
      "Averaged validation loss: nan. Test loss: 2639.7107032406834.\n"
     ]
    },
    {
     "name": "stderr",
     "output_type": "stream",
     "text": [
      "C:\\Users\\carlo\\GitHub\\ProjectBuffalo\\buffalo\\predictor\\__init__.py:223: RuntimeWarning: Mean of empty slice\n",
      "  print(f'Averaged validation loss: {np.nanmean(train_valid_loss)}. Test loss: {test_loss}.')\n",
      "C:\\Users\\carlo\\GitHub\\ProjectBuffalo\\buffalo\\predictor\\__init__.py:236: RuntimeWarning: Mean of empty slice\n",
      "  'average_validation_loss': np.nanmean(train_valid_loss) if non_empty_train_indices else None}\n",
      "C:\\Users\\carlo\\GitHub\\ProjectBuffalo\\buffalo\\predictor\\util.py:224: UserWarning: dataset_info with the same primary keys already exists with id 1, will not store dataset information.\n",
      "  warn(f\"dataset_info with the same primary keys already exists with id {searched_id}, will not store dataset information.\")\n"
     ]
    },
    {
     "data": {
      "application/vnd.jupyter.widget-view+json": {
       "model_id": "25b57cd1ab7a4f73a7e59dad07931232",
       "version_major": 2,
       "version_minor": 0
      },
      "text/plain": [
       "Multi-fold validation:   0%|          | 0/1 [00:00<?, ?it/s]"
      ]
     },
     "metadata": {},
     "output_type": "display_data"
    },
    {
     "data": {
      "application/vnd.jupyter.widget-view+json": {
       "model_id": "91fc5766228945c9920e1ff8d632f41e",
       "version_major": 2,
       "version_minor": 0
      },
      "text/plain": [
       "Epoch:   0%|          | 0/30 [00:00<?, ?it/s]"
      ]
     },
     "metadata": {},
     "output_type": "display_data"
    },
    {
     "name": "stdout",
     "output_type": "stream",
     "text": [
      "Averaged validation loss: nan. Test loss: 3190.7482287151793.\n"
     ]
    },
    {
     "name": "stderr",
     "output_type": "stream",
     "text": [
      "C:\\Users\\carlo\\GitHub\\ProjectBuffalo\\buffalo\\predictor\\__init__.py:223: RuntimeWarning: Mean of empty slice\n",
      "  print(f'Averaged validation loss: {np.nanmean(train_valid_loss)}. Test loss: {test_loss}.')\n",
      "C:\\Users\\carlo\\GitHub\\ProjectBuffalo\\buffalo\\predictor\\__init__.py:236: RuntimeWarning: Mean of empty slice\n",
      "  'average_validation_loss': np.nanmean(train_valid_loss) if non_empty_train_indices else None}\n",
      "C:\\Users\\carlo\\GitHub\\ProjectBuffalo\\buffalo\\predictor\\util.py:224: UserWarning: dataset_info with the same primary keys already exists with id 1, will not store dataset information.\n",
      "  warn(f\"dataset_info with the same primary keys already exists with id {searched_id}, will not store dataset information.\")\n"
     ]
    },
    {
     "data": {
      "application/vnd.jupyter.widget-view+json": {
       "model_id": "6f02e5546d6c4fe4b39727cece590a94",
       "version_major": 2,
       "version_minor": 0
      },
      "text/plain": [
       "Multi-fold validation:   0%|          | 0/1 [00:00<?, ?it/s]"
      ]
     },
     "metadata": {},
     "output_type": "display_data"
    },
    {
     "data": {
      "application/vnd.jupyter.widget-view+json": {
       "model_id": "98b9cf51189243138c1df18e5cf5cabf",
       "version_major": 2,
       "version_minor": 0
      },
      "text/plain": [
       "Epoch:   0%|          | 0/60 [00:00<?, ?it/s]"
      ]
     },
     "metadata": {},
     "output_type": "display_data"
    },
    {
     "name": "stdout",
     "output_type": "stream",
     "text": [
      "Averaged validation loss: nan. Test loss: 2640.767661272597.\n"
     ]
    },
    {
     "name": "stderr",
     "output_type": "stream",
     "text": [
      "C:\\Users\\carlo\\GitHub\\ProjectBuffalo\\buffalo\\predictor\\__init__.py:223: RuntimeWarning: Mean of empty slice\n",
      "  print(f'Averaged validation loss: {np.nanmean(train_valid_loss)}. Test loss: {test_loss}.')\n",
      "C:\\Users\\carlo\\GitHub\\ProjectBuffalo\\buffalo\\predictor\\__init__.py:236: RuntimeWarning: Mean of empty slice\n",
      "  'average_validation_loss': np.nanmean(train_valid_loss) if non_empty_train_indices else None}\n",
      "C:\\Users\\carlo\\GitHub\\ProjectBuffalo\\buffalo\\predictor\\util.py:224: UserWarning: dataset_info with the same primary keys already exists with id 1, will not store dataset information.\n",
      "  warn(f\"dataset_info with the same primary keys already exists with id {searched_id}, will not store dataset information.\")\n",
      "C:\\Users\\carlo\\GitHub\\ProjectBuffalo\\buffalo\\predictor\\util.py:397: UserWarning: model_info with the same primary keys already exists with id 17, will not store model information.\n",
      "  warn(f'model_info with the same primary keys already exists with id {searched_id}, will not store model information.')\n"
     ]
    },
    {
     "data": {
      "application/vnd.jupyter.widget-view+json": {
       "model_id": "b22c7b3e394049209615e9eb40ef3eb5",
       "version_major": 2,
       "version_minor": 0
      },
      "text/plain": [
       "Multi-fold validation:   0%|          | 0/1 [00:00<?, ?it/s]"
      ]
     },
     "metadata": {},
     "output_type": "display_data"
    },
    {
     "data": {
      "application/vnd.jupyter.widget-view+json": {
       "model_id": "a12fd73744e34d488de84be621e7e8f9",
       "version_major": 2,
       "version_minor": 0
      },
      "text/plain": [
       "Epoch:   0%|          | 0/60 [00:00<?, ?it/s]"
      ]
     },
     "metadata": {},
     "output_type": "display_data"
    },
    {
     "name": "stdout",
     "output_type": "stream",
     "text": [
      "Averaged validation loss: nan. Test loss: 2430.8619460682994.\n"
     ]
    },
    {
     "name": "stderr",
     "output_type": "stream",
     "text": [
      "C:\\Users\\carlo\\GitHub\\ProjectBuffalo\\buffalo\\predictor\\__init__.py:223: RuntimeWarning: Mean of empty slice\n",
      "  print(f'Averaged validation loss: {np.nanmean(train_valid_loss)}. Test loss: {test_loss}.')\n",
      "C:\\Users\\carlo\\GitHub\\ProjectBuffalo\\buffalo\\predictor\\__init__.py:236: RuntimeWarning: Mean of empty slice\n",
      "  'average_validation_loss': np.nanmean(train_valid_loss) if non_empty_train_indices else None}\n",
      "C:\\Users\\carlo\\GitHub\\ProjectBuffalo\\buffalo\\predictor\\util.py:224: UserWarning: dataset_info with the same primary keys already exists with id 1, will not store dataset information.\n",
      "  warn(f\"dataset_info with the same primary keys already exists with id {searched_id}, will not store dataset information.\")\n",
      "C:\\Users\\carlo\\GitHub\\ProjectBuffalo\\buffalo\\predictor\\util.py:397: UserWarning: model_info with the same primary keys already exists with id 18, will not store model information.\n",
      "  warn(f'model_info with the same primary keys already exists with id {searched_id}, will not store model information.')\n"
     ]
    },
    {
     "data": {
      "application/vnd.jupyter.widget-view+json": {
       "model_id": "44033c239f9447b397bfb782a34c158b",
       "version_major": 2,
       "version_minor": 0
      },
      "text/plain": [
       "Multi-fold validation:   0%|          | 0/1 [00:00<?, ?it/s]"
      ]
     },
     "metadata": {},
     "output_type": "display_data"
    },
    {
     "data": {
      "application/vnd.jupyter.widget-view+json": {
       "model_id": "b1054f8b05f14355b5e946f27c0b2e30",
       "version_major": 2,
       "version_minor": 0
      },
      "text/plain": [
       "Epoch:   0%|          | 0/30 [00:00<?, ?it/s]"
      ]
     },
     "metadata": {},
     "output_type": "display_data"
    },
    {
     "name": "stdout",
     "output_type": "stream",
     "text": [
      "Averaged validation loss: nan. Test loss: 2338.393245354339.\n"
     ]
    },
    {
     "name": "stderr",
     "output_type": "stream",
     "text": [
      "C:\\Users\\carlo\\GitHub\\ProjectBuffalo\\buffalo\\predictor\\__init__.py:223: RuntimeWarning: Mean of empty slice\n",
      "  print(f'Averaged validation loss: {np.nanmean(train_valid_loss)}. Test loss: {test_loss}.')\n",
      "C:\\Users\\carlo\\GitHub\\ProjectBuffalo\\buffalo\\predictor\\__init__.py:236: RuntimeWarning: Mean of empty slice\n",
      "  'average_validation_loss': np.nanmean(train_valid_loss) if non_empty_train_indices else None}\n",
      "C:\\Users\\carlo\\GitHub\\ProjectBuffalo\\buffalo\\predictor\\util.py:224: UserWarning: dataset_info with the same primary keys already exists with id 1, will not store dataset information.\n",
      "  warn(f\"dataset_info with the same primary keys already exists with id {searched_id}, will not store dataset information.\")\n"
     ]
    },
    {
     "data": {
      "application/vnd.jupyter.widget-view+json": {
       "model_id": "3e57eb8b53a04e6e94d68c59836401a6",
       "version_major": 2,
       "version_minor": 0
      },
      "text/plain": [
       "Multi-fold validation:   0%|          | 0/1 [00:00<?, ?it/s]"
      ]
     },
     "metadata": {},
     "output_type": "display_data"
    },
    {
     "data": {
      "application/vnd.jupyter.widget-view+json": {
       "model_id": "3de1406433d84ba69a8b4f583a1fe62f",
       "version_major": 2,
       "version_minor": 0
      },
      "text/plain": [
       "Epoch:   0%|          | 0/30 [00:00<?, ?it/s]"
      ]
     },
     "metadata": {},
     "output_type": "display_data"
    },
    {
     "name": "stdout",
     "output_type": "stream",
     "text": [
      "Averaged validation loss: nan. Test loss: 2109.921180898322.\n"
     ]
    },
    {
     "name": "stderr",
     "output_type": "stream",
     "text": [
      "C:\\Users\\carlo\\GitHub\\ProjectBuffalo\\buffalo\\predictor\\__init__.py:223: RuntimeWarning: Mean of empty slice\n",
      "  print(f'Averaged validation loss: {np.nanmean(train_valid_loss)}. Test loss: {test_loss}.')\n",
      "C:\\Users\\carlo\\GitHub\\ProjectBuffalo\\buffalo\\predictor\\__init__.py:236: RuntimeWarning: Mean of empty slice\n",
      "  'average_validation_loss': np.nanmean(train_valid_loss) if non_empty_train_indices else None}\n",
      "C:\\Users\\carlo\\GitHub\\ProjectBuffalo\\buffalo\\predictor\\util.py:224: UserWarning: dataset_info with the same primary keys already exists with id 1, will not store dataset information.\n",
      "  warn(f\"dataset_info with the same primary keys already exists with id {searched_id}, will not store dataset information.\")\n"
     ]
    },
    {
     "data": {
      "application/vnd.jupyter.widget-view+json": {
       "model_id": "3b2ed2d2552c48e5bf8dc0bd3e14dd72",
       "version_major": 2,
       "version_minor": 0
      },
      "text/plain": [
       "Multi-fold validation:   0%|          | 0/1 [00:00<?, ?it/s]"
      ]
     },
     "metadata": {},
     "output_type": "display_data"
    },
    {
     "data": {
      "application/vnd.jupyter.widget-view+json": {
       "model_id": "5c81a79a1f024bbc92855e9586df24b0",
       "version_major": 2,
       "version_minor": 0
      },
      "text/plain": [
       "Epoch:   0%|          | 0/60 [00:00<?, ?it/s]"
      ]
     },
     "metadata": {},
     "output_type": "display_data"
    },
    {
     "name": "stdout",
     "output_type": "stream",
     "text": [
      "Averaged validation loss: nan. Test loss: 2848.962280634949.\n"
     ]
    },
    {
     "name": "stderr",
     "output_type": "stream",
     "text": [
      "C:\\Users\\carlo\\GitHub\\ProjectBuffalo\\buffalo\\predictor\\__init__.py:223: RuntimeWarning: Mean of empty slice\n",
      "  print(f'Averaged validation loss: {np.nanmean(train_valid_loss)}. Test loss: {test_loss}.')\n",
      "C:\\Users\\carlo\\GitHub\\ProjectBuffalo\\buffalo\\predictor\\__init__.py:236: RuntimeWarning: Mean of empty slice\n",
      "  'average_validation_loss': np.nanmean(train_valid_loss) if non_empty_train_indices else None}\n",
      "C:\\Users\\carlo\\GitHub\\ProjectBuffalo\\buffalo\\predictor\\util.py:224: UserWarning: dataset_info with the same primary keys already exists with id 1, will not store dataset information.\n",
      "  warn(f\"dataset_info with the same primary keys already exists with id {searched_id}, will not store dataset information.\")\n",
      "C:\\Users\\carlo\\GitHub\\ProjectBuffalo\\buffalo\\predictor\\util.py:397: UserWarning: model_info with the same primary keys already exists with id 19, will not store model information.\n",
      "  warn(f'model_info with the same primary keys already exists with id {searched_id}, will not store model information.')\n"
     ]
    },
    {
     "data": {
      "application/vnd.jupyter.widget-view+json": {
       "model_id": "a843470e4b8a4cabaac19516b854d2f6",
       "version_major": 2,
       "version_minor": 0
      },
      "text/plain": [
       "Multi-fold validation:   0%|          | 0/1 [00:00<?, ?it/s]"
      ]
     },
     "metadata": {},
     "output_type": "display_data"
    },
    {
     "data": {
      "application/vnd.jupyter.widget-view+json": {
       "model_id": "6688ae131f6240a39e8ee31ec7a98ea2",
       "version_major": 2,
       "version_minor": 0
      },
      "text/plain": [
       "Epoch:   0%|          | 0/60 [00:00<?, ?it/s]"
      ]
     },
     "metadata": {},
     "output_type": "display_data"
    },
    {
     "name": "stdout",
     "output_type": "stream",
     "text": [
      "Averaged validation loss: nan. Test loss: 2884.5330235743922.\n"
     ]
    },
    {
     "name": "stderr",
     "output_type": "stream",
     "text": [
      "C:\\Users\\carlo\\GitHub\\ProjectBuffalo\\buffalo\\predictor\\__init__.py:223: RuntimeWarning: Mean of empty slice\n",
      "  print(f'Averaged validation loss: {np.nanmean(train_valid_loss)}. Test loss: {test_loss}.')\n",
      "C:\\Users\\carlo\\GitHub\\ProjectBuffalo\\buffalo\\predictor\\__init__.py:236: RuntimeWarning: Mean of empty slice\n",
      "  'average_validation_loss': np.nanmean(train_valid_loss) if non_empty_train_indices else None}\n",
      "C:\\Users\\carlo\\GitHub\\ProjectBuffalo\\buffalo\\predictor\\util.py:224: UserWarning: dataset_info with the same primary keys already exists with id 1, will not store dataset information.\n",
      "  warn(f\"dataset_info with the same primary keys already exists with id {searched_id}, will not store dataset information.\")\n",
      "C:\\Users\\carlo\\GitHub\\ProjectBuffalo\\buffalo\\predictor\\util.py:397: UserWarning: model_info with the same primary keys already exists with id 20, will not store model information.\n",
      "  warn(f'model_info with the same primary keys already exists with id {searched_id}, will not store model information.')\n"
     ]
    },
    {
     "data": {
      "application/vnd.jupyter.widget-view+json": {
       "model_id": "8a6d603722464e9cb0bcb6997c04277c",
       "version_major": 2,
       "version_minor": 0
      },
      "text/plain": [
       "Multi-fold validation:   0%|          | 0/1 [00:00<?, ?it/s]"
      ]
     },
     "metadata": {},
     "output_type": "display_data"
    },
    {
     "data": {
      "application/vnd.jupyter.widget-view+json": {
       "model_id": "43cdafbb6f9a46b5b2c9a25cc6c72df6",
       "version_major": 2,
       "version_minor": 0
      },
      "text/plain": [
       "Epoch:   0%|          | 0/30 [00:00<?, ?it/s]"
      ]
     },
     "metadata": {},
     "output_type": "display_data"
    },
    {
     "name": "stdout",
     "output_type": "stream",
     "text": [
      "Averaged validation loss: nan. Test loss: 2459.7009819610685.\n"
     ]
    },
    {
     "name": "stderr",
     "output_type": "stream",
     "text": [
      "C:\\Users\\carlo\\GitHub\\ProjectBuffalo\\buffalo\\predictor\\__init__.py:223: RuntimeWarning: Mean of empty slice\n",
      "  print(f'Averaged validation loss: {np.nanmean(train_valid_loss)}. Test loss: {test_loss}.')\n",
      "C:\\Users\\carlo\\GitHub\\ProjectBuffalo\\buffalo\\predictor\\__init__.py:236: RuntimeWarning: Mean of empty slice\n",
      "  'average_validation_loss': np.nanmean(train_valid_loss) if non_empty_train_indices else None}\n",
      "C:\\Users\\carlo\\GitHub\\ProjectBuffalo\\buffalo\\predictor\\util.py:224: UserWarning: dataset_info with the same primary keys already exists with id 1, will not store dataset information.\n",
      "  warn(f\"dataset_info with the same primary keys already exists with id {searched_id}, will not store dataset information.\")\n"
     ]
    },
    {
     "data": {
      "application/vnd.jupyter.widget-view+json": {
       "model_id": "b54e2bcdef314378a351b42b553912a7",
       "version_major": 2,
       "version_minor": 0
      },
      "text/plain": [
       "Multi-fold validation:   0%|          | 0/1 [00:00<?, ?it/s]"
      ]
     },
     "metadata": {},
     "output_type": "display_data"
    },
    {
     "data": {
      "application/vnd.jupyter.widget-view+json": {
       "model_id": "3e0fce8e15d341dc8b70d5062235f2e4",
       "version_major": 2,
       "version_minor": 0
      },
      "text/plain": [
       "Epoch:   0%|          | 0/30 [00:00<?, ?it/s]"
      ]
     },
     "metadata": {},
     "output_type": "display_data"
    },
    {
     "name": "stdout",
     "output_type": "stream",
     "text": [
      "Averaged validation loss: nan. Test loss: 913.2993488217624.\n"
     ]
    },
    {
     "name": "stderr",
     "output_type": "stream",
     "text": [
      "C:\\Users\\carlo\\GitHub\\ProjectBuffalo\\buffalo\\predictor\\__init__.py:223: RuntimeWarning: Mean of empty slice\n",
      "  print(f'Averaged validation loss: {np.nanmean(train_valid_loss)}. Test loss: {test_loss}.')\n",
      "C:\\Users\\carlo\\GitHub\\ProjectBuffalo\\buffalo\\predictor\\__init__.py:236: RuntimeWarning: Mean of empty slice\n",
      "  'average_validation_loss': np.nanmean(train_valid_loss) if non_empty_train_indices else None}\n",
      "C:\\Users\\carlo\\GitHub\\ProjectBuffalo\\buffalo\\predictor\\util.py:224: UserWarning: dataset_info with the same primary keys already exists with id 1, will not store dataset information.\n",
      "  warn(f\"dataset_info with the same primary keys already exists with id {searched_id}, will not store dataset information.\")\n"
     ]
    },
    {
     "data": {
      "application/vnd.jupyter.widget-view+json": {
       "model_id": "86a9cd9bb202451790204ff54a8d9dd1",
       "version_major": 2,
       "version_minor": 0
      },
      "text/plain": [
       "Multi-fold validation:   0%|          | 0/1 [00:00<?, ?it/s]"
      ]
     },
     "metadata": {},
     "output_type": "display_data"
    },
    {
     "data": {
      "application/vnd.jupyter.widget-view+json": {
       "model_id": "41bd723c023949a3b8dbb76760c960bc",
       "version_major": 2,
       "version_minor": 0
      },
      "text/plain": [
       "Epoch:   0%|          | 0/60 [00:00<?, ?it/s]"
      ]
     },
     "metadata": {},
     "output_type": "display_data"
    },
    {
     "name": "stdout",
     "output_type": "stream",
     "text": [
      "Averaged validation loss: nan. Test loss: 4153.161118593056.\n"
     ]
    },
    {
     "name": "stderr",
     "output_type": "stream",
     "text": [
      "C:\\Users\\carlo\\GitHub\\ProjectBuffalo\\buffalo\\predictor\\__init__.py:223: RuntimeWarning: Mean of empty slice\n",
      "  print(f'Averaged validation loss: {np.nanmean(train_valid_loss)}. Test loss: {test_loss}.')\n",
      "C:\\Users\\carlo\\GitHub\\ProjectBuffalo\\buffalo\\predictor\\__init__.py:236: RuntimeWarning: Mean of empty slice\n",
      "  'average_validation_loss': np.nanmean(train_valid_loss) if non_empty_train_indices else None}\n",
      "C:\\Users\\carlo\\GitHub\\ProjectBuffalo\\buffalo\\predictor\\util.py:224: UserWarning: dataset_info with the same primary keys already exists with id 1, will not store dataset information.\n",
      "  warn(f\"dataset_info with the same primary keys already exists with id {searched_id}, will not store dataset information.\")\n",
      "C:\\Users\\carlo\\GitHub\\ProjectBuffalo\\buffalo\\predictor\\util.py:397: UserWarning: model_info with the same primary keys already exists with id 21, will not store model information.\n",
      "  warn(f'model_info with the same primary keys already exists with id {searched_id}, will not store model information.')\n"
     ]
    },
    {
     "data": {
      "application/vnd.jupyter.widget-view+json": {
       "model_id": "482de3b3eda24fe1aefac4e1c299e35d",
       "version_major": 2,
       "version_minor": 0
      },
      "text/plain": [
       "Multi-fold validation:   0%|          | 0/1 [00:00<?, ?it/s]"
      ]
     },
     "metadata": {},
     "output_type": "display_data"
    },
    {
     "data": {
      "application/vnd.jupyter.widget-view+json": {
       "model_id": "6910ee110c7846518f1ad6e532624d67",
       "version_major": 2,
       "version_minor": 0
      },
      "text/plain": [
       "Epoch:   0%|          | 0/60 [00:00<?, ?it/s]"
      ]
     },
     "metadata": {},
     "output_type": "display_data"
    },
    {
     "name": "stdout",
     "output_type": "stream",
     "text": [
      "Averaged validation loss: nan. Test loss: 1985.0843827604424.\n"
     ]
    },
    {
     "name": "stderr",
     "output_type": "stream",
     "text": [
      "C:\\Users\\carlo\\GitHub\\ProjectBuffalo\\buffalo\\predictor\\__init__.py:223: RuntimeWarning: Mean of empty slice\n",
      "  print(f'Averaged validation loss: {np.nanmean(train_valid_loss)}. Test loss: {test_loss}.')\n",
      "C:\\Users\\carlo\\GitHub\\ProjectBuffalo\\buffalo\\predictor\\__init__.py:236: RuntimeWarning: Mean of empty slice\n",
      "  'average_validation_loss': np.nanmean(train_valid_loss) if non_empty_train_indices else None}\n",
      "C:\\Users\\carlo\\GitHub\\ProjectBuffalo\\buffalo\\predictor\\util.py:224: UserWarning: dataset_info with the same primary keys already exists with id 1, will not store dataset information.\n",
      "  warn(f\"dataset_info with the same primary keys already exists with id {searched_id}, will not store dataset information.\")\n",
      "C:\\Users\\carlo\\GitHub\\ProjectBuffalo\\buffalo\\predictor\\util.py:397: UserWarning: model_info with the same primary keys already exists with id 22, will not store model information.\n",
      "  warn(f'model_info with the same primary keys already exists with id {searched_id}, will not store model information.')\n"
     ]
    },
    {
     "data": {
      "application/vnd.jupyter.widget-view+json": {
       "model_id": "a517f02d80ef4b6eb5216845e37f6e34",
       "version_major": 2,
       "version_minor": 0
      },
      "text/plain": [
       "Multi-fold validation:   0%|          | 0/1 [00:00<?, ?it/s]"
      ]
     },
     "metadata": {},
     "output_type": "display_data"
    },
    {
     "data": {
      "application/vnd.jupyter.widget-view+json": {
       "model_id": "8e9e0fe704ee4026980a991bff6c3076",
       "version_major": 2,
       "version_minor": 0
      },
      "text/plain": [
       "Epoch:   0%|          | 0/30 [00:00<?, ?it/s]"
      ]
     },
     "metadata": {},
     "output_type": "display_data"
    },
    {
     "name": "stdout",
     "output_type": "stream",
     "text": [
      "Averaged validation loss: nan. Test loss: 2828.2109536475045.\n"
     ]
    },
    {
     "name": "stderr",
     "output_type": "stream",
     "text": [
      "C:\\Users\\carlo\\GitHub\\ProjectBuffalo\\buffalo\\predictor\\__init__.py:223: RuntimeWarning: Mean of empty slice\n",
      "  print(f'Averaged validation loss: {np.nanmean(train_valid_loss)}. Test loss: {test_loss}.')\n",
      "C:\\Users\\carlo\\GitHub\\ProjectBuffalo\\buffalo\\predictor\\__init__.py:236: RuntimeWarning: Mean of empty slice\n",
      "  'average_validation_loss': np.nanmean(train_valid_loss) if non_empty_train_indices else None}\n",
      "C:\\Users\\carlo\\GitHub\\ProjectBuffalo\\buffalo\\predictor\\util.py:224: UserWarning: dataset_info with the same primary keys already exists with id 1, will not store dataset information.\n",
      "  warn(f\"dataset_info with the same primary keys already exists with id {searched_id}, will not store dataset information.\")\n"
     ]
    },
    {
     "data": {
      "application/vnd.jupyter.widget-view+json": {
       "model_id": "502e8bd9bdf64ec1a8ff141a003bdffc",
       "version_major": 2,
       "version_minor": 0
      },
      "text/plain": [
       "Multi-fold validation:   0%|          | 0/1 [00:00<?, ?it/s]"
      ]
     },
     "metadata": {},
     "output_type": "display_data"
    },
    {
     "data": {
      "application/vnd.jupyter.widget-view+json": {
       "model_id": "c429493d7967499faedb6477f73cc287",
       "version_major": 2,
       "version_minor": 0
      },
      "text/plain": [
       "Epoch:   0%|          | 0/30 [00:00<?, ?it/s]"
      ]
     },
     "metadata": {},
     "output_type": "display_data"
    },
    {
     "name": "stdout",
     "output_type": "stream",
     "text": [
      "Averaged validation loss: nan. Test loss: 2976.657945728961.\n"
     ]
    },
    {
     "name": "stderr",
     "output_type": "stream",
     "text": [
      "C:\\Users\\carlo\\GitHub\\ProjectBuffalo\\buffalo\\predictor\\__init__.py:223: RuntimeWarning: Mean of empty slice\n",
      "  print(f'Averaged validation loss: {np.nanmean(train_valid_loss)}. Test loss: {test_loss}.')\n",
      "C:\\Users\\carlo\\GitHub\\ProjectBuffalo\\buffalo\\predictor\\__init__.py:236: RuntimeWarning: Mean of empty slice\n",
      "  'average_validation_loss': np.nanmean(train_valid_loss) if non_empty_train_indices else None}\n",
      "C:\\Users\\carlo\\GitHub\\ProjectBuffalo\\buffalo\\predictor\\util.py:224: UserWarning: dataset_info with the same primary keys already exists with id 1, will not store dataset information.\n",
      "  warn(f\"dataset_info with the same primary keys already exists with id {searched_id}, will not store dataset information.\")\n"
     ]
    },
    {
     "data": {
      "application/vnd.jupyter.widget-view+json": {
       "model_id": "55ed3382a9df4543bc74e3ec627a50d2",
       "version_major": 2,
       "version_minor": 0
      },
      "text/plain": [
       "Multi-fold validation:   0%|          | 0/1 [00:00<?, ?it/s]"
      ]
     },
     "metadata": {},
     "output_type": "display_data"
    },
    {
     "data": {
      "application/vnd.jupyter.widget-view+json": {
       "model_id": "143019de71d94cedb408c997d286e2f9",
       "version_major": 2,
       "version_minor": 0
      },
      "text/plain": [
       "Epoch:   0%|          | 0/60 [00:00<?, ?it/s]"
      ]
     },
     "metadata": {},
     "output_type": "display_data"
    },
    {
     "name": "stdout",
     "output_type": "stream",
     "text": [
      "Averaged validation loss: nan. Test loss: 3045.2734358129474.\n"
     ]
    },
    {
     "name": "stderr",
     "output_type": "stream",
     "text": [
      "C:\\Users\\carlo\\GitHub\\ProjectBuffalo\\buffalo\\predictor\\__init__.py:223: RuntimeWarning: Mean of empty slice\n",
      "  print(f'Averaged validation loss: {np.nanmean(train_valid_loss)}. Test loss: {test_loss}.')\n",
      "C:\\Users\\carlo\\GitHub\\ProjectBuffalo\\buffalo\\predictor\\__init__.py:236: RuntimeWarning: Mean of empty slice\n",
      "  'average_validation_loss': np.nanmean(train_valid_loss) if non_empty_train_indices else None}\n",
      "C:\\Users\\carlo\\GitHub\\ProjectBuffalo\\buffalo\\predictor\\util.py:224: UserWarning: dataset_info with the same primary keys already exists with id 1, will not store dataset information.\n",
      "  warn(f\"dataset_info with the same primary keys already exists with id {searched_id}, will not store dataset information.\")\n",
      "C:\\Users\\carlo\\GitHub\\ProjectBuffalo\\buffalo\\predictor\\util.py:397: UserWarning: model_info with the same primary keys already exists with id 23, will not store model information.\n",
      "  warn(f'model_info with the same primary keys already exists with id {searched_id}, will not store model information.')\n"
     ]
    },
    {
     "data": {
      "application/vnd.jupyter.widget-view+json": {
       "model_id": "6ccbac9913f346aca7d873cd9968802a",
       "version_major": 2,
       "version_minor": 0
      },
      "text/plain": [
       "Multi-fold validation:   0%|          | 0/1 [00:00<?, ?it/s]"
      ]
     },
     "metadata": {},
     "output_type": "display_data"
    },
    {
     "data": {
      "application/vnd.jupyter.widget-view+json": {
       "model_id": "4d97a507ec4c4ca8a3c459859186b67b",
       "version_major": 2,
       "version_minor": 0
      },
      "text/plain": [
       "Epoch:   0%|          | 0/60 [00:00<?, ?it/s]"
      ]
     },
     "metadata": {},
     "output_type": "display_data"
    },
    {
     "name": "stdout",
     "output_type": "stream",
     "text": [
      "Averaged validation loss: nan. Test loss: 3100.101777478714.\n"
     ]
    },
    {
     "name": "stderr",
     "output_type": "stream",
     "text": [
      "C:\\Users\\carlo\\GitHub\\ProjectBuffalo\\buffalo\\predictor\\__init__.py:223: RuntimeWarning: Mean of empty slice\n",
      "  print(f'Averaged validation loss: {np.nanmean(train_valid_loss)}. Test loss: {test_loss}.')\n",
      "C:\\Users\\carlo\\GitHub\\ProjectBuffalo\\buffalo\\predictor\\__init__.py:236: RuntimeWarning: Mean of empty slice\n",
      "  'average_validation_loss': np.nanmean(train_valid_loss) if non_empty_train_indices else None}\n",
      "C:\\Users\\carlo\\GitHub\\ProjectBuffalo\\buffalo\\predictor\\util.py:224: UserWarning: dataset_info with the same primary keys already exists with id 1, will not store dataset information.\n",
      "  warn(f\"dataset_info with the same primary keys already exists with id {searched_id}, will not store dataset information.\")\n",
      "C:\\Users\\carlo\\GitHub\\ProjectBuffalo\\buffalo\\predictor\\util.py:397: UserWarning: model_info with the same primary keys already exists with id 24, will not store model information.\n",
      "  warn(f'model_info with the same primary keys already exists with id {searched_id}, will not store model information.')\n"
     ]
    },
    {
     "data": {
      "application/vnd.jupyter.widget-view+json": {
       "model_id": "412318c73eb24729a491cced7a32efef",
       "version_major": 2,
       "version_minor": 0
      },
      "text/plain": [
       "Multi-fold validation:   0%|          | 0/1 [00:00<?, ?it/s]"
      ]
     },
     "metadata": {},
     "output_type": "display_data"
    },
    {
     "data": {
      "application/vnd.jupyter.widget-view+json": {
       "model_id": "e41f14fb9bd240eeb0688cb4be86d34c",
       "version_major": 2,
       "version_minor": 0
      },
      "text/plain": [
       "Epoch:   0%|          | 0/30 [00:00<?, ?it/s]"
      ]
     },
     "metadata": {},
     "output_type": "display_data"
    },
    {
     "name": "stdout",
     "output_type": "stream",
     "text": [
      "Averaged validation loss: nan. Test loss: 2253.624456287019.\n"
     ]
    },
    {
     "name": "stderr",
     "output_type": "stream",
     "text": [
      "C:\\Users\\carlo\\GitHub\\ProjectBuffalo\\buffalo\\predictor\\__init__.py:223: RuntimeWarning: Mean of empty slice\n",
      "  print(f'Averaged validation loss: {np.nanmean(train_valid_loss)}. Test loss: {test_loss}.')\n",
      "C:\\Users\\carlo\\GitHub\\ProjectBuffalo\\buffalo\\predictor\\__init__.py:236: RuntimeWarning: Mean of empty slice\n",
      "  'average_validation_loss': np.nanmean(train_valid_loss) if non_empty_train_indices else None}\n",
      "C:\\Users\\carlo\\GitHub\\ProjectBuffalo\\buffalo\\predictor\\util.py:224: UserWarning: dataset_info with the same primary keys already exists with id 1, will not store dataset information.\n",
      "  warn(f\"dataset_info with the same primary keys already exists with id {searched_id}, will not store dataset information.\")\n"
     ]
    },
    {
     "data": {
      "application/vnd.jupyter.widget-view+json": {
       "model_id": "c48c7d068d9d487c8e8437440effff40",
       "version_major": 2,
       "version_minor": 0
      },
      "text/plain": [
       "Multi-fold validation:   0%|          | 0/1 [00:00<?, ?it/s]"
      ]
     },
     "metadata": {},
     "output_type": "display_data"
    },
    {
     "data": {
      "application/vnd.jupyter.widget-view+json": {
       "model_id": "04cdb9253de04472bb491a3a5ed5cd3a",
       "version_major": 2,
       "version_minor": 0
      },
      "text/plain": [
       "Epoch:   0%|          | 0/30 [00:00<?, ?it/s]"
      ]
     },
     "metadata": {},
     "output_type": "display_data"
    },
    {
     "name": "stdout",
     "output_type": "stream",
     "text": [
      "Averaged validation loss: nan. Test loss: 1493.4998362353854.\n"
     ]
    },
    {
     "name": "stderr",
     "output_type": "stream",
     "text": [
      "C:\\Users\\carlo\\GitHub\\ProjectBuffalo\\buffalo\\predictor\\__init__.py:223: RuntimeWarning: Mean of empty slice\n",
      "  print(f'Averaged validation loss: {np.nanmean(train_valid_loss)}. Test loss: {test_loss}.')\n",
      "C:\\Users\\carlo\\GitHub\\ProjectBuffalo\\buffalo\\predictor\\__init__.py:236: RuntimeWarning: Mean of empty slice\n",
      "  'average_validation_loss': np.nanmean(train_valid_loss) if non_empty_train_indices else None}\n",
      "C:\\Users\\carlo\\GitHub\\ProjectBuffalo\\buffalo\\predictor\\util.py:224: UserWarning: dataset_info with the same primary keys already exists with id 1, will not store dataset information.\n",
      "  warn(f\"dataset_info with the same primary keys already exists with id {searched_id}, will not store dataset information.\")\n"
     ]
    },
    {
     "data": {
      "application/vnd.jupyter.widget-view+json": {
       "model_id": "2fde3970456f4fd8aafeb617ed0ba1cf",
       "version_major": 2,
       "version_minor": 0
      },
      "text/plain": [
       "Multi-fold validation:   0%|          | 0/1 [00:00<?, ?it/s]"
      ]
     },
     "metadata": {},
     "output_type": "display_data"
    },
    {
     "data": {
      "application/vnd.jupyter.widget-view+json": {
       "model_id": "7190680085b0405f8c58a4af98dfe7fd",
       "version_major": 2,
       "version_minor": 0
      },
      "text/plain": [
       "Epoch:   0%|          | 0/60 [00:00<?, ?it/s]"
      ]
     },
     "metadata": {},
     "output_type": "display_data"
    },
    {
     "name": "stdout",
     "output_type": "stream",
     "text": [
      "Averaged validation loss: nan. Test loss: 2071.3408292297786.\n"
     ]
    },
    {
     "name": "stderr",
     "output_type": "stream",
     "text": [
      "C:\\Users\\carlo\\GitHub\\ProjectBuffalo\\buffalo\\predictor\\__init__.py:223: RuntimeWarning: Mean of empty slice\n",
      "  print(f'Averaged validation loss: {np.nanmean(train_valid_loss)}. Test loss: {test_loss}.')\n",
      "C:\\Users\\carlo\\GitHub\\ProjectBuffalo\\buffalo\\predictor\\__init__.py:236: RuntimeWarning: Mean of empty slice\n",
      "  'average_validation_loss': np.nanmean(train_valid_loss) if non_empty_train_indices else None}\n",
      "C:\\Users\\carlo\\GitHub\\ProjectBuffalo\\buffalo\\predictor\\util.py:224: UserWarning: dataset_info with the same primary keys already exists with id 1, will not store dataset information.\n",
      "  warn(f\"dataset_info with the same primary keys already exists with id {searched_id}, will not store dataset information.\")\n",
      "C:\\Users\\carlo\\GitHub\\ProjectBuffalo\\buffalo\\predictor\\util.py:397: UserWarning: model_info with the same primary keys already exists with id 25, will not store model information.\n",
      "  warn(f'model_info with the same primary keys already exists with id {searched_id}, will not store model information.')\n"
     ]
    },
    {
     "data": {
      "application/vnd.jupyter.widget-view+json": {
       "model_id": "204f49042ff74579bdf95900bb7410c5",
       "version_major": 2,
       "version_minor": 0
      },
      "text/plain": [
       "Multi-fold validation:   0%|          | 0/1 [00:00<?, ?it/s]"
      ]
     },
     "metadata": {},
     "output_type": "display_data"
    },
    {
     "data": {
      "application/vnd.jupyter.widget-view+json": {
       "model_id": "37619c61948a41fbb3e17225b133426d",
       "version_major": 2,
       "version_minor": 0
      },
      "text/plain": [
       "Epoch:   0%|          | 0/60 [00:00<?, ?it/s]"
      ]
     },
     "metadata": {},
     "output_type": "display_data"
    },
    {
     "name": "stdout",
     "output_type": "stream",
     "text": [
      "Averaged validation loss: nan. Test loss: 2774.2957126206966.\n"
     ]
    },
    {
     "name": "stderr",
     "output_type": "stream",
     "text": [
      "C:\\Users\\carlo\\GitHub\\ProjectBuffalo\\buffalo\\predictor\\__init__.py:223: RuntimeWarning: Mean of empty slice\n",
      "  print(f'Averaged validation loss: {np.nanmean(train_valid_loss)}. Test loss: {test_loss}.')\n",
      "C:\\Users\\carlo\\GitHub\\ProjectBuffalo\\buffalo\\predictor\\__init__.py:236: RuntimeWarning: Mean of empty slice\n",
      "  'average_validation_loss': np.nanmean(train_valid_loss) if non_empty_train_indices else None}\n",
      "C:\\Users\\carlo\\GitHub\\ProjectBuffalo\\buffalo\\predictor\\util.py:224: UserWarning: dataset_info with the same primary keys already exists with id 1, will not store dataset information.\n",
      "  warn(f\"dataset_info with the same primary keys already exists with id {searched_id}, will not store dataset information.\")\n",
      "C:\\Users\\carlo\\GitHub\\ProjectBuffalo\\buffalo\\predictor\\util.py:397: UserWarning: model_info with the same primary keys already exists with id 26, will not store model information.\n",
      "  warn(f'model_info with the same primary keys already exists with id {searched_id}, will not store model information.')\n"
     ]
    },
    {
     "data": {
      "application/vnd.jupyter.widget-view+json": {
       "model_id": "b83437166d5341c8bd14ea64530e2f71",
       "version_major": 2,
       "version_minor": 0
      },
      "text/plain": [
       "Multi-fold validation:   0%|          | 0/1 [00:00<?, ?it/s]"
      ]
     },
     "metadata": {},
     "output_type": "display_data"
    },
    {
     "data": {
      "application/vnd.jupyter.widget-view+json": {
       "model_id": "4336b897daa54b9396a1d14cc5b9d4fa",
       "version_major": 2,
       "version_minor": 0
      },
      "text/plain": [
       "Epoch:   0%|          | 0/30 [00:00<?, ?it/s]"
      ]
     },
     "metadata": {},
     "output_type": "display_data"
    },
    {
     "name": "stdout",
     "output_type": "stream",
     "text": [
      "Averaged validation loss: nan. Test loss: 2264.05688524764.\n"
     ]
    },
    {
     "name": "stderr",
     "output_type": "stream",
     "text": [
      "C:\\Users\\carlo\\GitHub\\ProjectBuffalo\\buffalo\\predictor\\__init__.py:223: RuntimeWarning: Mean of empty slice\n",
      "  print(f'Averaged validation loss: {np.nanmean(train_valid_loss)}. Test loss: {test_loss}.')\n",
      "C:\\Users\\carlo\\GitHub\\ProjectBuffalo\\buffalo\\predictor\\__init__.py:236: RuntimeWarning: Mean of empty slice\n",
      "  'average_validation_loss': np.nanmean(train_valid_loss) if non_empty_train_indices else None}\n",
      "C:\\Users\\carlo\\GitHub\\ProjectBuffalo\\buffalo\\predictor\\util.py:224: UserWarning: dataset_info with the same primary keys already exists with id 1, will not store dataset information.\n",
      "  warn(f\"dataset_info with the same primary keys already exists with id {searched_id}, will not store dataset information.\")\n"
     ]
    },
    {
     "data": {
      "application/vnd.jupyter.widget-view+json": {
       "model_id": "becbeaf61b6544a19d317a2e2e4a1726",
       "version_major": 2,
       "version_minor": 0
      },
      "text/plain": [
       "Multi-fold validation:   0%|          | 0/1 [00:00<?, ?it/s]"
      ]
     },
     "metadata": {},
     "output_type": "display_data"
    },
    {
     "data": {
      "application/vnd.jupyter.widget-view+json": {
       "model_id": "83b4b46556cd4ab5ac2fbbd23ca5240b",
       "version_major": 2,
       "version_minor": 0
      },
      "text/plain": [
       "Epoch:   0%|          | 0/30 [00:00<?, ?it/s]"
      ]
     },
     "metadata": {},
     "output_type": "display_data"
    },
    {
     "name": "stdout",
     "output_type": "stream",
     "text": [
      "Averaged validation loss: nan. Test loss: 1503.8725853455855.\n"
     ]
    },
    {
     "name": "stderr",
     "output_type": "stream",
     "text": [
      "C:\\Users\\carlo\\GitHub\\ProjectBuffalo\\buffalo\\predictor\\__init__.py:223: RuntimeWarning: Mean of empty slice\n",
      "  print(f'Averaged validation loss: {np.nanmean(train_valid_loss)}. Test loss: {test_loss}.')\n",
      "C:\\Users\\carlo\\GitHub\\ProjectBuffalo\\buffalo\\predictor\\__init__.py:236: RuntimeWarning: Mean of empty slice\n",
      "  'average_validation_loss': np.nanmean(train_valid_loss) if non_empty_train_indices else None}\n",
      "C:\\Users\\carlo\\GitHub\\ProjectBuffalo\\buffalo\\predictor\\util.py:224: UserWarning: dataset_info with the same primary keys already exists with id 1, will not store dataset information.\n",
      "  warn(f\"dataset_info with the same primary keys already exists with id {searched_id}, will not store dataset information.\")\n"
     ]
    },
    {
     "data": {
      "application/vnd.jupyter.widget-view+json": {
       "model_id": "09ff76deb163414eb03f2650a88e93a1",
       "version_major": 2,
       "version_minor": 0
      },
      "text/plain": [
       "Multi-fold validation:   0%|          | 0/1 [00:00<?, ?it/s]"
      ]
     },
     "metadata": {},
     "output_type": "display_data"
    },
    {
     "data": {
      "application/vnd.jupyter.widget-view+json": {
       "model_id": "f74a493da64744c78593030743f210e8",
       "version_major": 2,
       "version_minor": 0
      },
      "text/plain": [
       "Epoch:   0%|          | 0/60 [00:00<?, ?it/s]"
      ]
     },
     "metadata": {},
     "output_type": "display_data"
    },
    {
     "name": "stdout",
     "output_type": "stream",
     "text": [
      "Averaged validation loss: nan. Test loss: 2359.5954442829157.\n"
     ]
    },
    {
     "name": "stderr",
     "output_type": "stream",
     "text": [
      "C:\\Users\\carlo\\GitHub\\ProjectBuffalo\\buffalo\\predictor\\__init__.py:223: RuntimeWarning: Mean of empty slice\n",
      "  print(f'Averaged validation loss: {np.nanmean(train_valid_loss)}. Test loss: {test_loss}.')\n",
      "C:\\Users\\carlo\\GitHub\\ProjectBuffalo\\buffalo\\predictor\\__init__.py:236: RuntimeWarning: Mean of empty slice\n",
      "  'average_validation_loss': np.nanmean(train_valid_loss) if non_empty_train_indices else None}\n",
      "C:\\Users\\carlo\\GitHub\\ProjectBuffalo\\buffalo\\predictor\\util.py:224: UserWarning: dataset_info with the same primary keys already exists with id 1, will not store dataset information.\n",
      "  warn(f\"dataset_info with the same primary keys already exists with id {searched_id}, will not store dataset information.\")\n",
      "C:\\Users\\carlo\\GitHub\\ProjectBuffalo\\buffalo\\predictor\\util.py:397: UserWarning: model_info with the same primary keys already exists with id 27, will not store model information.\n",
      "  warn(f'model_info with the same primary keys already exists with id {searched_id}, will not store model information.')\n"
     ]
    },
    {
     "data": {
      "application/vnd.jupyter.widget-view+json": {
       "model_id": "f41026f413624ee5b3c50a8f4683b0f3",
       "version_major": 2,
       "version_minor": 0
      },
      "text/plain": [
       "Multi-fold validation:   0%|          | 0/1 [00:00<?, ?it/s]"
      ]
     },
     "metadata": {},
     "output_type": "display_data"
    },
    {
     "data": {
      "application/vnd.jupyter.widget-view+json": {
       "model_id": "ade29d3331f54cc49f619362bd42f569",
       "version_major": 2,
       "version_minor": 0
      },
      "text/plain": [
       "Epoch:   0%|          | 0/60 [00:00<?, ?it/s]"
      ]
     },
     "metadata": {},
     "output_type": "display_data"
    },
    {
     "name": "stdout",
     "output_type": "stream",
     "text": [
      "Averaged validation loss: nan. Test loss: 2688.806957067883.\n"
     ]
    },
    {
     "name": "stderr",
     "output_type": "stream",
     "text": [
      "C:\\Users\\carlo\\GitHub\\ProjectBuffalo\\buffalo\\predictor\\__init__.py:223: RuntimeWarning: Mean of empty slice\n",
      "  print(f'Averaged validation loss: {np.nanmean(train_valid_loss)}. Test loss: {test_loss}.')\n",
      "C:\\Users\\carlo\\GitHub\\ProjectBuffalo\\buffalo\\predictor\\__init__.py:236: RuntimeWarning: Mean of empty slice\n",
      "  'average_validation_loss': np.nanmean(train_valid_loss) if non_empty_train_indices else None}\n",
      "C:\\Users\\carlo\\GitHub\\ProjectBuffalo\\buffalo\\predictor\\util.py:224: UserWarning: dataset_info with the same primary keys already exists with id 1, will not store dataset information.\n",
      "  warn(f\"dataset_info with the same primary keys already exists with id {searched_id}, will not store dataset information.\")\n",
      "C:\\Users\\carlo\\GitHub\\ProjectBuffalo\\buffalo\\predictor\\util.py:397: UserWarning: model_info with the same primary keys already exists with id 28, will not store model information.\n",
      "  warn(f'model_info with the same primary keys already exists with id {searched_id}, will not store model information.')\n"
     ]
    },
    {
     "data": {
      "application/vnd.jupyter.widget-view+json": {
       "model_id": "42b56c7b9c9544209db599e36198d667",
       "version_major": 2,
       "version_minor": 0
      },
      "text/plain": [
       "Multi-fold validation:   0%|          | 0/1 [00:00<?, ?it/s]"
      ]
     },
     "metadata": {},
     "output_type": "display_data"
    },
    {
     "data": {
      "application/vnd.jupyter.widget-view+json": {
       "model_id": "77ddb4ac6a794470869fa4c8fedd2121",
       "version_major": 2,
       "version_minor": 0
      },
      "text/plain": [
       "Epoch:   0%|          | 0/30 [00:00<?, ?it/s]"
      ]
     },
     "metadata": {},
     "output_type": "display_data"
    },
    {
     "name": "stdout",
     "output_type": "stream",
     "text": [
      "Averaged validation loss: nan. Test loss: 1004.3464347033487.\n"
     ]
    },
    {
     "name": "stderr",
     "output_type": "stream",
     "text": [
      "C:\\Users\\carlo\\GitHub\\ProjectBuffalo\\buffalo\\predictor\\__init__.py:223: RuntimeWarning: Mean of empty slice\n",
      "  print(f'Averaged validation loss: {np.nanmean(train_valid_loss)}. Test loss: {test_loss}.')\n",
      "C:\\Users\\carlo\\GitHub\\ProjectBuffalo\\buffalo\\predictor\\__init__.py:236: RuntimeWarning: Mean of empty slice\n",
      "  'average_validation_loss': np.nanmean(train_valid_loss) if non_empty_train_indices else None}\n",
      "C:\\Users\\carlo\\GitHub\\ProjectBuffalo\\buffalo\\predictor\\util.py:224: UserWarning: dataset_info with the same primary keys already exists with id 1, will not store dataset information.\n",
      "  warn(f\"dataset_info with the same primary keys already exists with id {searched_id}, will not store dataset information.\")\n"
     ]
    },
    {
     "data": {
      "application/vnd.jupyter.widget-view+json": {
       "model_id": "821c28973fb4455d8446f3381b2a36bc",
       "version_major": 2,
       "version_minor": 0
      },
      "text/plain": [
       "Multi-fold validation:   0%|          | 0/1 [00:00<?, ?it/s]"
      ]
     },
     "metadata": {},
     "output_type": "display_data"
    },
    {
     "data": {
      "application/vnd.jupyter.widget-view+json": {
       "model_id": "7e655b6819144f9daa523ab4bfc1b061",
       "version_major": 2,
       "version_minor": 0
      },
      "text/plain": [
       "Epoch:   0%|          | 0/30 [00:00<?, ?it/s]"
      ]
     },
     "metadata": {},
     "output_type": "display_data"
    },
    {
     "name": "stdout",
     "output_type": "stream",
     "text": [
      "Averaged validation loss: nan. Test loss: 190.59742045990924.\n"
     ]
    },
    {
     "name": "stderr",
     "output_type": "stream",
     "text": [
      "C:\\Users\\carlo\\GitHub\\ProjectBuffalo\\buffalo\\predictor\\__init__.py:223: RuntimeWarning: Mean of empty slice\n",
      "  print(f'Averaged validation loss: {np.nanmean(train_valid_loss)}. Test loss: {test_loss}.')\n",
      "C:\\Users\\carlo\\GitHub\\ProjectBuffalo\\buffalo\\predictor\\__init__.py:236: RuntimeWarning: Mean of empty slice\n",
      "  'average_validation_loss': np.nanmean(train_valid_loss) if non_empty_train_indices else None}\n",
      "C:\\Users\\carlo\\GitHub\\ProjectBuffalo\\buffalo\\predictor\\util.py:224: UserWarning: dataset_info with the same primary keys already exists with id 1, will not store dataset information.\n",
      "  warn(f\"dataset_info with the same primary keys already exists with id {searched_id}, will not store dataset information.\")\n"
     ]
    },
    {
     "data": {
      "application/vnd.jupyter.widget-view+json": {
       "model_id": "7d6403979e8a4dcbb8daa7bda1305c28",
       "version_major": 2,
       "version_minor": 0
      },
      "text/plain": [
       "Multi-fold validation:   0%|          | 0/1 [00:00<?, ?it/s]"
      ]
     },
     "metadata": {},
     "output_type": "display_data"
    },
    {
     "data": {
      "application/vnd.jupyter.widget-view+json": {
       "model_id": "c8beb044f31a4f42bcf0ccb5496bb124",
       "version_major": 2,
       "version_minor": 0
      },
      "text/plain": [
       "Epoch:   0%|          | 0/60 [00:00<?, ?it/s]"
      ]
     },
     "metadata": {},
     "output_type": "display_data"
    },
    {
     "name": "stdout",
     "output_type": "stream",
     "text": [
      "Averaged validation loss: nan. Test loss: 2308.703847781574.\n"
     ]
    },
    {
     "name": "stderr",
     "output_type": "stream",
     "text": [
      "C:\\Users\\carlo\\GitHub\\ProjectBuffalo\\buffalo\\predictor\\__init__.py:223: RuntimeWarning: Mean of empty slice\n",
      "  print(f'Averaged validation loss: {np.nanmean(train_valid_loss)}. Test loss: {test_loss}.')\n",
      "C:\\Users\\carlo\\GitHub\\ProjectBuffalo\\buffalo\\predictor\\__init__.py:236: RuntimeWarning: Mean of empty slice\n",
      "  'average_validation_loss': np.nanmean(train_valid_loss) if non_empty_train_indices else None}\n",
      "C:\\Users\\carlo\\GitHub\\ProjectBuffalo\\buffalo\\predictor\\util.py:224: UserWarning: dataset_info with the same primary keys already exists with id 1, will not store dataset information.\n",
      "  warn(f\"dataset_info with the same primary keys already exists with id {searched_id}, will not store dataset information.\")\n",
      "C:\\Users\\carlo\\GitHub\\ProjectBuffalo\\buffalo\\predictor\\util.py:397: UserWarning: model_info with the same primary keys already exists with id 29, will not store model information.\n",
      "  warn(f'model_info with the same primary keys already exists with id {searched_id}, will not store model information.')\n"
     ]
    },
    {
     "data": {
      "application/vnd.jupyter.widget-view+json": {
       "model_id": "066bdbd3af1141248f8926c27abdb13d",
       "version_major": 2,
       "version_minor": 0
      },
      "text/plain": [
       "Multi-fold validation:   0%|          | 0/1 [00:00<?, ?it/s]"
      ]
     },
     "metadata": {},
     "output_type": "display_data"
    },
    {
     "data": {
      "application/vnd.jupyter.widget-view+json": {
       "model_id": "a913070c895742f5be0795d592b90e56",
       "version_major": 2,
       "version_minor": 0
      },
      "text/plain": [
       "Epoch:   0%|          | 0/60 [00:00<?, ?it/s]"
      ]
     },
     "metadata": {},
     "output_type": "display_data"
    },
    {
     "name": "stdout",
     "output_type": "stream",
     "text": [
      "Averaged validation loss: nan. Test loss: 1479.2076155727495.\n"
     ]
    },
    {
     "name": "stderr",
     "output_type": "stream",
     "text": [
      "C:\\Users\\carlo\\GitHub\\ProjectBuffalo\\buffalo\\predictor\\__init__.py:223: RuntimeWarning: Mean of empty slice\n",
      "  print(f'Averaged validation loss: {np.nanmean(train_valid_loss)}. Test loss: {test_loss}.')\n",
      "C:\\Users\\carlo\\GitHub\\ProjectBuffalo\\buffalo\\predictor\\__init__.py:236: RuntimeWarning: Mean of empty slice\n",
      "  'average_validation_loss': np.nanmean(train_valid_loss) if non_empty_train_indices else None}\n",
      "C:\\Users\\carlo\\GitHub\\ProjectBuffalo\\buffalo\\predictor\\util.py:224: UserWarning: dataset_info with the same primary keys already exists with id 1, will not store dataset information.\n",
      "  warn(f\"dataset_info with the same primary keys already exists with id {searched_id}, will not store dataset information.\")\n",
      "C:\\Users\\carlo\\GitHub\\ProjectBuffalo\\buffalo\\predictor\\util.py:397: UserWarning: model_info with the same primary keys already exists with id 30, will not store model information.\n",
      "  warn(f'model_info with the same primary keys already exists with id {searched_id}, will not store model information.')\n"
     ]
    },
    {
     "data": {
      "application/vnd.jupyter.widget-view+json": {
       "model_id": "aa7b0b776aa24952a7dc412be8df25f2",
       "version_major": 2,
       "version_minor": 0
      },
      "text/plain": [
       "Multi-fold validation:   0%|          | 0/1 [00:00<?, ?it/s]"
      ]
     },
     "metadata": {},
     "output_type": "display_data"
    },
    {
     "data": {
      "application/vnd.jupyter.widget-view+json": {
       "model_id": "e03a3aa555154163b8b0b5d2b92d19a1",
       "version_major": 2,
       "version_minor": 0
      },
      "text/plain": [
       "Epoch:   0%|          | 0/30 [00:00<?, ?it/s]"
      ]
     },
     "metadata": {},
     "output_type": "display_data"
    },
    {
     "name": "stdout",
     "output_type": "stream",
     "text": [
      "Averaged validation loss: nan. Test loss: 1086.2507014524078.\n"
     ]
    },
    {
     "name": "stderr",
     "output_type": "stream",
     "text": [
      "C:\\Users\\carlo\\GitHub\\ProjectBuffalo\\buffalo\\predictor\\__init__.py:223: RuntimeWarning: Mean of empty slice\n",
      "  print(f'Averaged validation loss: {np.nanmean(train_valid_loss)}. Test loss: {test_loss}.')\n",
      "C:\\Users\\carlo\\GitHub\\ProjectBuffalo\\buffalo\\predictor\\__init__.py:236: RuntimeWarning: Mean of empty slice\n",
      "  'average_validation_loss': np.nanmean(train_valid_loss) if non_empty_train_indices else None}\n",
      "C:\\Users\\carlo\\GitHub\\ProjectBuffalo\\buffalo\\predictor\\util.py:224: UserWarning: dataset_info with the same primary keys already exists with id 1, will not store dataset information.\n",
      "  warn(f\"dataset_info with the same primary keys already exists with id {searched_id}, will not store dataset information.\")\n"
     ]
    },
    {
     "data": {
      "application/vnd.jupyter.widget-view+json": {
       "model_id": "b98f9ae131bd48f89e8c883451c98a8c",
       "version_major": 2,
       "version_minor": 0
      },
      "text/plain": [
       "Multi-fold validation:   0%|          | 0/1 [00:00<?, ?it/s]"
      ]
     },
     "metadata": {},
     "output_type": "display_data"
    },
    {
     "data": {
      "application/vnd.jupyter.widget-view+json": {
       "model_id": "de235310efd5462b8661b69403e3160c",
       "version_major": 2,
       "version_minor": 0
      },
      "text/plain": [
       "Epoch:   0%|          | 0/30 [00:00<?, ?it/s]"
      ]
     },
     "metadata": {},
     "output_type": "display_data"
    },
    {
     "name": "stdout",
     "output_type": "stream",
     "text": [
      "Averaged validation loss: nan. Test loss: 192.48376419654838.\n"
     ]
    },
    {
     "name": "stderr",
     "output_type": "stream",
     "text": [
      "C:\\Users\\carlo\\GitHub\\ProjectBuffalo\\buffalo\\predictor\\__init__.py:223: RuntimeWarning: Mean of empty slice\n",
      "  print(f'Averaged validation loss: {np.nanmean(train_valid_loss)}. Test loss: {test_loss}.')\n",
      "C:\\Users\\carlo\\GitHub\\ProjectBuffalo\\buffalo\\predictor\\__init__.py:236: RuntimeWarning: Mean of empty slice\n",
      "  'average_validation_loss': np.nanmean(train_valid_loss) if non_empty_train_indices else None}\n",
      "C:\\Users\\carlo\\GitHub\\ProjectBuffalo\\buffalo\\predictor\\util.py:224: UserWarning: dataset_info with the same primary keys already exists with id 1, will not store dataset information.\n",
      "  warn(f\"dataset_info with the same primary keys already exists with id {searched_id}, will not store dataset information.\")\n"
     ]
    },
    {
     "data": {
      "application/vnd.jupyter.widget-view+json": {
       "model_id": "6c2c43e2ac7f4da89dd2de763424ab69",
       "version_major": 2,
       "version_minor": 0
      },
      "text/plain": [
       "Multi-fold validation:   0%|          | 0/1 [00:00<?, ?it/s]"
      ]
     },
     "metadata": {},
     "output_type": "display_data"
    },
    {
     "data": {
      "application/vnd.jupyter.widget-view+json": {
       "model_id": "fd7913203b8f4008b756c96e2ededd70",
       "version_major": 2,
       "version_minor": 0
      },
      "text/plain": [
       "Epoch:   0%|          | 0/60 [00:00<?, ?it/s]"
      ]
     },
     "metadata": {},
     "output_type": "display_data"
    },
    {
     "name": "stdout",
     "output_type": "stream",
     "text": [
      "Averaged validation loss: nan. Test loss: 2201.526955727881.\n"
     ]
    },
    {
     "name": "stderr",
     "output_type": "stream",
     "text": [
      "C:\\Users\\carlo\\GitHub\\ProjectBuffalo\\buffalo\\predictor\\__init__.py:223: RuntimeWarning: Mean of empty slice\n",
      "  print(f'Averaged validation loss: {np.nanmean(train_valid_loss)}. Test loss: {test_loss}.')\n",
      "C:\\Users\\carlo\\GitHub\\ProjectBuffalo\\buffalo\\predictor\\__init__.py:236: RuntimeWarning: Mean of empty slice\n",
      "  'average_validation_loss': np.nanmean(train_valid_loss) if non_empty_train_indices else None}\n",
      "C:\\Users\\carlo\\GitHub\\ProjectBuffalo\\buffalo\\predictor\\util.py:224: UserWarning: dataset_info with the same primary keys already exists with id 1, will not store dataset information.\n",
      "  warn(f\"dataset_info with the same primary keys already exists with id {searched_id}, will not store dataset information.\")\n",
      "C:\\Users\\carlo\\GitHub\\ProjectBuffalo\\buffalo\\predictor\\util.py:397: UserWarning: model_info with the same primary keys already exists with id 31, will not store model information.\n",
      "  warn(f'model_info with the same primary keys already exists with id {searched_id}, will not store model information.')\n"
     ]
    },
    {
     "data": {
      "application/vnd.jupyter.widget-view+json": {
       "model_id": "7883d0f71f3a4ec4b180eba62e2d8ba9",
       "version_major": 2,
       "version_minor": 0
      },
      "text/plain": [
       "Multi-fold validation:   0%|          | 0/1 [00:00<?, ?it/s]"
      ]
     },
     "metadata": {},
     "output_type": "display_data"
    },
    {
     "data": {
      "application/vnd.jupyter.widget-view+json": {
       "model_id": "dd2e73eef27f4a4d800a5cdaa11e4f2f",
       "version_major": 2,
       "version_minor": 0
      },
      "text/plain": [
       "Epoch:   0%|          | 0/60 [00:00<?, ?it/s]"
      ]
     },
     "metadata": {},
     "output_type": "display_data"
    },
    {
     "name": "stdout",
     "output_type": "stream",
     "text": [
      "Averaged validation loss: nan. Test loss: 1476.1504318372872.\n"
     ]
    },
    {
     "name": "stderr",
     "output_type": "stream",
     "text": [
      "C:\\Users\\carlo\\GitHub\\ProjectBuffalo\\buffalo\\predictor\\__init__.py:223: RuntimeWarning: Mean of empty slice\n",
      "  print(f'Averaged validation loss: {np.nanmean(train_valid_loss)}. Test loss: {test_loss}.')\n",
      "C:\\Users\\carlo\\GitHub\\ProjectBuffalo\\buffalo\\predictor\\__init__.py:236: RuntimeWarning: Mean of empty slice\n",
      "  'average_validation_loss': np.nanmean(train_valid_loss) if non_empty_train_indices else None}\n",
      "C:\\Users\\carlo\\GitHub\\ProjectBuffalo\\buffalo\\predictor\\util.py:224: UserWarning: dataset_info with the same primary keys already exists with id 1, will not store dataset information.\n",
      "  warn(f\"dataset_info with the same primary keys already exists with id {searched_id}, will not store dataset information.\")\n",
      "C:\\Users\\carlo\\GitHub\\ProjectBuffalo\\buffalo\\predictor\\util.py:397: UserWarning: model_info with the same primary keys already exists with id 32, will not store model information.\n",
      "  warn(f'model_info with the same primary keys already exists with id {searched_id}, will not store model information.')\n"
     ]
    },
    {
     "data": {
      "application/vnd.jupyter.widget-view+json": {
       "model_id": "a04d0a77e6ea473cab05a7a6dbe7c541",
       "version_major": 2,
       "version_minor": 0
      },
      "text/plain": [
       "Multi-fold validation:   0%|          | 0/1 [00:00<?, ?it/s]"
      ]
     },
     "metadata": {},
     "output_type": "display_data"
    },
    {
     "data": {
      "application/vnd.jupyter.widget-view+json": {
       "model_id": "6a7b5d9388a94b63836b6abfae2826ea",
       "version_major": 2,
       "version_minor": 0
      },
      "text/plain": [
       "Epoch:   0%|          | 0/30 [00:00<?, ?it/s]"
      ]
     },
     "metadata": {},
     "output_type": "display_data"
    },
    {
     "name": "stdout",
     "output_type": "stream",
     "text": [
      "Averaged validation loss: nan. Test loss: 2915.0810288996945.\n"
     ]
    },
    {
     "name": "stderr",
     "output_type": "stream",
     "text": [
      "C:\\Users\\carlo\\GitHub\\ProjectBuffalo\\buffalo\\predictor\\__init__.py:223: RuntimeWarning: Mean of empty slice\n",
      "  print(f'Averaged validation loss: {np.nanmean(train_valid_loss)}. Test loss: {test_loss}.')\n",
      "C:\\Users\\carlo\\GitHub\\ProjectBuffalo\\buffalo\\predictor\\__init__.py:236: RuntimeWarning: Mean of empty slice\n",
      "  'average_validation_loss': np.nanmean(train_valid_loss) if non_empty_train_indices else None}\n",
      "C:\\Users\\carlo\\GitHub\\ProjectBuffalo\\buffalo\\predictor\\util.py:224: UserWarning: dataset_info with the same primary keys already exists with id 1, will not store dataset information.\n",
      "  warn(f\"dataset_info with the same primary keys already exists with id {searched_id}, will not store dataset information.\")\n"
     ]
    },
    {
     "data": {
      "application/vnd.jupyter.widget-view+json": {
       "model_id": "c8ff6a4829934ea8a41de2556cbec843",
       "version_major": 2,
       "version_minor": 0
      },
      "text/plain": [
       "Multi-fold validation:   0%|          | 0/1 [00:00<?, ?it/s]"
      ]
     },
     "metadata": {},
     "output_type": "display_data"
    },
    {
     "data": {
      "application/vnd.jupyter.widget-view+json": {
       "model_id": "893b5203ccb24a2ea2ddbe6bd6c15c02",
       "version_major": 2,
       "version_minor": 0
      },
      "text/plain": [
       "Epoch:   0%|          | 0/30 [00:00<?, ?it/s]"
      ]
     },
     "metadata": {},
     "output_type": "display_data"
    },
    {
     "name": "stdout",
     "output_type": "stream",
     "text": [
      "Averaged validation loss: nan. Test loss: 2969.9071101558643.\n"
     ]
    },
    {
     "name": "stderr",
     "output_type": "stream",
     "text": [
      "C:\\Users\\carlo\\GitHub\\ProjectBuffalo\\buffalo\\predictor\\__init__.py:223: RuntimeWarning: Mean of empty slice\n",
      "  print(f'Averaged validation loss: {np.nanmean(train_valid_loss)}. Test loss: {test_loss}.')\n",
      "C:\\Users\\carlo\\GitHub\\ProjectBuffalo\\buffalo\\predictor\\__init__.py:236: RuntimeWarning: Mean of empty slice\n",
      "  'average_validation_loss': np.nanmean(train_valid_loss) if non_empty_train_indices else None}\n",
      "C:\\Users\\carlo\\GitHub\\ProjectBuffalo\\buffalo\\predictor\\util.py:224: UserWarning: dataset_info with the same primary keys already exists with id 1, will not store dataset information.\n",
      "  warn(f\"dataset_info with the same primary keys already exists with id {searched_id}, will not store dataset information.\")\n"
     ]
    },
    {
     "data": {
      "application/vnd.jupyter.widget-view+json": {
       "model_id": "d1be4292235c427d89310aa4f2057ea7",
       "version_major": 2,
       "version_minor": 0
      },
      "text/plain": [
       "Multi-fold validation:   0%|          | 0/1 [00:00<?, ?it/s]"
      ]
     },
     "metadata": {},
     "output_type": "display_data"
    },
    {
     "data": {
      "application/vnd.jupyter.widget-view+json": {
       "model_id": "30aeca7885cd4867945e8f4727d4c8ca",
       "version_major": 2,
       "version_minor": 0
      },
      "text/plain": [
       "Epoch:   0%|          | 0/60 [00:00<?, ?it/s]"
      ]
     },
     "metadata": {},
     "output_type": "display_data"
    },
    {
     "name": "stdout",
     "output_type": "stream",
     "text": [
      "Averaged validation loss: nan. Test loss: 2432.6796795467517.\n"
     ]
    },
    {
     "name": "stderr",
     "output_type": "stream",
     "text": [
      "C:\\Users\\carlo\\GitHub\\ProjectBuffalo\\buffalo\\predictor\\__init__.py:223: RuntimeWarning: Mean of empty slice\n",
      "  print(f'Averaged validation loss: {np.nanmean(train_valid_loss)}. Test loss: {test_loss}.')\n",
      "C:\\Users\\carlo\\GitHub\\ProjectBuffalo\\buffalo\\predictor\\__init__.py:236: RuntimeWarning: Mean of empty slice\n",
      "  'average_validation_loss': np.nanmean(train_valid_loss) if non_empty_train_indices else None}\n",
      "C:\\Users\\carlo\\GitHub\\ProjectBuffalo\\buffalo\\predictor\\util.py:224: UserWarning: dataset_info with the same primary keys already exists with id 1, will not store dataset information.\n",
      "  warn(f\"dataset_info with the same primary keys already exists with id {searched_id}, will not store dataset information.\")\n",
      "C:\\Users\\carlo\\GitHub\\ProjectBuffalo\\buffalo\\predictor\\util.py:397: UserWarning: model_info with the same primary keys already exists with id 33, will not store model information.\n",
      "  warn(f'model_info with the same primary keys already exists with id {searched_id}, will not store model information.')\n"
     ]
    },
    {
     "data": {
      "application/vnd.jupyter.widget-view+json": {
       "model_id": "99d1a05e3f194b458ce104d4d8208edd",
       "version_major": 2,
       "version_minor": 0
      },
      "text/plain": [
       "Multi-fold validation:   0%|          | 0/1 [00:00<?, ?it/s]"
      ]
     },
     "metadata": {},
     "output_type": "display_data"
    },
    {
     "data": {
      "application/vnd.jupyter.widget-view+json": {
       "model_id": "f8efb9146eb64456ae3bea21e285b9e5",
       "version_major": 2,
       "version_minor": 0
      },
      "text/plain": [
       "Epoch:   0%|          | 0/60 [00:00<?, ?it/s]"
      ]
     },
     "metadata": {},
     "output_type": "display_data"
    },
    {
     "name": "stdout",
     "output_type": "stream",
     "text": [
      "Averaged validation loss: nan. Test loss: 3221.7708143740747.\n"
     ]
    },
    {
     "name": "stderr",
     "output_type": "stream",
     "text": [
      "C:\\Users\\carlo\\GitHub\\ProjectBuffalo\\buffalo\\predictor\\__init__.py:223: RuntimeWarning: Mean of empty slice\n",
      "  print(f'Averaged validation loss: {np.nanmean(train_valid_loss)}. Test loss: {test_loss}.')\n",
      "C:\\Users\\carlo\\GitHub\\ProjectBuffalo\\buffalo\\predictor\\__init__.py:236: RuntimeWarning: Mean of empty slice\n",
      "  'average_validation_loss': np.nanmean(train_valid_loss) if non_empty_train_indices else None}\n",
      "C:\\Users\\carlo\\GitHub\\ProjectBuffalo\\buffalo\\predictor\\util.py:224: UserWarning: dataset_info with the same primary keys already exists with id 1, will not store dataset information.\n",
      "  warn(f\"dataset_info with the same primary keys already exists with id {searched_id}, will not store dataset information.\")\n",
      "C:\\Users\\carlo\\GitHub\\ProjectBuffalo\\buffalo\\predictor\\util.py:397: UserWarning: model_info with the same primary keys already exists with id 34, will not store model information.\n",
      "  warn(f'model_info with the same primary keys already exists with id {searched_id}, will not store model information.')\n"
     ]
    },
    {
     "data": {
      "application/vnd.jupyter.widget-view+json": {
       "model_id": "82904cedeb9740e59f2377a2554219b6",
       "version_major": 2,
       "version_minor": 0
      },
      "text/plain": [
       "Multi-fold validation:   0%|          | 0/1 [00:00<?, ?it/s]"
      ]
     },
     "metadata": {},
     "output_type": "display_data"
    },
    {
     "data": {
      "application/vnd.jupyter.widget-view+json": {
       "model_id": "10a6f7013c384780b98c881cbf062e8a",
       "version_major": 2,
       "version_minor": 0
      },
      "text/plain": [
       "Epoch:   0%|          | 0/30 [00:00<?, ?it/s]"
      ]
     },
     "metadata": {},
     "output_type": "display_data"
    },
    {
     "name": "stdout",
     "output_type": "stream",
     "text": [
      "Averaged validation loss: nan. Test loss: 3388.1691376365065.\n"
     ]
    },
    {
     "name": "stderr",
     "output_type": "stream",
     "text": [
      "C:\\Users\\carlo\\GitHub\\ProjectBuffalo\\buffalo\\predictor\\__init__.py:223: RuntimeWarning: Mean of empty slice\n",
      "  print(f'Averaged validation loss: {np.nanmean(train_valid_loss)}. Test loss: {test_loss}.')\n",
      "C:\\Users\\carlo\\GitHub\\ProjectBuffalo\\buffalo\\predictor\\__init__.py:236: RuntimeWarning: Mean of empty slice\n",
      "  'average_validation_loss': np.nanmean(train_valid_loss) if non_empty_train_indices else None}\n",
      "C:\\Users\\carlo\\GitHub\\ProjectBuffalo\\buffalo\\predictor\\util.py:224: UserWarning: dataset_info with the same primary keys already exists with id 1, will not store dataset information.\n",
      "  warn(f\"dataset_info with the same primary keys already exists with id {searched_id}, will not store dataset information.\")\n"
     ]
    },
    {
     "data": {
      "application/vnd.jupyter.widget-view+json": {
       "model_id": "e30ebc0880964958ae562df63be44fc8",
       "version_major": 2,
       "version_minor": 0
      },
      "text/plain": [
       "Multi-fold validation:   0%|          | 0/1 [00:00<?, ?it/s]"
      ]
     },
     "metadata": {},
     "output_type": "display_data"
    },
    {
     "data": {
      "application/vnd.jupyter.widget-view+json": {
       "model_id": "8c991841eaec49d698e274d8bbcbbd8a",
       "version_major": 2,
       "version_minor": 0
      },
      "text/plain": [
       "Epoch:   0%|          | 0/30 [00:00<?, ?it/s]"
      ]
     },
     "metadata": {},
     "output_type": "display_data"
    },
    {
     "name": "stdout",
     "output_type": "stream",
     "text": [
      "Averaged validation loss: nan. Test loss: 2962.722583224719.\n"
     ]
    },
    {
     "name": "stderr",
     "output_type": "stream",
     "text": [
      "C:\\Users\\carlo\\GitHub\\ProjectBuffalo\\buffalo\\predictor\\__init__.py:223: RuntimeWarning: Mean of empty slice\n",
      "  print(f'Averaged validation loss: {np.nanmean(train_valid_loss)}. Test loss: {test_loss}.')\n",
      "C:\\Users\\carlo\\GitHub\\ProjectBuffalo\\buffalo\\predictor\\__init__.py:236: RuntimeWarning: Mean of empty slice\n",
      "  'average_validation_loss': np.nanmean(train_valid_loss) if non_empty_train_indices else None}\n",
      "C:\\Users\\carlo\\GitHub\\ProjectBuffalo\\buffalo\\predictor\\util.py:224: UserWarning: dataset_info with the same primary keys already exists with id 1, will not store dataset information.\n",
      "  warn(f\"dataset_info with the same primary keys already exists with id {searched_id}, will not store dataset information.\")\n"
     ]
    },
    {
     "data": {
      "application/vnd.jupyter.widget-view+json": {
       "model_id": "95dc4a60d49442eba465b50de57753a4",
       "version_major": 2,
       "version_minor": 0
      },
      "text/plain": [
       "Multi-fold validation:   0%|          | 0/1 [00:00<?, ?it/s]"
      ]
     },
     "metadata": {},
     "output_type": "display_data"
    },
    {
     "data": {
      "application/vnd.jupyter.widget-view+json": {
       "model_id": "22c7d00468fd41f99c7627b9dc7c47b1",
       "version_major": 2,
       "version_minor": 0
      },
      "text/plain": [
       "Epoch:   0%|          | 0/60 [00:00<?, ?it/s]"
      ]
     },
     "metadata": {},
     "output_type": "display_data"
    },
    {
     "name": "stdout",
     "output_type": "stream",
     "text": [
      "Averaged validation loss: nan. Test loss: 2633.67688940261.\n"
     ]
    },
    {
     "name": "stderr",
     "output_type": "stream",
     "text": [
      "C:\\Users\\carlo\\GitHub\\ProjectBuffalo\\buffalo\\predictor\\__init__.py:223: RuntimeWarning: Mean of empty slice\n",
      "  print(f'Averaged validation loss: {np.nanmean(train_valid_loss)}. Test loss: {test_loss}.')\n",
      "C:\\Users\\carlo\\GitHub\\ProjectBuffalo\\buffalo\\predictor\\__init__.py:236: RuntimeWarning: Mean of empty slice\n",
      "  'average_validation_loss': np.nanmean(train_valid_loss) if non_empty_train_indices else None}\n",
      "C:\\Users\\carlo\\GitHub\\ProjectBuffalo\\buffalo\\predictor\\util.py:224: UserWarning: dataset_info with the same primary keys already exists with id 1, will not store dataset information.\n",
      "  warn(f\"dataset_info with the same primary keys already exists with id {searched_id}, will not store dataset information.\")\n",
      "C:\\Users\\carlo\\GitHub\\ProjectBuffalo\\buffalo\\predictor\\util.py:397: UserWarning: model_info with the same primary keys already exists with id 35, will not store model information.\n",
      "  warn(f'model_info with the same primary keys already exists with id {searched_id}, will not store model information.')\n"
     ]
    },
    {
     "data": {
      "application/vnd.jupyter.widget-view+json": {
       "model_id": "dad45fc6819a4055b5c1e6bafe085ec0",
       "version_major": 2,
       "version_minor": 0
      },
      "text/plain": [
       "Multi-fold validation:   0%|          | 0/1 [00:00<?, ?it/s]"
      ]
     },
     "metadata": {},
     "output_type": "display_data"
    },
    {
     "data": {
      "application/vnd.jupyter.widget-view+json": {
       "model_id": "d59dd2f1d4fe4528adda3d15fe9c00ea",
       "version_major": 2,
       "version_minor": 0
      },
      "text/plain": [
       "Epoch:   0%|          | 0/60 [00:00<?, ?it/s]"
      ]
     },
     "metadata": {},
     "output_type": "display_data"
    },
    {
     "name": "stdout",
     "output_type": "stream",
     "text": [
      "Averaged validation loss: nan. Test loss: 3212.6042796188613.\n"
     ]
    },
    {
     "name": "stderr",
     "output_type": "stream",
     "text": [
      "C:\\Users\\carlo\\GitHub\\ProjectBuffalo\\buffalo\\predictor\\__init__.py:223: RuntimeWarning: Mean of empty slice\n",
      "  print(f'Averaged validation loss: {np.nanmean(train_valid_loss)}. Test loss: {test_loss}.')\n",
      "C:\\Users\\carlo\\GitHub\\ProjectBuffalo\\buffalo\\predictor\\__init__.py:236: RuntimeWarning: Mean of empty slice\n",
      "  'average_validation_loss': np.nanmean(train_valid_loss) if non_empty_train_indices else None}\n",
      "C:\\Users\\carlo\\GitHub\\ProjectBuffalo\\buffalo\\predictor\\util.py:224: UserWarning: dataset_info with the same primary keys already exists with id 1, will not store dataset information.\n",
      "  warn(f\"dataset_info with the same primary keys already exists with id {searched_id}, will not store dataset information.\")\n",
      "C:\\Users\\carlo\\GitHub\\ProjectBuffalo\\buffalo\\predictor\\util.py:397: UserWarning: model_info with the same primary keys already exists with id 36, will not store model information.\n",
      "  warn(f'model_info with the same primary keys already exists with id {searched_id}, will not store model information.')\n"
     ]
    },
    {
     "data": {
      "application/vnd.jupyter.widget-view+json": {
       "model_id": "75010701f37f4a279b803ce24386115e",
       "version_major": 2,
       "version_minor": 0
      },
      "text/plain": [
       "Multi-fold validation:   0%|          | 0/1 [00:00<?, ?it/s]"
      ]
     },
     "metadata": {},
     "output_type": "display_data"
    },
    {
     "data": {
      "application/vnd.jupyter.widget-view+json": {
       "model_id": "4983ad1a65e948ec8343f9b95e894bab",
       "version_major": 2,
       "version_minor": 0
      },
      "text/plain": [
       "Epoch:   0%|          | 0/30 [00:00<?, ?it/s]"
      ]
     },
     "metadata": {},
     "output_type": "display_data"
    },
    {
     "name": "stdout",
     "output_type": "stream",
     "text": [
      "Averaged validation loss: nan. Test loss: 3127.634317592007.\n"
     ]
    },
    {
     "name": "stderr",
     "output_type": "stream",
     "text": [
      "C:\\Users\\carlo\\GitHub\\ProjectBuffalo\\buffalo\\predictor\\__init__.py:223: RuntimeWarning: Mean of empty slice\n",
      "  print(f'Averaged validation loss: {np.nanmean(train_valid_loss)}. Test loss: {test_loss}.')\n",
      "C:\\Users\\carlo\\GitHub\\ProjectBuffalo\\buffalo\\predictor\\__init__.py:236: RuntimeWarning: Mean of empty slice\n",
      "  'average_validation_loss': np.nanmean(train_valid_loss) if non_empty_train_indices else None}\n",
      "C:\\Users\\carlo\\GitHub\\ProjectBuffalo\\buffalo\\predictor\\util.py:224: UserWarning: dataset_info with the same primary keys already exists with id 1, will not store dataset information.\n",
      "  warn(f\"dataset_info with the same primary keys already exists with id {searched_id}, will not store dataset information.\")\n"
     ]
    },
    {
     "data": {
      "application/vnd.jupyter.widget-view+json": {
       "model_id": "cc486829f90548faa7fa1ca69157d6ed",
       "version_major": 2,
       "version_minor": 0
      },
      "text/plain": [
       "Multi-fold validation:   0%|          | 0/1 [00:00<?, ?it/s]"
      ]
     },
     "metadata": {},
     "output_type": "display_data"
    },
    {
     "data": {
      "application/vnd.jupyter.widget-view+json": {
       "model_id": "03e792cf93c1429fbe8135673f0257da",
       "version_major": 2,
       "version_minor": 0
      },
      "text/plain": [
       "Epoch:   0%|          | 0/30 [00:00<?, ?it/s]"
      ]
     },
     "metadata": {},
     "output_type": "display_data"
    },
    {
     "name": "stdout",
     "output_type": "stream",
     "text": [
      "Averaged validation loss: nan. Test loss: 3213.699104030417.\n"
     ]
    },
    {
     "name": "stderr",
     "output_type": "stream",
     "text": [
      "C:\\Users\\carlo\\GitHub\\ProjectBuffalo\\buffalo\\predictor\\__init__.py:223: RuntimeWarning: Mean of empty slice\n",
      "  print(f'Averaged validation loss: {np.nanmean(train_valid_loss)}. Test loss: {test_loss}.')\n",
      "C:\\Users\\carlo\\GitHub\\ProjectBuffalo\\buffalo\\predictor\\__init__.py:236: RuntimeWarning: Mean of empty slice\n",
      "  'average_validation_loss': np.nanmean(train_valid_loss) if non_empty_train_indices else None}\n",
      "C:\\Users\\carlo\\GitHub\\ProjectBuffalo\\buffalo\\predictor\\util.py:224: UserWarning: dataset_info with the same primary keys already exists with id 1, will not store dataset information.\n",
      "  warn(f\"dataset_info with the same primary keys already exists with id {searched_id}, will not store dataset information.\")\n"
     ]
    },
    {
     "data": {
      "application/vnd.jupyter.widget-view+json": {
       "model_id": "51ce7d1e7b144f40a3718ad5f9e9df6e",
       "version_major": 2,
       "version_minor": 0
      },
      "text/plain": [
       "Multi-fold validation:   0%|          | 0/1 [00:00<?, ?it/s]"
      ]
     },
     "metadata": {},
     "output_type": "display_data"
    },
    {
     "data": {
      "application/vnd.jupyter.widget-view+json": {
       "model_id": "bf677b8939054d22bc3a2993cd66ddc9",
       "version_major": 2,
       "version_minor": 0
      },
      "text/plain": [
       "Epoch:   0%|          | 0/60 [00:00<?, ?it/s]"
      ]
     },
     "metadata": {},
     "output_type": "display_data"
    },
    {
     "name": "stdout",
     "output_type": "stream",
     "text": [
      "Averaged validation loss: nan. Test loss: 2566.7825066132464.\n"
     ]
    },
    {
     "name": "stderr",
     "output_type": "stream",
     "text": [
      "C:\\Users\\carlo\\GitHub\\ProjectBuffalo\\buffalo\\predictor\\__init__.py:223: RuntimeWarning: Mean of empty slice\n",
      "  print(f'Averaged validation loss: {np.nanmean(train_valid_loss)}. Test loss: {test_loss}.')\n",
      "C:\\Users\\carlo\\GitHub\\ProjectBuffalo\\buffalo\\predictor\\__init__.py:236: RuntimeWarning: Mean of empty slice\n",
      "  'average_validation_loss': np.nanmean(train_valid_loss) if non_empty_train_indices else None}\n",
      "C:\\Users\\carlo\\GitHub\\ProjectBuffalo\\buffalo\\predictor\\util.py:224: UserWarning: dataset_info with the same primary keys already exists with id 1, will not store dataset information.\n",
      "  warn(f\"dataset_info with the same primary keys already exists with id {searched_id}, will not store dataset information.\")\n",
      "C:\\Users\\carlo\\GitHub\\ProjectBuffalo\\buffalo\\predictor\\util.py:397: UserWarning: model_info with the same primary keys already exists with id 37, will not store model information.\n",
      "  warn(f'model_info with the same primary keys already exists with id {searched_id}, will not store model information.')\n"
     ]
    },
    {
     "data": {
      "application/vnd.jupyter.widget-view+json": {
       "model_id": "39ed04a05f9543c0b6ed085b812c7bdf",
       "version_major": 2,
       "version_minor": 0
      },
      "text/plain": [
       "Multi-fold validation:   0%|          | 0/1 [00:00<?, ?it/s]"
      ]
     },
     "metadata": {},
     "output_type": "display_data"
    },
    {
     "data": {
      "application/vnd.jupyter.widget-view+json": {
       "model_id": "a3fa58af3a1a421d824ef91a8de99748",
       "version_major": 2,
       "version_minor": 0
      },
      "text/plain": [
       "Epoch:   0%|          | 0/60 [00:00<?, ?it/s]"
      ]
     },
     "metadata": {},
     "output_type": "display_data"
    },
    {
     "name": "stdout",
     "output_type": "stream",
     "text": [
      "Averaged validation loss: nan. Test loss: 3182.8661041711653.\n"
     ]
    },
    {
     "name": "stderr",
     "output_type": "stream",
     "text": [
      "C:\\Users\\carlo\\GitHub\\ProjectBuffalo\\buffalo\\predictor\\__init__.py:223: RuntimeWarning: Mean of empty slice\n",
      "  print(f'Averaged validation loss: {np.nanmean(train_valid_loss)}. Test loss: {test_loss}.')\n",
      "C:\\Users\\carlo\\GitHub\\ProjectBuffalo\\buffalo\\predictor\\__init__.py:236: RuntimeWarning: Mean of empty slice\n",
      "  'average_validation_loss': np.nanmean(train_valid_loss) if non_empty_train_indices else None}\n",
      "C:\\Users\\carlo\\GitHub\\ProjectBuffalo\\buffalo\\predictor\\util.py:224: UserWarning: dataset_info with the same primary keys already exists with id 1, will not store dataset information.\n",
      "  warn(f\"dataset_info with the same primary keys already exists with id {searched_id}, will not store dataset information.\")\n",
      "C:\\Users\\carlo\\GitHub\\ProjectBuffalo\\buffalo\\predictor\\util.py:397: UserWarning: model_info with the same primary keys already exists with id 38, will not store model information.\n",
      "  warn(f'model_info with the same primary keys already exists with id {searched_id}, will not store model information.')\n"
     ]
    },
    {
     "data": {
      "application/vnd.jupyter.widget-view+json": {
       "model_id": "8ba23da3ece346c2a0836dd7cc57dd55",
       "version_major": 2,
       "version_minor": 0
      },
      "text/plain": [
       "Multi-fold validation:   0%|          | 0/1 [00:00<?, ?it/s]"
      ]
     },
     "metadata": {},
     "output_type": "display_data"
    },
    {
     "data": {
      "application/vnd.jupyter.widget-view+json": {
       "model_id": "28fddc4eadbf4f6da66f99a3ab472bd6",
       "version_major": 2,
       "version_minor": 0
      },
      "text/plain": [
       "Epoch:   0%|          | 0/30 [00:00<?, ?it/s]"
      ]
     },
     "metadata": {},
     "output_type": "display_data"
    },
    {
     "name": "stdout",
     "output_type": "stream",
     "text": [
      "Averaged validation loss: nan. Test loss: 3621.936180965804.\n"
     ]
    },
    {
     "name": "stderr",
     "output_type": "stream",
     "text": [
      "C:\\Users\\carlo\\GitHub\\ProjectBuffalo\\buffalo\\predictor\\__init__.py:223: RuntimeWarning: Mean of empty slice\n",
      "  print(f'Averaged validation loss: {np.nanmean(train_valid_loss)}. Test loss: {test_loss}.')\n",
      "C:\\Users\\carlo\\GitHub\\ProjectBuffalo\\buffalo\\predictor\\__init__.py:236: RuntimeWarning: Mean of empty slice\n",
      "  'average_validation_loss': np.nanmean(train_valid_loss) if non_empty_train_indices else None}\n",
      "C:\\Users\\carlo\\GitHub\\ProjectBuffalo\\buffalo\\predictor\\util.py:224: UserWarning: dataset_info with the same primary keys already exists with id 1, will not store dataset information.\n",
      "  warn(f\"dataset_info with the same primary keys already exists with id {searched_id}, will not store dataset information.\")\n"
     ]
    },
    {
     "data": {
      "application/vnd.jupyter.widget-view+json": {
       "model_id": "3611ba0320854d40a7542636f2d63151",
       "version_major": 2,
       "version_minor": 0
      },
      "text/plain": [
       "Multi-fold validation:   0%|          | 0/1 [00:00<?, ?it/s]"
      ]
     },
     "metadata": {},
     "output_type": "display_data"
    },
    {
     "data": {
      "application/vnd.jupyter.widget-view+json": {
       "model_id": "7833b623eb1345f28d3c39b8ec78c384",
       "version_major": 2,
       "version_minor": 0
      },
      "text/plain": [
       "Epoch:   0%|          | 0/30 [00:00<?, ?it/s]"
      ]
     },
     "metadata": {},
     "output_type": "display_data"
    },
    {
     "name": "stdout",
     "output_type": "stream",
     "text": [
      "Averaged validation loss: nan. Test loss: 3177.843045052983.\n"
     ]
    },
    {
     "name": "stderr",
     "output_type": "stream",
     "text": [
      "C:\\Users\\carlo\\GitHub\\ProjectBuffalo\\buffalo\\predictor\\__init__.py:223: RuntimeWarning: Mean of empty slice\n",
      "  print(f'Averaged validation loss: {np.nanmean(train_valid_loss)}. Test loss: {test_loss}.')\n",
      "C:\\Users\\carlo\\GitHub\\ProjectBuffalo\\buffalo\\predictor\\__init__.py:236: RuntimeWarning: Mean of empty slice\n",
      "  'average_validation_loss': np.nanmean(train_valid_loss) if non_empty_train_indices else None}\n",
      "C:\\Users\\carlo\\GitHub\\ProjectBuffalo\\buffalo\\predictor\\util.py:224: UserWarning: dataset_info with the same primary keys already exists with id 1, will not store dataset information.\n",
      "  warn(f\"dataset_info with the same primary keys already exists with id {searched_id}, will not store dataset information.\")\n"
     ]
    },
    {
     "data": {
      "application/vnd.jupyter.widget-view+json": {
       "model_id": "3968d2372dd34deeb26ec3b53be17575",
       "version_major": 2,
       "version_minor": 0
      },
      "text/plain": [
       "Multi-fold validation:   0%|          | 0/1 [00:00<?, ?it/s]"
      ]
     },
     "metadata": {},
     "output_type": "display_data"
    },
    {
     "data": {
      "application/vnd.jupyter.widget-view+json": {
       "model_id": "b8823044c29f484daad36a1a60ea5f5f",
       "version_major": 2,
       "version_minor": 0
      },
      "text/plain": [
       "Epoch:   0%|          | 0/60 [00:00<?, ?it/s]"
      ]
     },
     "metadata": {},
     "output_type": "display_data"
    },
    {
     "name": "stdout",
     "output_type": "stream",
     "text": [
      "Averaged validation loss: nan. Test loss: 3550.716475852974.\n"
     ]
    },
    {
     "name": "stderr",
     "output_type": "stream",
     "text": [
      "C:\\Users\\carlo\\GitHub\\ProjectBuffalo\\buffalo\\predictor\\__init__.py:223: RuntimeWarning: Mean of empty slice\n",
      "  print(f'Averaged validation loss: {np.nanmean(train_valid_loss)}. Test loss: {test_loss}.')\n",
      "C:\\Users\\carlo\\GitHub\\ProjectBuffalo\\buffalo\\predictor\\__init__.py:236: RuntimeWarning: Mean of empty slice\n",
      "  'average_validation_loss': np.nanmean(train_valid_loss) if non_empty_train_indices else None}\n",
      "C:\\Users\\carlo\\GitHub\\ProjectBuffalo\\buffalo\\predictor\\util.py:224: UserWarning: dataset_info with the same primary keys already exists with id 1, will not store dataset information.\n",
      "  warn(f\"dataset_info with the same primary keys already exists with id {searched_id}, will not store dataset information.\")\n",
      "C:\\Users\\carlo\\GitHub\\ProjectBuffalo\\buffalo\\predictor\\util.py:397: UserWarning: model_info with the same primary keys already exists with id 39, will not store model information.\n",
      "  warn(f'model_info with the same primary keys already exists with id {searched_id}, will not store model information.')\n"
     ]
    },
    {
     "data": {
      "application/vnd.jupyter.widget-view+json": {
       "model_id": "7d70bda412ad4c0dbd0247bdc288c373",
       "version_major": 2,
       "version_minor": 0
      },
      "text/plain": [
       "Multi-fold validation:   0%|          | 0/1 [00:00<?, ?it/s]"
      ]
     },
     "metadata": {},
     "output_type": "display_data"
    },
    {
     "data": {
      "application/vnd.jupyter.widget-view+json": {
       "model_id": "4586bd67eb7f4f1cbbeb817a89808d16",
       "version_major": 2,
       "version_minor": 0
      },
      "text/plain": [
       "Epoch:   0%|          | 0/60 [00:00<?, ?it/s]"
      ]
     },
     "metadata": {},
     "output_type": "display_data"
    },
    {
     "name": "stdout",
     "output_type": "stream",
     "text": [
      "Averaged validation loss: nan. Test loss: 3214.392762977773.\n"
     ]
    },
    {
     "name": "stderr",
     "output_type": "stream",
     "text": [
      "C:\\Users\\carlo\\GitHub\\ProjectBuffalo\\buffalo\\predictor\\__init__.py:223: RuntimeWarning: Mean of empty slice\n",
      "  print(f'Averaged validation loss: {np.nanmean(train_valid_loss)}. Test loss: {test_loss}.')\n",
      "C:\\Users\\carlo\\GitHub\\ProjectBuffalo\\buffalo\\predictor\\__init__.py:236: RuntimeWarning: Mean of empty slice\n",
      "  'average_validation_loss': np.nanmean(train_valid_loss) if non_empty_train_indices else None}\n",
      "C:\\Users\\carlo\\GitHub\\ProjectBuffalo\\buffalo\\predictor\\util.py:224: UserWarning: dataset_info with the same primary keys already exists with id 1, will not store dataset information.\n",
      "  warn(f\"dataset_info with the same primary keys already exists with id {searched_id}, will not store dataset information.\")\n",
      "C:\\Users\\carlo\\GitHub\\ProjectBuffalo\\buffalo\\predictor\\util.py:397: UserWarning: model_info with the same primary keys already exists with id 40, will not store model information.\n",
      "  warn(f'model_info with the same primary keys already exists with id {searched_id}, will not store model information.')\n"
     ]
    },
    {
     "data": {
      "application/vnd.jupyter.widget-view+json": {
       "model_id": "e99305be6da948b28fcd2fb571b12076",
       "version_major": 2,
       "version_minor": 0
      },
      "text/plain": [
       "Multi-fold validation:   0%|          | 0/1 [00:00<?, ?it/s]"
      ]
     },
     "metadata": {},
     "output_type": "display_data"
    },
    {
     "data": {
      "application/vnd.jupyter.widget-view+json": {
       "model_id": "6d9bfe348c164c3ba82a8e407fbb16a6",
       "version_major": 2,
       "version_minor": 0
      },
      "text/plain": [
       "Epoch:   0%|          | 0/30 [00:00<?, ?it/s]"
      ]
     },
     "metadata": {},
     "output_type": "display_data"
    },
    {
     "name": "stdout",
     "output_type": "stream",
     "text": [
      "Averaged validation loss: nan. Test loss: 2011.6366811528258.\n"
     ]
    },
    {
     "name": "stderr",
     "output_type": "stream",
     "text": [
      "C:\\Users\\carlo\\GitHub\\ProjectBuffalo\\buffalo\\predictor\\__init__.py:223: RuntimeWarning: Mean of empty slice\n",
      "  print(f'Averaged validation loss: {np.nanmean(train_valid_loss)}. Test loss: {test_loss}.')\n",
      "C:\\Users\\carlo\\GitHub\\ProjectBuffalo\\buffalo\\predictor\\__init__.py:236: RuntimeWarning: Mean of empty slice\n",
      "  'average_validation_loss': np.nanmean(train_valid_loss) if non_empty_train_indices else None}\n",
      "C:\\Users\\carlo\\GitHub\\ProjectBuffalo\\buffalo\\predictor\\util.py:224: UserWarning: dataset_info with the same primary keys already exists with id 1, will not store dataset information.\n",
      "  warn(f\"dataset_info with the same primary keys already exists with id {searched_id}, will not store dataset information.\")\n"
     ]
    },
    {
     "data": {
      "application/vnd.jupyter.widget-view+json": {
       "model_id": "5257250c3ec84e3fa1bb8abef0eecc26",
       "version_major": 2,
       "version_minor": 0
      },
      "text/plain": [
       "Multi-fold validation:   0%|          | 0/1 [00:00<?, ?it/s]"
      ]
     },
     "metadata": {},
     "output_type": "display_data"
    },
    {
     "data": {
      "application/vnd.jupyter.widget-view+json": {
       "model_id": "ca22ca7e58b94eb289712f5a02ed3885",
       "version_major": 2,
       "version_minor": 0
      },
      "text/plain": [
       "Epoch:   0%|          | 0/30 [00:00<?, ?it/s]"
      ]
     },
     "metadata": {},
     "output_type": "display_data"
    },
    {
     "name": "stdout",
     "output_type": "stream",
     "text": [
      "Averaged validation loss: nan. Test loss: 1483.7111774229934.\n"
     ]
    },
    {
     "name": "stderr",
     "output_type": "stream",
     "text": [
      "C:\\Users\\carlo\\GitHub\\ProjectBuffalo\\buffalo\\predictor\\__init__.py:223: RuntimeWarning: Mean of empty slice\n",
      "  print(f'Averaged validation loss: {np.nanmean(train_valid_loss)}. Test loss: {test_loss}.')\n",
      "C:\\Users\\carlo\\GitHub\\ProjectBuffalo\\buffalo\\predictor\\__init__.py:236: RuntimeWarning: Mean of empty slice\n",
      "  'average_validation_loss': np.nanmean(train_valid_loss) if non_empty_train_indices else None}\n",
      "C:\\Users\\carlo\\GitHub\\ProjectBuffalo\\buffalo\\predictor\\util.py:224: UserWarning: dataset_info with the same primary keys already exists with id 1, will not store dataset information.\n",
      "  warn(f\"dataset_info with the same primary keys already exists with id {searched_id}, will not store dataset information.\")\n"
     ]
    },
    {
     "data": {
      "application/vnd.jupyter.widget-view+json": {
       "model_id": "cfc94c891b0a4e6fbb6c247cd53ea12d",
       "version_major": 2,
       "version_minor": 0
      },
      "text/plain": [
       "Multi-fold validation:   0%|          | 0/1 [00:00<?, ?it/s]"
      ]
     },
     "metadata": {},
     "output_type": "display_data"
    },
    {
     "data": {
      "application/vnd.jupyter.widget-view+json": {
       "model_id": "7f0cf05e03c145c4ac7558468b1458a5",
       "version_major": 2,
       "version_minor": 0
      },
      "text/plain": [
       "Epoch:   0%|          | 0/60 [00:00<?, ?it/s]"
      ]
     },
     "metadata": {},
     "output_type": "display_data"
    },
    {
     "name": "stdout",
     "output_type": "stream",
     "text": [
      "Averaged validation loss: nan. Test loss: 3118.9790439134995.\n"
     ]
    },
    {
     "name": "stderr",
     "output_type": "stream",
     "text": [
      "C:\\Users\\carlo\\GitHub\\ProjectBuffalo\\buffalo\\predictor\\__init__.py:223: RuntimeWarning: Mean of empty slice\n",
      "  print(f'Averaged validation loss: {np.nanmean(train_valid_loss)}. Test loss: {test_loss}.')\n",
      "C:\\Users\\carlo\\GitHub\\ProjectBuffalo\\buffalo\\predictor\\__init__.py:236: RuntimeWarning: Mean of empty slice\n",
      "  'average_validation_loss': np.nanmean(train_valid_loss) if non_empty_train_indices else None}\n",
      "C:\\Users\\carlo\\GitHub\\ProjectBuffalo\\buffalo\\predictor\\util.py:224: UserWarning: dataset_info with the same primary keys already exists with id 1, will not store dataset information.\n",
      "  warn(f\"dataset_info with the same primary keys already exists with id {searched_id}, will not store dataset information.\")\n",
      "C:\\Users\\carlo\\GitHub\\ProjectBuffalo\\buffalo\\predictor\\util.py:397: UserWarning: model_info with the same primary keys already exists with id 41, will not store model information.\n",
      "  warn(f'model_info with the same primary keys already exists with id {searched_id}, will not store model information.')\n"
     ]
    },
    {
     "data": {
      "application/vnd.jupyter.widget-view+json": {
       "model_id": "99da03c5e1d3421f891249b7291b6120",
       "version_major": 2,
       "version_minor": 0
      },
      "text/plain": [
       "Multi-fold validation:   0%|          | 0/1 [00:00<?, ?it/s]"
      ]
     },
     "metadata": {},
     "output_type": "display_data"
    },
    {
     "data": {
      "application/vnd.jupyter.widget-view+json": {
       "model_id": "2000297aed2547cda251d507c1204dec",
       "version_major": 2,
       "version_minor": 0
      },
      "text/plain": [
       "Epoch:   0%|          | 0/60 [00:00<?, ?it/s]"
      ]
     },
     "metadata": {},
     "output_type": "display_data"
    },
    {
     "name": "stdout",
     "output_type": "stream",
     "text": [
      "Averaged validation loss: nan. Test loss: 2920.886835879658.\n"
     ]
    },
    {
     "name": "stderr",
     "output_type": "stream",
     "text": [
      "C:\\Users\\carlo\\GitHub\\ProjectBuffalo\\buffalo\\predictor\\__init__.py:223: RuntimeWarning: Mean of empty slice\n",
      "  print(f'Averaged validation loss: {np.nanmean(train_valid_loss)}. Test loss: {test_loss}.')\n",
      "C:\\Users\\carlo\\GitHub\\ProjectBuffalo\\buffalo\\predictor\\__init__.py:236: RuntimeWarning: Mean of empty slice\n",
      "  'average_validation_loss': np.nanmean(train_valid_loss) if non_empty_train_indices else None}\n",
      "C:\\Users\\carlo\\GitHub\\ProjectBuffalo\\buffalo\\predictor\\util.py:224: UserWarning: dataset_info with the same primary keys already exists with id 1, will not store dataset information.\n",
      "  warn(f\"dataset_info with the same primary keys already exists with id {searched_id}, will not store dataset information.\")\n",
      "C:\\Users\\carlo\\GitHub\\ProjectBuffalo\\buffalo\\predictor\\util.py:397: UserWarning: model_info with the same primary keys already exists with id 42, will not store model information.\n",
      "  warn(f'model_info with the same primary keys already exists with id {searched_id}, will not store model information.')\n"
     ]
    },
    {
     "data": {
      "application/vnd.jupyter.widget-view+json": {
       "model_id": "edeaff7b2006476ca4ad14c67f391619",
       "version_major": 2,
       "version_minor": 0
      },
      "text/plain": [
       "Multi-fold validation:   0%|          | 0/1 [00:00<?, ?it/s]"
      ]
     },
     "metadata": {},
     "output_type": "display_data"
    },
    {
     "data": {
      "application/vnd.jupyter.widget-view+json": {
       "model_id": "8fd05567601745288300f06c41c8c726",
       "version_major": 2,
       "version_minor": 0
      },
      "text/plain": [
       "Epoch:   0%|          | 0/30 [00:00<?, ?it/s]"
      ]
     },
     "metadata": {},
     "output_type": "display_data"
    },
    {
     "name": "stdout",
     "output_type": "stream",
     "text": [
      "Averaged validation loss: nan. Test loss: 2447.8859494539734.\n"
     ]
    },
    {
     "name": "stderr",
     "output_type": "stream",
     "text": [
      "C:\\Users\\carlo\\GitHub\\ProjectBuffalo\\buffalo\\predictor\\__init__.py:223: RuntimeWarning: Mean of empty slice\n",
      "  print(f'Averaged validation loss: {np.nanmean(train_valid_loss)}. Test loss: {test_loss}.')\n",
      "C:\\Users\\carlo\\GitHub\\ProjectBuffalo\\buffalo\\predictor\\__init__.py:236: RuntimeWarning: Mean of empty slice\n",
      "  'average_validation_loss': np.nanmean(train_valid_loss) if non_empty_train_indices else None}\n",
      "C:\\Users\\carlo\\GitHub\\ProjectBuffalo\\buffalo\\predictor\\util.py:224: UserWarning: dataset_info with the same primary keys already exists with id 1, will not store dataset information.\n",
      "  warn(f\"dataset_info with the same primary keys already exists with id {searched_id}, will not store dataset information.\")\n"
     ]
    },
    {
     "data": {
      "application/vnd.jupyter.widget-view+json": {
       "model_id": "b37108febdbd41f6ad1768f5991d0f51",
       "version_major": 2,
       "version_minor": 0
      },
      "text/plain": [
       "Multi-fold validation:   0%|          | 0/1 [00:00<?, ?it/s]"
      ]
     },
     "metadata": {},
     "output_type": "display_data"
    },
    {
     "data": {
      "application/vnd.jupyter.widget-view+json": {
       "model_id": "02360a3ab1e247a99ae95a94ccb3098a",
       "version_major": 2,
       "version_minor": 0
      },
      "text/plain": [
       "Epoch:   0%|          | 0/30 [00:00<?, ?it/s]"
      ]
     },
     "metadata": {},
     "output_type": "display_data"
    },
    {
     "name": "stdout",
     "output_type": "stream",
     "text": [
      "Averaged validation loss: nan. Test loss: 1494.7063587184955.\n"
     ]
    },
    {
     "name": "stderr",
     "output_type": "stream",
     "text": [
      "C:\\Users\\carlo\\GitHub\\ProjectBuffalo\\buffalo\\predictor\\__init__.py:223: RuntimeWarning: Mean of empty slice\n",
      "  print(f'Averaged validation loss: {np.nanmean(train_valid_loss)}. Test loss: {test_loss}.')\n",
      "C:\\Users\\carlo\\GitHub\\ProjectBuffalo\\buffalo\\predictor\\__init__.py:236: RuntimeWarning: Mean of empty slice\n",
      "  'average_validation_loss': np.nanmean(train_valid_loss) if non_empty_train_indices else None}\n",
      "C:\\Users\\carlo\\GitHub\\ProjectBuffalo\\buffalo\\predictor\\util.py:224: UserWarning: dataset_info with the same primary keys already exists with id 1, will not store dataset information.\n",
      "  warn(f\"dataset_info with the same primary keys already exists with id {searched_id}, will not store dataset information.\")\n"
     ]
    },
    {
     "data": {
      "application/vnd.jupyter.widget-view+json": {
       "model_id": "24383e3b421c47e5a095668670ece122",
       "version_major": 2,
       "version_minor": 0
      },
      "text/plain": [
       "Multi-fold validation:   0%|          | 0/1 [00:00<?, ?it/s]"
      ]
     },
     "metadata": {},
     "output_type": "display_data"
    },
    {
     "data": {
      "application/vnd.jupyter.widget-view+json": {
       "model_id": "e046754652fd47529b9925fd61a0b83a",
       "version_major": 2,
       "version_minor": 0
      },
      "text/plain": [
       "Epoch:   0%|          | 0/60 [00:00<?, ?it/s]"
      ]
     },
     "metadata": {},
     "output_type": "display_data"
    },
    {
     "name": "stdout",
     "output_type": "stream",
     "text": [
      "Averaged validation loss: nan. Test loss: 2504.2581272558305.\n"
     ]
    },
    {
     "name": "stderr",
     "output_type": "stream",
     "text": [
      "C:\\Users\\carlo\\GitHub\\ProjectBuffalo\\buffalo\\predictor\\__init__.py:223: RuntimeWarning: Mean of empty slice\n",
      "  print(f'Averaged validation loss: {np.nanmean(train_valid_loss)}. Test loss: {test_loss}.')\n",
      "C:\\Users\\carlo\\GitHub\\ProjectBuffalo\\buffalo\\predictor\\__init__.py:236: RuntimeWarning: Mean of empty slice\n",
      "  'average_validation_loss': np.nanmean(train_valid_loss) if non_empty_train_indices else None}\n",
      "C:\\Users\\carlo\\GitHub\\ProjectBuffalo\\buffalo\\predictor\\util.py:224: UserWarning: dataset_info with the same primary keys already exists with id 1, will not store dataset information.\n",
      "  warn(f\"dataset_info with the same primary keys already exists with id {searched_id}, will not store dataset information.\")\n",
      "C:\\Users\\carlo\\GitHub\\ProjectBuffalo\\buffalo\\predictor\\util.py:397: UserWarning: model_info with the same primary keys already exists with id 43, will not store model information.\n",
      "  warn(f'model_info with the same primary keys already exists with id {searched_id}, will not store model information.')\n"
     ]
    },
    {
     "data": {
      "application/vnd.jupyter.widget-view+json": {
       "model_id": "589497b6ed11479ba83d4911d426fa50",
       "version_major": 2,
       "version_minor": 0
      },
      "text/plain": [
       "Multi-fold validation:   0%|          | 0/1 [00:00<?, ?it/s]"
      ]
     },
     "metadata": {},
     "output_type": "display_data"
    },
    {
     "data": {
      "application/vnd.jupyter.widget-view+json": {
       "model_id": "8c30fe36d5c44ca198bbaa51c91feb7d",
       "version_major": 2,
       "version_minor": 0
      },
      "text/plain": [
       "Epoch:   0%|          | 0/60 [00:00<?, ?it/s]"
      ]
     },
     "metadata": {},
     "output_type": "display_data"
    },
    {
     "name": "stdout",
     "output_type": "stream",
     "text": [
      "Averaged validation loss: nan. Test loss: 2911.705028718457.\n"
     ]
    },
    {
     "name": "stderr",
     "output_type": "stream",
     "text": [
      "C:\\Users\\carlo\\GitHub\\ProjectBuffalo\\buffalo\\predictor\\__init__.py:223: RuntimeWarning: Mean of empty slice\n",
      "  print(f'Averaged validation loss: {np.nanmean(train_valid_loss)}. Test loss: {test_loss}.')\n",
      "C:\\Users\\carlo\\GitHub\\ProjectBuffalo\\buffalo\\predictor\\__init__.py:236: RuntimeWarning: Mean of empty slice\n",
      "  'average_validation_loss': np.nanmean(train_valid_loss) if non_empty_train_indices else None}\n",
      "C:\\Users\\carlo\\GitHub\\ProjectBuffalo\\buffalo\\predictor\\util.py:224: UserWarning: dataset_info with the same primary keys already exists with id 1, will not store dataset information.\n",
      "  warn(f\"dataset_info with the same primary keys already exists with id {searched_id}, will not store dataset information.\")\n",
      "C:\\Users\\carlo\\GitHub\\ProjectBuffalo\\buffalo\\predictor\\util.py:397: UserWarning: model_info with the same primary keys already exists with id 44, will not store model information.\n",
      "  warn(f'model_info with the same primary keys already exists with id {searched_id}, will not store model information.')\n"
     ]
    },
    {
     "data": {
      "application/vnd.jupyter.widget-view+json": {
       "model_id": "1f176a8245414fce8856391f48d74fd8",
       "version_major": 2,
       "version_minor": 0
      },
      "text/plain": [
       "Multi-fold validation:   0%|          | 0/1 [00:00<?, ?it/s]"
      ]
     },
     "metadata": {},
     "output_type": "display_data"
    },
    {
     "data": {
      "application/vnd.jupyter.widget-view+json": {
       "model_id": "ec545f7fb2ee4b21b60af22999a50770",
       "version_major": 2,
       "version_minor": 0
      },
      "text/plain": [
       "Epoch:   0%|          | 0/30 [00:00<?, ?it/s]"
      ]
     },
     "metadata": {},
     "output_type": "display_data"
    },
    {
     "name": "stdout",
     "output_type": "stream",
     "text": [
      "Averaged validation loss: nan. Test loss: 1511.8392959398907.\n"
     ]
    },
    {
     "name": "stderr",
     "output_type": "stream",
     "text": [
      "C:\\Users\\carlo\\GitHub\\ProjectBuffalo\\buffalo\\predictor\\__init__.py:223: RuntimeWarning: Mean of empty slice\n",
      "  print(f'Averaged validation loss: {np.nanmean(train_valid_loss)}. Test loss: {test_loss}.')\n",
      "C:\\Users\\carlo\\GitHub\\ProjectBuffalo\\buffalo\\predictor\\__init__.py:236: RuntimeWarning: Mean of empty slice\n",
      "  'average_validation_loss': np.nanmean(train_valid_loss) if non_empty_train_indices else None}\n",
      "C:\\Users\\carlo\\GitHub\\ProjectBuffalo\\buffalo\\predictor\\util.py:224: UserWarning: dataset_info with the same primary keys already exists with id 1, will not store dataset information.\n",
      "  warn(f\"dataset_info with the same primary keys already exists with id {searched_id}, will not store dataset information.\")\n"
     ]
    },
    {
     "data": {
      "application/vnd.jupyter.widget-view+json": {
       "model_id": "900d417365fc4ec2a4442f81a3ae8dee",
       "version_major": 2,
       "version_minor": 0
      },
      "text/plain": [
       "Multi-fold validation:   0%|          | 0/1 [00:00<?, ?it/s]"
      ]
     },
     "metadata": {},
     "output_type": "display_data"
    },
    {
     "data": {
      "application/vnd.jupyter.widget-view+json": {
       "model_id": "8e9bd5ece911491f9968c7fb397c667c",
       "version_major": 2,
       "version_minor": 0
      },
      "text/plain": [
       "Epoch:   0%|          | 0/30 [00:00<?, ?it/s]"
      ]
     },
     "metadata": {},
     "output_type": "display_data"
    },
    {
     "name": "stdout",
     "output_type": "stream",
     "text": [
      "Averaged validation loss: nan. Test loss: 191.5148791984415.\n"
     ]
    },
    {
     "name": "stderr",
     "output_type": "stream",
     "text": [
      "C:\\Users\\carlo\\GitHub\\ProjectBuffalo\\buffalo\\predictor\\__init__.py:223: RuntimeWarning: Mean of empty slice\n",
      "  print(f'Averaged validation loss: {np.nanmean(train_valid_loss)}. Test loss: {test_loss}.')\n",
      "C:\\Users\\carlo\\GitHub\\ProjectBuffalo\\buffalo\\predictor\\__init__.py:236: RuntimeWarning: Mean of empty slice\n",
      "  'average_validation_loss': np.nanmean(train_valid_loss) if non_empty_train_indices else None}\n",
      "C:\\Users\\carlo\\GitHub\\ProjectBuffalo\\buffalo\\predictor\\util.py:224: UserWarning: dataset_info with the same primary keys already exists with id 1, will not store dataset information.\n",
      "  warn(f\"dataset_info with the same primary keys already exists with id {searched_id}, will not store dataset information.\")\n"
     ]
    },
    {
     "data": {
      "application/vnd.jupyter.widget-view+json": {
       "model_id": "147e309dd8cc493cb1942a5aaaca8835",
       "version_major": 2,
       "version_minor": 0
      },
      "text/plain": [
       "Multi-fold validation:   0%|          | 0/1 [00:00<?, ?it/s]"
      ]
     },
     "metadata": {},
     "output_type": "display_data"
    },
    {
     "data": {
      "application/vnd.jupyter.widget-view+json": {
       "model_id": "25b88dd966a04b9fb4403a6ac225d305",
       "version_major": 2,
       "version_minor": 0
      },
      "text/plain": [
       "Epoch:   0%|          | 0/60 [00:00<?, ?it/s]"
      ]
     },
     "metadata": {},
     "output_type": "display_data"
    },
    {
     "name": "stdout",
     "output_type": "stream",
     "text": [
      "Averaged validation loss: nan. Test loss: 2921.4993213228036.\n"
     ]
    },
    {
     "name": "stderr",
     "output_type": "stream",
     "text": [
      "C:\\Users\\carlo\\GitHub\\ProjectBuffalo\\buffalo\\predictor\\__init__.py:223: RuntimeWarning: Mean of empty slice\n",
      "  print(f'Averaged validation loss: {np.nanmean(train_valid_loss)}. Test loss: {test_loss}.')\n",
      "C:\\Users\\carlo\\GitHub\\ProjectBuffalo\\buffalo\\predictor\\__init__.py:236: RuntimeWarning: Mean of empty slice\n",
      "  'average_validation_loss': np.nanmean(train_valid_loss) if non_empty_train_indices else None}\n",
      "C:\\Users\\carlo\\GitHub\\ProjectBuffalo\\buffalo\\predictor\\util.py:224: UserWarning: dataset_info with the same primary keys already exists with id 1, will not store dataset information.\n",
      "  warn(f\"dataset_info with the same primary keys already exists with id {searched_id}, will not store dataset information.\")\n",
      "C:\\Users\\carlo\\GitHub\\ProjectBuffalo\\buffalo\\predictor\\util.py:397: UserWarning: model_info with the same primary keys already exists with id 45, will not store model information.\n",
      "  warn(f'model_info with the same primary keys already exists with id {searched_id}, will not store model information.')\n"
     ]
    },
    {
     "data": {
      "application/vnd.jupyter.widget-view+json": {
       "model_id": "5a22d6816b9b412ab6abec3d8c08d93e",
       "version_major": 2,
       "version_minor": 0
      },
      "text/plain": [
       "Multi-fold validation:   0%|          | 0/1 [00:00<?, ?it/s]"
      ]
     },
     "metadata": {},
     "output_type": "display_data"
    },
    {
     "data": {
      "application/vnd.jupyter.widget-view+json": {
       "model_id": "414d2e4c61ea40189930514ea07bf07b",
       "version_major": 2,
       "version_minor": 0
      },
      "text/plain": [
       "Epoch:   0%|          | 0/60 [00:00<?, ?it/s]"
      ]
     },
     "metadata": {},
     "output_type": "display_data"
    },
    {
     "name": "stdout",
     "output_type": "stream",
     "text": [
      "Averaged validation loss: nan. Test loss: 1494.935753779962.\n"
     ]
    },
    {
     "name": "stderr",
     "output_type": "stream",
     "text": [
      "C:\\Users\\carlo\\GitHub\\ProjectBuffalo\\buffalo\\predictor\\__init__.py:223: RuntimeWarning: Mean of empty slice\n",
      "  print(f'Averaged validation loss: {np.nanmean(train_valid_loss)}. Test loss: {test_loss}.')\n",
      "C:\\Users\\carlo\\GitHub\\ProjectBuffalo\\buffalo\\predictor\\__init__.py:236: RuntimeWarning: Mean of empty slice\n",
      "  'average_validation_loss': np.nanmean(train_valid_loss) if non_empty_train_indices else None}\n",
      "C:\\Users\\carlo\\GitHub\\ProjectBuffalo\\buffalo\\predictor\\util.py:224: UserWarning: dataset_info with the same primary keys already exists with id 1, will not store dataset information.\n",
      "  warn(f\"dataset_info with the same primary keys already exists with id {searched_id}, will not store dataset information.\")\n",
      "C:\\Users\\carlo\\GitHub\\ProjectBuffalo\\buffalo\\predictor\\util.py:397: UserWarning: model_info with the same primary keys already exists with id 46, will not store model information.\n",
      "  warn(f'model_info with the same primary keys already exists with id {searched_id}, will not store model information.')\n"
     ]
    },
    {
     "data": {
      "application/vnd.jupyter.widget-view+json": {
       "model_id": "75eafa3e979943b5a32ed2736b0da4d0",
       "version_major": 2,
       "version_minor": 0
      },
      "text/plain": [
       "Multi-fold validation:   0%|          | 0/1 [00:00<?, ?it/s]"
      ]
     },
     "metadata": {},
     "output_type": "display_data"
    },
    {
     "data": {
      "application/vnd.jupyter.widget-view+json": {
       "model_id": "d2f52b3664e342959e7a578adbef283e",
       "version_major": 2,
       "version_minor": 0
      },
      "text/plain": [
       "Epoch:   0%|          | 0/30 [00:00<?, ?it/s]"
      ]
     },
     "metadata": {},
     "output_type": "display_data"
    },
    {
     "name": "stdout",
     "output_type": "stream",
     "text": [
      "Averaged validation loss: nan. Test loss: 1424.5846889605057.\n"
     ]
    },
    {
     "name": "stderr",
     "output_type": "stream",
     "text": [
      "C:\\Users\\carlo\\GitHub\\ProjectBuffalo\\buffalo\\predictor\\__init__.py:223: RuntimeWarning: Mean of empty slice\n",
      "  print(f'Averaged validation loss: {np.nanmean(train_valid_loss)}. Test loss: {test_loss}.')\n",
      "C:\\Users\\carlo\\GitHub\\ProjectBuffalo\\buffalo\\predictor\\__init__.py:236: RuntimeWarning: Mean of empty slice\n",
      "  'average_validation_loss': np.nanmean(train_valid_loss) if non_empty_train_indices else None}\n",
      "C:\\Users\\carlo\\GitHub\\ProjectBuffalo\\buffalo\\predictor\\util.py:224: UserWarning: dataset_info with the same primary keys already exists with id 1, will not store dataset information.\n",
      "  warn(f\"dataset_info with the same primary keys already exists with id {searched_id}, will not store dataset information.\")\n"
     ]
    },
    {
     "data": {
      "application/vnd.jupyter.widget-view+json": {
       "model_id": "a37c767bae0e42f1a4852b1ed9ed3e37",
       "version_major": 2,
       "version_minor": 0
      },
      "text/plain": [
       "Multi-fold validation:   0%|          | 0/1 [00:00<?, ?it/s]"
      ]
     },
     "metadata": {},
     "output_type": "display_data"
    },
    {
     "data": {
      "application/vnd.jupyter.widget-view+json": {
       "model_id": "b5186b9f57fe4c1d970283ec7b326357",
       "version_major": 2,
       "version_minor": 0
      },
      "text/plain": [
       "Epoch:   0%|          | 0/30 [00:00<?, ?it/s]"
      ]
     },
     "metadata": {},
     "output_type": "display_data"
    },
    {
     "name": "stdout",
     "output_type": "stream",
     "text": [
      "Averaged validation loss: nan. Test loss: 194.09758278412738.\n"
     ]
    },
    {
     "name": "stderr",
     "output_type": "stream",
     "text": [
      "C:\\Users\\carlo\\GitHub\\ProjectBuffalo\\buffalo\\predictor\\__init__.py:223: RuntimeWarning: Mean of empty slice\n",
      "  print(f'Averaged validation loss: {np.nanmean(train_valid_loss)}. Test loss: {test_loss}.')\n",
      "C:\\Users\\carlo\\GitHub\\ProjectBuffalo\\buffalo\\predictor\\__init__.py:236: RuntimeWarning: Mean of empty slice\n",
      "  'average_validation_loss': np.nanmean(train_valid_loss) if non_empty_train_indices else None}\n",
      "C:\\Users\\carlo\\GitHub\\ProjectBuffalo\\buffalo\\predictor\\util.py:224: UserWarning: dataset_info with the same primary keys already exists with id 1, will not store dataset information.\n",
      "  warn(f\"dataset_info with the same primary keys already exists with id {searched_id}, will not store dataset information.\")\n"
     ]
    },
    {
     "data": {
      "application/vnd.jupyter.widget-view+json": {
       "model_id": "eaa391a6c32b4e69b527b3f76b1fb4d0",
       "version_major": 2,
       "version_minor": 0
      },
      "text/plain": [
       "Multi-fold validation:   0%|          | 0/1 [00:00<?, ?it/s]"
      ]
     },
     "metadata": {},
     "output_type": "display_data"
    },
    {
     "data": {
      "application/vnd.jupyter.widget-view+json": {
       "model_id": "8905d7fde7aa4821a76eba57ef6206bf",
       "version_major": 2,
       "version_minor": 0
      },
      "text/plain": [
       "Epoch:   0%|          | 0/60 [00:00<?, ?it/s]"
      ]
     },
     "metadata": {},
     "output_type": "display_data"
    },
    {
     "name": "stdout",
     "output_type": "stream",
     "text": [
      "Averaged validation loss: nan. Test loss: 2930.7701115961254.\n"
     ]
    },
    {
     "name": "stderr",
     "output_type": "stream",
     "text": [
      "C:\\Users\\carlo\\GitHub\\ProjectBuffalo\\buffalo\\predictor\\__init__.py:223: RuntimeWarning: Mean of empty slice\n",
      "  print(f'Averaged validation loss: {np.nanmean(train_valid_loss)}. Test loss: {test_loss}.')\n",
      "C:\\Users\\carlo\\GitHub\\ProjectBuffalo\\buffalo\\predictor\\__init__.py:236: RuntimeWarning: Mean of empty slice\n",
      "  'average_validation_loss': np.nanmean(train_valid_loss) if non_empty_train_indices else None}\n",
      "C:\\Users\\carlo\\GitHub\\ProjectBuffalo\\buffalo\\predictor\\util.py:224: UserWarning: dataset_info with the same primary keys already exists with id 1, will not store dataset information.\n",
      "  warn(f\"dataset_info with the same primary keys already exists with id {searched_id}, will not store dataset information.\")\n",
      "C:\\Users\\carlo\\GitHub\\ProjectBuffalo\\buffalo\\predictor\\util.py:397: UserWarning: model_info with the same primary keys already exists with id 47, will not store model information.\n",
      "  warn(f'model_info with the same primary keys already exists with id {searched_id}, will not store model information.')\n"
     ]
    },
    {
     "data": {
      "application/vnd.jupyter.widget-view+json": {
       "model_id": "495ceff3a8ba4ca08928e0f64f746c2e",
       "version_major": 2,
       "version_minor": 0
      },
      "text/plain": [
       "Multi-fold validation:   0%|          | 0/1 [00:00<?, ?it/s]"
      ]
     },
     "metadata": {},
     "output_type": "display_data"
    },
    {
     "data": {
      "application/vnd.jupyter.widget-view+json": {
       "model_id": "7a526b59b7ab4160b7e76dd65d3fe295",
       "version_major": 2,
       "version_minor": 0
      },
      "text/plain": [
       "Epoch:   0%|          | 0/60 [00:00<?, ?it/s]"
      ]
     },
     "metadata": {},
     "output_type": "display_data"
    },
    {
     "name": "stdout",
     "output_type": "stream",
     "text": [
      "Averaged validation loss: nan. Test loss: 1495.4912844447958.\n"
     ]
    },
    {
     "name": "stderr",
     "output_type": "stream",
     "text": [
      "C:\\Users\\carlo\\GitHub\\ProjectBuffalo\\buffalo\\predictor\\__init__.py:223: RuntimeWarning: Mean of empty slice\n",
      "  print(f'Averaged validation loss: {np.nanmean(train_valid_loss)}. Test loss: {test_loss}.')\n",
      "C:\\Users\\carlo\\GitHub\\ProjectBuffalo\\buffalo\\predictor\\__init__.py:236: RuntimeWarning: Mean of empty slice\n",
      "  'average_validation_loss': np.nanmean(train_valid_loss) if non_empty_train_indices else None}\n",
      "C:\\Users\\carlo\\GitHub\\ProjectBuffalo\\buffalo\\predictor\\util.py:224: UserWarning: dataset_info with the same primary keys already exists with id 1, will not store dataset information.\n",
      "  warn(f\"dataset_info with the same primary keys already exists with id {searched_id}, will not store dataset information.\")\n",
      "C:\\Users\\carlo\\GitHub\\ProjectBuffalo\\buffalo\\predictor\\util.py:397: UserWarning: model_info with the same primary keys already exists with id 48, will not store model information.\n",
      "  warn(f'model_info with the same primary keys already exists with id {searched_id}, will not store model information.')\n"
     ]
    }
   ],
   "source": [
    "for i in tqdm(range(sweep_params.shape[0])):\n",
    "    param = sweep_params.loc[i,:].to_dict()\n",
    "    rnn = modeling.RNN(\n",
    "        input_size=target_stock.shape[1],\n",
    "        n_ahead=n_head,\n",
    "        hidden_size=param['hidden_size'],\n",
    "        output_size=1,\n",
    "        num_layers=param['num_layers'],\n",
    "        dropout=param['dropout'],\n",
    "        bidirectional=param['bidirectional'],\n",
    "        use_gpu=True)\n",
    "    optimizer = torch.optim.Adam(\n",
    "        rnn.parameters(),\n",
    "        lr=param['learning_rate'],\n",
    "        weight_decay=param['weight_decay'])\n",
    "    loss_func = torch.nn.MSELoss()\n",
    "    training_record = predictor.train_and_evaluate_model(\n",
    "        rnn,\n",
    "        optimizer,\n",
    "        loss_func,\n",
    "        time_series_data,\n",
    "        epochs=param['epochs'],\n",
    "        test_ratio=0.2,\n",
    "        n_fold=param['n_fold'],\n",
    "        clip_grad=1,\n",
    "        batch_size=param['batch_size']) # Pointwise prediction\n",
    "    training_record.serialize_to_file(r'cached_data/record.sqlite', additional_note_dataset='', additonal_note_model='')"
   ]
  },
  {
   "cell_type": "code",
   "execution_count": 22,
   "metadata": {},
   "outputs": [
    {
     "data": {
      "application/vnd.jupyter.widget-view+json": {
       "model_id": "545fb04f93394177a5e00b5d183ef92b",
       "version_major": 2,
       "version_minor": 0
      },
      "text/plain": [
       "  0%|          | 0/96 [00:00<?, ?it/s]"
      ]
     },
     "metadata": {},
     "output_type": "display_data"
    },
    {
     "name": "stderr",
     "output_type": "stream",
     "text": [
      "c:\\Users\\carlo\\miniconda3\\lib\\site-packages\\torch\\nn\\modules\\rnn.py:71: UserWarning: dropout option adds dropout after all but last recurrent layer, so non-zero dropout expects num_layers greater than 1, but got dropout=0.2 and num_layers=1\n",
      "  warnings.warn(\"dropout option adds dropout after all but last \"\n"
     ]
    },
    {
     "data": {
      "application/vnd.jupyter.widget-view+json": {
       "model_id": "b8b6e0852d9f4d82be877f292f8214f6",
       "version_major": 2,
       "version_minor": 0
      },
      "text/plain": [
       "Multi-fold validation:   0%|          | 0/1 [00:00<?, ?it/s]"
      ]
     },
     "metadata": {},
     "output_type": "display_data"
    },
    {
     "data": {
      "application/vnd.jupyter.widget-view+json": {
       "model_id": "1d6904d3d70e4d71b7e90607bab75f02",
       "version_major": 2,
       "version_minor": 0
      },
      "text/plain": [
       "Epoch:   0%|          | 0/30 [00:00<?, ?it/s]"
      ]
     },
     "metadata": {},
     "output_type": "display_data"
    },
    {
     "name": "stdout",
     "output_type": "stream",
     "text": [
      "Averaged validation loss: nan. Test loss: 2188.6887725197435.\n"
     ]
    },
    {
     "name": "stderr",
     "output_type": "stream",
     "text": [
      "C:\\Users\\carlo\\GitHub\\ProjectBuffalo\\buffalo\\predictor\\__init__.py:223: RuntimeWarning: Mean of empty slice\n",
      "  print(f'Averaged validation loss: {np.nanmean(train_valid_loss)}. Test loss: {test_loss}.')\n",
      "C:\\Users\\carlo\\GitHub\\ProjectBuffalo\\buffalo\\predictor\\__init__.py:236: RuntimeWarning: Mean of empty slice\n",
      "  'average_validation_loss': np.nanmean(train_valid_loss) if non_empty_train_indices else None}\n",
      "C:\\Users\\carlo\\GitHub\\ProjectBuffalo\\buffalo\\predictor\\util.py:224: UserWarning: dataset_info with the same primary keys already exists with id 1, will not store dataset information.\n",
      "  warn(f\"dataset_info with the same primary keys already exists with id {searched_id}, will not store dataset information.\")\n",
      "c:\\Users\\carlo\\miniconda3\\lib\\site-packages\\torch\\nn\\modules\\rnn.py:71: UserWarning: dropout option adds dropout after all but last recurrent layer, so non-zero dropout expects num_layers greater than 1, but got dropout=0.2 and num_layers=1\n",
      "  warnings.warn(\"dropout option adds dropout after all but last \"\n"
     ]
    },
    {
     "data": {
      "application/vnd.jupyter.widget-view+json": {
       "model_id": "8f8bb662eff040e98fa53efb8a3ac1b3",
       "version_major": 2,
       "version_minor": 0
      },
      "text/plain": [
       "Multi-fold validation:   0%|          | 0/1 [00:00<?, ?it/s]"
      ]
     },
     "metadata": {},
     "output_type": "display_data"
    },
    {
     "data": {
      "application/vnd.jupyter.widget-view+json": {
       "model_id": "bcb9e360ee09416eaf0ff9e7632fa698",
       "version_major": 2,
       "version_minor": 0
      },
      "text/plain": [
       "Epoch:   0%|          | 0/30 [00:00<?, ?it/s]"
      ]
     },
     "metadata": {},
     "output_type": "display_data"
    },
    {
     "name": "stdout",
     "output_type": "stream",
     "text": [
      "Averaged validation loss: nan. Test loss: 2580.26105405124.\n"
     ]
    },
    {
     "name": "stderr",
     "output_type": "stream",
     "text": [
      "C:\\Users\\carlo\\GitHub\\ProjectBuffalo\\buffalo\\predictor\\__init__.py:223: RuntimeWarning: Mean of empty slice\n",
      "  print(f'Averaged validation loss: {np.nanmean(train_valid_loss)}. Test loss: {test_loss}.')\n",
      "C:\\Users\\carlo\\GitHub\\ProjectBuffalo\\buffalo\\predictor\\__init__.py:236: RuntimeWarning: Mean of empty slice\n",
      "  'average_validation_loss': np.nanmean(train_valid_loss) if non_empty_train_indices else None}\n",
      "C:\\Users\\carlo\\GitHub\\ProjectBuffalo\\buffalo\\predictor\\util.py:224: UserWarning: dataset_info with the same primary keys already exists with id 1, will not store dataset information.\n",
      "  warn(f\"dataset_info with the same primary keys already exists with id {searched_id}, will not store dataset information.\")\n",
      "c:\\Users\\carlo\\miniconda3\\lib\\site-packages\\torch\\nn\\modules\\rnn.py:71: UserWarning: dropout option adds dropout after all but last recurrent layer, so non-zero dropout expects num_layers greater than 1, but got dropout=0.2 and num_layers=1\n",
      "  warnings.warn(\"dropout option adds dropout after all but last \"\n"
     ]
    },
    {
     "data": {
      "application/vnd.jupyter.widget-view+json": {
       "model_id": "0a06f51f1f2441b5bea04df675e01e6b",
       "version_major": 2,
       "version_minor": 0
      },
      "text/plain": [
       "Multi-fold validation:   0%|          | 0/1 [00:00<?, ?it/s]"
      ]
     },
     "metadata": {},
     "output_type": "display_data"
    },
    {
     "data": {
      "application/vnd.jupyter.widget-view+json": {
       "model_id": "cad7b3e5e5db4ee7a2802dadbd6b74ad",
       "version_major": 2,
       "version_minor": 0
      },
      "text/plain": [
       "Epoch:   0%|          | 0/60 [00:00<?, ?it/s]"
      ]
     },
     "metadata": {},
     "output_type": "display_data"
    },
    {
     "name": "stdout",
     "output_type": "stream",
     "text": [
      "Averaged validation loss: nan. Test loss: 3059.69773438464.\n"
     ]
    },
    {
     "name": "stderr",
     "output_type": "stream",
     "text": [
      "C:\\Users\\carlo\\GitHub\\ProjectBuffalo\\buffalo\\predictor\\__init__.py:223: RuntimeWarning: Mean of empty slice\n",
      "  print(f'Averaged validation loss: {np.nanmean(train_valid_loss)}. Test loss: {test_loss}.')\n",
      "C:\\Users\\carlo\\GitHub\\ProjectBuffalo\\buffalo\\predictor\\__init__.py:236: RuntimeWarning: Mean of empty slice\n",
      "  'average_validation_loss': np.nanmean(train_valid_loss) if non_empty_train_indices else None}\n",
      "C:\\Users\\carlo\\GitHub\\ProjectBuffalo\\buffalo\\predictor\\util.py:224: UserWarning: dataset_info with the same primary keys already exists with id 1, will not store dataset information.\n",
      "  warn(f\"dataset_info with the same primary keys already exists with id {searched_id}, will not store dataset information.\")\n",
      "C:\\Users\\carlo\\GitHub\\ProjectBuffalo\\buffalo\\predictor\\util.py:397: UserWarning: model_info with the same primary keys already exists with id 49, will not store model information.\n",
      "  warn(f'model_info with the same primary keys already exists with id {searched_id}, will not store model information.')\n",
      "c:\\Users\\carlo\\miniconda3\\lib\\site-packages\\torch\\nn\\modules\\rnn.py:71: UserWarning: dropout option adds dropout after all but last recurrent layer, so non-zero dropout expects num_layers greater than 1, but got dropout=0.2 and num_layers=1\n",
      "  warnings.warn(\"dropout option adds dropout after all but last \"\n"
     ]
    },
    {
     "data": {
      "application/vnd.jupyter.widget-view+json": {
       "model_id": "a5fca27e358f4c5bac0bf435d31be11c",
       "version_major": 2,
       "version_minor": 0
      },
      "text/plain": [
       "Multi-fold validation:   0%|          | 0/1 [00:00<?, ?it/s]"
      ]
     },
     "metadata": {},
     "output_type": "display_data"
    },
    {
     "data": {
      "application/vnd.jupyter.widget-view+json": {
       "model_id": "c04e3df988744912b07fb6b4acccfa34",
       "version_major": 2,
       "version_minor": 0
      },
      "text/plain": [
       "Epoch:   0%|          | 0/60 [00:00<?, ?it/s]"
      ]
     },
     "metadata": {},
     "output_type": "display_data"
    },
    {
     "name": "stdout",
     "output_type": "stream",
     "text": [
      "Averaged validation loss: nan. Test loss: 3023.1568047993273.\n"
     ]
    },
    {
     "name": "stderr",
     "output_type": "stream",
     "text": [
      "C:\\Users\\carlo\\GitHub\\ProjectBuffalo\\buffalo\\predictor\\__init__.py:223: RuntimeWarning: Mean of empty slice\n",
      "  print(f'Averaged validation loss: {np.nanmean(train_valid_loss)}. Test loss: {test_loss}.')\n",
      "C:\\Users\\carlo\\GitHub\\ProjectBuffalo\\buffalo\\predictor\\__init__.py:236: RuntimeWarning: Mean of empty slice\n",
      "  'average_validation_loss': np.nanmean(train_valid_loss) if non_empty_train_indices else None}\n",
      "C:\\Users\\carlo\\GitHub\\ProjectBuffalo\\buffalo\\predictor\\util.py:224: UserWarning: dataset_info with the same primary keys already exists with id 1, will not store dataset information.\n",
      "  warn(f\"dataset_info with the same primary keys already exists with id {searched_id}, will not store dataset information.\")\n",
      "C:\\Users\\carlo\\GitHub\\ProjectBuffalo\\buffalo\\predictor\\util.py:397: UserWarning: model_info with the same primary keys already exists with id 50, will not store model information.\n",
      "  warn(f'model_info with the same primary keys already exists with id {searched_id}, will not store model information.')\n",
      "c:\\Users\\carlo\\miniconda3\\lib\\site-packages\\torch\\nn\\modules\\rnn.py:71: UserWarning: dropout option adds dropout after all but last recurrent layer, so non-zero dropout expects num_layers greater than 1, but got dropout=0.4 and num_layers=1\n",
      "  warnings.warn(\"dropout option adds dropout after all but last \"\n"
     ]
    },
    {
     "data": {
      "application/vnd.jupyter.widget-view+json": {
       "model_id": "023288f3f23c4621b67742d045e86b68",
       "version_major": 2,
       "version_minor": 0
      },
      "text/plain": [
       "Multi-fold validation:   0%|          | 0/1 [00:00<?, ?it/s]"
      ]
     },
     "metadata": {},
     "output_type": "display_data"
    },
    {
     "data": {
      "application/vnd.jupyter.widget-view+json": {
       "model_id": "f6b3c6e9f9e24285952d8be6b5475c1f",
       "version_major": 2,
       "version_minor": 0
      },
      "text/plain": [
       "Epoch:   0%|          | 0/30 [00:00<?, ?it/s]"
      ]
     },
     "metadata": {},
     "output_type": "display_data"
    },
    {
     "name": "stdout",
     "output_type": "stream",
     "text": [
      "Averaged validation loss: nan. Test loss: 2400.7917844390117.\n"
     ]
    },
    {
     "name": "stderr",
     "output_type": "stream",
     "text": [
      "C:\\Users\\carlo\\GitHub\\ProjectBuffalo\\buffalo\\predictor\\__init__.py:223: RuntimeWarning: Mean of empty slice\n",
      "  print(f'Averaged validation loss: {np.nanmean(train_valid_loss)}. Test loss: {test_loss}.')\n",
      "C:\\Users\\carlo\\GitHub\\ProjectBuffalo\\buffalo\\predictor\\__init__.py:236: RuntimeWarning: Mean of empty slice\n",
      "  'average_validation_loss': np.nanmean(train_valid_loss) if non_empty_train_indices else None}\n",
      "C:\\Users\\carlo\\GitHub\\ProjectBuffalo\\buffalo\\predictor\\util.py:224: UserWarning: dataset_info with the same primary keys already exists with id 1, will not store dataset information.\n",
      "  warn(f\"dataset_info with the same primary keys already exists with id {searched_id}, will not store dataset information.\")\n",
      "c:\\Users\\carlo\\miniconda3\\lib\\site-packages\\torch\\nn\\modules\\rnn.py:71: UserWarning: dropout option adds dropout after all but last recurrent layer, so non-zero dropout expects num_layers greater than 1, but got dropout=0.4 and num_layers=1\n",
      "  warnings.warn(\"dropout option adds dropout after all but last \"\n"
     ]
    },
    {
     "data": {
      "application/vnd.jupyter.widget-view+json": {
       "model_id": "460b1c66b30b4c19aa9985df1b0d4bd9",
       "version_major": 2,
       "version_minor": 0
      },
      "text/plain": [
       "Multi-fold validation:   0%|          | 0/1 [00:00<?, ?it/s]"
      ]
     },
     "metadata": {},
     "output_type": "display_data"
    },
    {
     "data": {
      "application/vnd.jupyter.widget-view+json": {
       "model_id": "33594996d4164eeca27e24cfd2be30fd",
       "version_major": 2,
       "version_minor": 0
      },
      "text/plain": [
       "Epoch:   0%|          | 0/30 [00:00<?, ?it/s]"
      ]
     },
     "metadata": {},
     "output_type": "display_data"
    },
    {
     "name": "stdout",
     "output_type": "stream",
     "text": [
      "Averaged validation loss: nan. Test loss: 1935.6107693490483.\n"
     ]
    },
    {
     "name": "stderr",
     "output_type": "stream",
     "text": [
      "C:\\Users\\carlo\\GitHub\\ProjectBuffalo\\buffalo\\predictor\\__init__.py:223: RuntimeWarning: Mean of empty slice\n",
      "  print(f'Averaged validation loss: {np.nanmean(train_valid_loss)}. Test loss: {test_loss}.')\n",
      "C:\\Users\\carlo\\GitHub\\ProjectBuffalo\\buffalo\\predictor\\__init__.py:236: RuntimeWarning: Mean of empty slice\n",
      "  'average_validation_loss': np.nanmean(train_valid_loss) if non_empty_train_indices else None}\n",
      "C:\\Users\\carlo\\GitHub\\ProjectBuffalo\\buffalo\\predictor\\util.py:224: UserWarning: dataset_info with the same primary keys already exists with id 1, will not store dataset information.\n",
      "  warn(f\"dataset_info with the same primary keys already exists with id {searched_id}, will not store dataset information.\")\n",
      "c:\\Users\\carlo\\miniconda3\\lib\\site-packages\\torch\\nn\\modules\\rnn.py:71: UserWarning: dropout option adds dropout after all but last recurrent layer, so non-zero dropout expects num_layers greater than 1, but got dropout=0.4 and num_layers=1\n",
      "  warnings.warn(\"dropout option adds dropout after all but last \"\n"
     ]
    },
    {
     "data": {
      "application/vnd.jupyter.widget-view+json": {
       "model_id": "0d6a8b8af70d41fda3bcc1f6b308ca26",
       "version_major": 2,
       "version_minor": 0
      },
      "text/plain": [
       "Multi-fold validation:   0%|          | 0/1 [00:00<?, ?it/s]"
      ]
     },
     "metadata": {},
     "output_type": "display_data"
    },
    {
     "data": {
      "application/vnd.jupyter.widget-view+json": {
       "model_id": "0bfd608e66b64335941c79c11bc59c45",
       "version_major": 2,
       "version_minor": 0
      },
      "text/plain": [
       "Epoch:   0%|          | 0/60 [00:00<?, ?it/s]"
      ]
     },
     "metadata": {},
     "output_type": "display_data"
    },
    {
     "name": "stdout",
     "output_type": "stream",
     "text": [
      "Averaged validation loss: nan. Test loss: 2861.6792893555653.\n"
     ]
    },
    {
     "name": "stderr",
     "output_type": "stream",
     "text": [
      "C:\\Users\\carlo\\GitHub\\ProjectBuffalo\\buffalo\\predictor\\__init__.py:223: RuntimeWarning: Mean of empty slice\n",
      "  print(f'Averaged validation loss: {np.nanmean(train_valid_loss)}. Test loss: {test_loss}.')\n",
      "C:\\Users\\carlo\\GitHub\\ProjectBuffalo\\buffalo\\predictor\\__init__.py:236: RuntimeWarning: Mean of empty slice\n",
      "  'average_validation_loss': np.nanmean(train_valid_loss) if non_empty_train_indices else None}\n",
      "C:\\Users\\carlo\\GitHub\\ProjectBuffalo\\buffalo\\predictor\\util.py:224: UserWarning: dataset_info with the same primary keys already exists with id 1, will not store dataset information.\n",
      "  warn(f\"dataset_info with the same primary keys already exists with id {searched_id}, will not store dataset information.\")\n",
      "C:\\Users\\carlo\\GitHub\\ProjectBuffalo\\buffalo\\predictor\\util.py:397: UserWarning: model_info with the same primary keys already exists with id 51, will not store model information.\n",
      "  warn(f'model_info with the same primary keys already exists with id {searched_id}, will not store model information.')\n",
      "c:\\Users\\carlo\\miniconda3\\lib\\site-packages\\torch\\nn\\modules\\rnn.py:71: UserWarning: dropout option adds dropout after all but last recurrent layer, so non-zero dropout expects num_layers greater than 1, but got dropout=0.4 and num_layers=1\n",
      "  warnings.warn(\"dropout option adds dropout after all but last \"\n"
     ]
    },
    {
     "data": {
      "application/vnd.jupyter.widget-view+json": {
       "model_id": "2d9d65f205724496ad207d633a4213d0",
       "version_major": 2,
       "version_minor": 0
      },
      "text/plain": [
       "Multi-fold validation:   0%|          | 0/1 [00:00<?, ?it/s]"
      ]
     },
     "metadata": {},
     "output_type": "display_data"
    },
    {
     "data": {
      "application/vnd.jupyter.widget-view+json": {
       "model_id": "ade424577d6747c9aa102009801cb248",
       "version_major": 2,
       "version_minor": 0
      },
      "text/plain": [
       "Epoch:   0%|          | 0/60 [00:00<?, ?it/s]"
      ]
     },
     "metadata": {},
     "output_type": "display_data"
    },
    {
     "name": "stdout",
     "output_type": "stream",
     "text": [
      "Averaged validation loss: nan. Test loss: 3078.0440378593903.\n"
     ]
    },
    {
     "name": "stderr",
     "output_type": "stream",
     "text": [
      "C:\\Users\\carlo\\GitHub\\ProjectBuffalo\\buffalo\\predictor\\__init__.py:223: RuntimeWarning: Mean of empty slice\n",
      "  print(f'Averaged validation loss: {np.nanmean(train_valid_loss)}. Test loss: {test_loss}.')\n",
      "C:\\Users\\carlo\\GitHub\\ProjectBuffalo\\buffalo\\predictor\\__init__.py:236: RuntimeWarning: Mean of empty slice\n",
      "  'average_validation_loss': np.nanmean(train_valid_loss) if non_empty_train_indices else None}\n",
      "C:\\Users\\carlo\\GitHub\\ProjectBuffalo\\buffalo\\predictor\\util.py:224: UserWarning: dataset_info with the same primary keys already exists with id 1, will not store dataset information.\n",
      "  warn(f\"dataset_info with the same primary keys already exists with id {searched_id}, will not store dataset information.\")\n",
      "C:\\Users\\carlo\\GitHub\\ProjectBuffalo\\buffalo\\predictor\\util.py:397: UserWarning: model_info with the same primary keys already exists with id 52, will not store model information.\n",
      "  warn(f'model_info with the same primary keys already exists with id {searched_id}, will not store model information.')\n",
      "c:\\Users\\carlo\\miniconda3\\lib\\site-packages\\torch\\nn\\modules\\rnn.py:71: UserWarning: dropout option adds dropout after all but last recurrent layer, so non-zero dropout expects num_layers greater than 1, but got dropout=0.2 and num_layers=1\n",
      "  warnings.warn(\"dropout option adds dropout after all but last \"\n"
     ]
    },
    {
     "data": {
      "application/vnd.jupyter.widget-view+json": {
       "model_id": "b35efa283102429897c867790c6529b3",
       "version_major": 2,
       "version_minor": 0
      },
      "text/plain": [
       "Multi-fold validation:   0%|          | 0/1 [00:00<?, ?it/s]"
      ]
     },
     "metadata": {},
     "output_type": "display_data"
    },
    {
     "data": {
      "application/vnd.jupyter.widget-view+json": {
       "model_id": "fe02a715ba014735aa8aed46777772b2",
       "version_major": 2,
       "version_minor": 0
      },
      "text/plain": [
       "Epoch:   0%|          | 0/30 [00:00<?, ?it/s]"
      ]
     },
     "metadata": {},
     "output_type": "display_data"
    },
    {
     "name": "stdout",
     "output_type": "stream",
     "text": [
      "Averaged validation loss: nan. Test loss: 3257.6194671901994.\n"
     ]
    },
    {
     "name": "stderr",
     "output_type": "stream",
     "text": [
      "C:\\Users\\carlo\\GitHub\\ProjectBuffalo\\buffalo\\predictor\\__init__.py:223: RuntimeWarning: Mean of empty slice\n",
      "  print(f'Averaged validation loss: {np.nanmean(train_valid_loss)}. Test loss: {test_loss}.')\n",
      "C:\\Users\\carlo\\GitHub\\ProjectBuffalo\\buffalo\\predictor\\__init__.py:236: RuntimeWarning: Mean of empty slice\n",
      "  'average_validation_loss': np.nanmean(train_valid_loss) if non_empty_train_indices else None}\n",
      "C:\\Users\\carlo\\GitHub\\ProjectBuffalo\\buffalo\\predictor\\util.py:224: UserWarning: dataset_info with the same primary keys already exists with id 1, will not store dataset information.\n",
      "  warn(f\"dataset_info with the same primary keys already exists with id {searched_id}, will not store dataset information.\")\n",
      "c:\\Users\\carlo\\miniconda3\\lib\\site-packages\\torch\\nn\\modules\\rnn.py:71: UserWarning: dropout option adds dropout after all but last recurrent layer, so non-zero dropout expects num_layers greater than 1, but got dropout=0.2 and num_layers=1\n",
      "  warnings.warn(\"dropout option adds dropout after all but last \"\n"
     ]
    },
    {
     "data": {
      "application/vnd.jupyter.widget-view+json": {
       "model_id": "251ed0867fb24a6389a4bd0a6c0c5152",
       "version_major": 2,
       "version_minor": 0
      },
      "text/plain": [
       "Multi-fold validation:   0%|          | 0/1 [00:00<?, ?it/s]"
      ]
     },
     "metadata": {},
     "output_type": "display_data"
    },
    {
     "data": {
      "application/vnd.jupyter.widget-view+json": {
       "model_id": "4a99768cd82c473dabf3700e4e190b7c",
       "version_major": 2,
       "version_minor": 0
      },
      "text/plain": [
       "Epoch:   0%|          | 0/30 [00:00<?, ?it/s]"
      ]
     },
     "metadata": {},
     "output_type": "display_data"
    },
    {
     "name": "stdout",
     "output_type": "stream",
     "text": [
      "Averaged validation loss: nan. Test loss: 2978.9888864199006.\n"
     ]
    },
    {
     "name": "stderr",
     "output_type": "stream",
     "text": [
      "C:\\Users\\carlo\\GitHub\\ProjectBuffalo\\buffalo\\predictor\\__init__.py:223: RuntimeWarning: Mean of empty slice\n",
      "  print(f'Averaged validation loss: {np.nanmean(train_valid_loss)}. Test loss: {test_loss}.')\n",
      "C:\\Users\\carlo\\GitHub\\ProjectBuffalo\\buffalo\\predictor\\__init__.py:236: RuntimeWarning: Mean of empty slice\n",
      "  'average_validation_loss': np.nanmean(train_valid_loss) if non_empty_train_indices else None}\n",
      "C:\\Users\\carlo\\GitHub\\ProjectBuffalo\\buffalo\\predictor\\util.py:224: UserWarning: dataset_info with the same primary keys already exists with id 1, will not store dataset information.\n",
      "  warn(f\"dataset_info with the same primary keys already exists with id {searched_id}, will not store dataset information.\")\n",
      "c:\\Users\\carlo\\miniconda3\\lib\\site-packages\\torch\\nn\\modules\\rnn.py:71: UserWarning: dropout option adds dropout after all but last recurrent layer, so non-zero dropout expects num_layers greater than 1, but got dropout=0.2 and num_layers=1\n",
      "  warnings.warn(\"dropout option adds dropout after all but last \"\n"
     ]
    },
    {
     "data": {
      "application/vnd.jupyter.widget-view+json": {
       "model_id": "0e1dd2e05f0b46908c1c726ea0988920",
       "version_major": 2,
       "version_minor": 0
      },
      "text/plain": [
       "Multi-fold validation:   0%|          | 0/1 [00:00<?, ?it/s]"
      ]
     },
     "metadata": {},
     "output_type": "display_data"
    },
    {
     "data": {
      "application/vnd.jupyter.widget-view+json": {
       "model_id": "acda5c78bac14276909e2b63b92ee57e",
       "version_major": 2,
       "version_minor": 0
      },
      "text/plain": [
       "Epoch:   0%|          | 0/60 [00:00<?, ?it/s]"
      ]
     },
     "metadata": {},
     "output_type": "display_data"
    },
    {
     "name": "stdout",
     "output_type": "stream",
     "text": [
      "Averaged validation loss: nan. Test loss: 2789.892233002221.\n"
     ]
    },
    {
     "name": "stderr",
     "output_type": "stream",
     "text": [
      "C:\\Users\\carlo\\GitHub\\ProjectBuffalo\\buffalo\\predictor\\__init__.py:223: RuntimeWarning: Mean of empty slice\n",
      "  print(f'Averaged validation loss: {np.nanmean(train_valid_loss)}. Test loss: {test_loss}.')\n",
      "C:\\Users\\carlo\\GitHub\\ProjectBuffalo\\buffalo\\predictor\\__init__.py:236: RuntimeWarning: Mean of empty slice\n",
      "  'average_validation_loss': np.nanmean(train_valid_loss) if non_empty_train_indices else None}\n",
      "C:\\Users\\carlo\\GitHub\\ProjectBuffalo\\buffalo\\predictor\\util.py:224: UserWarning: dataset_info with the same primary keys already exists with id 1, will not store dataset information.\n",
      "  warn(f\"dataset_info with the same primary keys already exists with id {searched_id}, will not store dataset information.\")\n",
      "C:\\Users\\carlo\\GitHub\\ProjectBuffalo\\buffalo\\predictor\\util.py:397: UserWarning: model_info with the same primary keys already exists with id 53, will not store model information.\n",
      "  warn(f'model_info with the same primary keys already exists with id {searched_id}, will not store model information.')\n",
      "c:\\Users\\carlo\\miniconda3\\lib\\site-packages\\torch\\nn\\modules\\rnn.py:71: UserWarning: dropout option adds dropout after all but last recurrent layer, so non-zero dropout expects num_layers greater than 1, but got dropout=0.2 and num_layers=1\n",
      "  warnings.warn(\"dropout option adds dropout after all but last \"\n"
     ]
    },
    {
     "data": {
      "application/vnd.jupyter.widget-view+json": {
       "model_id": "2a660329511440c29f24937757c688d8",
       "version_major": 2,
       "version_minor": 0
      },
      "text/plain": [
       "Multi-fold validation:   0%|          | 0/1 [00:00<?, ?it/s]"
      ]
     },
     "metadata": {},
     "output_type": "display_data"
    },
    {
     "data": {
      "application/vnd.jupyter.widget-view+json": {
       "model_id": "b779eed45c0b4a1caf7b4de234116b65",
       "version_major": 2,
       "version_minor": 0
      },
      "text/plain": [
       "Epoch:   0%|          | 0/60 [00:00<?, ?it/s]"
      ]
     },
     "metadata": {},
     "output_type": "display_data"
    },
    {
     "name": "stdout",
     "output_type": "stream",
     "text": [
      "Averaged validation loss: nan. Test loss: 3282.257983615344.\n"
     ]
    },
    {
     "name": "stderr",
     "output_type": "stream",
     "text": [
      "C:\\Users\\carlo\\GitHub\\ProjectBuffalo\\buffalo\\predictor\\__init__.py:223: RuntimeWarning: Mean of empty slice\n",
      "  print(f'Averaged validation loss: {np.nanmean(train_valid_loss)}. Test loss: {test_loss}.')\n",
      "C:\\Users\\carlo\\GitHub\\ProjectBuffalo\\buffalo\\predictor\\__init__.py:236: RuntimeWarning: Mean of empty slice\n",
      "  'average_validation_loss': np.nanmean(train_valid_loss) if non_empty_train_indices else None}\n",
      "C:\\Users\\carlo\\GitHub\\ProjectBuffalo\\buffalo\\predictor\\util.py:224: UserWarning: dataset_info with the same primary keys already exists with id 1, will not store dataset information.\n",
      "  warn(f\"dataset_info with the same primary keys already exists with id {searched_id}, will not store dataset information.\")\n",
      "C:\\Users\\carlo\\GitHub\\ProjectBuffalo\\buffalo\\predictor\\util.py:397: UserWarning: model_info with the same primary keys already exists with id 54, will not store model information.\n",
      "  warn(f'model_info with the same primary keys already exists with id {searched_id}, will not store model information.')\n",
      "c:\\Users\\carlo\\miniconda3\\lib\\site-packages\\torch\\nn\\modules\\rnn.py:71: UserWarning: dropout option adds dropout after all but last recurrent layer, so non-zero dropout expects num_layers greater than 1, but got dropout=0.4 and num_layers=1\n",
      "  warnings.warn(\"dropout option adds dropout after all but last \"\n"
     ]
    },
    {
     "data": {
      "application/vnd.jupyter.widget-view+json": {
       "model_id": "f81a30bd2385436487b20cc61dd18574",
       "version_major": 2,
       "version_minor": 0
      },
      "text/plain": [
       "Multi-fold validation:   0%|          | 0/1 [00:00<?, ?it/s]"
      ]
     },
     "metadata": {},
     "output_type": "display_data"
    },
    {
     "data": {
      "application/vnd.jupyter.widget-view+json": {
       "model_id": "72044a5d9c4a4588af293631d3c00a6c",
       "version_major": 2,
       "version_minor": 0
      },
      "text/plain": [
       "Epoch:   0%|          | 0/30 [00:00<?, ?it/s]"
      ]
     },
     "metadata": {},
     "output_type": "display_data"
    },
    {
     "name": "stdout",
     "output_type": "stream",
     "text": [
      "Averaged validation loss: nan. Test loss: 3333.1435243205515.\n"
     ]
    },
    {
     "name": "stderr",
     "output_type": "stream",
     "text": [
      "C:\\Users\\carlo\\GitHub\\ProjectBuffalo\\buffalo\\predictor\\__init__.py:223: RuntimeWarning: Mean of empty slice\n",
      "  print(f'Averaged validation loss: {np.nanmean(train_valid_loss)}. Test loss: {test_loss}.')\n",
      "C:\\Users\\carlo\\GitHub\\ProjectBuffalo\\buffalo\\predictor\\__init__.py:236: RuntimeWarning: Mean of empty slice\n",
      "  'average_validation_loss': np.nanmean(train_valid_loss) if non_empty_train_indices else None}\n",
      "C:\\Users\\carlo\\GitHub\\ProjectBuffalo\\buffalo\\predictor\\util.py:224: UserWarning: dataset_info with the same primary keys already exists with id 1, will not store dataset information.\n",
      "  warn(f\"dataset_info with the same primary keys already exists with id {searched_id}, will not store dataset information.\")\n",
      "c:\\Users\\carlo\\miniconda3\\lib\\site-packages\\torch\\nn\\modules\\rnn.py:71: UserWarning: dropout option adds dropout after all but last recurrent layer, so non-zero dropout expects num_layers greater than 1, but got dropout=0.4 and num_layers=1\n",
      "  warnings.warn(\"dropout option adds dropout after all but last \"\n"
     ]
    },
    {
     "data": {
      "application/vnd.jupyter.widget-view+json": {
       "model_id": "01a8506e0163447d91a3728a7f756d91",
       "version_major": 2,
       "version_minor": 0
      },
      "text/plain": [
       "Multi-fold validation:   0%|          | 0/1 [00:00<?, ?it/s]"
      ]
     },
     "metadata": {},
     "output_type": "display_data"
    },
    {
     "data": {
      "application/vnd.jupyter.widget-view+json": {
       "model_id": "1049f93d23cf4493b3c3c6828f7aedbd",
       "version_major": 2,
       "version_minor": 0
      },
      "text/plain": [
       "Epoch:   0%|          | 0/30 [00:00<?, ?it/s]"
      ]
     },
     "metadata": {},
     "output_type": "display_data"
    },
    {
     "name": "stdout",
     "output_type": "stream",
     "text": [
      "Averaged validation loss: nan. Test loss: 3281.668618024278.\n"
     ]
    },
    {
     "name": "stderr",
     "output_type": "stream",
     "text": [
      "C:\\Users\\carlo\\GitHub\\ProjectBuffalo\\buffalo\\predictor\\__init__.py:223: RuntimeWarning: Mean of empty slice\n",
      "  print(f'Averaged validation loss: {np.nanmean(train_valid_loss)}. Test loss: {test_loss}.')\n",
      "C:\\Users\\carlo\\GitHub\\ProjectBuffalo\\buffalo\\predictor\\__init__.py:236: RuntimeWarning: Mean of empty slice\n",
      "  'average_validation_loss': np.nanmean(train_valid_loss) if non_empty_train_indices else None}\n",
      "C:\\Users\\carlo\\GitHub\\ProjectBuffalo\\buffalo\\predictor\\util.py:224: UserWarning: dataset_info with the same primary keys already exists with id 1, will not store dataset information.\n",
      "  warn(f\"dataset_info with the same primary keys already exists with id {searched_id}, will not store dataset information.\")\n",
      "c:\\Users\\carlo\\miniconda3\\lib\\site-packages\\torch\\nn\\modules\\rnn.py:71: UserWarning: dropout option adds dropout after all but last recurrent layer, so non-zero dropout expects num_layers greater than 1, but got dropout=0.4 and num_layers=1\n",
      "  warnings.warn(\"dropout option adds dropout after all but last \"\n"
     ]
    },
    {
     "data": {
      "application/vnd.jupyter.widget-view+json": {
       "model_id": "4f0a5230d65b4585925f82a9cefde7d5",
       "version_major": 2,
       "version_minor": 0
      },
      "text/plain": [
       "Multi-fold validation:   0%|          | 0/1 [00:00<?, ?it/s]"
      ]
     },
     "metadata": {},
     "output_type": "display_data"
    },
    {
     "data": {
      "application/vnd.jupyter.widget-view+json": {
       "model_id": "1d3e6d31d60a440cabae162c687aafc7",
       "version_major": 2,
       "version_minor": 0
      },
      "text/plain": [
       "Epoch:   0%|          | 0/60 [00:00<?, ?it/s]"
      ]
     },
     "metadata": {},
     "output_type": "display_data"
    },
    {
     "name": "stdout",
     "output_type": "stream",
     "text": [
      "Averaged validation loss: nan. Test loss: 2983.566865369339.\n"
     ]
    },
    {
     "name": "stderr",
     "output_type": "stream",
     "text": [
      "C:\\Users\\carlo\\GitHub\\ProjectBuffalo\\buffalo\\predictor\\__init__.py:223: RuntimeWarning: Mean of empty slice\n",
      "  print(f'Averaged validation loss: {np.nanmean(train_valid_loss)}. Test loss: {test_loss}.')\n",
      "C:\\Users\\carlo\\GitHub\\ProjectBuffalo\\buffalo\\predictor\\__init__.py:236: RuntimeWarning: Mean of empty slice\n",
      "  'average_validation_loss': np.nanmean(train_valid_loss) if non_empty_train_indices else None}\n",
      "C:\\Users\\carlo\\GitHub\\ProjectBuffalo\\buffalo\\predictor\\util.py:224: UserWarning: dataset_info with the same primary keys already exists with id 1, will not store dataset information.\n",
      "  warn(f\"dataset_info with the same primary keys already exists with id {searched_id}, will not store dataset information.\")\n",
      "C:\\Users\\carlo\\GitHub\\ProjectBuffalo\\buffalo\\predictor\\util.py:397: UserWarning: model_info with the same primary keys already exists with id 55, will not store model information.\n",
      "  warn(f'model_info with the same primary keys already exists with id {searched_id}, will not store model information.')\n",
      "c:\\Users\\carlo\\miniconda3\\lib\\site-packages\\torch\\nn\\modules\\rnn.py:71: UserWarning: dropout option adds dropout after all but last recurrent layer, so non-zero dropout expects num_layers greater than 1, but got dropout=0.4 and num_layers=1\n",
      "  warnings.warn(\"dropout option adds dropout after all but last \"\n"
     ]
    },
    {
     "data": {
      "application/vnd.jupyter.widget-view+json": {
       "model_id": "97a5c489fb8a4aa8a1f4ab08ba7cc939",
       "version_major": 2,
       "version_minor": 0
      },
      "text/plain": [
       "Multi-fold validation:   0%|          | 0/1 [00:00<?, ?it/s]"
      ]
     },
     "metadata": {},
     "output_type": "display_data"
    },
    {
     "data": {
      "application/vnd.jupyter.widget-view+json": {
       "model_id": "403ef37f66124fa9b5ab8e71f6f4cbef",
       "version_major": 2,
       "version_minor": 0
      },
      "text/plain": [
       "Epoch:   0%|          | 0/60 [00:00<?, ?it/s]"
      ]
     },
     "metadata": {},
     "output_type": "display_data"
    },
    {
     "name": "stdout",
     "output_type": "stream",
     "text": [
      "Averaged validation loss: nan. Test loss: 2871.8473889726524.\n"
     ]
    },
    {
     "name": "stderr",
     "output_type": "stream",
     "text": [
      "C:\\Users\\carlo\\GitHub\\ProjectBuffalo\\buffalo\\predictor\\__init__.py:223: RuntimeWarning: Mean of empty slice\n",
      "  print(f'Averaged validation loss: {np.nanmean(train_valid_loss)}. Test loss: {test_loss}.')\n",
      "C:\\Users\\carlo\\GitHub\\ProjectBuffalo\\buffalo\\predictor\\__init__.py:236: RuntimeWarning: Mean of empty slice\n",
      "  'average_validation_loss': np.nanmean(train_valid_loss) if non_empty_train_indices else None}\n",
      "C:\\Users\\carlo\\GitHub\\ProjectBuffalo\\buffalo\\predictor\\util.py:224: UserWarning: dataset_info with the same primary keys already exists with id 1, will not store dataset information.\n",
      "  warn(f\"dataset_info with the same primary keys already exists with id {searched_id}, will not store dataset information.\")\n",
      "C:\\Users\\carlo\\GitHub\\ProjectBuffalo\\buffalo\\predictor\\util.py:397: UserWarning: model_info with the same primary keys already exists with id 56, will not store model information.\n",
      "  warn(f'model_info with the same primary keys already exists with id {searched_id}, will not store model information.')\n",
      "c:\\Users\\carlo\\miniconda3\\lib\\site-packages\\torch\\nn\\modules\\rnn.py:71: UserWarning: dropout option adds dropout after all but last recurrent layer, so non-zero dropout expects num_layers greater than 1, but got dropout=0.2 and num_layers=1\n",
      "  warnings.warn(\"dropout option adds dropout after all but last \"\n"
     ]
    },
    {
     "data": {
      "application/vnd.jupyter.widget-view+json": {
       "model_id": "567a4d40ef5f48328ad5281217b989a7",
       "version_major": 2,
       "version_minor": 0
      },
      "text/plain": [
       "Multi-fold validation:   0%|          | 0/1 [00:00<?, ?it/s]"
      ]
     },
     "metadata": {},
     "output_type": "display_data"
    },
    {
     "data": {
      "application/vnd.jupyter.widget-view+json": {
       "model_id": "3bbe9e481f6e4a33bf4d1aeaa3e699e8",
       "version_major": 2,
       "version_minor": 0
      },
      "text/plain": [
       "Epoch:   0%|          | 0/30 [00:00<?, ?it/s]"
      ]
     },
     "metadata": {},
     "output_type": "display_data"
    },
    {
     "name": "stdout",
     "output_type": "stream",
     "text": [
      "Averaged validation loss: nan. Test loss: 1250.514715799104.\n"
     ]
    },
    {
     "name": "stderr",
     "output_type": "stream",
     "text": [
      "C:\\Users\\carlo\\GitHub\\ProjectBuffalo\\buffalo\\predictor\\__init__.py:223: RuntimeWarning: Mean of empty slice\n",
      "  print(f'Averaged validation loss: {np.nanmean(train_valid_loss)}. Test loss: {test_loss}.')\n",
      "C:\\Users\\carlo\\GitHub\\ProjectBuffalo\\buffalo\\predictor\\__init__.py:236: RuntimeWarning: Mean of empty slice\n",
      "  'average_validation_loss': np.nanmean(train_valid_loss) if non_empty_train_indices else None}\n",
      "C:\\Users\\carlo\\GitHub\\ProjectBuffalo\\buffalo\\predictor\\util.py:224: UserWarning: dataset_info with the same primary keys already exists with id 1, will not store dataset information.\n",
      "  warn(f\"dataset_info with the same primary keys already exists with id {searched_id}, will not store dataset information.\")\n",
      "c:\\Users\\carlo\\miniconda3\\lib\\site-packages\\torch\\nn\\modules\\rnn.py:71: UserWarning: dropout option adds dropout after all but last recurrent layer, so non-zero dropout expects num_layers greater than 1, but got dropout=0.2 and num_layers=1\n",
      "  warnings.warn(\"dropout option adds dropout after all but last \"\n"
     ]
    },
    {
     "data": {
      "application/vnd.jupyter.widget-view+json": {
       "model_id": "6022ea07705f4dd695a1bfb6c66bbb74",
       "version_major": 2,
       "version_minor": 0
      },
      "text/plain": [
       "Multi-fold validation:   0%|          | 0/1 [00:00<?, ?it/s]"
      ]
     },
     "metadata": {},
     "output_type": "display_data"
    },
    {
     "data": {
      "application/vnd.jupyter.widget-view+json": {
       "model_id": "860d75688faa4417a5fea6f16a728227",
       "version_major": 2,
       "version_minor": 0
      },
      "text/plain": [
       "Epoch:   0%|          | 0/30 [00:00<?, ?it/s]"
      ]
     },
     "metadata": {},
     "output_type": "display_data"
    },
    {
     "name": "stdout",
     "output_type": "stream",
     "text": [
      "Averaged validation loss: nan. Test loss: 1459.0685059075765.\n"
     ]
    },
    {
     "name": "stderr",
     "output_type": "stream",
     "text": [
      "C:\\Users\\carlo\\GitHub\\ProjectBuffalo\\buffalo\\predictor\\__init__.py:223: RuntimeWarning: Mean of empty slice\n",
      "  print(f'Averaged validation loss: {np.nanmean(train_valid_loss)}. Test loss: {test_loss}.')\n",
      "C:\\Users\\carlo\\GitHub\\ProjectBuffalo\\buffalo\\predictor\\__init__.py:236: RuntimeWarning: Mean of empty slice\n",
      "  'average_validation_loss': np.nanmean(train_valid_loss) if non_empty_train_indices else None}\n",
      "C:\\Users\\carlo\\GitHub\\ProjectBuffalo\\buffalo\\predictor\\util.py:224: UserWarning: dataset_info with the same primary keys already exists with id 1, will not store dataset information.\n",
      "  warn(f\"dataset_info with the same primary keys already exists with id {searched_id}, will not store dataset information.\")\n",
      "c:\\Users\\carlo\\miniconda3\\lib\\site-packages\\torch\\nn\\modules\\rnn.py:71: UserWarning: dropout option adds dropout after all but last recurrent layer, so non-zero dropout expects num_layers greater than 1, but got dropout=0.2 and num_layers=1\n",
      "  warnings.warn(\"dropout option adds dropout after all but last \"\n"
     ]
    },
    {
     "data": {
      "application/vnd.jupyter.widget-view+json": {
       "model_id": "c6c80129e9b742e9afa6b8effda9155f",
       "version_major": 2,
       "version_minor": 0
      },
      "text/plain": [
       "Multi-fold validation:   0%|          | 0/1 [00:00<?, ?it/s]"
      ]
     },
     "metadata": {},
     "output_type": "display_data"
    },
    {
     "data": {
      "application/vnd.jupyter.widget-view+json": {
       "model_id": "a9596940762d4b9db62ad5e30ab80056",
       "version_major": 2,
       "version_minor": 0
      },
      "text/plain": [
       "Epoch:   0%|          | 0/60 [00:00<?, ?it/s]"
      ]
     },
     "metadata": {},
     "output_type": "display_data"
    },
    {
     "name": "stdout",
     "output_type": "stream",
     "text": [
      "Averaged validation loss: nan. Test loss: 2648.7816050040874.\n"
     ]
    },
    {
     "name": "stderr",
     "output_type": "stream",
     "text": [
      "C:\\Users\\carlo\\GitHub\\ProjectBuffalo\\buffalo\\predictor\\__init__.py:223: RuntimeWarning: Mean of empty slice\n",
      "  print(f'Averaged validation loss: {np.nanmean(train_valid_loss)}. Test loss: {test_loss}.')\n",
      "C:\\Users\\carlo\\GitHub\\ProjectBuffalo\\buffalo\\predictor\\__init__.py:236: RuntimeWarning: Mean of empty slice\n",
      "  'average_validation_loss': np.nanmean(train_valid_loss) if non_empty_train_indices else None}\n",
      "C:\\Users\\carlo\\GitHub\\ProjectBuffalo\\buffalo\\predictor\\util.py:224: UserWarning: dataset_info with the same primary keys already exists with id 1, will not store dataset information.\n",
      "  warn(f\"dataset_info with the same primary keys already exists with id {searched_id}, will not store dataset information.\")\n",
      "C:\\Users\\carlo\\GitHub\\ProjectBuffalo\\buffalo\\predictor\\util.py:397: UserWarning: model_info with the same primary keys already exists with id 57, will not store model information.\n",
      "  warn(f'model_info with the same primary keys already exists with id {searched_id}, will not store model information.')\n",
      "c:\\Users\\carlo\\miniconda3\\lib\\site-packages\\torch\\nn\\modules\\rnn.py:71: UserWarning: dropout option adds dropout after all but last recurrent layer, so non-zero dropout expects num_layers greater than 1, but got dropout=0.2 and num_layers=1\n",
      "  warnings.warn(\"dropout option adds dropout after all but last \"\n"
     ]
    },
    {
     "data": {
      "application/vnd.jupyter.widget-view+json": {
       "model_id": "c914b3dd42c841e982ce926db054a00f",
       "version_major": 2,
       "version_minor": 0
      },
      "text/plain": [
       "Multi-fold validation:   0%|          | 0/1 [00:00<?, ?it/s]"
      ]
     },
     "metadata": {},
     "output_type": "display_data"
    },
    {
     "data": {
      "application/vnd.jupyter.widget-view+json": {
       "model_id": "bff4f016156443c2ac86776910e669f4",
       "version_major": 2,
       "version_minor": 0
      },
      "text/plain": [
       "Epoch:   0%|          | 0/60 [00:00<?, ?it/s]"
      ]
     },
     "metadata": {},
     "output_type": "display_data"
    },
    {
     "name": "stdout",
     "output_type": "stream",
     "text": [
      "Averaged validation loss: nan. Test loss: 2796.8464724210266.\n"
     ]
    },
    {
     "name": "stderr",
     "output_type": "stream",
     "text": [
      "C:\\Users\\carlo\\GitHub\\ProjectBuffalo\\buffalo\\predictor\\__init__.py:223: RuntimeWarning: Mean of empty slice\n",
      "  print(f'Averaged validation loss: {np.nanmean(train_valid_loss)}. Test loss: {test_loss}.')\n",
      "C:\\Users\\carlo\\GitHub\\ProjectBuffalo\\buffalo\\predictor\\__init__.py:236: RuntimeWarning: Mean of empty slice\n",
      "  'average_validation_loss': np.nanmean(train_valid_loss) if non_empty_train_indices else None}\n",
      "C:\\Users\\carlo\\GitHub\\ProjectBuffalo\\buffalo\\predictor\\util.py:224: UserWarning: dataset_info with the same primary keys already exists with id 1, will not store dataset information.\n",
      "  warn(f\"dataset_info with the same primary keys already exists with id {searched_id}, will not store dataset information.\")\n",
      "C:\\Users\\carlo\\GitHub\\ProjectBuffalo\\buffalo\\predictor\\util.py:397: UserWarning: model_info with the same primary keys already exists with id 58, will not store model information.\n",
      "  warn(f'model_info with the same primary keys already exists with id {searched_id}, will not store model information.')\n",
      "c:\\Users\\carlo\\miniconda3\\lib\\site-packages\\torch\\nn\\modules\\rnn.py:71: UserWarning: dropout option adds dropout after all but last recurrent layer, so non-zero dropout expects num_layers greater than 1, but got dropout=0.4 and num_layers=1\n",
      "  warnings.warn(\"dropout option adds dropout after all but last \"\n"
     ]
    },
    {
     "data": {
      "application/vnd.jupyter.widget-view+json": {
       "model_id": "3e6a2bbd18de4f37ba0a00c3c97877f7",
       "version_major": 2,
       "version_minor": 0
      },
      "text/plain": [
       "Multi-fold validation:   0%|          | 0/1 [00:00<?, ?it/s]"
      ]
     },
     "metadata": {},
     "output_type": "display_data"
    },
    {
     "data": {
      "application/vnd.jupyter.widget-view+json": {
       "model_id": "03d11ca664e34224a6f13bf7e25f1c53",
       "version_major": 2,
       "version_minor": 0
      },
      "text/plain": [
       "Epoch:   0%|          | 0/30 [00:00<?, ?it/s]"
      ]
     },
     "metadata": {},
     "output_type": "display_data"
    },
    {
     "name": "stdout",
     "output_type": "stream",
     "text": [
      "Averaged validation loss: nan. Test loss: 1424.1303566332983.\n"
     ]
    },
    {
     "name": "stderr",
     "output_type": "stream",
     "text": [
      "C:\\Users\\carlo\\GitHub\\ProjectBuffalo\\buffalo\\predictor\\__init__.py:223: RuntimeWarning: Mean of empty slice\n",
      "  print(f'Averaged validation loss: {np.nanmean(train_valid_loss)}. Test loss: {test_loss}.')\n",
      "C:\\Users\\carlo\\GitHub\\ProjectBuffalo\\buffalo\\predictor\\__init__.py:236: RuntimeWarning: Mean of empty slice\n",
      "  'average_validation_loss': np.nanmean(train_valid_loss) if non_empty_train_indices else None}\n",
      "C:\\Users\\carlo\\GitHub\\ProjectBuffalo\\buffalo\\predictor\\util.py:224: UserWarning: dataset_info with the same primary keys already exists with id 1, will not store dataset information.\n",
      "  warn(f\"dataset_info with the same primary keys already exists with id {searched_id}, will not store dataset information.\")\n",
      "c:\\Users\\carlo\\miniconda3\\lib\\site-packages\\torch\\nn\\modules\\rnn.py:71: UserWarning: dropout option adds dropout after all but last recurrent layer, so non-zero dropout expects num_layers greater than 1, but got dropout=0.4 and num_layers=1\n",
      "  warnings.warn(\"dropout option adds dropout after all but last \"\n"
     ]
    },
    {
     "data": {
      "application/vnd.jupyter.widget-view+json": {
       "model_id": "4b2d4e0fdf544f68aab3be26224dec4f",
       "version_major": 2,
       "version_minor": 0
      },
      "text/plain": [
       "Multi-fold validation:   0%|          | 0/1 [00:00<?, ?it/s]"
      ]
     },
     "metadata": {},
     "output_type": "display_data"
    },
    {
     "data": {
      "application/vnd.jupyter.widget-view+json": {
       "model_id": "d8613d9555d6469faa0e5b7fe113ea62",
       "version_major": 2,
       "version_minor": 0
      },
      "text/plain": [
       "Epoch:   0%|          | 0/30 [00:00<?, ?it/s]"
      ]
     },
     "metadata": {},
     "output_type": "display_data"
    },
    {
     "name": "stdout",
     "output_type": "stream",
     "text": [
      "Averaged validation loss: nan. Test loss: 1263.959738608056.\n"
     ]
    },
    {
     "name": "stderr",
     "output_type": "stream",
     "text": [
      "C:\\Users\\carlo\\GitHub\\ProjectBuffalo\\buffalo\\predictor\\__init__.py:223: RuntimeWarning: Mean of empty slice\n",
      "  print(f'Averaged validation loss: {np.nanmean(train_valid_loss)}. Test loss: {test_loss}.')\n",
      "C:\\Users\\carlo\\GitHub\\ProjectBuffalo\\buffalo\\predictor\\__init__.py:236: RuntimeWarning: Mean of empty slice\n",
      "  'average_validation_loss': np.nanmean(train_valid_loss) if non_empty_train_indices else None}\n",
      "C:\\Users\\carlo\\GitHub\\ProjectBuffalo\\buffalo\\predictor\\util.py:224: UserWarning: dataset_info with the same primary keys already exists with id 1, will not store dataset information.\n",
      "  warn(f\"dataset_info with the same primary keys already exists with id {searched_id}, will not store dataset information.\")\n",
      "c:\\Users\\carlo\\miniconda3\\lib\\site-packages\\torch\\nn\\modules\\rnn.py:71: UserWarning: dropout option adds dropout after all but last recurrent layer, so non-zero dropout expects num_layers greater than 1, but got dropout=0.4 and num_layers=1\n",
      "  warnings.warn(\"dropout option adds dropout after all but last \"\n"
     ]
    },
    {
     "data": {
      "application/vnd.jupyter.widget-view+json": {
       "model_id": "214f40c9d310473183455a16c6aa6bb6",
       "version_major": 2,
       "version_minor": 0
      },
      "text/plain": [
       "Multi-fold validation:   0%|          | 0/1 [00:00<?, ?it/s]"
      ]
     },
     "metadata": {},
     "output_type": "display_data"
    },
    {
     "data": {
      "application/vnd.jupyter.widget-view+json": {
       "model_id": "3c92fbaf0a6d436380db876c0e08b68b",
       "version_major": 2,
       "version_minor": 0
      },
      "text/plain": [
       "Epoch:   0%|          | 0/60 [00:00<?, ?it/s]"
      ]
     },
     "metadata": {},
     "output_type": "display_data"
    },
    {
     "name": "stdout",
     "output_type": "stream",
     "text": [
      "Averaged validation loss: nan. Test loss: 2665.2550888739356.\n"
     ]
    },
    {
     "name": "stderr",
     "output_type": "stream",
     "text": [
      "C:\\Users\\carlo\\GitHub\\ProjectBuffalo\\buffalo\\predictor\\__init__.py:223: RuntimeWarning: Mean of empty slice\n",
      "  print(f'Averaged validation loss: {np.nanmean(train_valid_loss)}. Test loss: {test_loss}.')\n",
      "C:\\Users\\carlo\\GitHub\\ProjectBuffalo\\buffalo\\predictor\\__init__.py:236: RuntimeWarning: Mean of empty slice\n",
      "  'average_validation_loss': np.nanmean(train_valid_loss) if non_empty_train_indices else None}\n",
      "C:\\Users\\carlo\\GitHub\\ProjectBuffalo\\buffalo\\predictor\\util.py:224: UserWarning: dataset_info with the same primary keys already exists with id 1, will not store dataset information.\n",
      "  warn(f\"dataset_info with the same primary keys already exists with id {searched_id}, will not store dataset information.\")\n",
      "C:\\Users\\carlo\\GitHub\\ProjectBuffalo\\buffalo\\predictor\\util.py:397: UserWarning: model_info with the same primary keys already exists with id 59, will not store model information.\n",
      "  warn(f'model_info with the same primary keys already exists with id {searched_id}, will not store model information.')\n",
      "c:\\Users\\carlo\\miniconda3\\lib\\site-packages\\torch\\nn\\modules\\rnn.py:71: UserWarning: dropout option adds dropout after all but last recurrent layer, so non-zero dropout expects num_layers greater than 1, but got dropout=0.4 and num_layers=1\n",
      "  warnings.warn(\"dropout option adds dropout after all but last \"\n"
     ]
    },
    {
     "data": {
      "application/vnd.jupyter.widget-view+json": {
       "model_id": "38dea8a9e7fc40498a4e662a2f201002",
       "version_major": 2,
       "version_minor": 0
      },
      "text/plain": [
       "Multi-fold validation:   0%|          | 0/1 [00:00<?, ?it/s]"
      ]
     },
     "metadata": {},
     "output_type": "display_data"
    },
    {
     "data": {
      "application/vnd.jupyter.widget-view+json": {
       "model_id": "9c1f8854a5614cf0b8467b0374680043",
       "version_major": 2,
       "version_minor": 0
      },
      "text/plain": [
       "Epoch:   0%|          | 0/60 [00:00<?, ?it/s]"
      ]
     },
     "metadata": {},
     "output_type": "display_data"
    },
    {
     "name": "stdout",
     "output_type": "stream",
     "text": [
      "Averaged validation loss: nan. Test loss: 2144.7239228650587.\n"
     ]
    },
    {
     "name": "stderr",
     "output_type": "stream",
     "text": [
      "C:\\Users\\carlo\\GitHub\\ProjectBuffalo\\buffalo\\predictor\\__init__.py:223: RuntimeWarning: Mean of empty slice\n",
      "  print(f'Averaged validation loss: {np.nanmean(train_valid_loss)}. Test loss: {test_loss}.')\n",
      "C:\\Users\\carlo\\GitHub\\ProjectBuffalo\\buffalo\\predictor\\__init__.py:236: RuntimeWarning: Mean of empty slice\n",
      "  'average_validation_loss': np.nanmean(train_valid_loss) if non_empty_train_indices else None}\n",
      "C:\\Users\\carlo\\GitHub\\ProjectBuffalo\\buffalo\\predictor\\util.py:224: UserWarning: dataset_info with the same primary keys already exists with id 1, will not store dataset information.\n",
      "  warn(f\"dataset_info with the same primary keys already exists with id {searched_id}, will not store dataset information.\")\n",
      "C:\\Users\\carlo\\GitHub\\ProjectBuffalo\\buffalo\\predictor\\util.py:397: UserWarning: model_info with the same primary keys already exists with id 60, will not store model information.\n",
      "  warn(f'model_info with the same primary keys already exists with id {searched_id}, will not store model information.')\n",
      "c:\\Users\\carlo\\miniconda3\\lib\\site-packages\\torch\\nn\\modules\\rnn.py:71: UserWarning: dropout option adds dropout after all but last recurrent layer, so non-zero dropout expects num_layers greater than 1, but got dropout=0.2 and num_layers=1\n",
      "  warnings.warn(\"dropout option adds dropout after all but last \"\n"
     ]
    },
    {
     "data": {
      "application/vnd.jupyter.widget-view+json": {
       "model_id": "317198e1b03f44e2a28395bb99a8b2ff",
       "version_major": 2,
       "version_minor": 0
      },
      "text/plain": [
       "Multi-fold validation:   0%|          | 0/1 [00:00<?, ?it/s]"
      ]
     },
     "metadata": {},
     "output_type": "display_data"
    },
    {
     "data": {
      "application/vnd.jupyter.widget-view+json": {
       "model_id": "f32bcd7e25984a45bb210a60d38024b5",
       "version_major": 2,
       "version_minor": 0
      },
      "text/plain": [
       "Epoch:   0%|          | 0/30 [00:00<?, ?it/s]"
      ]
     },
     "metadata": {},
     "output_type": "display_data"
    },
    {
     "name": "stdout",
     "output_type": "stream",
     "text": [
      "Averaged validation loss: nan. Test loss: 188.52560158566686.\n"
     ]
    },
    {
     "name": "stderr",
     "output_type": "stream",
     "text": [
      "C:\\Users\\carlo\\GitHub\\ProjectBuffalo\\buffalo\\predictor\\__init__.py:223: RuntimeWarning: Mean of empty slice\n",
      "  print(f'Averaged validation loss: {np.nanmean(train_valid_loss)}. Test loss: {test_loss}.')\n",
      "C:\\Users\\carlo\\GitHub\\ProjectBuffalo\\buffalo\\predictor\\__init__.py:236: RuntimeWarning: Mean of empty slice\n",
      "  'average_validation_loss': np.nanmean(train_valid_loss) if non_empty_train_indices else None}\n",
      "C:\\Users\\carlo\\GitHub\\ProjectBuffalo\\buffalo\\predictor\\util.py:224: UserWarning: dataset_info with the same primary keys already exists with id 1, will not store dataset information.\n",
      "  warn(f\"dataset_info with the same primary keys already exists with id {searched_id}, will not store dataset information.\")\n",
      "c:\\Users\\carlo\\miniconda3\\lib\\site-packages\\torch\\nn\\modules\\rnn.py:71: UserWarning: dropout option adds dropout after all but last recurrent layer, so non-zero dropout expects num_layers greater than 1, but got dropout=0.2 and num_layers=1\n",
      "  warnings.warn(\"dropout option adds dropout after all but last \"\n"
     ]
    },
    {
     "data": {
      "application/vnd.jupyter.widget-view+json": {
       "model_id": "291845dbd7d64300b26ea2cf75491053",
       "version_major": 2,
       "version_minor": 0
      },
      "text/plain": [
       "Multi-fold validation:   0%|          | 0/1 [00:00<?, ?it/s]"
      ]
     },
     "metadata": {},
     "output_type": "display_data"
    },
    {
     "data": {
      "application/vnd.jupyter.widget-view+json": {
       "model_id": "bc6346b4fe1b4002a29b622bfe2dd834",
       "version_major": 2,
       "version_minor": 0
      },
      "text/plain": [
       "Epoch:   0%|          | 0/30 [00:00<?, ?it/s]"
      ]
     },
     "metadata": {},
     "output_type": "display_data"
    },
    {
     "name": "stdout",
     "output_type": "stream",
     "text": [
      "Averaged validation loss: nan. Test loss: 188.5940612932301.\n"
     ]
    },
    {
     "name": "stderr",
     "output_type": "stream",
     "text": [
      "C:\\Users\\carlo\\GitHub\\ProjectBuffalo\\buffalo\\predictor\\__init__.py:223: RuntimeWarning: Mean of empty slice\n",
      "  print(f'Averaged validation loss: {np.nanmean(train_valid_loss)}. Test loss: {test_loss}.')\n",
      "C:\\Users\\carlo\\GitHub\\ProjectBuffalo\\buffalo\\predictor\\__init__.py:236: RuntimeWarning: Mean of empty slice\n",
      "  'average_validation_loss': np.nanmean(train_valid_loss) if non_empty_train_indices else None}\n",
      "C:\\Users\\carlo\\GitHub\\ProjectBuffalo\\buffalo\\predictor\\util.py:224: UserWarning: dataset_info with the same primary keys already exists with id 1, will not store dataset information.\n",
      "  warn(f\"dataset_info with the same primary keys already exists with id {searched_id}, will not store dataset information.\")\n",
      "c:\\Users\\carlo\\miniconda3\\lib\\site-packages\\torch\\nn\\modules\\rnn.py:71: UserWarning: dropout option adds dropout after all but last recurrent layer, so non-zero dropout expects num_layers greater than 1, but got dropout=0.2 and num_layers=1\n",
      "  warnings.warn(\"dropout option adds dropout after all but last \"\n"
     ]
    },
    {
     "data": {
      "application/vnd.jupyter.widget-view+json": {
       "model_id": "2c7674b14f30464085f3f1c71defff46",
       "version_major": 2,
       "version_minor": 0
      },
      "text/plain": [
       "Multi-fold validation:   0%|          | 0/1 [00:00<?, ?it/s]"
      ]
     },
     "metadata": {},
     "output_type": "display_data"
    },
    {
     "data": {
      "application/vnd.jupyter.widget-view+json": {
       "model_id": "ce4c5c3b8ee7475a848eef2b4c497a38",
       "version_major": 2,
       "version_minor": 0
      },
      "text/plain": [
       "Epoch:   0%|          | 0/60 [00:00<?, ?it/s]"
      ]
     },
     "metadata": {},
     "output_type": "display_data"
    },
    {
     "name": "stdout",
     "output_type": "stream",
     "text": [
      "Averaged validation loss: nan. Test loss: 1401.9032125821354.\n"
     ]
    },
    {
     "name": "stderr",
     "output_type": "stream",
     "text": [
      "C:\\Users\\carlo\\GitHub\\ProjectBuffalo\\buffalo\\predictor\\__init__.py:223: RuntimeWarning: Mean of empty slice\n",
      "  print(f'Averaged validation loss: {np.nanmean(train_valid_loss)}. Test loss: {test_loss}.')\n",
      "C:\\Users\\carlo\\GitHub\\ProjectBuffalo\\buffalo\\predictor\\__init__.py:236: RuntimeWarning: Mean of empty slice\n",
      "  'average_validation_loss': np.nanmean(train_valid_loss) if non_empty_train_indices else None}\n",
      "C:\\Users\\carlo\\GitHub\\ProjectBuffalo\\buffalo\\predictor\\util.py:224: UserWarning: dataset_info with the same primary keys already exists with id 1, will not store dataset information.\n",
      "  warn(f\"dataset_info with the same primary keys already exists with id {searched_id}, will not store dataset information.\")\n",
      "C:\\Users\\carlo\\GitHub\\ProjectBuffalo\\buffalo\\predictor\\util.py:397: UserWarning: model_info with the same primary keys already exists with id 61, will not store model information.\n",
      "  warn(f'model_info with the same primary keys already exists with id {searched_id}, will not store model information.')\n",
      "c:\\Users\\carlo\\miniconda3\\lib\\site-packages\\torch\\nn\\modules\\rnn.py:71: UserWarning: dropout option adds dropout after all but last recurrent layer, so non-zero dropout expects num_layers greater than 1, but got dropout=0.2 and num_layers=1\n",
      "  warnings.warn(\"dropout option adds dropout after all but last \"\n"
     ]
    },
    {
     "data": {
      "application/vnd.jupyter.widget-view+json": {
       "model_id": "ef81a3c0caa14085b46753b4381f97e9",
       "version_major": 2,
       "version_minor": 0
      },
      "text/plain": [
       "Multi-fold validation:   0%|          | 0/1 [00:00<?, ?it/s]"
      ]
     },
     "metadata": {},
     "output_type": "display_data"
    },
    {
     "data": {
      "application/vnd.jupyter.widget-view+json": {
       "model_id": "3370124d89d7488ab11d94923abfbe3b",
       "version_major": 2,
       "version_minor": 0
      },
      "text/plain": [
       "Epoch:   0%|          | 0/60 [00:00<?, ?it/s]"
      ]
     },
     "metadata": {},
     "output_type": "display_data"
    },
    {
     "name": "stdout",
     "output_type": "stream",
     "text": [
      "Averaged validation loss: nan. Test loss: 1394.531580300816.\n"
     ]
    },
    {
     "name": "stderr",
     "output_type": "stream",
     "text": [
      "C:\\Users\\carlo\\GitHub\\ProjectBuffalo\\buffalo\\predictor\\__init__.py:223: RuntimeWarning: Mean of empty slice\n",
      "  print(f'Averaged validation loss: {np.nanmean(train_valid_loss)}. Test loss: {test_loss}.')\n",
      "C:\\Users\\carlo\\GitHub\\ProjectBuffalo\\buffalo\\predictor\\__init__.py:236: RuntimeWarning: Mean of empty slice\n",
      "  'average_validation_loss': np.nanmean(train_valid_loss) if non_empty_train_indices else None}\n",
      "C:\\Users\\carlo\\GitHub\\ProjectBuffalo\\buffalo\\predictor\\util.py:224: UserWarning: dataset_info with the same primary keys already exists with id 1, will not store dataset information.\n",
      "  warn(f\"dataset_info with the same primary keys already exists with id {searched_id}, will not store dataset information.\")\n",
      "C:\\Users\\carlo\\GitHub\\ProjectBuffalo\\buffalo\\predictor\\util.py:397: UserWarning: model_info with the same primary keys already exists with id 62, will not store model information.\n",
      "  warn(f'model_info with the same primary keys already exists with id {searched_id}, will not store model information.')\n",
      "c:\\Users\\carlo\\miniconda3\\lib\\site-packages\\torch\\nn\\modules\\rnn.py:71: UserWarning: dropout option adds dropout after all but last recurrent layer, so non-zero dropout expects num_layers greater than 1, but got dropout=0.4 and num_layers=1\n",
      "  warnings.warn(\"dropout option adds dropout after all but last \"\n"
     ]
    },
    {
     "data": {
      "application/vnd.jupyter.widget-view+json": {
       "model_id": "5dfa6b449b764ceba3e6f721d8316ada",
       "version_major": 2,
       "version_minor": 0
      },
      "text/plain": [
       "Multi-fold validation:   0%|          | 0/1 [00:00<?, ?it/s]"
      ]
     },
     "metadata": {},
     "output_type": "display_data"
    },
    {
     "data": {
      "application/vnd.jupyter.widget-view+json": {
       "model_id": "3a18abc5a08c4785a0170db49ddd8f71",
       "version_major": 2,
       "version_minor": 0
      },
      "text/plain": [
       "Epoch:   0%|          | 0/30 [00:00<?, ?it/s]"
      ]
     },
     "metadata": {},
     "output_type": "display_data"
    },
    {
     "name": "stdout",
     "output_type": "stream",
     "text": [
      "Averaged validation loss: nan. Test loss: 189.36146712232554.\n"
     ]
    },
    {
     "name": "stderr",
     "output_type": "stream",
     "text": [
      "C:\\Users\\carlo\\GitHub\\ProjectBuffalo\\buffalo\\predictor\\__init__.py:223: RuntimeWarning: Mean of empty slice\n",
      "  print(f'Averaged validation loss: {np.nanmean(train_valid_loss)}. Test loss: {test_loss}.')\n",
      "C:\\Users\\carlo\\GitHub\\ProjectBuffalo\\buffalo\\predictor\\__init__.py:236: RuntimeWarning: Mean of empty slice\n",
      "  'average_validation_loss': np.nanmean(train_valid_loss) if non_empty_train_indices else None}\n",
      "C:\\Users\\carlo\\GitHub\\ProjectBuffalo\\buffalo\\predictor\\util.py:224: UserWarning: dataset_info with the same primary keys already exists with id 1, will not store dataset information.\n",
      "  warn(f\"dataset_info with the same primary keys already exists with id {searched_id}, will not store dataset information.\")\n",
      "c:\\Users\\carlo\\miniconda3\\lib\\site-packages\\torch\\nn\\modules\\rnn.py:71: UserWarning: dropout option adds dropout after all but last recurrent layer, so non-zero dropout expects num_layers greater than 1, but got dropout=0.4 and num_layers=1\n",
      "  warnings.warn(\"dropout option adds dropout after all but last \"\n"
     ]
    },
    {
     "data": {
      "application/vnd.jupyter.widget-view+json": {
       "model_id": "9dd334744ad94fd0b21a00b08388ff75",
       "version_major": 2,
       "version_minor": 0
      },
      "text/plain": [
       "Multi-fold validation:   0%|          | 0/1 [00:00<?, ?it/s]"
      ]
     },
     "metadata": {},
     "output_type": "display_data"
    },
    {
     "data": {
      "application/vnd.jupyter.widget-view+json": {
       "model_id": "e8f70450678143d89d9f211a641fad12",
       "version_major": 2,
       "version_minor": 0
      },
      "text/plain": [
       "Epoch:   0%|          | 0/30 [00:00<?, ?it/s]"
      ]
     },
     "metadata": {},
     "output_type": "display_data"
    },
    {
     "name": "stdout",
     "output_type": "stream",
     "text": [
      "Averaged validation loss: nan. Test loss: 189.26072114076453.\n"
     ]
    },
    {
     "name": "stderr",
     "output_type": "stream",
     "text": [
      "C:\\Users\\carlo\\GitHub\\ProjectBuffalo\\buffalo\\predictor\\__init__.py:223: RuntimeWarning: Mean of empty slice\n",
      "  print(f'Averaged validation loss: {np.nanmean(train_valid_loss)}. Test loss: {test_loss}.')\n",
      "C:\\Users\\carlo\\GitHub\\ProjectBuffalo\\buffalo\\predictor\\__init__.py:236: RuntimeWarning: Mean of empty slice\n",
      "  'average_validation_loss': np.nanmean(train_valid_loss) if non_empty_train_indices else None}\n",
      "C:\\Users\\carlo\\GitHub\\ProjectBuffalo\\buffalo\\predictor\\util.py:224: UserWarning: dataset_info with the same primary keys already exists with id 1, will not store dataset information.\n",
      "  warn(f\"dataset_info with the same primary keys already exists with id {searched_id}, will not store dataset information.\")\n",
      "c:\\Users\\carlo\\miniconda3\\lib\\site-packages\\torch\\nn\\modules\\rnn.py:71: UserWarning: dropout option adds dropout after all but last recurrent layer, so non-zero dropout expects num_layers greater than 1, but got dropout=0.4 and num_layers=1\n",
      "  warnings.warn(\"dropout option adds dropout after all but last \"\n"
     ]
    },
    {
     "data": {
      "application/vnd.jupyter.widget-view+json": {
       "model_id": "eb2776bfc462483bbd5bcc6b3c166cd9",
       "version_major": 2,
       "version_minor": 0
      },
      "text/plain": [
       "Multi-fold validation:   0%|          | 0/1 [00:00<?, ?it/s]"
      ]
     },
     "metadata": {},
     "output_type": "display_data"
    },
    {
     "data": {
      "application/vnd.jupyter.widget-view+json": {
       "model_id": "b05e0f47b9734b86ba286a13ccb29e38",
       "version_major": 2,
       "version_minor": 0
      },
      "text/plain": [
       "Epoch:   0%|          | 0/60 [00:00<?, ?it/s]"
      ]
     },
     "metadata": {},
     "output_type": "display_data"
    },
    {
     "name": "stdout",
     "output_type": "stream",
     "text": [
      "Averaged validation loss: nan. Test loss: 1148.7994204009979.\n"
     ]
    },
    {
     "name": "stderr",
     "output_type": "stream",
     "text": [
      "C:\\Users\\carlo\\GitHub\\ProjectBuffalo\\buffalo\\predictor\\__init__.py:223: RuntimeWarning: Mean of empty slice\n",
      "  print(f'Averaged validation loss: {np.nanmean(train_valid_loss)}. Test loss: {test_loss}.')\n",
      "C:\\Users\\carlo\\GitHub\\ProjectBuffalo\\buffalo\\predictor\\__init__.py:236: RuntimeWarning: Mean of empty slice\n",
      "  'average_validation_loss': np.nanmean(train_valid_loss) if non_empty_train_indices else None}\n",
      "C:\\Users\\carlo\\GitHub\\ProjectBuffalo\\buffalo\\predictor\\util.py:224: UserWarning: dataset_info with the same primary keys already exists with id 1, will not store dataset information.\n",
      "  warn(f\"dataset_info with the same primary keys already exists with id {searched_id}, will not store dataset information.\")\n",
      "C:\\Users\\carlo\\GitHub\\ProjectBuffalo\\buffalo\\predictor\\util.py:397: UserWarning: model_info with the same primary keys already exists with id 63, will not store model information.\n",
      "  warn(f'model_info with the same primary keys already exists with id {searched_id}, will not store model information.')\n",
      "c:\\Users\\carlo\\miniconda3\\lib\\site-packages\\torch\\nn\\modules\\rnn.py:71: UserWarning: dropout option adds dropout after all but last recurrent layer, so non-zero dropout expects num_layers greater than 1, but got dropout=0.4 and num_layers=1\n",
      "  warnings.warn(\"dropout option adds dropout after all but last \"\n"
     ]
    },
    {
     "data": {
      "application/vnd.jupyter.widget-view+json": {
       "model_id": "b7600ce242fe4339820023646df77b1a",
       "version_major": 2,
       "version_minor": 0
      },
      "text/plain": [
       "Multi-fold validation:   0%|          | 0/1 [00:00<?, ?it/s]"
      ]
     },
     "metadata": {},
     "output_type": "display_data"
    },
    {
     "data": {
      "application/vnd.jupyter.widget-view+json": {
       "model_id": "928d15015bc146f980ba302583c6c280",
       "version_major": 2,
       "version_minor": 0
      },
      "text/plain": [
       "Epoch:   0%|          | 0/60 [00:00<?, ?it/s]"
      ]
     },
     "metadata": {},
     "output_type": "display_data"
    },
    {
     "name": "stdout",
     "output_type": "stream",
     "text": [
      "Averaged validation loss: nan. Test loss: 1403.249386394836.\n"
     ]
    },
    {
     "name": "stderr",
     "output_type": "stream",
     "text": [
      "C:\\Users\\carlo\\GitHub\\ProjectBuffalo\\buffalo\\predictor\\__init__.py:223: RuntimeWarning: Mean of empty slice\n",
      "  print(f'Averaged validation loss: {np.nanmean(train_valid_loss)}. Test loss: {test_loss}.')\n",
      "C:\\Users\\carlo\\GitHub\\ProjectBuffalo\\buffalo\\predictor\\__init__.py:236: RuntimeWarning: Mean of empty slice\n",
      "  'average_validation_loss': np.nanmean(train_valid_loss) if non_empty_train_indices else None}\n",
      "C:\\Users\\carlo\\GitHub\\ProjectBuffalo\\buffalo\\predictor\\util.py:224: UserWarning: dataset_info with the same primary keys already exists with id 1, will not store dataset information.\n",
      "  warn(f\"dataset_info with the same primary keys already exists with id {searched_id}, will not store dataset information.\")\n",
      "C:\\Users\\carlo\\GitHub\\ProjectBuffalo\\buffalo\\predictor\\util.py:397: UserWarning: model_info with the same primary keys already exists with id 64, will not store model information.\n",
      "  warn(f'model_info with the same primary keys already exists with id {searched_id}, will not store model information.')\n"
     ]
    },
    {
     "data": {
      "application/vnd.jupyter.widget-view+json": {
       "model_id": "bf23c80b0e1943839865176f783ca435",
       "version_major": 2,
       "version_minor": 0
      },
      "text/plain": [
       "Multi-fold validation:   0%|          | 0/1 [00:00<?, ?it/s]"
      ]
     },
     "metadata": {},
     "output_type": "display_data"
    },
    {
     "data": {
      "application/vnd.jupyter.widget-view+json": {
       "model_id": "162054a0134642268e415215ff4916fd",
       "version_major": 2,
       "version_minor": 0
      },
      "text/plain": [
       "Epoch:   0%|          | 0/30 [00:00<?, ?it/s]"
      ]
     },
     "metadata": {},
     "output_type": "display_data"
    },
    {
     "name": "stdout",
     "output_type": "stream",
     "text": [
      "Averaged validation loss: nan. Test loss: 2857.789355565153.\n"
     ]
    },
    {
     "name": "stderr",
     "output_type": "stream",
     "text": [
      "C:\\Users\\carlo\\GitHub\\ProjectBuffalo\\buffalo\\predictor\\__init__.py:223: RuntimeWarning: Mean of empty slice\n",
      "  print(f'Averaged validation loss: {np.nanmean(train_valid_loss)}. Test loss: {test_loss}.')\n",
      "C:\\Users\\carlo\\GitHub\\ProjectBuffalo\\buffalo\\predictor\\__init__.py:236: RuntimeWarning: Mean of empty slice\n",
      "  'average_validation_loss': np.nanmean(train_valid_loss) if non_empty_train_indices else None}\n",
      "C:\\Users\\carlo\\GitHub\\ProjectBuffalo\\buffalo\\predictor\\util.py:224: UserWarning: dataset_info with the same primary keys already exists with id 1, will not store dataset information.\n",
      "  warn(f\"dataset_info with the same primary keys already exists with id {searched_id}, will not store dataset information.\")\n"
     ]
    },
    {
     "data": {
      "application/vnd.jupyter.widget-view+json": {
       "model_id": "7b3820a457fc401e9befd225f43bb3a7",
       "version_major": 2,
       "version_minor": 0
      },
      "text/plain": [
       "Multi-fold validation:   0%|          | 0/1 [00:00<?, ?it/s]"
      ]
     },
     "metadata": {},
     "output_type": "display_data"
    },
    {
     "data": {
      "application/vnd.jupyter.widget-view+json": {
       "model_id": "5950fdcccf7746c7ac54893ffa1976e6",
       "version_major": 2,
       "version_minor": 0
      },
      "text/plain": [
       "Epoch:   0%|          | 0/30 [00:00<?, ?it/s]"
      ]
     },
     "metadata": {},
     "output_type": "display_data"
    },
    {
     "name": "stdout",
     "output_type": "stream",
     "text": [
      "Averaged validation loss: nan. Test loss: 2977.634898661155.\n"
     ]
    },
    {
     "name": "stderr",
     "output_type": "stream",
     "text": [
      "C:\\Users\\carlo\\GitHub\\ProjectBuffalo\\buffalo\\predictor\\__init__.py:223: RuntimeWarning: Mean of empty slice\n",
      "  print(f'Averaged validation loss: {np.nanmean(train_valid_loss)}. Test loss: {test_loss}.')\n",
      "C:\\Users\\carlo\\GitHub\\ProjectBuffalo\\buffalo\\predictor\\__init__.py:236: RuntimeWarning: Mean of empty slice\n",
      "  'average_validation_loss': np.nanmean(train_valid_loss) if non_empty_train_indices else None}\n",
      "C:\\Users\\carlo\\GitHub\\ProjectBuffalo\\buffalo\\predictor\\util.py:224: UserWarning: dataset_info with the same primary keys already exists with id 1, will not store dataset information.\n",
      "  warn(f\"dataset_info with the same primary keys already exists with id {searched_id}, will not store dataset information.\")\n"
     ]
    },
    {
     "data": {
      "application/vnd.jupyter.widget-view+json": {
       "model_id": "f8b00fec2c7841da932614bfd2bab209",
       "version_major": 2,
       "version_minor": 0
      },
      "text/plain": [
       "Multi-fold validation:   0%|          | 0/1 [00:00<?, ?it/s]"
      ]
     },
     "metadata": {},
     "output_type": "display_data"
    },
    {
     "data": {
      "application/vnd.jupyter.widget-view+json": {
       "model_id": "f3326dc2ac1e4203bd11c854bc2b795f",
       "version_major": 2,
       "version_minor": 0
      },
      "text/plain": [
       "Epoch:   0%|          | 0/60 [00:00<?, ?it/s]"
      ]
     },
     "metadata": {},
     "output_type": "display_data"
    },
    {
     "name": "stdout",
     "output_type": "stream",
     "text": [
      "Averaged validation loss: nan. Test loss: 2974.2062217057164.\n"
     ]
    },
    {
     "name": "stderr",
     "output_type": "stream",
     "text": [
      "C:\\Users\\carlo\\GitHub\\ProjectBuffalo\\buffalo\\predictor\\__init__.py:223: RuntimeWarning: Mean of empty slice\n",
      "  print(f'Averaged validation loss: {np.nanmean(train_valid_loss)}. Test loss: {test_loss}.')\n",
      "C:\\Users\\carlo\\GitHub\\ProjectBuffalo\\buffalo\\predictor\\__init__.py:236: RuntimeWarning: Mean of empty slice\n",
      "  'average_validation_loss': np.nanmean(train_valid_loss) if non_empty_train_indices else None}\n",
      "C:\\Users\\carlo\\GitHub\\ProjectBuffalo\\buffalo\\predictor\\util.py:224: UserWarning: dataset_info with the same primary keys already exists with id 1, will not store dataset information.\n",
      "  warn(f\"dataset_info with the same primary keys already exists with id {searched_id}, will not store dataset information.\")\n",
      "C:\\Users\\carlo\\GitHub\\ProjectBuffalo\\buffalo\\predictor\\util.py:397: UserWarning: model_info with the same primary keys already exists with id 65, will not store model information.\n",
      "  warn(f'model_info with the same primary keys already exists with id {searched_id}, will not store model information.')\n"
     ]
    },
    {
     "data": {
      "application/vnd.jupyter.widget-view+json": {
       "model_id": "fbf59b3781734c18b183881e0269430e",
       "version_major": 2,
       "version_minor": 0
      },
      "text/plain": [
       "Multi-fold validation:   0%|          | 0/1 [00:00<?, ?it/s]"
      ]
     },
     "metadata": {},
     "output_type": "display_data"
    },
    {
     "data": {
      "application/vnd.jupyter.widget-view+json": {
       "model_id": "648de72caf0747cb8ce80af9f3622a2d",
       "version_major": 2,
       "version_minor": 0
      },
      "text/plain": [
       "Epoch:   0%|          | 0/60 [00:00<?, ?it/s]"
      ]
     },
     "metadata": {},
     "output_type": "display_data"
    },
    {
     "name": "stdout",
     "output_type": "stream",
     "text": [
      "Averaged validation loss: nan. Test loss: 2868.4758028442743.\n"
     ]
    },
    {
     "name": "stderr",
     "output_type": "stream",
     "text": [
      "C:\\Users\\carlo\\GitHub\\ProjectBuffalo\\buffalo\\predictor\\__init__.py:223: RuntimeWarning: Mean of empty slice\n",
      "  print(f'Averaged validation loss: {np.nanmean(train_valid_loss)}. Test loss: {test_loss}.')\n",
      "C:\\Users\\carlo\\GitHub\\ProjectBuffalo\\buffalo\\predictor\\__init__.py:236: RuntimeWarning: Mean of empty slice\n",
      "  'average_validation_loss': np.nanmean(train_valid_loss) if non_empty_train_indices else None}\n",
      "C:\\Users\\carlo\\GitHub\\ProjectBuffalo\\buffalo\\predictor\\util.py:224: UserWarning: dataset_info with the same primary keys already exists with id 1, will not store dataset information.\n",
      "  warn(f\"dataset_info with the same primary keys already exists with id {searched_id}, will not store dataset information.\")\n",
      "C:\\Users\\carlo\\GitHub\\ProjectBuffalo\\buffalo\\predictor\\util.py:397: UserWarning: model_info with the same primary keys already exists with id 66, will not store model information.\n",
      "  warn(f'model_info with the same primary keys already exists with id {searched_id}, will not store model information.')\n"
     ]
    },
    {
     "data": {
      "application/vnd.jupyter.widget-view+json": {
       "model_id": "246261d81bc44ccab86a55aa87485db7",
       "version_major": 2,
       "version_minor": 0
      },
      "text/plain": [
       "Multi-fold validation:   0%|          | 0/1 [00:00<?, ?it/s]"
      ]
     },
     "metadata": {},
     "output_type": "display_data"
    },
    {
     "data": {
      "application/vnd.jupyter.widget-view+json": {
       "model_id": "2b763fd913624d5ca5a3425248db2deb",
       "version_major": 2,
       "version_minor": 0
      },
      "text/plain": [
       "Epoch:   0%|          | 0/30 [00:00<?, ?it/s]"
      ]
     },
     "metadata": {},
     "output_type": "display_data"
    },
    {
     "name": "stdout",
     "output_type": "stream",
     "text": [
      "Averaged validation loss: nan. Test loss: 2871.5052255252035.\n"
     ]
    },
    {
     "name": "stderr",
     "output_type": "stream",
     "text": [
      "C:\\Users\\carlo\\GitHub\\ProjectBuffalo\\buffalo\\predictor\\__init__.py:223: RuntimeWarning: Mean of empty slice\n",
      "  print(f'Averaged validation loss: {np.nanmean(train_valid_loss)}. Test loss: {test_loss}.')\n",
      "C:\\Users\\carlo\\GitHub\\ProjectBuffalo\\buffalo\\predictor\\__init__.py:236: RuntimeWarning: Mean of empty slice\n",
      "  'average_validation_loss': np.nanmean(train_valid_loss) if non_empty_train_indices else None}\n",
      "C:\\Users\\carlo\\GitHub\\ProjectBuffalo\\buffalo\\predictor\\util.py:224: UserWarning: dataset_info with the same primary keys already exists with id 1, will not store dataset information.\n",
      "  warn(f\"dataset_info with the same primary keys already exists with id {searched_id}, will not store dataset information.\")\n"
     ]
    },
    {
     "data": {
      "application/vnd.jupyter.widget-view+json": {
       "model_id": "95f4fdfbb36240ed97ff18b0206697a3",
       "version_major": 2,
       "version_minor": 0
      },
      "text/plain": [
       "Multi-fold validation:   0%|          | 0/1 [00:00<?, ?it/s]"
      ]
     },
     "metadata": {},
     "output_type": "display_data"
    },
    {
     "data": {
      "application/vnd.jupyter.widget-view+json": {
       "model_id": "94075e9a6a6f4b769c0d3fa8eec598e9",
       "version_major": 2,
       "version_minor": 0
      },
      "text/plain": [
       "Epoch:   0%|          | 0/30 [00:00<?, ?it/s]"
      ]
     },
     "metadata": {},
     "output_type": "display_data"
    },
    {
     "name": "stdout",
     "output_type": "stream",
     "text": [
      "Averaged validation loss: nan. Test loss: 2948.3236584074994.\n"
     ]
    },
    {
     "name": "stderr",
     "output_type": "stream",
     "text": [
      "C:\\Users\\carlo\\GitHub\\ProjectBuffalo\\buffalo\\predictor\\__init__.py:223: RuntimeWarning: Mean of empty slice\n",
      "  print(f'Averaged validation loss: {np.nanmean(train_valid_loss)}. Test loss: {test_loss}.')\n",
      "C:\\Users\\carlo\\GitHub\\ProjectBuffalo\\buffalo\\predictor\\__init__.py:236: RuntimeWarning: Mean of empty slice\n",
      "  'average_validation_loss': np.nanmean(train_valid_loss) if non_empty_train_indices else None}\n",
      "C:\\Users\\carlo\\GitHub\\ProjectBuffalo\\buffalo\\predictor\\util.py:224: UserWarning: dataset_info with the same primary keys already exists with id 1, will not store dataset information.\n",
      "  warn(f\"dataset_info with the same primary keys already exists with id {searched_id}, will not store dataset information.\")\n"
     ]
    },
    {
     "data": {
      "application/vnd.jupyter.widget-view+json": {
       "model_id": "cebda9336c4b446b9a10c94aceb00b62",
       "version_major": 2,
       "version_minor": 0
      },
      "text/plain": [
       "Multi-fold validation:   0%|          | 0/1 [00:00<?, ?it/s]"
      ]
     },
     "metadata": {},
     "output_type": "display_data"
    },
    {
     "data": {
      "application/vnd.jupyter.widget-view+json": {
       "model_id": "a63f26691a084c4789265502fdd4ab4b",
       "version_major": 2,
       "version_minor": 0
      },
      "text/plain": [
       "Epoch:   0%|          | 0/60 [00:00<?, ?it/s]"
      ]
     },
     "metadata": {},
     "output_type": "display_data"
    },
    {
     "name": "stdout",
     "output_type": "stream",
     "text": [
      "Averaged validation loss: nan. Test loss: 2866.035518725321.\n"
     ]
    },
    {
     "name": "stderr",
     "output_type": "stream",
     "text": [
      "C:\\Users\\carlo\\GitHub\\ProjectBuffalo\\buffalo\\predictor\\__init__.py:223: RuntimeWarning: Mean of empty slice\n",
      "  print(f'Averaged validation loss: {np.nanmean(train_valid_loss)}. Test loss: {test_loss}.')\n",
      "C:\\Users\\carlo\\GitHub\\ProjectBuffalo\\buffalo\\predictor\\__init__.py:236: RuntimeWarning: Mean of empty slice\n",
      "  'average_validation_loss': np.nanmean(train_valid_loss) if non_empty_train_indices else None}\n",
      "C:\\Users\\carlo\\GitHub\\ProjectBuffalo\\buffalo\\predictor\\util.py:224: UserWarning: dataset_info with the same primary keys already exists with id 1, will not store dataset information.\n",
      "  warn(f\"dataset_info with the same primary keys already exists with id {searched_id}, will not store dataset information.\")\n",
      "C:\\Users\\carlo\\GitHub\\ProjectBuffalo\\buffalo\\predictor\\util.py:397: UserWarning: model_info with the same primary keys already exists with id 67, will not store model information.\n",
      "  warn(f'model_info with the same primary keys already exists with id {searched_id}, will not store model information.')\n"
     ]
    },
    {
     "data": {
      "application/vnd.jupyter.widget-view+json": {
       "model_id": "e4683b91d48c49c8bcc71c2b69afb926",
       "version_major": 2,
       "version_minor": 0
      },
      "text/plain": [
       "Multi-fold validation:   0%|          | 0/1 [00:00<?, ?it/s]"
      ]
     },
     "metadata": {},
     "output_type": "display_data"
    },
    {
     "data": {
      "application/vnd.jupyter.widget-view+json": {
       "model_id": "29889f154a2e415d8fcb15b7a68428f6",
       "version_major": 2,
       "version_minor": 0
      },
      "text/plain": [
       "Epoch:   0%|          | 0/60 [00:00<?, ?it/s]"
      ]
     },
     "metadata": {},
     "output_type": "display_data"
    },
    {
     "name": "stdout",
     "output_type": "stream",
     "text": [
      "Averaged validation loss: nan. Test loss: 3099.7810615321137.\n"
     ]
    },
    {
     "name": "stderr",
     "output_type": "stream",
     "text": [
      "C:\\Users\\carlo\\GitHub\\ProjectBuffalo\\buffalo\\predictor\\__init__.py:223: RuntimeWarning: Mean of empty slice\n",
      "  print(f'Averaged validation loss: {np.nanmean(train_valid_loss)}. Test loss: {test_loss}.')\n",
      "C:\\Users\\carlo\\GitHub\\ProjectBuffalo\\buffalo\\predictor\\__init__.py:236: RuntimeWarning: Mean of empty slice\n",
      "  'average_validation_loss': np.nanmean(train_valid_loss) if non_empty_train_indices else None}\n",
      "C:\\Users\\carlo\\GitHub\\ProjectBuffalo\\buffalo\\predictor\\util.py:224: UserWarning: dataset_info with the same primary keys already exists with id 1, will not store dataset information.\n",
      "  warn(f\"dataset_info with the same primary keys already exists with id {searched_id}, will not store dataset information.\")\n",
      "C:\\Users\\carlo\\GitHub\\ProjectBuffalo\\buffalo\\predictor\\util.py:397: UserWarning: model_info with the same primary keys already exists with id 68, will not store model information.\n",
      "  warn(f'model_info with the same primary keys already exists with id {searched_id}, will not store model information.')\n"
     ]
    },
    {
     "data": {
      "application/vnd.jupyter.widget-view+json": {
       "model_id": "8789cad666f143c18f416a7dfc007274",
       "version_major": 2,
       "version_minor": 0
      },
      "text/plain": [
       "Multi-fold validation:   0%|          | 0/1 [00:00<?, ?it/s]"
      ]
     },
     "metadata": {},
     "output_type": "display_data"
    },
    {
     "data": {
      "application/vnd.jupyter.widget-view+json": {
       "model_id": "df95d588f875405688f74aab49243208",
       "version_major": 2,
       "version_minor": 0
      },
      "text/plain": [
       "Epoch:   0%|          | 0/30 [00:00<?, ?it/s]"
      ]
     },
     "metadata": {},
     "output_type": "display_data"
    },
    {
     "name": "stdout",
     "output_type": "stream",
     "text": [
      "Averaged validation loss: nan. Test loss: 3224.5214626843226.\n"
     ]
    },
    {
     "name": "stderr",
     "output_type": "stream",
     "text": [
      "C:\\Users\\carlo\\GitHub\\ProjectBuffalo\\buffalo\\predictor\\__init__.py:223: RuntimeWarning: Mean of empty slice\n",
      "  print(f'Averaged validation loss: {np.nanmean(train_valid_loss)}. Test loss: {test_loss}.')\n",
      "C:\\Users\\carlo\\GitHub\\ProjectBuffalo\\buffalo\\predictor\\__init__.py:236: RuntimeWarning: Mean of empty slice\n",
      "  'average_validation_loss': np.nanmean(train_valid_loss) if non_empty_train_indices else None}\n",
      "C:\\Users\\carlo\\GitHub\\ProjectBuffalo\\buffalo\\predictor\\util.py:224: UserWarning: dataset_info with the same primary keys already exists with id 1, will not store dataset information.\n",
      "  warn(f\"dataset_info with the same primary keys already exists with id {searched_id}, will not store dataset information.\")\n"
     ]
    },
    {
     "data": {
      "application/vnd.jupyter.widget-view+json": {
       "model_id": "5395b537520f48c789c191accc0348cf",
       "version_major": 2,
       "version_minor": 0
      },
      "text/plain": [
       "Multi-fold validation:   0%|          | 0/1 [00:00<?, ?it/s]"
      ]
     },
     "metadata": {},
     "output_type": "display_data"
    },
    {
     "data": {
      "application/vnd.jupyter.widget-view+json": {
       "model_id": "ac9158a23bdc491093045e7a3cd31fc6",
       "version_major": 2,
       "version_minor": 0
      },
      "text/plain": [
       "Epoch:   0%|          | 0/30 [00:00<?, ?it/s]"
      ]
     },
     "metadata": {},
     "output_type": "display_data"
    },
    {
     "name": "stdout",
     "output_type": "stream",
     "text": [
      "Averaged validation loss: nan. Test loss: 3194.1151820763666.\n"
     ]
    },
    {
     "name": "stderr",
     "output_type": "stream",
     "text": [
      "C:\\Users\\carlo\\GitHub\\ProjectBuffalo\\buffalo\\predictor\\__init__.py:223: RuntimeWarning: Mean of empty slice\n",
      "  print(f'Averaged validation loss: {np.nanmean(train_valid_loss)}. Test loss: {test_loss}.')\n",
      "C:\\Users\\carlo\\GitHub\\ProjectBuffalo\\buffalo\\predictor\\__init__.py:236: RuntimeWarning: Mean of empty slice\n",
      "  'average_validation_loss': np.nanmean(train_valid_loss) if non_empty_train_indices else None}\n",
      "C:\\Users\\carlo\\GitHub\\ProjectBuffalo\\buffalo\\predictor\\util.py:224: UserWarning: dataset_info with the same primary keys already exists with id 1, will not store dataset information.\n",
      "  warn(f\"dataset_info with the same primary keys already exists with id {searched_id}, will not store dataset information.\")\n"
     ]
    },
    {
     "data": {
      "application/vnd.jupyter.widget-view+json": {
       "model_id": "6bc9b9e7b7794225aab8ba96dbe7c9ff",
       "version_major": 2,
       "version_minor": 0
      },
      "text/plain": [
       "Multi-fold validation:   0%|          | 0/1 [00:00<?, ?it/s]"
      ]
     },
     "metadata": {},
     "output_type": "display_data"
    },
    {
     "data": {
      "application/vnd.jupyter.widget-view+json": {
       "model_id": "39ac4503e3a6432ab72497205b0c5063",
       "version_major": 2,
       "version_minor": 0
      },
      "text/plain": [
       "Epoch:   0%|          | 0/60 [00:00<?, ?it/s]"
      ]
     },
     "metadata": {},
     "output_type": "display_data"
    },
    {
     "name": "stdout",
     "output_type": "stream",
     "text": [
      "Averaged validation loss: nan. Test loss: 3002.235080911047.\n"
     ]
    },
    {
     "name": "stderr",
     "output_type": "stream",
     "text": [
      "C:\\Users\\carlo\\GitHub\\ProjectBuffalo\\buffalo\\predictor\\__init__.py:223: RuntimeWarning: Mean of empty slice\n",
      "  print(f'Averaged validation loss: {np.nanmean(train_valid_loss)}. Test loss: {test_loss}.')\n",
      "C:\\Users\\carlo\\GitHub\\ProjectBuffalo\\buffalo\\predictor\\__init__.py:236: RuntimeWarning: Mean of empty slice\n",
      "  'average_validation_loss': np.nanmean(train_valid_loss) if non_empty_train_indices else None}\n",
      "C:\\Users\\carlo\\GitHub\\ProjectBuffalo\\buffalo\\predictor\\util.py:224: UserWarning: dataset_info with the same primary keys already exists with id 1, will not store dataset information.\n",
      "  warn(f\"dataset_info with the same primary keys already exists with id {searched_id}, will not store dataset information.\")\n",
      "C:\\Users\\carlo\\GitHub\\ProjectBuffalo\\buffalo\\predictor\\util.py:397: UserWarning: model_info with the same primary keys already exists with id 69, will not store model information.\n",
      "  warn(f'model_info with the same primary keys already exists with id {searched_id}, will not store model information.')\n"
     ]
    },
    {
     "data": {
      "application/vnd.jupyter.widget-view+json": {
       "model_id": "29bf4394b4c64350818b23b19156816f",
       "version_major": 2,
       "version_minor": 0
      },
      "text/plain": [
       "Multi-fold validation:   0%|          | 0/1 [00:00<?, ?it/s]"
      ]
     },
     "metadata": {},
     "output_type": "display_data"
    },
    {
     "data": {
      "application/vnd.jupyter.widget-view+json": {
       "model_id": "a7944632be5947b9842895da19716114",
       "version_major": 2,
       "version_minor": 0
      },
      "text/plain": [
       "Epoch:   0%|          | 0/60 [00:00<?, ?it/s]"
      ]
     },
     "metadata": {},
     "output_type": "display_data"
    },
    {
     "name": "stdout",
     "output_type": "stream",
     "text": [
      "Averaged validation loss: nan. Test loss: 3073.612043676348.\n"
     ]
    },
    {
     "name": "stderr",
     "output_type": "stream",
     "text": [
      "C:\\Users\\carlo\\GitHub\\ProjectBuffalo\\buffalo\\predictor\\__init__.py:223: RuntimeWarning: Mean of empty slice\n",
      "  print(f'Averaged validation loss: {np.nanmean(train_valid_loss)}. Test loss: {test_loss}.')\n",
      "C:\\Users\\carlo\\GitHub\\ProjectBuffalo\\buffalo\\predictor\\__init__.py:236: RuntimeWarning: Mean of empty slice\n",
      "  'average_validation_loss': np.nanmean(train_valid_loss) if non_empty_train_indices else None}\n",
      "C:\\Users\\carlo\\GitHub\\ProjectBuffalo\\buffalo\\predictor\\util.py:224: UserWarning: dataset_info with the same primary keys already exists with id 1, will not store dataset information.\n",
      "  warn(f\"dataset_info with the same primary keys already exists with id {searched_id}, will not store dataset information.\")\n",
      "C:\\Users\\carlo\\GitHub\\ProjectBuffalo\\buffalo\\predictor\\util.py:397: UserWarning: model_info with the same primary keys already exists with id 70, will not store model information.\n",
      "  warn(f'model_info with the same primary keys already exists with id {searched_id}, will not store model information.')\n"
     ]
    },
    {
     "data": {
      "application/vnd.jupyter.widget-view+json": {
       "model_id": "6bea190c1f774a06817bc1930a9a7672",
       "version_major": 2,
       "version_minor": 0
      },
      "text/plain": [
       "Multi-fold validation:   0%|          | 0/1 [00:00<?, ?it/s]"
      ]
     },
     "metadata": {},
     "output_type": "display_data"
    },
    {
     "data": {
      "application/vnd.jupyter.widget-view+json": {
       "model_id": "75dad9d6c9d5455aa31c93288c1ebf35",
       "version_major": 2,
       "version_minor": 0
      },
      "text/plain": [
       "Epoch:   0%|          | 0/30 [00:00<?, ?it/s]"
      ]
     },
     "metadata": {},
     "output_type": "display_data"
    },
    {
     "name": "stdout",
     "output_type": "stream",
     "text": [
      "Averaged validation loss: nan. Test loss: 3195.8555087572495.\n"
     ]
    },
    {
     "name": "stderr",
     "output_type": "stream",
     "text": [
      "C:\\Users\\carlo\\GitHub\\ProjectBuffalo\\buffalo\\predictor\\__init__.py:223: RuntimeWarning: Mean of empty slice\n",
      "  print(f'Averaged validation loss: {np.nanmean(train_valid_loss)}. Test loss: {test_loss}.')\n",
      "C:\\Users\\carlo\\GitHub\\ProjectBuffalo\\buffalo\\predictor\\__init__.py:236: RuntimeWarning: Mean of empty slice\n",
      "  'average_validation_loss': np.nanmean(train_valid_loss) if non_empty_train_indices else None}\n",
      "C:\\Users\\carlo\\GitHub\\ProjectBuffalo\\buffalo\\predictor\\util.py:224: UserWarning: dataset_info with the same primary keys already exists with id 1, will not store dataset information.\n",
      "  warn(f\"dataset_info with the same primary keys already exists with id {searched_id}, will not store dataset information.\")\n"
     ]
    },
    {
     "data": {
      "application/vnd.jupyter.widget-view+json": {
       "model_id": "ced4619cd1e741849d76a548a5359c8a",
       "version_major": 2,
       "version_minor": 0
      },
      "text/plain": [
       "Multi-fold validation:   0%|          | 0/1 [00:00<?, ?it/s]"
      ]
     },
     "metadata": {},
     "output_type": "display_data"
    },
    {
     "data": {
      "application/vnd.jupyter.widget-view+json": {
       "model_id": "85fcd1b6fcbf4886966aad1c585aaf43",
       "version_major": 2,
       "version_minor": 0
      },
      "text/plain": [
       "Epoch:   0%|          | 0/30 [00:00<?, ?it/s]"
      ]
     },
     "metadata": {},
     "output_type": "display_data"
    },
    {
     "name": "stdout",
     "output_type": "stream",
     "text": [
      "Averaged validation loss: nan. Test loss: 3222.9157702793373.\n"
     ]
    },
    {
     "name": "stderr",
     "output_type": "stream",
     "text": [
      "C:\\Users\\carlo\\GitHub\\ProjectBuffalo\\buffalo\\predictor\\__init__.py:223: RuntimeWarning: Mean of empty slice\n",
      "  print(f'Averaged validation loss: {np.nanmean(train_valid_loss)}. Test loss: {test_loss}.')\n",
      "C:\\Users\\carlo\\GitHub\\ProjectBuffalo\\buffalo\\predictor\\__init__.py:236: RuntimeWarning: Mean of empty slice\n",
      "  'average_validation_loss': np.nanmean(train_valid_loss) if non_empty_train_indices else None}\n",
      "C:\\Users\\carlo\\GitHub\\ProjectBuffalo\\buffalo\\predictor\\util.py:224: UserWarning: dataset_info with the same primary keys already exists with id 1, will not store dataset information.\n",
      "  warn(f\"dataset_info with the same primary keys already exists with id {searched_id}, will not store dataset information.\")\n"
     ]
    },
    {
     "data": {
      "application/vnd.jupyter.widget-view+json": {
       "model_id": "08bddb72de8f47468087dd32076c417f",
       "version_major": 2,
       "version_minor": 0
      },
      "text/plain": [
       "Multi-fold validation:   0%|          | 0/1 [00:00<?, ?it/s]"
      ]
     },
     "metadata": {},
     "output_type": "display_data"
    },
    {
     "data": {
      "application/vnd.jupyter.widget-view+json": {
       "model_id": "bfda01de463e4cf5a0b0817f413e53bf",
       "version_major": 2,
       "version_minor": 0
      },
      "text/plain": [
       "Epoch:   0%|          | 0/60 [00:00<?, ?it/s]"
      ]
     },
     "metadata": {},
     "output_type": "display_data"
    },
    {
     "name": "stdout",
     "output_type": "stream",
     "text": [
      "Averaged validation loss: nan. Test loss: 3081.062905133653.\n"
     ]
    },
    {
     "name": "stderr",
     "output_type": "stream",
     "text": [
      "C:\\Users\\carlo\\GitHub\\ProjectBuffalo\\buffalo\\predictor\\__init__.py:223: RuntimeWarning: Mean of empty slice\n",
      "  print(f'Averaged validation loss: {np.nanmean(train_valid_loss)}. Test loss: {test_loss}.')\n",
      "C:\\Users\\carlo\\GitHub\\ProjectBuffalo\\buffalo\\predictor\\__init__.py:236: RuntimeWarning: Mean of empty slice\n",
      "  'average_validation_loss': np.nanmean(train_valid_loss) if non_empty_train_indices else None}\n",
      "C:\\Users\\carlo\\GitHub\\ProjectBuffalo\\buffalo\\predictor\\util.py:224: UserWarning: dataset_info with the same primary keys already exists with id 1, will not store dataset information.\n",
      "  warn(f\"dataset_info with the same primary keys already exists with id {searched_id}, will not store dataset information.\")\n",
      "C:\\Users\\carlo\\GitHub\\ProjectBuffalo\\buffalo\\predictor\\util.py:397: UserWarning: model_info with the same primary keys already exists with id 71, will not store model information.\n",
      "  warn(f'model_info with the same primary keys already exists with id {searched_id}, will not store model information.')\n"
     ]
    },
    {
     "data": {
      "application/vnd.jupyter.widget-view+json": {
       "model_id": "b44473bbc50f4bb08fa95bf3a7283e6b",
       "version_major": 2,
       "version_minor": 0
      },
      "text/plain": [
       "Multi-fold validation:   0%|          | 0/1 [00:00<?, ?it/s]"
      ]
     },
     "metadata": {},
     "output_type": "display_data"
    },
    {
     "data": {
      "application/vnd.jupyter.widget-view+json": {
       "model_id": "566ae4b9d6134ba7a7a0401499a4697f",
       "version_major": 2,
       "version_minor": 0
      },
      "text/plain": [
       "Epoch:   0%|          | 0/60 [00:00<?, ?it/s]"
      ]
     },
     "metadata": {},
     "output_type": "display_data"
    },
    {
     "name": "stdout",
     "output_type": "stream",
     "text": [
      "Averaged validation loss: nan. Test loss: 3054.0094137540104.\n"
     ]
    },
    {
     "name": "stderr",
     "output_type": "stream",
     "text": [
      "C:\\Users\\carlo\\GitHub\\ProjectBuffalo\\buffalo\\predictor\\__init__.py:223: RuntimeWarning: Mean of empty slice\n",
      "  print(f'Averaged validation loss: {np.nanmean(train_valid_loss)}. Test loss: {test_loss}.')\n",
      "C:\\Users\\carlo\\GitHub\\ProjectBuffalo\\buffalo\\predictor\\__init__.py:236: RuntimeWarning: Mean of empty slice\n",
      "  'average_validation_loss': np.nanmean(train_valid_loss) if non_empty_train_indices else None}\n",
      "C:\\Users\\carlo\\GitHub\\ProjectBuffalo\\buffalo\\predictor\\util.py:224: UserWarning: dataset_info with the same primary keys already exists with id 1, will not store dataset information.\n",
      "  warn(f\"dataset_info with the same primary keys already exists with id {searched_id}, will not store dataset information.\")\n",
      "C:\\Users\\carlo\\GitHub\\ProjectBuffalo\\buffalo\\predictor\\util.py:397: UserWarning: model_info with the same primary keys already exists with id 72, will not store model information.\n",
      "  warn(f'model_info with the same primary keys already exists with id {searched_id}, will not store model information.')\n"
     ]
    },
    {
     "data": {
      "application/vnd.jupyter.widget-view+json": {
       "model_id": "7311dba69df946f2a0da5a09a82e8bc4",
       "version_major": 2,
       "version_minor": 0
      },
      "text/plain": [
       "Multi-fold validation:   0%|          | 0/1 [00:00<?, ?it/s]"
      ]
     },
     "metadata": {},
     "output_type": "display_data"
    },
    {
     "data": {
      "application/vnd.jupyter.widget-view+json": {
       "model_id": "4096a4fe6d9f4a45b9afb90a6c1a1343",
       "version_major": 2,
       "version_minor": 0
      },
      "text/plain": [
       "Epoch:   0%|          | 0/30 [00:00<?, ?it/s]"
      ]
     },
     "metadata": {},
     "output_type": "display_data"
    },
    {
     "name": "stdout",
     "output_type": "stream",
     "text": [
      "Averaged validation loss: nan. Test loss: 1461.8552985986857.\n"
     ]
    },
    {
     "name": "stderr",
     "output_type": "stream",
     "text": [
      "C:\\Users\\carlo\\GitHub\\ProjectBuffalo\\buffalo\\predictor\\__init__.py:223: RuntimeWarning: Mean of empty slice\n",
      "  print(f'Averaged validation loss: {np.nanmean(train_valid_loss)}. Test loss: {test_loss}.')\n",
      "C:\\Users\\carlo\\GitHub\\ProjectBuffalo\\buffalo\\predictor\\__init__.py:236: RuntimeWarning: Mean of empty slice\n",
      "  'average_validation_loss': np.nanmean(train_valid_loss) if non_empty_train_indices else None}\n",
      "C:\\Users\\carlo\\GitHub\\ProjectBuffalo\\buffalo\\predictor\\util.py:224: UserWarning: dataset_info with the same primary keys already exists with id 1, will not store dataset information.\n",
      "  warn(f\"dataset_info with the same primary keys already exists with id {searched_id}, will not store dataset information.\")\n"
     ]
    },
    {
     "data": {
      "application/vnd.jupyter.widget-view+json": {
       "model_id": "b7227ca7b8ad477ea53dcc985c198e64",
       "version_major": 2,
       "version_minor": 0
      },
      "text/plain": [
       "Multi-fold validation:   0%|          | 0/1 [00:00<?, ?it/s]"
      ]
     },
     "metadata": {},
     "output_type": "display_data"
    },
    {
     "data": {
      "application/vnd.jupyter.widget-view+json": {
       "model_id": "9251fbd66e52476dbbb21511bbc0423a",
       "version_major": 2,
       "version_minor": 0
      },
      "text/plain": [
       "Epoch:   0%|          | 0/30 [00:00<?, ?it/s]"
      ]
     },
     "metadata": {},
     "output_type": "display_data"
    },
    {
     "name": "stdout",
     "output_type": "stream",
     "text": [
      "Averaged validation loss: nan. Test loss: 1401.9074657624708.\n"
     ]
    },
    {
     "name": "stderr",
     "output_type": "stream",
     "text": [
      "C:\\Users\\carlo\\GitHub\\ProjectBuffalo\\buffalo\\predictor\\__init__.py:223: RuntimeWarning: Mean of empty slice\n",
      "  print(f'Averaged validation loss: {np.nanmean(train_valid_loss)}. Test loss: {test_loss}.')\n",
      "C:\\Users\\carlo\\GitHub\\ProjectBuffalo\\buffalo\\predictor\\__init__.py:236: RuntimeWarning: Mean of empty slice\n",
      "  'average_validation_loss': np.nanmean(train_valid_loss) if non_empty_train_indices else None}\n",
      "C:\\Users\\carlo\\GitHub\\ProjectBuffalo\\buffalo\\predictor\\util.py:224: UserWarning: dataset_info with the same primary keys already exists with id 1, will not store dataset information.\n",
      "  warn(f\"dataset_info with the same primary keys already exists with id {searched_id}, will not store dataset information.\")\n"
     ]
    },
    {
     "data": {
      "application/vnd.jupyter.widget-view+json": {
       "model_id": "a6f08979e47b44a1b92887e75d120b2c",
       "version_major": 2,
       "version_minor": 0
      },
      "text/plain": [
       "Multi-fold validation:   0%|          | 0/1 [00:00<?, ?it/s]"
      ]
     },
     "metadata": {},
     "output_type": "display_data"
    },
    {
     "data": {
      "application/vnd.jupyter.widget-view+json": {
       "model_id": "48ad1d4de3b145c99d0d6fff1ef010ed",
       "version_major": 2,
       "version_minor": 0
      },
      "text/plain": [
       "Epoch:   0%|          | 0/60 [00:00<?, ?it/s]"
      ]
     },
     "metadata": {},
     "output_type": "display_data"
    },
    {
     "name": "stdout",
     "output_type": "stream",
     "text": [
      "Averaged validation loss: nan. Test loss: 2548.2871621556483.\n"
     ]
    },
    {
     "name": "stderr",
     "output_type": "stream",
     "text": [
      "C:\\Users\\carlo\\GitHub\\ProjectBuffalo\\buffalo\\predictor\\__init__.py:223: RuntimeWarning: Mean of empty slice\n",
      "  print(f'Averaged validation loss: {np.nanmean(train_valid_loss)}. Test loss: {test_loss}.')\n",
      "C:\\Users\\carlo\\GitHub\\ProjectBuffalo\\buffalo\\predictor\\__init__.py:236: RuntimeWarning: Mean of empty slice\n",
      "  'average_validation_loss': np.nanmean(train_valid_loss) if non_empty_train_indices else None}\n",
      "C:\\Users\\carlo\\GitHub\\ProjectBuffalo\\buffalo\\predictor\\util.py:224: UserWarning: dataset_info with the same primary keys already exists with id 1, will not store dataset information.\n",
      "  warn(f\"dataset_info with the same primary keys already exists with id {searched_id}, will not store dataset information.\")\n",
      "C:\\Users\\carlo\\GitHub\\ProjectBuffalo\\buffalo\\predictor\\util.py:397: UserWarning: model_info with the same primary keys already exists with id 73, will not store model information.\n",
      "  warn(f'model_info with the same primary keys already exists with id {searched_id}, will not store model information.')\n"
     ]
    },
    {
     "data": {
      "application/vnd.jupyter.widget-view+json": {
       "model_id": "5e784d428c92425995d872a946bdb23b",
       "version_major": 2,
       "version_minor": 0
      },
      "text/plain": [
       "Multi-fold validation:   0%|          | 0/1 [00:00<?, ?it/s]"
      ]
     },
     "metadata": {},
     "output_type": "display_data"
    },
    {
     "data": {
      "application/vnd.jupyter.widget-view+json": {
       "model_id": "e201bc76aa8945d594fc8ffffef22b40",
       "version_major": 2,
       "version_minor": 0
      },
      "text/plain": [
       "Epoch:   0%|          | 0/60 [00:00<?, ?it/s]"
      ]
     },
     "metadata": {},
     "output_type": "display_data"
    },
    {
     "name": "stdout",
     "output_type": "stream",
     "text": [
      "Averaged validation loss: nan. Test loss: 2855.0473681014005.\n"
     ]
    },
    {
     "name": "stderr",
     "output_type": "stream",
     "text": [
      "C:\\Users\\carlo\\GitHub\\ProjectBuffalo\\buffalo\\predictor\\__init__.py:223: RuntimeWarning: Mean of empty slice\n",
      "  print(f'Averaged validation loss: {np.nanmean(train_valid_loss)}. Test loss: {test_loss}.')\n",
      "C:\\Users\\carlo\\GitHub\\ProjectBuffalo\\buffalo\\predictor\\__init__.py:236: RuntimeWarning: Mean of empty slice\n",
      "  'average_validation_loss': np.nanmean(train_valid_loss) if non_empty_train_indices else None}\n",
      "C:\\Users\\carlo\\GitHub\\ProjectBuffalo\\buffalo\\predictor\\util.py:224: UserWarning: dataset_info with the same primary keys already exists with id 1, will not store dataset information.\n",
      "  warn(f\"dataset_info with the same primary keys already exists with id {searched_id}, will not store dataset information.\")\n",
      "C:\\Users\\carlo\\GitHub\\ProjectBuffalo\\buffalo\\predictor\\util.py:397: UserWarning: model_info with the same primary keys already exists with id 74, will not store model information.\n",
      "  warn(f'model_info with the same primary keys already exists with id {searched_id}, will not store model information.')\n"
     ]
    },
    {
     "data": {
      "application/vnd.jupyter.widget-view+json": {
       "model_id": "70c388dad51b4935bd6d7cb64a33a5b2",
       "version_major": 2,
       "version_minor": 0
      },
      "text/plain": [
       "Multi-fold validation:   0%|          | 0/1 [00:00<?, ?it/s]"
      ]
     },
     "metadata": {},
     "output_type": "display_data"
    },
    {
     "data": {
      "application/vnd.jupyter.widget-view+json": {
       "model_id": "a3ec1ef73dad499e9296fdb1db956024",
       "version_major": 2,
       "version_minor": 0
      },
      "text/plain": [
       "Epoch:   0%|          | 0/30 [00:00<?, ?it/s]"
      ]
     },
     "metadata": {},
     "output_type": "display_data"
    },
    {
     "name": "stdout",
     "output_type": "stream",
     "text": [
      "Averaged validation loss: nan. Test loss: 1465.7476293294592.\n"
     ]
    },
    {
     "name": "stderr",
     "output_type": "stream",
     "text": [
      "C:\\Users\\carlo\\GitHub\\ProjectBuffalo\\buffalo\\predictor\\__init__.py:223: RuntimeWarning: Mean of empty slice\n",
      "  print(f'Averaged validation loss: {np.nanmean(train_valid_loss)}. Test loss: {test_loss}.')\n",
      "C:\\Users\\carlo\\GitHub\\ProjectBuffalo\\buffalo\\predictor\\__init__.py:236: RuntimeWarning: Mean of empty slice\n",
      "  'average_validation_loss': np.nanmean(train_valid_loss) if non_empty_train_indices else None}\n",
      "C:\\Users\\carlo\\GitHub\\ProjectBuffalo\\buffalo\\predictor\\util.py:224: UserWarning: dataset_info with the same primary keys already exists with id 1, will not store dataset information.\n",
      "  warn(f\"dataset_info with the same primary keys already exists with id {searched_id}, will not store dataset information.\")\n"
     ]
    },
    {
     "data": {
      "application/vnd.jupyter.widget-view+json": {
       "model_id": "29180ba09de34e2a85a2936071f44f30",
       "version_major": 2,
       "version_minor": 0
      },
      "text/plain": [
       "Multi-fold validation:   0%|          | 0/1 [00:00<?, ?it/s]"
      ]
     },
     "metadata": {},
     "output_type": "display_data"
    },
    {
     "data": {
      "application/vnd.jupyter.widget-view+json": {
       "model_id": "e8d1ff4530834f2e8bcfff0314452970",
       "version_major": 2,
       "version_minor": 0
      },
      "text/plain": [
       "Epoch:   0%|          | 0/30 [00:00<?, ?it/s]"
      ]
     },
     "metadata": {},
     "output_type": "display_data"
    },
    {
     "name": "stdout",
     "output_type": "stream",
     "text": [
      "Averaged validation loss: nan. Test loss: 1465.9515639942467.\n"
     ]
    },
    {
     "name": "stderr",
     "output_type": "stream",
     "text": [
      "C:\\Users\\carlo\\GitHub\\ProjectBuffalo\\buffalo\\predictor\\__init__.py:223: RuntimeWarning: Mean of empty slice\n",
      "  print(f'Averaged validation loss: {np.nanmean(train_valid_loss)}. Test loss: {test_loss}.')\n",
      "C:\\Users\\carlo\\GitHub\\ProjectBuffalo\\buffalo\\predictor\\__init__.py:236: RuntimeWarning: Mean of empty slice\n",
      "  'average_validation_loss': np.nanmean(train_valid_loss) if non_empty_train_indices else None}\n",
      "C:\\Users\\carlo\\GitHub\\ProjectBuffalo\\buffalo\\predictor\\util.py:224: UserWarning: dataset_info with the same primary keys already exists with id 1, will not store dataset information.\n",
      "  warn(f\"dataset_info with the same primary keys already exists with id {searched_id}, will not store dataset information.\")\n"
     ]
    },
    {
     "data": {
      "application/vnd.jupyter.widget-view+json": {
       "model_id": "829e6392d6e143839f816a0ddbad6dee",
       "version_major": 2,
       "version_minor": 0
      },
      "text/plain": [
       "Multi-fold validation:   0%|          | 0/1 [00:00<?, ?it/s]"
      ]
     },
     "metadata": {},
     "output_type": "display_data"
    },
    {
     "data": {
      "application/vnd.jupyter.widget-view+json": {
       "model_id": "48e418a183a54757b7a7199ef5f07534",
       "version_major": 2,
       "version_minor": 0
      },
      "text/plain": [
       "Epoch:   0%|          | 0/60 [00:00<?, ?it/s]"
      ]
     },
     "metadata": {},
     "output_type": "display_data"
    },
    {
     "name": "stdout",
     "output_type": "stream",
     "text": [
      "Averaged validation loss: nan. Test loss: 2820.5916004538653.\n"
     ]
    },
    {
     "name": "stderr",
     "output_type": "stream",
     "text": [
      "C:\\Users\\carlo\\GitHub\\ProjectBuffalo\\buffalo\\predictor\\__init__.py:223: RuntimeWarning: Mean of empty slice\n",
      "  print(f'Averaged validation loss: {np.nanmean(train_valid_loss)}. Test loss: {test_loss}.')\n",
      "C:\\Users\\carlo\\GitHub\\ProjectBuffalo\\buffalo\\predictor\\__init__.py:236: RuntimeWarning: Mean of empty slice\n",
      "  'average_validation_loss': np.nanmean(train_valid_loss) if non_empty_train_indices else None}\n",
      "C:\\Users\\carlo\\GitHub\\ProjectBuffalo\\buffalo\\predictor\\util.py:224: UserWarning: dataset_info with the same primary keys already exists with id 1, will not store dataset information.\n",
      "  warn(f\"dataset_info with the same primary keys already exists with id {searched_id}, will not store dataset information.\")\n",
      "C:\\Users\\carlo\\GitHub\\ProjectBuffalo\\buffalo\\predictor\\util.py:397: UserWarning: model_info with the same primary keys already exists with id 75, will not store model information.\n",
      "  warn(f'model_info with the same primary keys already exists with id {searched_id}, will not store model information.')\n"
     ]
    },
    {
     "data": {
      "application/vnd.jupyter.widget-view+json": {
       "model_id": "7fcaf35beb6148538e4b3be4c87936b1",
       "version_major": 2,
       "version_minor": 0
      },
      "text/plain": [
       "Multi-fold validation:   0%|          | 0/1 [00:00<?, ?it/s]"
      ]
     },
     "metadata": {},
     "output_type": "display_data"
    },
    {
     "data": {
      "application/vnd.jupyter.widget-view+json": {
       "model_id": "98e60f1102184960a2e445f0ebe059f7",
       "version_major": 2,
       "version_minor": 0
      },
      "text/plain": [
       "Epoch:   0%|          | 0/60 [00:00<?, ?it/s]"
      ]
     },
     "metadata": {},
     "output_type": "display_data"
    },
    {
     "name": "stdout",
     "output_type": "stream",
     "text": [
      "Averaged validation loss: nan. Test loss: 2719.0059921701472.\n"
     ]
    },
    {
     "name": "stderr",
     "output_type": "stream",
     "text": [
      "C:\\Users\\carlo\\GitHub\\ProjectBuffalo\\buffalo\\predictor\\__init__.py:223: RuntimeWarning: Mean of empty slice\n",
      "  print(f'Averaged validation loss: {np.nanmean(train_valid_loss)}. Test loss: {test_loss}.')\n",
      "C:\\Users\\carlo\\GitHub\\ProjectBuffalo\\buffalo\\predictor\\__init__.py:236: RuntimeWarning: Mean of empty slice\n",
      "  'average_validation_loss': np.nanmean(train_valid_loss) if non_empty_train_indices else None}\n",
      "C:\\Users\\carlo\\GitHub\\ProjectBuffalo\\buffalo\\predictor\\util.py:224: UserWarning: dataset_info with the same primary keys already exists with id 1, will not store dataset information.\n",
      "  warn(f\"dataset_info with the same primary keys already exists with id {searched_id}, will not store dataset information.\")\n",
      "C:\\Users\\carlo\\GitHub\\ProjectBuffalo\\buffalo\\predictor\\util.py:397: UserWarning: model_info with the same primary keys already exists with id 76, will not store model information.\n",
      "  warn(f'model_info with the same primary keys already exists with id {searched_id}, will not store model information.')\n"
     ]
    },
    {
     "data": {
      "application/vnd.jupyter.widget-view+json": {
       "model_id": "27ddf9499e894917bba8ff3ca4bcd576",
       "version_major": 2,
       "version_minor": 0
      },
      "text/plain": [
       "Multi-fold validation:   0%|          | 0/1 [00:00<?, ?it/s]"
      ]
     },
     "metadata": {},
     "output_type": "display_data"
    },
    {
     "data": {
      "application/vnd.jupyter.widget-view+json": {
       "model_id": "f72e92413cb8418682e562b99fbc9231",
       "version_major": 2,
       "version_minor": 0
      },
      "text/plain": [
       "Epoch:   0%|          | 0/30 [00:00<?, ?it/s]"
      ]
     },
     "metadata": {},
     "output_type": "display_data"
    },
    {
     "name": "stdout",
     "output_type": "stream",
     "text": [
      "Averaged validation loss: nan. Test loss: 190.1931840344925.\n"
     ]
    },
    {
     "name": "stderr",
     "output_type": "stream",
     "text": [
      "C:\\Users\\carlo\\GitHub\\ProjectBuffalo\\buffalo\\predictor\\__init__.py:223: RuntimeWarning: Mean of empty slice\n",
      "  print(f'Averaged validation loss: {np.nanmean(train_valid_loss)}. Test loss: {test_loss}.')\n",
      "C:\\Users\\carlo\\GitHub\\ProjectBuffalo\\buffalo\\predictor\\__init__.py:236: RuntimeWarning: Mean of empty slice\n",
      "  'average_validation_loss': np.nanmean(train_valid_loss) if non_empty_train_indices else None}\n",
      "C:\\Users\\carlo\\GitHub\\ProjectBuffalo\\buffalo\\predictor\\util.py:224: UserWarning: dataset_info with the same primary keys already exists with id 1, will not store dataset information.\n",
      "  warn(f\"dataset_info with the same primary keys already exists with id {searched_id}, will not store dataset information.\")\n"
     ]
    },
    {
     "data": {
      "application/vnd.jupyter.widget-view+json": {
       "model_id": "bbe88d8fbcd6414097acd2045d169609",
       "version_major": 2,
       "version_minor": 0
      },
      "text/plain": [
       "Multi-fold validation:   0%|          | 0/1 [00:00<?, ?it/s]"
      ]
     },
     "metadata": {},
     "output_type": "display_data"
    },
    {
     "data": {
      "application/vnd.jupyter.widget-view+json": {
       "model_id": "87ff54b6c8e042919c4b706db1d9a44e",
       "version_major": 2,
       "version_minor": 0
      },
      "text/plain": [
       "Epoch:   0%|          | 0/30 [00:00<?, ?it/s]"
      ]
     },
     "metadata": {},
     "output_type": "display_data"
    },
    {
     "name": "stdout",
     "output_type": "stream",
     "text": [
      "Averaged validation loss: nan. Test loss: 189.26656420445042.\n"
     ]
    },
    {
     "name": "stderr",
     "output_type": "stream",
     "text": [
      "C:\\Users\\carlo\\GitHub\\ProjectBuffalo\\buffalo\\predictor\\__init__.py:223: RuntimeWarning: Mean of empty slice\n",
      "  print(f'Averaged validation loss: {np.nanmean(train_valid_loss)}. Test loss: {test_loss}.')\n",
      "C:\\Users\\carlo\\GitHub\\ProjectBuffalo\\buffalo\\predictor\\__init__.py:236: RuntimeWarning: Mean of empty slice\n",
      "  'average_validation_loss': np.nanmean(train_valid_loss) if non_empty_train_indices else None}\n",
      "C:\\Users\\carlo\\GitHub\\ProjectBuffalo\\buffalo\\predictor\\util.py:224: UserWarning: dataset_info with the same primary keys already exists with id 1, will not store dataset information.\n",
      "  warn(f\"dataset_info with the same primary keys already exists with id {searched_id}, will not store dataset information.\")\n"
     ]
    },
    {
     "data": {
      "application/vnd.jupyter.widget-view+json": {
       "model_id": "90026a0497c54c489a2286fbb59fab1b",
       "version_major": 2,
       "version_minor": 0
      },
      "text/plain": [
       "Multi-fold validation:   0%|          | 0/1 [00:00<?, ?it/s]"
      ]
     },
     "metadata": {},
     "output_type": "display_data"
    },
    {
     "data": {
      "application/vnd.jupyter.widget-view+json": {
       "model_id": "35f2024206ab4ac683935dfe24f0b1b0",
       "version_major": 2,
       "version_minor": 0
      },
      "text/plain": [
       "Epoch:   0%|          | 0/60 [00:00<?, ?it/s]"
      ]
     },
     "metadata": {},
     "output_type": "display_data"
    },
    {
     "name": "stdout",
     "output_type": "stream",
     "text": [
      "Averaged validation loss: nan. Test loss: 1399.823717695351.\n"
     ]
    },
    {
     "name": "stderr",
     "output_type": "stream",
     "text": [
      "C:\\Users\\carlo\\GitHub\\ProjectBuffalo\\buffalo\\predictor\\__init__.py:223: RuntimeWarning: Mean of empty slice\n",
      "  print(f'Averaged validation loss: {np.nanmean(train_valid_loss)}. Test loss: {test_loss}.')\n",
      "C:\\Users\\carlo\\GitHub\\ProjectBuffalo\\buffalo\\predictor\\__init__.py:236: RuntimeWarning: Mean of empty slice\n",
      "  'average_validation_loss': np.nanmean(train_valid_loss) if non_empty_train_indices else None}\n",
      "C:\\Users\\carlo\\GitHub\\ProjectBuffalo\\buffalo\\predictor\\util.py:224: UserWarning: dataset_info with the same primary keys already exists with id 1, will not store dataset information.\n",
      "  warn(f\"dataset_info with the same primary keys already exists with id {searched_id}, will not store dataset information.\")\n",
      "C:\\Users\\carlo\\GitHub\\ProjectBuffalo\\buffalo\\predictor\\util.py:397: UserWarning: model_info with the same primary keys already exists with id 77, will not store model information.\n",
      "  warn(f'model_info with the same primary keys already exists with id {searched_id}, will not store model information.')\n"
     ]
    },
    {
     "data": {
      "application/vnd.jupyter.widget-view+json": {
       "model_id": "f7aa4edc3a8a4791842473c14e8cf3f8",
       "version_major": 2,
       "version_minor": 0
      },
      "text/plain": [
       "Multi-fold validation:   0%|          | 0/1 [00:00<?, ?it/s]"
      ]
     },
     "metadata": {},
     "output_type": "display_data"
    },
    {
     "data": {
      "application/vnd.jupyter.widget-view+json": {
       "model_id": "5d898596e42e419ea005c7e104898dd9",
       "version_major": 2,
       "version_minor": 0
      },
      "text/plain": [
       "Epoch:   0%|          | 0/60 [00:00<?, ?it/s]"
      ]
     },
     "metadata": {},
     "output_type": "display_data"
    },
    {
     "name": "stdout",
     "output_type": "stream",
     "text": [
      "Averaged validation loss: nan. Test loss: 1391.5722735782483.\n"
     ]
    },
    {
     "name": "stderr",
     "output_type": "stream",
     "text": [
      "C:\\Users\\carlo\\GitHub\\ProjectBuffalo\\buffalo\\predictor\\__init__.py:223: RuntimeWarning: Mean of empty slice\n",
      "  print(f'Averaged validation loss: {np.nanmean(train_valid_loss)}. Test loss: {test_loss}.')\n",
      "C:\\Users\\carlo\\GitHub\\ProjectBuffalo\\buffalo\\predictor\\__init__.py:236: RuntimeWarning: Mean of empty slice\n",
      "  'average_validation_loss': np.nanmean(train_valid_loss) if non_empty_train_indices else None}\n",
      "C:\\Users\\carlo\\GitHub\\ProjectBuffalo\\buffalo\\predictor\\util.py:224: UserWarning: dataset_info with the same primary keys already exists with id 1, will not store dataset information.\n",
      "  warn(f\"dataset_info with the same primary keys already exists with id {searched_id}, will not store dataset information.\")\n",
      "C:\\Users\\carlo\\GitHub\\ProjectBuffalo\\buffalo\\predictor\\util.py:397: UserWarning: model_info with the same primary keys already exists with id 78, will not store model information.\n",
      "  warn(f'model_info with the same primary keys already exists with id {searched_id}, will not store model information.')\n"
     ]
    },
    {
     "data": {
      "application/vnd.jupyter.widget-view+json": {
       "model_id": "88c0d02788314da3a6998f6ccc01e3df",
       "version_major": 2,
       "version_minor": 0
      },
      "text/plain": [
       "Multi-fold validation:   0%|          | 0/1 [00:00<?, ?it/s]"
      ]
     },
     "metadata": {},
     "output_type": "display_data"
    },
    {
     "data": {
      "application/vnd.jupyter.widget-view+json": {
       "model_id": "6bd39582bd5746fb919fd3236890cbf0",
       "version_major": 2,
       "version_minor": 0
      },
      "text/plain": [
       "Epoch:   0%|          | 0/30 [00:00<?, ?it/s]"
      ]
     },
     "metadata": {},
     "output_type": "display_data"
    },
    {
     "name": "stdout",
     "output_type": "stream",
     "text": [
      "Averaged validation loss: nan. Test loss: 188.79978564978822.\n"
     ]
    },
    {
     "name": "stderr",
     "output_type": "stream",
     "text": [
      "C:\\Users\\carlo\\GitHub\\ProjectBuffalo\\buffalo\\predictor\\__init__.py:223: RuntimeWarning: Mean of empty slice\n",
      "  print(f'Averaged validation loss: {np.nanmean(train_valid_loss)}. Test loss: {test_loss}.')\n",
      "C:\\Users\\carlo\\GitHub\\ProjectBuffalo\\buffalo\\predictor\\__init__.py:236: RuntimeWarning: Mean of empty slice\n",
      "  'average_validation_loss': np.nanmean(train_valid_loss) if non_empty_train_indices else None}\n",
      "C:\\Users\\carlo\\GitHub\\ProjectBuffalo\\buffalo\\predictor\\util.py:224: UserWarning: dataset_info with the same primary keys already exists with id 1, will not store dataset information.\n",
      "  warn(f\"dataset_info with the same primary keys already exists with id {searched_id}, will not store dataset information.\")\n"
     ]
    },
    {
     "data": {
      "application/vnd.jupyter.widget-view+json": {
       "model_id": "49f00e5956124ea1bc703e05601956fe",
       "version_major": 2,
       "version_minor": 0
      },
      "text/plain": [
       "Multi-fold validation:   0%|          | 0/1 [00:00<?, ?it/s]"
      ]
     },
     "metadata": {},
     "output_type": "display_data"
    },
    {
     "data": {
      "application/vnd.jupyter.widget-view+json": {
       "model_id": "5de8674b257143a1a9aa84897bf06921",
       "version_major": 2,
       "version_minor": 0
      },
      "text/plain": [
       "Epoch:   0%|          | 0/30 [00:00<?, ?it/s]"
      ]
     },
     "metadata": {},
     "output_type": "display_data"
    },
    {
     "name": "stdout",
     "output_type": "stream",
     "text": [
      "Averaged validation loss: nan. Test loss: 189.14955246860396.\n"
     ]
    },
    {
     "name": "stderr",
     "output_type": "stream",
     "text": [
      "C:\\Users\\carlo\\GitHub\\ProjectBuffalo\\buffalo\\predictor\\__init__.py:223: RuntimeWarning: Mean of empty slice\n",
      "  print(f'Averaged validation loss: {np.nanmean(train_valid_loss)}. Test loss: {test_loss}.')\n",
      "C:\\Users\\carlo\\GitHub\\ProjectBuffalo\\buffalo\\predictor\\__init__.py:236: RuntimeWarning: Mean of empty slice\n",
      "  'average_validation_loss': np.nanmean(train_valid_loss) if non_empty_train_indices else None}\n",
      "C:\\Users\\carlo\\GitHub\\ProjectBuffalo\\buffalo\\predictor\\util.py:224: UserWarning: dataset_info with the same primary keys already exists with id 1, will not store dataset information.\n",
      "  warn(f\"dataset_info with the same primary keys already exists with id {searched_id}, will not store dataset information.\")\n"
     ]
    },
    {
     "data": {
      "application/vnd.jupyter.widget-view+json": {
       "model_id": "d9d26e15853d4e5ea02a5d9da49eda61",
       "version_major": 2,
       "version_minor": 0
      },
      "text/plain": [
       "Multi-fold validation:   0%|          | 0/1 [00:00<?, ?it/s]"
      ]
     },
     "metadata": {},
     "output_type": "display_data"
    },
    {
     "data": {
      "application/vnd.jupyter.widget-view+json": {
       "model_id": "daaf76c45cb9448387f40c6859d33e57",
       "version_major": 2,
       "version_minor": 0
      },
      "text/plain": [
       "Epoch:   0%|          | 0/60 [00:00<?, ?it/s]"
      ]
     },
     "metadata": {},
     "output_type": "display_data"
    },
    {
     "name": "stdout",
     "output_type": "stream",
     "text": [
      "Averaged validation loss: nan. Test loss: 1412.7560985749708.\n"
     ]
    },
    {
     "name": "stderr",
     "output_type": "stream",
     "text": [
      "C:\\Users\\carlo\\GitHub\\ProjectBuffalo\\buffalo\\predictor\\__init__.py:223: RuntimeWarning: Mean of empty slice\n",
      "  print(f'Averaged validation loss: {np.nanmean(train_valid_loss)}. Test loss: {test_loss}.')\n",
      "C:\\Users\\carlo\\GitHub\\ProjectBuffalo\\buffalo\\predictor\\__init__.py:236: RuntimeWarning: Mean of empty slice\n",
      "  'average_validation_loss': np.nanmean(train_valid_loss) if non_empty_train_indices else None}\n",
      "C:\\Users\\carlo\\GitHub\\ProjectBuffalo\\buffalo\\predictor\\util.py:224: UserWarning: dataset_info with the same primary keys already exists with id 1, will not store dataset information.\n",
      "  warn(f\"dataset_info with the same primary keys already exists with id {searched_id}, will not store dataset information.\")\n",
      "C:\\Users\\carlo\\GitHub\\ProjectBuffalo\\buffalo\\predictor\\util.py:397: UserWarning: model_info with the same primary keys already exists with id 79, will not store model information.\n",
      "  warn(f'model_info with the same primary keys already exists with id {searched_id}, will not store model information.')\n"
     ]
    },
    {
     "data": {
      "application/vnd.jupyter.widget-view+json": {
       "model_id": "deae8e8c267b45ed904f1ba9c96043d8",
       "version_major": 2,
       "version_minor": 0
      },
      "text/plain": [
       "Multi-fold validation:   0%|          | 0/1 [00:00<?, ?it/s]"
      ]
     },
     "metadata": {},
     "output_type": "display_data"
    },
    {
     "data": {
      "application/vnd.jupyter.widget-view+json": {
       "model_id": "8d09d180d2474547829f45b504316926",
       "version_major": 2,
       "version_minor": 0
      },
      "text/plain": [
       "Epoch:   0%|          | 0/60 [00:00<?, ?it/s]"
      ]
     },
     "metadata": {},
     "output_type": "display_data"
    },
    {
     "name": "stdout",
     "output_type": "stream",
     "text": [
      "Averaged validation loss: nan. Test loss: 1426.8705853446215.\n"
     ]
    },
    {
     "name": "stderr",
     "output_type": "stream",
     "text": [
      "C:\\Users\\carlo\\GitHub\\ProjectBuffalo\\buffalo\\predictor\\__init__.py:223: RuntimeWarning: Mean of empty slice\n",
      "  print(f'Averaged validation loss: {np.nanmean(train_valid_loss)}. Test loss: {test_loss}.')\n",
      "C:\\Users\\carlo\\GitHub\\ProjectBuffalo\\buffalo\\predictor\\__init__.py:236: RuntimeWarning: Mean of empty slice\n",
      "  'average_validation_loss': np.nanmean(train_valid_loss) if non_empty_train_indices else None}\n",
      "C:\\Users\\carlo\\GitHub\\ProjectBuffalo\\buffalo\\predictor\\util.py:224: UserWarning: dataset_info with the same primary keys already exists with id 1, will not store dataset information.\n",
      "  warn(f\"dataset_info with the same primary keys already exists with id {searched_id}, will not store dataset information.\")\n",
      "C:\\Users\\carlo\\GitHub\\ProjectBuffalo\\buffalo\\predictor\\util.py:397: UserWarning: model_info with the same primary keys already exists with id 80, will not store model information.\n",
      "  warn(f'model_info with the same primary keys already exists with id {searched_id}, will not store model information.')\n"
     ]
    },
    {
     "data": {
      "application/vnd.jupyter.widget-view+json": {
       "model_id": "ad99bc69b419472fb2e01e8b8670f290",
       "version_major": 2,
       "version_minor": 0
      },
      "text/plain": [
       "Multi-fold validation:   0%|          | 0/1 [00:00<?, ?it/s]"
      ]
     },
     "metadata": {},
     "output_type": "display_data"
    },
    {
     "data": {
      "application/vnd.jupyter.widget-view+json": {
       "model_id": "2106ce774d494552a74da3c52a733534",
       "version_major": 2,
       "version_minor": 0
      },
      "text/plain": [
       "Epoch:   0%|          | 0/30 [00:00<?, ?it/s]"
      ]
     },
     "metadata": {},
     "output_type": "display_data"
    },
    {
     "name": "stdout",
     "output_type": "stream",
     "text": [
      "Averaged validation loss: nan. Test loss: 2906.1667784138235.\n"
     ]
    },
    {
     "name": "stderr",
     "output_type": "stream",
     "text": [
      "C:\\Users\\carlo\\GitHub\\ProjectBuffalo\\buffalo\\predictor\\__init__.py:223: RuntimeWarning: Mean of empty slice\n",
      "  print(f'Averaged validation loss: {np.nanmean(train_valid_loss)}. Test loss: {test_loss}.')\n",
      "C:\\Users\\carlo\\GitHub\\ProjectBuffalo\\buffalo\\predictor\\__init__.py:236: RuntimeWarning: Mean of empty slice\n",
      "  'average_validation_loss': np.nanmean(train_valid_loss) if non_empty_train_indices else None}\n",
      "C:\\Users\\carlo\\GitHub\\ProjectBuffalo\\buffalo\\predictor\\util.py:224: UserWarning: dataset_info with the same primary keys already exists with id 1, will not store dataset information.\n",
      "  warn(f\"dataset_info with the same primary keys already exists with id {searched_id}, will not store dataset information.\")\n"
     ]
    },
    {
     "data": {
      "application/vnd.jupyter.widget-view+json": {
       "model_id": "14cf1cdc2cc04541814eb2b672e65eb1",
       "version_major": 2,
       "version_minor": 0
      },
      "text/plain": [
       "Multi-fold validation:   0%|          | 0/1 [00:00<?, ?it/s]"
      ]
     },
     "metadata": {},
     "output_type": "display_data"
    },
    {
     "data": {
      "application/vnd.jupyter.widget-view+json": {
       "model_id": "7dfc9c1cdefa4b2ea58864199ab67770",
       "version_major": 2,
       "version_minor": 0
      },
      "text/plain": [
       "Epoch:   0%|          | 0/30 [00:00<?, ?it/s]"
      ]
     },
     "metadata": {},
     "output_type": "display_data"
    },
    {
     "name": "stdout",
     "output_type": "stream",
     "text": [
      "Averaged validation loss: nan. Test loss: 2813.6328864893107.\n"
     ]
    },
    {
     "name": "stderr",
     "output_type": "stream",
     "text": [
      "C:\\Users\\carlo\\GitHub\\ProjectBuffalo\\buffalo\\predictor\\__init__.py:223: RuntimeWarning: Mean of empty slice\n",
      "  print(f'Averaged validation loss: {np.nanmean(train_valid_loss)}. Test loss: {test_loss}.')\n",
      "C:\\Users\\carlo\\GitHub\\ProjectBuffalo\\buffalo\\predictor\\__init__.py:236: RuntimeWarning: Mean of empty slice\n",
      "  'average_validation_loss': np.nanmean(train_valid_loss) if non_empty_train_indices else None}\n",
      "C:\\Users\\carlo\\GitHub\\ProjectBuffalo\\buffalo\\predictor\\util.py:224: UserWarning: dataset_info with the same primary keys already exists with id 1, will not store dataset information.\n",
      "  warn(f\"dataset_info with the same primary keys already exists with id {searched_id}, will not store dataset information.\")\n"
     ]
    },
    {
     "data": {
      "application/vnd.jupyter.widget-view+json": {
       "model_id": "3db56fb2a11246578be2f8aee658fc8a",
       "version_major": 2,
       "version_minor": 0
      },
      "text/plain": [
       "Multi-fold validation:   0%|          | 0/1 [00:00<?, ?it/s]"
      ]
     },
     "metadata": {},
     "output_type": "display_data"
    },
    {
     "data": {
      "application/vnd.jupyter.widget-view+json": {
       "model_id": "c35a81fcb563442a9dc25f9e8171511b",
       "version_major": 2,
       "version_minor": 0
      },
      "text/plain": [
       "Epoch:   0%|          | 0/60 [00:00<?, ?it/s]"
      ]
     },
     "metadata": {},
     "output_type": "display_data"
    },
    {
     "name": "stdout",
     "output_type": "stream",
     "text": [
      "Averaged validation loss: nan. Test loss: 2951.4844981548463.\n"
     ]
    },
    {
     "name": "stderr",
     "output_type": "stream",
     "text": [
      "C:\\Users\\carlo\\GitHub\\ProjectBuffalo\\buffalo\\predictor\\__init__.py:223: RuntimeWarning: Mean of empty slice\n",
      "  print(f'Averaged validation loss: {np.nanmean(train_valid_loss)}. Test loss: {test_loss}.')\n",
      "C:\\Users\\carlo\\GitHub\\ProjectBuffalo\\buffalo\\predictor\\__init__.py:236: RuntimeWarning: Mean of empty slice\n",
      "  'average_validation_loss': np.nanmean(train_valid_loss) if non_empty_train_indices else None}\n",
      "C:\\Users\\carlo\\GitHub\\ProjectBuffalo\\buffalo\\predictor\\util.py:224: UserWarning: dataset_info with the same primary keys already exists with id 1, will not store dataset information.\n",
      "  warn(f\"dataset_info with the same primary keys already exists with id {searched_id}, will not store dataset information.\")\n",
      "C:\\Users\\carlo\\GitHub\\ProjectBuffalo\\buffalo\\predictor\\util.py:397: UserWarning: model_info with the same primary keys already exists with id 81, will not store model information.\n",
      "  warn(f'model_info with the same primary keys already exists with id {searched_id}, will not store model information.')\n"
     ]
    },
    {
     "data": {
      "application/vnd.jupyter.widget-view+json": {
       "model_id": "0d480337e00d40edb3c06e51c6c77fa1",
       "version_major": 2,
       "version_minor": 0
      },
      "text/plain": [
       "Multi-fold validation:   0%|          | 0/1 [00:00<?, ?it/s]"
      ]
     },
     "metadata": {},
     "output_type": "display_data"
    },
    {
     "data": {
      "application/vnd.jupyter.widget-view+json": {
       "model_id": "c063d79a5a08416794563ff71c076af8",
       "version_major": 2,
       "version_minor": 0
      },
      "text/plain": [
       "Epoch:   0%|          | 0/60 [00:00<?, ?it/s]"
      ]
     },
     "metadata": {},
     "output_type": "display_data"
    },
    {
     "name": "stdout",
     "output_type": "stream",
     "text": [
      "Averaged validation loss: nan. Test loss: 2865.8073029136845.\n"
     ]
    },
    {
     "name": "stderr",
     "output_type": "stream",
     "text": [
      "C:\\Users\\carlo\\GitHub\\ProjectBuffalo\\buffalo\\predictor\\__init__.py:223: RuntimeWarning: Mean of empty slice\n",
      "  print(f'Averaged validation loss: {np.nanmean(train_valid_loss)}. Test loss: {test_loss}.')\n",
      "C:\\Users\\carlo\\GitHub\\ProjectBuffalo\\buffalo\\predictor\\__init__.py:236: RuntimeWarning: Mean of empty slice\n",
      "  'average_validation_loss': np.nanmean(train_valid_loss) if non_empty_train_indices else None}\n",
      "C:\\Users\\carlo\\GitHub\\ProjectBuffalo\\buffalo\\predictor\\util.py:224: UserWarning: dataset_info with the same primary keys already exists with id 1, will not store dataset information.\n",
      "  warn(f\"dataset_info with the same primary keys already exists with id {searched_id}, will not store dataset information.\")\n",
      "C:\\Users\\carlo\\GitHub\\ProjectBuffalo\\buffalo\\predictor\\util.py:397: UserWarning: model_info with the same primary keys already exists with id 82, will not store model information.\n",
      "  warn(f'model_info with the same primary keys already exists with id {searched_id}, will not store model information.')\n"
     ]
    },
    {
     "data": {
      "application/vnd.jupyter.widget-view+json": {
       "model_id": "6d7cd12e0c964333b5e289b71df5aebf",
       "version_major": 2,
       "version_minor": 0
      },
      "text/plain": [
       "Multi-fold validation:   0%|          | 0/1 [00:00<?, ?it/s]"
      ]
     },
     "metadata": {},
     "output_type": "display_data"
    },
    {
     "data": {
      "application/vnd.jupyter.widget-view+json": {
       "model_id": "bb0760dc57ba490c8b8c6cee4973415a",
       "version_major": 2,
       "version_minor": 0
      },
      "text/plain": [
       "Epoch:   0%|          | 0/30 [00:00<?, ?it/s]"
      ]
     },
     "metadata": {},
     "output_type": "display_data"
    },
    {
     "name": "stdout",
     "output_type": "stream",
     "text": [
      "Averaged validation loss: nan. Test loss: 2896.1223337337274.\n"
     ]
    },
    {
     "name": "stderr",
     "output_type": "stream",
     "text": [
      "C:\\Users\\carlo\\GitHub\\ProjectBuffalo\\buffalo\\predictor\\__init__.py:223: RuntimeWarning: Mean of empty slice\n",
      "  print(f'Averaged validation loss: {np.nanmean(train_valid_loss)}. Test loss: {test_loss}.')\n",
      "C:\\Users\\carlo\\GitHub\\ProjectBuffalo\\buffalo\\predictor\\__init__.py:236: RuntimeWarning: Mean of empty slice\n",
      "  'average_validation_loss': np.nanmean(train_valid_loss) if non_empty_train_indices else None}\n",
      "C:\\Users\\carlo\\GitHub\\ProjectBuffalo\\buffalo\\predictor\\util.py:224: UserWarning: dataset_info with the same primary keys already exists with id 1, will not store dataset information.\n",
      "  warn(f\"dataset_info with the same primary keys already exists with id {searched_id}, will not store dataset information.\")\n"
     ]
    },
    {
     "data": {
      "application/vnd.jupyter.widget-view+json": {
       "model_id": "fe35270a746c4b82ad15f60f9478d389",
       "version_major": 2,
       "version_minor": 0
      },
      "text/plain": [
       "Multi-fold validation:   0%|          | 0/1 [00:00<?, ?it/s]"
      ]
     },
     "metadata": {},
     "output_type": "display_data"
    },
    {
     "data": {
      "application/vnd.jupyter.widget-view+json": {
       "model_id": "219c9e701578480f8328dec336e78ac3",
       "version_major": 2,
       "version_minor": 0
      },
      "text/plain": [
       "Epoch:   0%|          | 0/30 [00:00<?, ?it/s]"
      ]
     },
     "metadata": {},
     "output_type": "display_data"
    },
    {
     "name": "stdout",
     "output_type": "stream",
     "text": [
      "Averaged validation loss: nan. Test loss: 2935.7874337711314.\n"
     ]
    },
    {
     "name": "stderr",
     "output_type": "stream",
     "text": [
      "C:\\Users\\carlo\\GitHub\\ProjectBuffalo\\buffalo\\predictor\\__init__.py:223: RuntimeWarning: Mean of empty slice\n",
      "  print(f'Averaged validation loss: {np.nanmean(train_valid_loss)}. Test loss: {test_loss}.')\n",
      "C:\\Users\\carlo\\GitHub\\ProjectBuffalo\\buffalo\\predictor\\__init__.py:236: RuntimeWarning: Mean of empty slice\n",
      "  'average_validation_loss': np.nanmean(train_valid_loss) if non_empty_train_indices else None}\n",
      "C:\\Users\\carlo\\GitHub\\ProjectBuffalo\\buffalo\\predictor\\util.py:224: UserWarning: dataset_info with the same primary keys already exists with id 1, will not store dataset information.\n",
      "  warn(f\"dataset_info with the same primary keys already exists with id {searched_id}, will not store dataset information.\")\n"
     ]
    },
    {
     "data": {
      "application/vnd.jupyter.widget-view+json": {
       "model_id": "4e01d6b07d24483887ff7e7c4512fb3a",
       "version_major": 2,
       "version_minor": 0
      },
      "text/plain": [
       "Multi-fold validation:   0%|          | 0/1 [00:00<?, ?it/s]"
      ]
     },
     "metadata": {},
     "output_type": "display_data"
    },
    {
     "data": {
      "application/vnd.jupyter.widget-view+json": {
       "model_id": "e6f7c9b288684c75b88eb632a4aa5844",
       "version_major": 2,
       "version_minor": 0
      },
      "text/plain": [
       "Epoch:   0%|          | 0/60 [00:00<?, ?it/s]"
      ]
     },
     "metadata": {},
     "output_type": "display_data"
    },
    {
     "name": "stdout",
     "output_type": "stream",
     "text": [
      "Averaged validation loss: nan. Test loss: 2524.775405567467.\n"
     ]
    },
    {
     "name": "stderr",
     "output_type": "stream",
     "text": [
      "C:\\Users\\carlo\\GitHub\\ProjectBuffalo\\buffalo\\predictor\\__init__.py:223: RuntimeWarning: Mean of empty slice\n",
      "  print(f'Averaged validation loss: {np.nanmean(train_valid_loss)}. Test loss: {test_loss}.')\n",
      "C:\\Users\\carlo\\GitHub\\ProjectBuffalo\\buffalo\\predictor\\__init__.py:236: RuntimeWarning: Mean of empty slice\n",
      "  'average_validation_loss': np.nanmean(train_valid_loss) if non_empty_train_indices else None}\n",
      "C:\\Users\\carlo\\GitHub\\ProjectBuffalo\\buffalo\\predictor\\util.py:224: UserWarning: dataset_info with the same primary keys already exists with id 1, will not store dataset information.\n",
      "  warn(f\"dataset_info with the same primary keys already exists with id {searched_id}, will not store dataset information.\")\n",
      "C:\\Users\\carlo\\GitHub\\ProjectBuffalo\\buffalo\\predictor\\util.py:397: UserWarning: model_info with the same primary keys already exists with id 83, will not store model information.\n",
      "  warn(f'model_info with the same primary keys already exists with id {searched_id}, will not store model information.')\n"
     ]
    },
    {
     "data": {
      "application/vnd.jupyter.widget-view+json": {
       "model_id": "30444dc40a9f43b493278cbc352f2b6c",
       "version_major": 2,
       "version_minor": 0
      },
      "text/plain": [
       "Multi-fold validation:   0%|          | 0/1 [00:00<?, ?it/s]"
      ]
     },
     "metadata": {},
     "output_type": "display_data"
    },
    {
     "data": {
      "application/vnd.jupyter.widget-view+json": {
       "model_id": "91bb54cb03f541ae926379121b63dac4",
       "version_major": 2,
       "version_minor": 0
      },
      "text/plain": [
       "Epoch:   0%|          | 0/60 [00:00<?, ?it/s]"
      ]
     },
     "metadata": {},
     "output_type": "display_data"
    },
    {
     "name": "stdout",
     "output_type": "stream",
     "text": [
      "Averaged validation loss: nan. Test loss: 2761.395106052952.\n"
     ]
    },
    {
     "name": "stderr",
     "output_type": "stream",
     "text": [
      "C:\\Users\\carlo\\GitHub\\ProjectBuffalo\\buffalo\\predictor\\__init__.py:223: RuntimeWarning: Mean of empty slice\n",
      "  print(f'Averaged validation loss: {np.nanmean(train_valid_loss)}. Test loss: {test_loss}.')\n",
      "C:\\Users\\carlo\\GitHub\\ProjectBuffalo\\buffalo\\predictor\\__init__.py:236: RuntimeWarning: Mean of empty slice\n",
      "  'average_validation_loss': np.nanmean(train_valid_loss) if non_empty_train_indices else None}\n",
      "C:\\Users\\carlo\\GitHub\\ProjectBuffalo\\buffalo\\predictor\\util.py:224: UserWarning: dataset_info with the same primary keys already exists with id 1, will not store dataset information.\n",
      "  warn(f\"dataset_info with the same primary keys already exists with id {searched_id}, will not store dataset information.\")\n",
      "C:\\Users\\carlo\\GitHub\\ProjectBuffalo\\buffalo\\predictor\\util.py:397: UserWarning: model_info with the same primary keys already exists with id 84, will not store model information.\n",
      "  warn(f'model_info with the same primary keys already exists with id {searched_id}, will not store model information.')\n"
     ]
    },
    {
     "data": {
      "application/vnd.jupyter.widget-view+json": {
       "model_id": "3d9db6c16c4d479b8e4b7ad13e8343c7",
       "version_major": 2,
       "version_minor": 0
      },
      "text/plain": [
       "Multi-fold validation:   0%|          | 0/1 [00:00<?, ?it/s]"
      ]
     },
     "metadata": {},
     "output_type": "display_data"
    },
    {
     "data": {
      "application/vnd.jupyter.widget-view+json": {
       "model_id": "89c88a9d109045abb633287d6d85fc64",
       "version_major": 2,
       "version_minor": 0
      },
      "text/plain": [
       "Epoch:   0%|          | 0/30 [00:00<?, ?it/s]"
      ]
     },
     "metadata": {},
     "output_type": "display_data"
    },
    {
     "name": "stdout",
     "output_type": "stream",
     "text": [
      "Averaged validation loss: nan. Test loss: 3158.309483790798.\n"
     ]
    },
    {
     "name": "stderr",
     "output_type": "stream",
     "text": [
      "C:\\Users\\carlo\\GitHub\\ProjectBuffalo\\buffalo\\predictor\\__init__.py:223: RuntimeWarning: Mean of empty slice\n",
      "  print(f'Averaged validation loss: {np.nanmean(train_valid_loss)}. Test loss: {test_loss}.')\n",
      "C:\\Users\\carlo\\GitHub\\ProjectBuffalo\\buffalo\\predictor\\__init__.py:236: RuntimeWarning: Mean of empty slice\n",
      "  'average_validation_loss': np.nanmean(train_valid_loss) if non_empty_train_indices else None}\n",
      "C:\\Users\\carlo\\GitHub\\ProjectBuffalo\\buffalo\\predictor\\util.py:224: UserWarning: dataset_info with the same primary keys already exists with id 1, will not store dataset information.\n",
      "  warn(f\"dataset_info with the same primary keys already exists with id {searched_id}, will not store dataset information.\")\n"
     ]
    },
    {
     "data": {
      "application/vnd.jupyter.widget-view+json": {
       "model_id": "7db25c15c8684c2cae33ccce4abe5eac",
       "version_major": 2,
       "version_minor": 0
      },
      "text/plain": [
       "Multi-fold validation:   0%|          | 0/1 [00:00<?, ?it/s]"
      ]
     },
     "metadata": {},
     "output_type": "display_data"
    },
    {
     "data": {
      "application/vnd.jupyter.widget-view+json": {
       "model_id": "e3b1e052ec0f4664ae36d88e82997fe1",
       "version_major": 2,
       "version_minor": 0
      },
      "text/plain": [
       "Epoch:   0%|          | 0/30 [00:00<?, ?it/s]"
      ]
     },
     "metadata": {},
     "output_type": "display_data"
    },
    {
     "name": "stdout",
     "output_type": "stream",
     "text": [
      "Averaged validation loss: nan. Test loss: 3137.95177126072.\n"
     ]
    },
    {
     "name": "stderr",
     "output_type": "stream",
     "text": [
      "C:\\Users\\carlo\\GitHub\\ProjectBuffalo\\buffalo\\predictor\\__init__.py:223: RuntimeWarning: Mean of empty slice\n",
      "  print(f'Averaged validation loss: {np.nanmean(train_valid_loss)}. Test loss: {test_loss}.')\n",
      "C:\\Users\\carlo\\GitHub\\ProjectBuffalo\\buffalo\\predictor\\__init__.py:236: RuntimeWarning: Mean of empty slice\n",
      "  'average_validation_loss': np.nanmean(train_valid_loss) if non_empty_train_indices else None}\n",
      "C:\\Users\\carlo\\GitHub\\ProjectBuffalo\\buffalo\\predictor\\util.py:224: UserWarning: dataset_info with the same primary keys already exists with id 1, will not store dataset information.\n",
      "  warn(f\"dataset_info with the same primary keys already exists with id {searched_id}, will not store dataset information.\")\n"
     ]
    },
    {
     "data": {
      "application/vnd.jupyter.widget-view+json": {
       "model_id": "88025e9aa3354f988ce636dee5cb80f3",
       "version_major": 2,
       "version_minor": 0
      },
      "text/plain": [
       "Multi-fold validation:   0%|          | 0/1 [00:00<?, ?it/s]"
      ]
     },
     "metadata": {},
     "output_type": "display_data"
    },
    {
     "data": {
      "application/vnd.jupyter.widget-view+json": {
       "model_id": "343732dc15714e15947b6c97aa9a0b59",
       "version_major": 2,
       "version_minor": 0
      },
      "text/plain": [
       "Epoch:   0%|          | 0/60 [00:00<?, ?it/s]"
      ]
     },
     "metadata": {},
     "output_type": "display_data"
    },
    {
     "name": "stdout",
     "output_type": "stream",
     "text": [
      "Averaged validation loss: nan. Test loss: 3139.210990039641.\n"
     ]
    },
    {
     "name": "stderr",
     "output_type": "stream",
     "text": [
      "C:\\Users\\carlo\\GitHub\\ProjectBuffalo\\buffalo\\predictor\\__init__.py:223: RuntimeWarning: Mean of empty slice\n",
      "  print(f'Averaged validation loss: {np.nanmean(train_valid_loss)}. Test loss: {test_loss}.')\n",
      "C:\\Users\\carlo\\GitHub\\ProjectBuffalo\\buffalo\\predictor\\__init__.py:236: RuntimeWarning: Mean of empty slice\n",
      "  'average_validation_loss': np.nanmean(train_valid_loss) if non_empty_train_indices else None}\n",
      "C:\\Users\\carlo\\GitHub\\ProjectBuffalo\\buffalo\\predictor\\util.py:224: UserWarning: dataset_info with the same primary keys already exists with id 1, will not store dataset information.\n",
      "  warn(f\"dataset_info with the same primary keys already exists with id {searched_id}, will not store dataset information.\")\n",
      "C:\\Users\\carlo\\GitHub\\ProjectBuffalo\\buffalo\\predictor\\util.py:397: UserWarning: model_info with the same primary keys already exists with id 85, will not store model information.\n",
      "  warn(f'model_info with the same primary keys already exists with id {searched_id}, will not store model information.')\n"
     ]
    },
    {
     "data": {
      "application/vnd.jupyter.widget-view+json": {
       "model_id": "9457f600b01f45f4ae0d9235ec203a18",
       "version_major": 2,
       "version_minor": 0
      },
      "text/plain": [
       "Multi-fold validation:   0%|          | 0/1 [00:00<?, ?it/s]"
      ]
     },
     "metadata": {},
     "output_type": "display_data"
    },
    {
     "data": {
      "application/vnd.jupyter.widget-view+json": {
       "model_id": "1bf6844d5a804ec6acdf23bc52dc6154",
       "version_major": 2,
       "version_minor": 0
      },
      "text/plain": [
       "Epoch:   0%|          | 0/60 [00:00<?, ?it/s]"
      ]
     },
     "metadata": {},
     "output_type": "display_data"
    },
    {
     "name": "stdout",
     "output_type": "stream",
     "text": [
      "Averaged validation loss: nan. Test loss: 2971.784289104917.\n"
     ]
    },
    {
     "name": "stderr",
     "output_type": "stream",
     "text": [
      "C:\\Users\\carlo\\GitHub\\ProjectBuffalo\\buffalo\\predictor\\__init__.py:223: RuntimeWarning: Mean of empty slice\n",
      "  print(f'Averaged validation loss: {np.nanmean(train_valid_loss)}. Test loss: {test_loss}.')\n",
      "C:\\Users\\carlo\\GitHub\\ProjectBuffalo\\buffalo\\predictor\\__init__.py:236: RuntimeWarning: Mean of empty slice\n",
      "  'average_validation_loss': np.nanmean(train_valid_loss) if non_empty_train_indices else None}\n",
      "C:\\Users\\carlo\\GitHub\\ProjectBuffalo\\buffalo\\predictor\\util.py:224: UserWarning: dataset_info with the same primary keys already exists with id 1, will not store dataset information.\n",
      "  warn(f\"dataset_info with the same primary keys already exists with id {searched_id}, will not store dataset information.\")\n",
      "C:\\Users\\carlo\\GitHub\\ProjectBuffalo\\buffalo\\predictor\\util.py:397: UserWarning: model_info with the same primary keys already exists with id 86, will not store model information.\n",
      "  warn(f'model_info with the same primary keys already exists with id {searched_id}, will not store model information.')\n"
     ]
    },
    {
     "data": {
      "application/vnd.jupyter.widget-view+json": {
       "model_id": "2ed10ff14cfa4cc38436810fea3c952c",
       "version_major": 2,
       "version_minor": 0
      },
      "text/plain": [
       "Multi-fold validation:   0%|          | 0/1 [00:00<?, ?it/s]"
      ]
     },
     "metadata": {},
     "output_type": "display_data"
    },
    {
     "data": {
      "application/vnd.jupyter.widget-view+json": {
       "model_id": "f377a307e6074c61a5700a5b71992f57",
       "version_major": 2,
       "version_minor": 0
      },
      "text/plain": [
       "Epoch:   0%|          | 0/30 [00:00<?, ?it/s]"
      ]
     },
     "metadata": {},
     "output_type": "display_data"
    },
    {
     "name": "stdout",
     "output_type": "stream",
     "text": [
      "Averaged validation loss: nan. Test loss: 3196.079038418528.\n"
     ]
    },
    {
     "name": "stderr",
     "output_type": "stream",
     "text": [
      "C:\\Users\\carlo\\GitHub\\ProjectBuffalo\\buffalo\\predictor\\__init__.py:223: RuntimeWarning: Mean of empty slice\n",
      "  print(f'Averaged validation loss: {np.nanmean(train_valid_loss)}. Test loss: {test_loss}.')\n",
      "C:\\Users\\carlo\\GitHub\\ProjectBuffalo\\buffalo\\predictor\\__init__.py:236: RuntimeWarning: Mean of empty slice\n",
      "  'average_validation_loss': np.nanmean(train_valid_loss) if non_empty_train_indices else None}\n",
      "C:\\Users\\carlo\\GitHub\\ProjectBuffalo\\buffalo\\predictor\\util.py:224: UserWarning: dataset_info with the same primary keys already exists with id 1, will not store dataset information.\n",
      "  warn(f\"dataset_info with the same primary keys already exists with id {searched_id}, will not store dataset information.\")\n"
     ]
    },
    {
     "data": {
      "application/vnd.jupyter.widget-view+json": {
       "model_id": "380babcfb7c84100b648c34af41a5384",
       "version_major": 2,
       "version_minor": 0
      },
      "text/plain": [
       "Multi-fold validation:   0%|          | 0/1 [00:00<?, ?it/s]"
      ]
     },
     "metadata": {},
     "output_type": "display_data"
    },
    {
     "data": {
      "application/vnd.jupyter.widget-view+json": {
       "model_id": "e3aceb8f501d424ca4184cefad73f447",
       "version_major": 2,
       "version_minor": 0
      },
      "text/plain": [
       "Epoch:   0%|          | 0/30 [00:00<?, ?it/s]"
      ]
     },
     "metadata": {},
     "output_type": "display_data"
    },
    {
     "name": "stdout",
     "output_type": "stream",
     "text": [
      "Averaged validation loss: nan. Test loss: 3178.690546335143.\n"
     ]
    },
    {
     "name": "stderr",
     "output_type": "stream",
     "text": [
      "C:\\Users\\carlo\\GitHub\\ProjectBuffalo\\buffalo\\predictor\\__init__.py:223: RuntimeWarning: Mean of empty slice\n",
      "  print(f'Averaged validation loss: {np.nanmean(train_valid_loss)}. Test loss: {test_loss}.')\n",
      "C:\\Users\\carlo\\GitHub\\ProjectBuffalo\\buffalo\\predictor\\__init__.py:236: RuntimeWarning: Mean of empty slice\n",
      "  'average_validation_loss': np.nanmean(train_valid_loss) if non_empty_train_indices else None}\n",
      "C:\\Users\\carlo\\GitHub\\ProjectBuffalo\\buffalo\\predictor\\util.py:224: UserWarning: dataset_info with the same primary keys already exists with id 1, will not store dataset information.\n",
      "  warn(f\"dataset_info with the same primary keys already exists with id {searched_id}, will not store dataset information.\")\n"
     ]
    },
    {
     "data": {
      "application/vnd.jupyter.widget-view+json": {
       "model_id": "988f63b29a584e30bf3c00e478889348",
       "version_major": 2,
       "version_minor": 0
      },
      "text/plain": [
       "Multi-fold validation:   0%|          | 0/1 [00:00<?, ?it/s]"
      ]
     },
     "metadata": {},
     "output_type": "display_data"
    },
    {
     "data": {
      "application/vnd.jupyter.widget-view+json": {
       "model_id": "07859a6a52ff4276905dad4ed16f608c",
       "version_major": 2,
       "version_minor": 0
      },
      "text/plain": [
       "Epoch:   0%|          | 0/60 [00:00<?, ?it/s]"
      ]
     },
     "metadata": {},
     "output_type": "display_data"
    },
    {
     "name": "stdout",
     "output_type": "stream",
     "text": [
      "Averaged validation loss: nan. Test loss: 3092.6210506096527.\n"
     ]
    },
    {
     "name": "stderr",
     "output_type": "stream",
     "text": [
      "C:\\Users\\carlo\\GitHub\\ProjectBuffalo\\buffalo\\predictor\\__init__.py:223: RuntimeWarning: Mean of empty slice\n",
      "  print(f'Averaged validation loss: {np.nanmean(train_valid_loss)}. Test loss: {test_loss}.')\n",
      "C:\\Users\\carlo\\GitHub\\ProjectBuffalo\\buffalo\\predictor\\__init__.py:236: RuntimeWarning: Mean of empty slice\n",
      "  'average_validation_loss': np.nanmean(train_valid_loss) if non_empty_train_indices else None}\n",
      "C:\\Users\\carlo\\GitHub\\ProjectBuffalo\\buffalo\\predictor\\util.py:224: UserWarning: dataset_info with the same primary keys already exists with id 1, will not store dataset information.\n",
      "  warn(f\"dataset_info with the same primary keys already exists with id {searched_id}, will not store dataset information.\")\n",
      "C:\\Users\\carlo\\GitHub\\ProjectBuffalo\\buffalo\\predictor\\util.py:397: UserWarning: model_info with the same primary keys already exists with id 87, will not store model information.\n",
      "  warn(f'model_info with the same primary keys already exists with id {searched_id}, will not store model information.')\n"
     ]
    },
    {
     "data": {
      "application/vnd.jupyter.widget-view+json": {
       "model_id": "1a96972679244bab8adc1557a49177ae",
       "version_major": 2,
       "version_minor": 0
      },
      "text/plain": [
       "Multi-fold validation:   0%|          | 0/1 [00:00<?, ?it/s]"
      ]
     },
     "metadata": {},
     "output_type": "display_data"
    },
    {
     "data": {
      "application/vnd.jupyter.widget-view+json": {
       "model_id": "cce96f03f6b3485fbf7552572212ad65",
       "version_major": 2,
       "version_minor": 0
      },
      "text/plain": [
       "Epoch:   0%|          | 0/60 [00:00<?, ?it/s]"
      ]
     },
     "metadata": {},
     "output_type": "display_data"
    },
    {
     "name": "stdout",
     "output_type": "stream",
     "text": [
      "Averaged validation loss: nan. Test loss: 3077.1480935822588.\n"
     ]
    },
    {
     "name": "stderr",
     "output_type": "stream",
     "text": [
      "C:\\Users\\carlo\\GitHub\\ProjectBuffalo\\buffalo\\predictor\\__init__.py:223: RuntimeWarning: Mean of empty slice\n",
      "  print(f'Averaged validation loss: {np.nanmean(train_valid_loss)}. Test loss: {test_loss}.')\n",
      "C:\\Users\\carlo\\GitHub\\ProjectBuffalo\\buffalo\\predictor\\__init__.py:236: RuntimeWarning: Mean of empty slice\n",
      "  'average_validation_loss': np.nanmean(train_valid_loss) if non_empty_train_indices else None}\n",
      "C:\\Users\\carlo\\GitHub\\ProjectBuffalo\\buffalo\\predictor\\util.py:224: UserWarning: dataset_info with the same primary keys already exists with id 1, will not store dataset information.\n",
      "  warn(f\"dataset_info with the same primary keys already exists with id {searched_id}, will not store dataset information.\")\n",
      "C:\\Users\\carlo\\GitHub\\ProjectBuffalo\\buffalo\\predictor\\util.py:397: UserWarning: model_info with the same primary keys already exists with id 88, will not store model information.\n",
      "  warn(f'model_info with the same primary keys already exists with id {searched_id}, will not store model information.')\n"
     ]
    },
    {
     "data": {
      "application/vnd.jupyter.widget-view+json": {
       "model_id": "6c99a8c0126444f894bcbb008d6f1bd5",
       "version_major": 2,
       "version_minor": 0
      },
      "text/plain": [
       "Multi-fold validation:   0%|          | 0/1 [00:00<?, ?it/s]"
      ]
     },
     "metadata": {},
     "output_type": "display_data"
    },
    {
     "data": {
      "application/vnd.jupyter.widget-view+json": {
       "model_id": "2c84327963ee4ee6bffa348fada51d3e",
       "version_major": 2,
       "version_minor": 0
      },
      "text/plain": [
       "Epoch:   0%|          | 0/30 [00:00<?, ?it/s]"
      ]
     },
     "metadata": {},
     "output_type": "display_data"
    },
    {
     "name": "stdout",
     "output_type": "stream",
     "text": [
      "Averaged validation loss: nan. Test loss: 1465.889799790227.\n"
     ]
    },
    {
     "name": "stderr",
     "output_type": "stream",
     "text": [
      "C:\\Users\\carlo\\GitHub\\ProjectBuffalo\\buffalo\\predictor\\__init__.py:223: RuntimeWarning: Mean of empty slice\n",
      "  print(f'Averaged validation loss: {np.nanmean(train_valid_loss)}. Test loss: {test_loss}.')\n",
      "C:\\Users\\carlo\\GitHub\\ProjectBuffalo\\buffalo\\predictor\\__init__.py:236: RuntimeWarning: Mean of empty slice\n",
      "  'average_validation_loss': np.nanmean(train_valid_loss) if non_empty_train_indices else None}\n",
      "C:\\Users\\carlo\\GitHub\\ProjectBuffalo\\buffalo\\predictor\\util.py:224: UserWarning: dataset_info with the same primary keys already exists with id 1, will not store dataset information.\n",
      "  warn(f\"dataset_info with the same primary keys already exists with id {searched_id}, will not store dataset information.\")\n"
     ]
    },
    {
     "data": {
      "application/vnd.jupyter.widget-view+json": {
       "model_id": "4e6d88a6fc5a44e9bca33f502ce0bb49",
       "version_major": 2,
       "version_minor": 0
      },
      "text/plain": [
       "Multi-fold validation:   0%|          | 0/1 [00:00<?, ?it/s]"
      ]
     },
     "metadata": {},
     "output_type": "display_data"
    },
    {
     "data": {
      "application/vnd.jupyter.widget-view+json": {
       "model_id": "24e26eab395441b89e4e742b3b89614e",
       "version_major": 2,
       "version_minor": 0
      },
      "text/plain": [
       "Epoch:   0%|          | 0/30 [00:00<?, ?it/s]"
      ]
     },
     "metadata": {},
     "output_type": "display_data"
    },
    {
     "name": "stdout",
     "output_type": "stream",
     "text": [
      "Averaged validation loss: nan. Test loss: 1470.5985215875262.\n"
     ]
    },
    {
     "name": "stderr",
     "output_type": "stream",
     "text": [
      "C:\\Users\\carlo\\GitHub\\ProjectBuffalo\\buffalo\\predictor\\__init__.py:223: RuntimeWarning: Mean of empty slice\n",
      "  print(f'Averaged validation loss: {np.nanmean(train_valid_loss)}. Test loss: {test_loss}.')\n",
      "C:\\Users\\carlo\\GitHub\\ProjectBuffalo\\buffalo\\predictor\\__init__.py:236: RuntimeWarning: Mean of empty slice\n",
      "  'average_validation_loss': np.nanmean(train_valid_loss) if non_empty_train_indices else None}\n",
      "C:\\Users\\carlo\\GitHub\\ProjectBuffalo\\buffalo\\predictor\\util.py:224: UserWarning: dataset_info with the same primary keys already exists with id 1, will not store dataset information.\n",
      "  warn(f\"dataset_info with the same primary keys already exists with id {searched_id}, will not store dataset information.\")\n"
     ]
    },
    {
     "data": {
      "application/vnd.jupyter.widget-view+json": {
       "model_id": "9cbe7edf672f426ea81e7e53f31fc735",
       "version_major": 2,
       "version_minor": 0
      },
      "text/plain": [
       "Multi-fold validation:   0%|          | 0/1 [00:00<?, ?it/s]"
      ]
     },
     "metadata": {},
     "output_type": "display_data"
    },
    {
     "data": {
      "application/vnd.jupyter.widget-view+json": {
       "model_id": "f0f62d456a3d485287542330955386dc",
       "version_major": 2,
       "version_minor": 0
      },
      "text/plain": [
       "Epoch:   0%|          | 0/60 [00:00<?, ?it/s]"
      ]
     },
     "metadata": {},
     "output_type": "display_data"
    },
    {
     "name": "stdout",
     "output_type": "stream",
     "text": [
      "Averaged validation loss: nan. Test loss: 2714.8052015690555.\n"
     ]
    },
    {
     "name": "stderr",
     "output_type": "stream",
     "text": [
      "C:\\Users\\carlo\\GitHub\\ProjectBuffalo\\buffalo\\predictor\\__init__.py:223: RuntimeWarning: Mean of empty slice\n",
      "  print(f'Averaged validation loss: {np.nanmean(train_valid_loss)}. Test loss: {test_loss}.')\n",
      "C:\\Users\\carlo\\GitHub\\ProjectBuffalo\\buffalo\\predictor\\__init__.py:236: RuntimeWarning: Mean of empty slice\n",
      "  'average_validation_loss': np.nanmean(train_valid_loss) if non_empty_train_indices else None}\n",
      "C:\\Users\\carlo\\GitHub\\ProjectBuffalo\\buffalo\\predictor\\util.py:224: UserWarning: dataset_info with the same primary keys already exists with id 1, will not store dataset information.\n",
      "  warn(f\"dataset_info with the same primary keys already exists with id {searched_id}, will not store dataset information.\")\n",
      "C:\\Users\\carlo\\GitHub\\ProjectBuffalo\\buffalo\\predictor\\util.py:397: UserWarning: model_info with the same primary keys already exists with id 89, will not store model information.\n",
      "  warn(f'model_info with the same primary keys already exists with id {searched_id}, will not store model information.')\n"
     ]
    },
    {
     "data": {
      "application/vnd.jupyter.widget-view+json": {
       "model_id": "ce0c1def84814bc8a8224436c6879180",
       "version_major": 2,
       "version_minor": 0
      },
      "text/plain": [
       "Multi-fold validation:   0%|          | 0/1 [00:00<?, ?it/s]"
      ]
     },
     "metadata": {},
     "output_type": "display_data"
    },
    {
     "data": {
      "application/vnd.jupyter.widget-view+json": {
       "model_id": "36639e67bebb4e3c92e904d8b03ff708",
       "version_major": 2,
       "version_minor": 0
      },
      "text/plain": [
       "Epoch:   0%|          | 0/60 [00:00<?, ?it/s]"
      ]
     },
     "metadata": {},
     "output_type": "display_data"
    },
    {
     "name": "stdout",
     "output_type": "stream",
     "text": [
      "Averaged validation loss: nan. Test loss: 2549.7816804394433.\n"
     ]
    },
    {
     "name": "stderr",
     "output_type": "stream",
     "text": [
      "C:\\Users\\carlo\\GitHub\\ProjectBuffalo\\buffalo\\predictor\\__init__.py:223: RuntimeWarning: Mean of empty slice\n",
      "  print(f'Averaged validation loss: {np.nanmean(train_valid_loss)}. Test loss: {test_loss}.')\n",
      "C:\\Users\\carlo\\GitHub\\ProjectBuffalo\\buffalo\\predictor\\__init__.py:236: RuntimeWarning: Mean of empty slice\n",
      "  'average_validation_loss': np.nanmean(train_valid_loss) if non_empty_train_indices else None}\n",
      "C:\\Users\\carlo\\GitHub\\ProjectBuffalo\\buffalo\\predictor\\util.py:224: UserWarning: dataset_info with the same primary keys already exists with id 1, will not store dataset information.\n",
      "  warn(f\"dataset_info with the same primary keys already exists with id {searched_id}, will not store dataset information.\")\n",
      "C:\\Users\\carlo\\GitHub\\ProjectBuffalo\\buffalo\\predictor\\util.py:397: UserWarning: model_info with the same primary keys already exists with id 90, will not store model information.\n",
      "  warn(f'model_info with the same primary keys already exists with id {searched_id}, will not store model information.')\n"
     ]
    },
    {
     "data": {
      "application/vnd.jupyter.widget-view+json": {
       "model_id": "6e3a5350734a4215b1d0c64f732ec562",
       "version_major": 2,
       "version_minor": 0
      },
      "text/plain": [
       "Multi-fold validation:   0%|          | 0/1 [00:00<?, ?it/s]"
      ]
     },
     "metadata": {},
     "output_type": "display_data"
    },
    {
     "data": {
      "application/vnd.jupyter.widget-view+json": {
       "model_id": "70df2c15585a4f9fb7d8bf8b254d80c3",
       "version_major": 2,
       "version_minor": 0
      },
      "text/plain": [
       "Epoch:   0%|          | 0/30 [00:00<?, ?it/s]"
      ]
     },
     "metadata": {},
     "output_type": "display_data"
    },
    {
     "name": "stdout",
     "output_type": "stream",
     "text": [
      "Averaged validation loss: nan. Test loss: 1465.93683337318.\n"
     ]
    },
    {
     "name": "stderr",
     "output_type": "stream",
     "text": [
      "C:\\Users\\carlo\\GitHub\\ProjectBuffalo\\buffalo\\predictor\\__init__.py:223: RuntimeWarning: Mean of empty slice\n",
      "  print(f'Averaged validation loss: {np.nanmean(train_valid_loss)}. Test loss: {test_loss}.')\n",
      "C:\\Users\\carlo\\GitHub\\ProjectBuffalo\\buffalo\\predictor\\__init__.py:236: RuntimeWarning: Mean of empty slice\n",
      "  'average_validation_loss': np.nanmean(train_valid_loss) if non_empty_train_indices else None}\n",
      "C:\\Users\\carlo\\GitHub\\ProjectBuffalo\\buffalo\\predictor\\util.py:224: UserWarning: dataset_info with the same primary keys already exists with id 1, will not store dataset information.\n",
      "  warn(f\"dataset_info with the same primary keys already exists with id {searched_id}, will not store dataset information.\")\n"
     ]
    },
    {
     "data": {
      "application/vnd.jupyter.widget-view+json": {
       "model_id": "c6b9389c02ee464fa06b6d0bb0ef38e2",
       "version_major": 2,
       "version_minor": 0
      },
      "text/plain": [
       "Multi-fold validation:   0%|          | 0/1 [00:00<?, ?it/s]"
      ]
     },
     "metadata": {},
     "output_type": "display_data"
    },
    {
     "data": {
      "application/vnd.jupyter.widget-view+json": {
       "model_id": "aadc2159e6304698bcf7f1cdc7910640",
       "version_major": 2,
       "version_minor": 0
      },
      "text/plain": [
       "Epoch:   0%|          | 0/30 [00:00<?, ?it/s]"
      ]
     },
     "metadata": {},
     "output_type": "display_data"
    },
    {
     "name": "stdout",
     "output_type": "stream",
     "text": [
      "Averaged validation loss: nan. Test loss: 1455.7857381626743.\n"
     ]
    },
    {
     "name": "stderr",
     "output_type": "stream",
     "text": [
      "C:\\Users\\carlo\\GitHub\\ProjectBuffalo\\buffalo\\predictor\\__init__.py:223: RuntimeWarning: Mean of empty slice\n",
      "  print(f'Averaged validation loss: {np.nanmean(train_valid_loss)}. Test loss: {test_loss}.')\n",
      "C:\\Users\\carlo\\GitHub\\ProjectBuffalo\\buffalo\\predictor\\__init__.py:236: RuntimeWarning: Mean of empty slice\n",
      "  'average_validation_loss': np.nanmean(train_valid_loss) if non_empty_train_indices else None}\n",
      "C:\\Users\\carlo\\GitHub\\ProjectBuffalo\\buffalo\\predictor\\util.py:224: UserWarning: dataset_info with the same primary keys already exists with id 1, will not store dataset information.\n",
      "  warn(f\"dataset_info with the same primary keys already exists with id {searched_id}, will not store dataset information.\")\n"
     ]
    },
    {
     "data": {
      "application/vnd.jupyter.widget-view+json": {
       "model_id": "57979c0cffcb41299c09f7a01a0905c3",
       "version_major": 2,
       "version_minor": 0
      },
      "text/plain": [
       "Multi-fold validation:   0%|          | 0/1 [00:00<?, ?it/s]"
      ]
     },
     "metadata": {},
     "output_type": "display_data"
    },
    {
     "data": {
      "application/vnd.jupyter.widget-view+json": {
       "model_id": "eb767b7d258b4cc88aaa313b87d89512",
       "version_major": 2,
       "version_minor": 0
      },
      "text/plain": [
       "Epoch:   0%|          | 0/60 [00:00<?, ?it/s]"
      ]
     },
     "metadata": {},
     "output_type": "display_data"
    },
    {
     "name": "stdout",
     "output_type": "stream",
     "text": [
      "Averaged validation loss: nan. Test loss: 2490.726029873365.\n"
     ]
    },
    {
     "name": "stderr",
     "output_type": "stream",
     "text": [
      "C:\\Users\\carlo\\GitHub\\ProjectBuffalo\\buffalo\\predictor\\__init__.py:223: RuntimeWarning: Mean of empty slice\n",
      "  print(f'Averaged validation loss: {np.nanmean(train_valid_loss)}. Test loss: {test_loss}.')\n",
      "C:\\Users\\carlo\\GitHub\\ProjectBuffalo\\buffalo\\predictor\\__init__.py:236: RuntimeWarning: Mean of empty slice\n",
      "  'average_validation_loss': np.nanmean(train_valid_loss) if non_empty_train_indices else None}\n",
      "C:\\Users\\carlo\\GitHub\\ProjectBuffalo\\buffalo\\predictor\\util.py:224: UserWarning: dataset_info with the same primary keys already exists with id 1, will not store dataset information.\n",
      "  warn(f\"dataset_info with the same primary keys already exists with id {searched_id}, will not store dataset information.\")\n",
      "C:\\Users\\carlo\\GitHub\\ProjectBuffalo\\buffalo\\predictor\\util.py:397: UserWarning: model_info with the same primary keys already exists with id 91, will not store model information.\n",
      "  warn(f'model_info with the same primary keys already exists with id {searched_id}, will not store model information.')\n"
     ]
    },
    {
     "data": {
      "application/vnd.jupyter.widget-view+json": {
       "model_id": "4dde1bc6ef7e46b89fa3fe62c44d9379",
       "version_major": 2,
       "version_minor": 0
      },
      "text/plain": [
       "Multi-fold validation:   0%|          | 0/1 [00:00<?, ?it/s]"
      ]
     },
     "metadata": {},
     "output_type": "display_data"
    },
    {
     "data": {
      "application/vnd.jupyter.widget-view+json": {
       "model_id": "f59a1714afc64084adc5338ada71ef9d",
       "version_major": 2,
       "version_minor": 0
      },
      "text/plain": [
       "Epoch:   0%|          | 0/60 [00:00<?, ?it/s]"
      ]
     },
     "metadata": {},
     "output_type": "display_data"
    },
    {
     "name": "stdout",
     "output_type": "stream",
     "text": [
      "Averaged validation loss: nan. Test loss: 2435.8478220631787.\n"
     ]
    },
    {
     "name": "stderr",
     "output_type": "stream",
     "text": [
      "C:\\Users\\carlo\\GitHub\\ProjectBuffalo\\buffalo\\predictor\\__init__.py:223: RuntimeWarning: Mean of empty slice\n",
      "  print(f'Averaged validation loss: {np.nanmean(train_valid_loss)}. Test loss: {test_loss}.')\n",
      "C:\\Users\\carlo\\GitHub\\ProjectBuffalo\\buffalo\\predictor\\__init__.py:236: RuntimeWarning: Mean of empty slice\n",
      "  'average_validation_loss': np.nanmean(train_valid_loss) if non_empty_train_indices else None}\n",
      "C:\\Users\\carlo\\GitHub\\ProjectBuffalo\\buffalo\\predictor\\util.py:224: UserWarning: dataset_info with the same primary keys already exists with id 1, will not store dataset information.\n",
      "  warn(f\"dataset_info with the same primary keys already exists with id {searched_id}, will not store dataset information.\")\n",
      "C:\\Users\\carlo\\GitHub\\ProjectBuffalo\\buffalo\\predictor\\util.py:397: UserWarning: model_info with the same primary keys already exists with id 92, will not store model information.\n",
      "  warn(f'model_info with the same primary keys already exists with id {searched_id}, will not store model information.')\n"
     ]
    },
    {
     "data": {
      "application/vnd.jupyter.widget-view+json": {
       "model_id": "e83eef9817d5416bb34bfde2deeac417",
       "version_major": 2,
       "version_minor": 0
      },
      "text/plain": [
       "Multi-fold validation:   0%|          | 0/1 [00:00<?, ?it/s]"
      ]
     },
     "metadata": {},
     "output_type": "display_data"
    },
    {
     "data": {
      "application/vnd.jupyter.widget-view+json": {
       "model_id": "7971817330594c53a8d8c6e52a1dd093",
       "version_major": 2,
       "version_minor": 0
      },
      "text/plain": [
       "Epoch:   0%|          | 0/30 [00:00<?, ?it/s]"
      ]
     },
     "metadata": {},
     "output_type": "display_data"
    },
    {
     "name": "stdout",
     "output_type": "stream",
     "text": [
      "Averaged validation loss: nan. Test loss: 189.30516105907927.\n"
     ]
    },
    {
     "name": "stderr",
     "output_type": "stream",
     "text": [
      "C:\\Users\\carlo\\GitHub\\ProjectBuffalo\\buffalo\\predictor\\__init__.py:223: RuntimeWarning: Mean of empty slice\n",
      "  print(f'Averaged validation loss: {np.nanmean(train_valid_loss)}. Test loss: {test_loss}.')\n",
      "C:\\Users\\carlo\\GitHub\\ProjectBuffalo\\buffalo\\predictor\\__init__.py:236: RuntimeWarning: Mean of empty slice\n",
      "  'average_validation_loss': np.nanmean(train_valid_loss) if non_empty_train_indices else None}\n",
      "C:\\Users\\carlo\\GitHub\\ProjectBuffalo\\buffalo\\predictor\\util.py:224: UserWarning: dataset_info with the same primary keys already exists with id 1, will not store dataset information.\n",
      "  warn(f\"dataset_info with the same primary keys already exists with id {searched_id}, will not store dataset information.\")\n"
     ]
    },
    {
     "data": {
      "application/vnd.jupyter.widget-view+json": {
       "model_id": "1360bade9dc84cc39a69b362ba7beff5",
       "version_major": 2,
       "version_minor": 0
      },
      "text/plain": [
       "Multi-fold validation:   0%|          | 0/1 [00:00<?, ?it/s]"
      ]
     },
     "metadata": {},
     "output_type": "display_data"
    },
    {
     "data": {
      "application/vnd.jupyter.widget-view+json": {
       "model_id": "34c2efc429d54e4281b2f09b57fd4680",
       "version_major": 2,
       "version_minor": 0
      },
      "text/plain": [
       "Epoch:   0%|          | 0/30 [00:00<?, ?it/s]"
      ]
     },
     "metadata": {},
     "output_type": "display_data"
    },
    {
     "name": "stdout",
     "output_type": "stream",
     "text": [
      "Averaged validation loss: nan. Test loss: 189.36693002676327.\n"
     ]
    },
    {
     "name": "stderr",
     "output_type": "stream",
     "text": [
      "C:\\Users\\carlo\\GitHub\\ProjectBuffalo\\buffalo\\predictor\\__init__.py:223: RuntimeWarning: Mean of empty slice\n",
      "  print(f'Averaged validation loss: {np.nanmean(train_valid_loss)}. Test loss: {test_loss}.')\n",
      "C:\\Users\\carlo\\GitHub\\ProjectBuffalo\\buffalo\\predictor\\__init__.py:236: RuntimeWarning: Mean of empty slice\n",
      "  'average_validation_loss': np.nanmean(train_valid_loss) if non_empty_train_indices else None}\n",
      "C:\\Users\\carlo\\GitHub\\ProjectBuffalo\\buffalo\\predictor\\util.py:224: UserWarning: dataset_info with the same primary keys already exists with id 1, will not store dataset information.\n",
      "  warn(f\"dataset_info with the same primary keys already exists with id {searched_id}, will not store dataset information.\")\n"
     ]
    },
    {
     "data": {
      "application/vnd.jupyter.widget-view+json": {
       "model_id": "49da034bbbab40eeba386fe1c09893ea",
       "version_major": 2,
       "version_minor": 0
      },
      "text/plain": [
       "Multi-fold validation:   0%|          | 0/1 [00:00<?, ?it/s]"
      ]
     },
     "metadata": {},
     "output_type": "display_data"
    },
    {
     "data": {
      "application/vnd.jupyter.widget-view+json": {
       "model_id": "d2846fb2086046f18b29680c84e8678b",
       "version_major": 2,
       "version_minor": 0
      },
      "text/plain": [
       "Epoch:   0%|          | 0/60 [00:00<?, ?it/s]"
      ]
     },
     "metadata": {},
     "output_type": "display_data"
    },
    {
     "name": "stdout",
     "output_type": "stream",
     "text": [
      "Averaged validation loss: nan. Test loss: 1400.6751941556638.\n"
     ]
    },
    {
     "name": "stderr",
     "output_type": "stream",
     "text": [
      "C:\\Users\\carlo\\GitHub\\ProjectBuffalo\\buffalo\\predictor\\__init__.py:223: RuntimeWarning: Mean of empty slice\n",
      "  print(f'Averaged validation loss: {np.nanmean(train_valid_loss)}. Test loss: {test_loss}.')\n",
      "C:\\Users\\carlo\\GitHub\\ProjectBuffalo\\buffalo\\predictor\\__init__.py:236: RuntimeWarning: Mean of empty slice\n",
      "  'average_validation_loss': np.nanmean(train_valid_loss) if non_empty_train_indices else None}\n",
      "C:\\Users\\carlo\\GitHub\\ProjectBuffalo\\buffalo\\predictor\\util.py:224: UserWarning: dataset_info with the same primary keys already exists with id 1, will not store dataset information.\n",
      "  warn(f\"dataset_info with the same primary keys already exists with id {searched_id}, will not store dataset information.\")\n",
      "C:\\Users\\carlo\\GitHub\\ProjectBuffalo\\buffalo\\predictor\\util.py:397: UserWarning: model_info with the same primary keys already exists with id 93, will not store model information.\n",
      "  warn(f'model_info with the same primary keys already exists with id {searched_id}, will not store model information.')\n"
     ]
    },
    {
     "data": {
      "application/vnd.jupyter.widget-view+json": {
       "model_id": "3fb31120e3e04dd9ba3f675baadf48ee",
       "version_major": 2,
       "version_minor": 0
      },
      "text/plain": [
       "Multi-fold validation:   0%|          | 0/1 [00:00<?, ?it/s]"
      ]
     },
     "metadata": {},
     "output_type": "display_data"
    },
    {
     "data": {
      "application/vnd.jupyter.widget-view+json": {
       "model_id": "53bdf0de812748aeafc189d43a3e3e85",
       "version_major": 2,
       "version_minor": 0
      },
      "text/plain": [
       "Epoch:   0%|          | 0/60 [00:00<?, ?it/s]"
      ]
     },
     "metadata": {},
     "output_type": "display_data"
    },
    {
     "name": "stdout",
     "output_type": "stream",
     "text": [
      "Averaged validation loss: nan. Test loss: 1232.515649462264.\n"
     ]
    },
    {
     "name": "stderr",
     "output_type": "stream",
     "text": [
      "C:\\Users\\carlo\\GitHub\\ProjectBuffalo\\buffalo\\predictor\\__init__.py:223: RuntimeWarning: Mean of empty slice\n",
      "  print(f'Averaged validation loss: {np.nanmean(train_valid_loss)}. Test loss: {test_loss}.')\n",
      "C:\\Users\\carlo\\GitHub\\ProjectBuffalo\\buffalo\\predictor\\__init__.py:236: RuntimeWarning: Mean of empty slice\n",
      "  'average_validation_loss': np.nanmean(train_valid_loss) if non_empty_train_indices else None}\n",
      "C:\\Users\\carlo\\GitHub\\ProjectBuffalo\\buffalo\\predictor\\util.py:224: UserWarning: dataset_info with the same primary keys already exists with id 1, will not store dataset information.\n",
      "  warn(f\"dataset_info with the same primary keys already exists with id {searched_id}, will not store dataset information.\")\n",
      "C:\\Users\\carlo\\GitHub\\ProjectBuffalo\\buffalo\\predictor\\util.py:397: UserWarning: model_info with the same primary keys already exists with id 94, will not store model information.\n",
      "  warn(f'model_info with the same primary keys already exists with id {searched_id}, will not store model information.')\n"
     ]
    },
    {
     "data": {
      "application/vnd.jupyter.widget-view+json": {
       "model_id": "f556a4e5b2be43c2a3249fd265b6bc22",
       "version_major": 2,
       "version_minor": 0
      },
      "text/plain": [
       "Multi-fold validation:   0%|          | 0/1 [00:00<?, ?it/s]"
      ]
     },
     "metadata": {},
     "output_type": "display_data"
    },
    {
     "data": {
      "application/vnd.jupyter.widget-view+json": {
       "model_id": "3aaf1ae110174afea04fbbca64043c49",
       "version_major": 2,
       "version_minor": 0
      },
      "text/plain": [
       "Epoch:   0%|          | 0/30 [00:00<?, ?it/s]"
      ]
     },
     "metadata": {},
     "output_type": "display_data"
    },
    {
     "name": "stdout",
     "output_type": "stream",
     "text": [
      "Averaged validation loss: nan. Test loss: 190.7736856624381.\n"
     ]
    },
    {
     "name": "stderr",
     "output_type": "stream",
     "text": [
      "C:\\Users\\carlo\\GitHub\\ProjectBuffalo\\buffalo\\predictor\\__init__.py:223: RuntimeWarning: Mean of empty slice\n",
      "  print(f'Averaged validation loss: {np.nanmean(train_valid_loss)}. Test loss: {test_loss}.')\n",
      "C:\\Users\\carlo\\GitHub\\ProjectBuffalo\\buffalo\\predictor\\__init__.py:236: RuntimeWarning: Mean of empty slice\n",
      "  'average_validation_loss': np.nanmean(train_valid_loss) if non_empty_train_indices else None}\n",
      "C:\\Users\\carlo\\GitHub\\ProjectBuffalo\\buffalo\\predictor\\util.py:224: UserWarning: dataset_info with the same primary keys already exists with id 1, will not store dataset information.\n",
      "  warn(f\"dataset_info with the same primary keys already exists with id {searched_id}, will not store dataset information.\")\n"
     ]
    },
    {
     "data": {
      "application/vnd.jupyter.widget-view+json": {
       "model_id": "016f687effc04f40a64825c603ee2311",
       "version_major": 2,
       "version_minor": 0
      },
      "text/plain": [
       "Multi-fold validation:   0%|          | 0/1 [00:00<?, ?it/s]"
      ]
     },
     "metadata": {},
     "output_type": "display_data"
    },
    {
     "data": {
      "application/vnd.jupyter.widget-view+json": {
       "model_id": "921266c9c3b849f1bf2c319d6579a7dd",
       "version_major": 2,
       "version_minor": 0
      },
      "text/plain": [
       "Epoch:   0%|          | 0/30 [00:00<?, ?it/s]"
      ]
     },
     "metadata": {},
     "output_type": "display_data"
    },
    {
     "name": "stdout",
     "output_type": "stream",
     "text": [
      "Averaged validation loss: nan. Test loss: 189.42792180165839.\n"
     ]
    },
    {
     "name": "stderr",
     "output_type": "stream",
     "text": [
      "C:\\Users\\carlo\\GitHub\\ProjectBuffalo\\buffalo\\predictor\\__init__.py:223: RuntimeWarning: Mean of empty slice\n",
      "  print(f'Averaged validation loss: {np.nanmean(train_valid_loss)}. Test loss: {test_loss}.')\n",
      "C:\\Users\\carlo\\GitHub\\ProjectBuffalo\\buffalo\\predictor\\__init__.py:236: RuntimeWarning: Mean of empty slice\n",
      "  'average_validation_loss': np.nanmean(train_valid_loss) if non_empty_train_indices else None}\n",
      "C:\\Users\\carlo\\GitHub\\ProjectBuffalo\\buffalo\\predictor\\util.py:224: UserWarning: dataset_info with the same primary keys already exists with id 1, will not store dataset information.\n",
      "  warn(f\"dataset_info with the same primary keys already exists with id {searched_id}, will not store dataset information.\")\n"
     ]
    },
    {
     "data": {
      "application/vnd.jupyter.widget-view+json": {
       "model_id": "e77ce4807f264146aaa40876e80b1efb",
       "version_major": 2,
       "version_minor": 0
      },
      "text/plain": [
       "Multi-fold validation:   0%|          | 0/1 [00:00<?, ?it/s]"
      ]
     },
     "metadata": {},
     "output_type": "display_data"
    },
    {
     "data": {
      "application/vnd.jupyter.widget-view+json": {
       "model_id": "cd5b2fcbfddf4f9d8622a7d1b9f4d44d",
       "version_major": 2,
       "version_minor": 0
      },
      "text/plain": [
       "Epoch:   0%|          | 0/60 [00:00<?, ?it/s]"
      ]
     },
     "metadata": {},
     "output_type": "display_data"
    },
    {
     "name": "stdout",
     "output_type": "stream",
     "text": [
      "Averaged validation loss: nan. Test loss: 1395.842922741663.\n"
     ]
    },
    {
     "name": "stderr",
     "output_type": "stream",
     "text": [
      "C:\\Users\\carlo\\GitHub\\ProjectBuffalo\\buffalo\\predictor\\__init__.py:223: RuntimeWarning: Mean of empty slice\n",
      "  print(f'Averaged validation loss: {np.nanmean(train_valid_loss)}. Test loss: {test_loss}.')\n",
      "C:\\Users\\carlo\\GitHub\\ProjectBuffalo\\buffalo\\predictor\\__init__.py:236: RuntimeWarning: Mean of empty slice\n",
      "  'average_validation_loss': np.nanmean(train_valid_loss) if non_empty_train_indices else None}\n",
      "C:\\Users\\carlo\\GitHub\\ProjectBuffalo\\buffalo\\predictor\\util.py:224: UserWarning: dataset_info with the same primary keys already exists with id 1, will not store dataset information.\n",
      "  warn(f\"dataset_info with the same primary keys already exists with id {searched_id}, will not store dataset information.\")\n",
      "C:\\Users\\carlo\\GitHub\\ProjectBuffalo\\buffalo\\predictor\\util.py:397: UserWarning: model_info with the same primary keys already exists with id 95, will not store model information.\n",
      "  warn(f'model_info with the same primary keys already exists with id {searched_id}, will not store model information.')\n"
     ]
    },
    {
     "data": {
      "application/vnd.jupyter.widget-view+json": {
       "model_id": "fa52f5a0682546c6b0f6270908cf306b",
       "version_major": 2,
       "version_minor": 0
      },
      "text/plain": [
       "Multi-fold validation:   0%|          | 0/1 [00:00<?, ?it/s]"
      ]
     },
     "metadata": {},
     "output_type": "display_data"
    },
    {
     "data": {
      "application/vnd.jupyter.widget-view+json": {
       "model_id": "422a4a19b0c74ecc82336d8ce2d4c345",
       "version_major": 2,
       "version_minor": 0
      },
      "text/plain": [
       "Epoch:   0%|          | 0/60 [00:00<?, ?it/s]"
      ]
     },
     "metadata": {},
     "output_type": "display_data"
    },
    {
     "name": "stdout",
     "output_type": "stream",
     "text": [
      "Averaged validation loss: nan. Test loss: 1410.2486108326136.\n"
     ]
    },
    {
     "name": "stderr",
     "output_type": "stream",
     "text": [
      "C:\\Users\\carlo\\GitHub\\ProjectBuffalo\\buffalo\\predictor\\__init__.py:223: RuntimeWarning: Mean of empty slice\n",
      "  print(f'Averaged validation loss: {np.nanmean(train_valid_loss)}. Test loss: {test_loss}.')\n",
      "C:\\Users\\carlo\\GitHub\\ProjectBuffalo\\buffalo\\predictor\\__init__.py:236: RuntimeWarning: Mean of empty slice\n",
      "  'average_validation_loss': np.nanmean(train_valid_loss) if non_empty_train_indices else None}\n",
      "C:\\Users\\carlo\\GitHub\\ProjectBuffalo\\buffalo\\predictor\\util.py:224: UserWarning: dataset_info with the same primary keys already exists with id 1, will not store dataset information.\n",
      "  warn(f\"dataset_info with the same primary keys already exists with id {searched_id}, will not store dataset information.\")\n",
      "C:\\Users\\carlo\\GitHub\\ProjectBuffalo\\buffalo\\predictor\\util.py:397: UserWarning: model_info with the same primary keys already exists with id 96, will not store model information.\n",
      "  warn(f'model_info with the same primary keys already exists with id {searched_id}, will not store model information.')\n"
     ]
    }
   ],
   "source": [
    "for i in tqdm(range(sweep_params.shape[0])):\n",
    "    param = sweep_params.loc[i,:].to_dict()\n",
    "    rnn = modeling.LSTM(\n",
    "        input_size=target_stock.shape[1],\n",
    "        n_ahead=n_head,\n",
    "        hidden_size=param['hidden_size'],\n",
    "        output_size=1,\n",
    "        num_layers=param['num_layers'],\n",
    "        dropout=param['dropout'],\n",
    "        bidirectional=param['bidirectional'],\n",
    "        use_gpu=True)\n",
    "    optimizer = torch.optim.Adam(\n",
    "        rnn.parameters(),\n",
    "        lr=param['learning_rate'],\n",
    "        weight_decay=param['weight_decay'])\n",
    "    loss_func = torch.nn.MSELoss()\n",
    "    training_record = predictor.train_and_evaluate_model(\n",
    "        rnn,\n",
    "        optimizer,\n",
    "        loss_func,\n",
    "        time_series_data,\n",
    "        epochs=param['epochs'],\n",
    "        test_ratio=0.2,\n",
    "        n_fold=param['n_fold'],\n",
    "        clip_grad=1,\n",
    "        batch_size=param['batch_size']) # Pointwise prediction\n",
    "    training_record.serialize_to_file(r'cached_data/record.sqlite', additional_note_dataset='', additonal_note_model='')"
   ]
  }
 ],
 "metadata": {
  "kernelspec": {
   "display_name": "base",
   "language": "python",
   "name": "python3"
  },
  "language_info": {
   "codemirror_mode": {
    "name": "ipython",
    "version": 3
   },
   "file_extension": ".py",
   "mimetype": "text/x-python",
   "name": "python",
   "nbconvert_exporter": "python",
   "pygments_lexer": "ipython3",
   "version": "3.10.8"
  },
  "orig_nbformat": 4,
  "vscode": {
   "interpreter": {
    "hash": "3067ead486e059ec00ffe7555bdb889e6e264a24dc711bf108106cc7baee8d5d"
   }
  }
 },
 "nbformat": 4,
 "nbformat_minor": 2
}
