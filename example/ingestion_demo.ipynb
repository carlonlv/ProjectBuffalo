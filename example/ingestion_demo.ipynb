{
 "cells": [
  {
   "cell_type": "code",
   "execution_count": 1,
   "metadata": {},
   "outputs": [],
   "source": [
    "import os\n",
    "\n",
    "os.chdir(r'C:\\Users\\carlo\\GitHub\\ProjectBuffalo')"
   ]
  },
  {
   "cell_type": "code",
   "execution_count": 2,
   "metadata": {},
   "outputs": [],
   "source": [
    "import buffalo.ingestion as ingestion"
   ]
  },
  {
   "cell_type": "code",
   "execution_count": 3,
   "metadata": {},
   "outputs": [
    {
     "name": "stdout",
     "output_type": "stream",
     "text": [
      "{'storage_folder': '../__cached_data', 'api_keys': {<API.ADVANTAGE: 1>: '2rrNROO0beX90lPH7ixQOp0mT_9SwF0d'}, 'watched_tickers': ['IBM', 'MSFT']}\n"
     ]
    }
   ],
   "source": [
    "ingestion.configuration.Configuration.print()"
   ]
  },
  {
   "cell_type": "code",
   "execution_count": 4,
   "metadata": {},
   "outputs": [],
   "source": [
    "advantage_endpoint = ingestion.advantage.AdvantageStockGrepper()"
   ]
  },
  {
   "cell_type": "code",
   "execution_count": 5,
   "metadata": {},
   "outputs": [],
   "source": [
    "apple_stock = advantage_endpoint.stock_download(\n",
    "    symbol='AAPL',\n",
    "    interval='daily',\n",
    "    year_slice=None, ## Intraday \n",
    "    adjusted=True\n",
    ")"
   ]
  },
  {
   "cell_type": "code",
   "execution_count": 6,
   "metadata": {},
   "outputs": [],
   "source": [
    "import buffalo.algorithm.outliers as ol_algo "
   ]
  },
  {
   "cell_type": "code",
   "execution_count": 7,
   "metadata": {},
   "outputs": [],
   "source": [
    "import pandas as pd"
   ]
  },
  {
   "cell_type": "code",
   "execution_count": 8,
   "metadata": {},
   "outputs": [],
   "source": [
    "ol_detection = ol_algo.IterativeTtestOutlierDetection(\n",
    "    types= pd.DataFrame({'type': ['IO', 'AO', 'TC']}),\n",
    "    maxit=1,\n",
    "    maxit_iloop=4,\n",
    "    maxit_oloop=4,\n",
    "    cval=None,\n",
    "    cval_reduce=0.14286,\n",
    "    discard_method='en_masse',\n",
    "    discard_cval=None,\n",
    "    tsmethod='AutoARIMA',\n",
    "    args_tsmethod=None\n",
    ")"
   ]
  },
  {
   "cell_type": "code",
   "execution_count": 9,
   "metadata": {},
   "outputs": [
    {
     "ename": "AttributeError",
     "evalue": "Can only use .str accessor with string values!",
     "output_type": "error",
     "traceback": [
      "\u001b[1;31m---------------------------------------------------------------------------\u001b[0m",
      "\u001b[1;31mAttributeError\u001b[0m                            Traceback (most recent call last)",
      "Cell \u001b[1;32mIn[9], line 1\u001b[0m\n\u001b[1;32m----> 1\u001b[0m ol_detection\u001b[39m.\u001b[39;49mfit(endog\u001b[39m=\u001b[39;49mapple_stock[\u001b[39m'\u001b[39;49m\u001b[39mopen\u001b[39;49m\u001b[39m'\u001b[39;49m], exog\u001b[39m=\u001b[39;49m\u001b[39mNone\u001b[39;49;00m, fit_args\u001b[39m=\u001b[39;49m{})\n",
      "File \u001b[1;32m~\\GitHub\\ProjectBuffalo\\buffalo\\algorithm\\outliers.py:798\u001b[0m, in \u001b[0;36mIterativeTtestOutlierDetection.fit\u001b[1;34m(self, endog, exog, fit_args)\u001b[0m\n\u001b[0;32m    796\u001b[0m \u001b[39mwhile\u001b[39;00m its \u001b[39m<\u001b[39m \u001b[39mself\u001b[39m\u001b[39m.\u001b[39mmaxit:\n\u001b[0;32m    797\u001b[0m     \u001b[39mself\u001b[39m\u001b[39m.\u001b[39mfit_ts_model(endog, exog, fit_args, \u001b[39mFalse\u001b[39;00m)\n\u001b[1;32m--> 798\u001b[0m     located_ol \u001b[39m=\u001b[39m \u001b[39mself\u001b[39;49m\u001b[39m.\u001b[39;49mlocate_outlier_oloop(endog, exog, cval0, start_id, fit_args)\n\u001b[0;32m    799\u001b[0m     \u001b[39mif\u001b[39;00m \u001b[39mlen\u001b[39m(located_ol\u001b[39m.\u001b[39mindex) \u001b[39m>\u001b[39m \u001b[39m0\u001b[39m:\n\u001b[0;32m    800\u001b[0m         located_ol, endog, exog \u001b[39m=\u001b[39m \u001b[39mself\u001b[39m\u001b[39m.\u001b[39mdiscard_outliers(located_ol, endog, exog, \u001b[39mself\u001b[39m\u001b[39m.\u001b[39mdiscard_cval, fit_args)\n",
      "File \u001b[1;32m~\\GitHub\\ProjectBuffalo\\buffalo\\algorithm\\outliers.py:681\u001b[0m, in \u001b[0;36mIterativeTtestOutlierDetection.locate_outlier_oloop\u001b[1;34m(self, endog, exog, cval, id_start, fit_args)\u001b[0m\n\u001b[0;32m    678\u001b[0m \u001b[39mwhile\u001b[39;00m its \u001b[39m<\u001b[39m \u001b[39mself\u001b[39m\u001b[39m.\u001b[39mmaxit_oloop:\n\u001b[0;32m    679\u001b[0m     \u001b[39mself\u001b[39m\u001b[39m.\u001b[39mzero_inflated_first_resid()\n\u001b[1;32m--> 681\u001b[0m     inner_result \u001b[39m=\u001b[39m \u001b[39mself\u001b[39;49m\u001b[39m.\u001b[39;49mlocate_outlier_iloop(cval, id_start)\n\u001b[0;32m    683\u001b[0m     inner_result \u001b[39m=\u001b[39m inner_result[inner_result[\u001b[39m'\u001b[39m\u001b[39mtype\u001b[39m\u001b[39m'\u001b[39m] \u001b[39m!=\u001b[39m \u001b[39m'\u001b[39m\u001b[39mVC\u001b[39m\u001b[39m'\u001b[39m] \u001b[39m## TODO: Add VC support remove VC from response\u001b[39;00m\n\u001b[0;32m    685\u001b[0m     inner_result \u001b[39m=\u001b[39m \u001b[39mself\u001b[39m\u001b[39m.\u001b[39mremove_consecutive_outliers(inner_result)\n",
      "File \u001b[1;32m~\\GitHub\\ProjectBuffalo\\buffalo\\algorithm\\outliers.py:616\u001b[0m, in \u001b[0;36mIterativeTtestOutlierDetection.locate_outlier_iloop\u001b[1;34m(self, cval, id_start)\u001b[0m\n\u001b[0;32m    614\u001b[0m its \u001b[39m=\u001b[39m \u001b[39m0\u001b[39m\n\u001b[0;32m    615\u001b[0m \u001b[39mwhile\u001b[39;00m its \u001b[39m<\u001b[39m \u001b[39mself\u001b[39m\u001b[39m.\u001b[39mmaxit_iloop:\n\u001b[1;32m--> 616\u001b[0m     located_ol \u001b[39m=\u001b[39m \u001b[39mself\u001b[39;49m\u001b[39m.\u001b[39;49mlocate_outliers(cval, id_start)\n\u001b[0;32m    618\u001b[0m     located_ol \u001b[39m=\u001b[39m located_ol[located_ol[\u001b[39m'\u001b[39m\u001b[39mtype\u001b[39m\u001b[39m'\u001b[39m] \u001b[39m!=\u001b[39m \u001b[39m'\u001b[39m\u001b[39mVC\u001b[39m\u001b[39m'\u001b[39m] \u001b[39m## TODO: Add VC support remove VC from residuals\u001b[39;00m\n\u001b[0;32m    620\u001b[0m     located_ol \u001b[39m=\u001b[39m located_ol\u001b[39m.\u001b[39mgroupby(\u001b[39m'\u001b[39m\u001b[39mtype\u001b[39m\u001b[39m'\u001b[39m)\u001b[39m.\u001b[39mapply(\u001b[39mself\u001b[39m\u001b[39m.\u001b[39mremove_consecutive_outliers)\u001b[39m.\u001b[39mreset_index(drop\u001b[39m=\u001b[39m\u001b[39mTrue\u001b[39;00m)\n",
      "File \u001b[1;32m~\\GitHub\\ProjectBuffalo\\buffalo\\algorithm\\outliers.py:443\u001b[0m, in \u001b[0;36mIterativeTtestOutlierDetection.locate_outliers\u001b[1;34m(self, cval, id_start)\u001b[0m\n\u001b[0;32m    441\u001b[0m resid \u001b[39m=\u001b[39m \u001b[39mself\u001b[39m\u001b[39m.\u001b[39mget_resid()\n\u001b[0;32m    442\u001b[0m sigma \u001b[39m=\u001b[39m \u001b[39m1.483\u001b[39m \u001b[39m*\u001b[39m np\u001b[39m.\u001b[39mquantile(np\u001b[39m.\u001b[39mabs(resid \u001b[39m-\u001b[39m np\u001b[39m.\u001b[39mquantile(resid, \u001b[39m0.5\u001b[39m)), \u001b[39m0.5\u001b[39m) \u001b[39m## MAD estimation\u001b[39;00m\n\u001b[1;32m--> 443\u001b[0m tmp \u001b[39m=\u001b[39m \u001b[39mself\u001b[39;49m\u001b[39m.\u001b[39;49moutliers_tstats(sigma) \u001b[39m## Quantile estimation of standard deviation\u001b[39;00m\n\u001b[0;32m    444\u001b[0m identified_ol \u001b[39m=\u001b[39m tmp[tmp[\u001b[39m'\u001b[39m\u001b[39mtstat\u001b[39m\u001b[39m'\u001b[39m] \u001b[39m>\u001b[39m cval]\n\u001b[0;32m    445\u001b[0m identified_ol \u001b[39m=\u001b[39m identified_ol\u001b[39m.\u001b[39mgroupby(\u001b[39m'\u001b[39m\u001b[39mt_index\u001b[39m\u001b[39m'\u001b[39m)\u001b[39m.\u001b[39mapply(\u001b[39mlambda\u001b[39;00m x: x\u001b[39m.\u001b[39miloc[x[\u001b[39m'\u001b[39m\u001b[39mtstat\u001b[39m\u001b[39m'\u001b[39m]\u001b[39m.\u001b[39margmax()])\u001b[39m.\u001b[39mreset_index(drop\u001b[39m=\u001b[39m\u001b[39mTrue\u001b[39;00m)\n",
      "File \u001b[1;32m~\\GitHub\\ProjectBuffalo\\buffalo\\algorithm\\outliers.py:386\u001b[0m, in \u001b[0;36mIterativeTtestOutlierDetection.outliers_tstats\u001b[1;34m(self, sigma)\u001b[0m\n\u001b[0;32m    383\u001b[0m trend_offset \u001b[39m=\u001b[39m \u001b[39mself\u001b[39m\u001b[39m.\u001b[39mtrend_offset\n\u001b[0;32m    385\u001b[0m seasonal_s \u001b[39m=\u001b[39m \u001b[39mmax\u001b[39m(seasonal_order[\u001b[39m3\u001b[39m], \u001b[39m1\u001b[39m)\n\u001b[1;32m--> 386\u001b[0m ar_params, diff_params, ma_params, ar_seasonal_params, diff_seasonal_params, ma_seasonal_params \u001b[39m=\u001b[39m sarima_params_to_poly_coeffs(params, order, seasonal_order)\n\u001b[0;32m    387\u001b[0m pi_coefs \u001b[39m=\u001b[39m params_to_infinite_representations(ar_params, diff_params, ma_params, ar_seasonal_params, diff_seasonal_params, ma_seasonal_params, leads\u001b[39m=\u001b[39m\u001b[39mlen\u001b[39m(resid), right_on_left\u001b[39m=\u001b[39m\u001b[39mFalse\u001b[39;00m)\n\u001b[0;32m    388\u001b[0m ao_xy \u001b[39m=\u001b[39m signal\u001b[39m.\u001b[39mconvolve(np\u001b[39m.\u001b[39mconcatenate((resid, np\u001b[39m.\u001b[39mzeros(\u001b[39mlen\u001b[39m(resid)\u001b[39m-\u001b[39m\u001b[39m1\u001b[39m))), np\u001b[39m.\u001b[39mflip(pi_coefs))[(\u001b[39mlen\u001b[39m(resid)\u001b[39m-\u001b[39m\u001b[39m1\u001b[39m):(\u001b[39m1\u001b[39m\u001b[39m-\u001b[39m\u001b[39mlen\u001b[39m(resid))]\n",
      "File \u001b[1;32m~\\GitHub\\ProjectBuffalo\\buffalo\\algorithm\\outliers.py:66\u001b[0m, in \u001b[0;36msarima_params_to_poly_coeffs\u001b[1;34m(params, order, seasonal_order)\u001b[0m\n\u001b[0;32m     63\u001b[0m difference_seasonal_d \u001b[39m=\u001b[39m seasonal_order[\u001b[39m1\u001b[39m]\n\u001b[0;32m     64\u001b[0m seasonal_s \u001b[39m=\u001b[39m \u001b[39mmax\u001b[39m(seasonal_order[\u001b[39m3\u001b[39m], \u001b[39m1\u001b[39m)\n\u001b[1;32m---> 66\u001b[0m ar_params \u001b[39m=\u001b[39m params[params\u001b[39m.\u001b[39;49mindex\u001b[39m.\u001b[39;49mstr\u001b[39m.\u001b[39mmatch(\u001b[39mr\u001b[39m\u001b[39m'\u001b[39m\u001b[39mar\u001b[39m\u001b[39m\\\u001b[39m\u001b[39m.L\u001b[39m\u001b[39m\\\u001b[39m\u001b[39md+\u001b[39m\u001b[39m'\u001b[39m)]\n\u001b[0;32m     67\u001b[0m ar_params \u001b[39m*\u001b[39m\u001b[39m=\u001b[39m \u001b[39m-\u001b[39m\u001b[39m1\u001b[39m\n\u001b[0;32m     68\u001b[0m ar_params\u001b[39m.\u001b[39mindex \u001b[39m=\u001b[39m ar_params\u001b[39m.\u001b[39mindex\u001b[39m.\u001b[39mstr\u001b[39m.\u001b[39mreplace(\u001b[39mr\u001b[39m\u001b[39m'\u001b[39m\u001b[39mar\u001b[39m\u001b[39m\\\u001b[39m\u001b[39m.L\u001b[39m\u001b[39m'\u001b[39m, \u001b[39m'\u001b[39m\u001b[39m'\u001b[39m)\u001b[39m.\u001b[39mastype(\u001b[39mint\u001b[39m)\n",
      "File \u001b[1;32mc:\\Users\\carlo\\miniconda3\\lib\\site-packages\\pandas\\core\\accessor.py:182\u001b[0m, in \u001b[0;36mCachedAccessor.__get__\u001b[1;34m(self, obj, cls)\u001b[0m\n\u001b[0;32m    179\u001b[0m \u001b[39mif\u001b[39;00m obj \u001b[39mis\u001b[39;00m \u001b[39mNone\u001b[39;00m:\n\u001b[0;32m    180\u001b[0m     \u001b[39m# we're accessing the attribute of the class, i.e., Dataset.geo\u001b[39;00m\n\u001b[0;32m    181\u001b[0m     \u001b[39mreturn\u001b[39;00m \u001b[39mself\u001b[39m\u001b[39m.\u001b[39m_accessor\n\u001b[1;32m--> 182\u001b[0m accessor_obj \u001b[39m=\u001b[39m \u001b[39mself\u001b[39;49m\u001b[39m.\u001b[39;49m_accessor(obj)\n\u001b[0;32m    183\u001b[0m \u001b[39m# Replace the property with the accessor object. Inspired by:\u001b[39;00m\n\u001b[0;32m    184\u001b[0m \u001b[39m# https://www.pydanny.com/cached-property.html\u001b[39;00m\n\u001b[0;32m    185\u001b[0m \u001b[39m# We need to use object.__setattr__ because we overwrite __setattr__ on\u001b[39;00m\n\u001b[0;32m    186\u001b[0m \u001b[39m# NDFrame\u001b[39;00m\n\u001b[0;32m    187\u001b[0m \u001b[39mobject\u001b[39m\u001b[39m.\u001b[39m\u001b[39m__setattr__\u001b[39m(obj, \u001b[39mself\u001b[39m\u001b[39m.\u001b[39m_name, accessor_obj)\n",
      "File \u001b[1;32mc:\\Users\\carlo\\miniconda3\\lib\\site-packages\\pandas\\core\\strings\\accessor.py:181\u001b[0m, in \u001b[0;36mStringMethods.__init__\u001b[1;34m(self, data)\u001b[0m\n\u001b[0;32m    178\u001b[0m \u001b[39mdef\u001b[39;00m \u001b[39m__init__\u001b[39m(\u001b[39mself\u001b[39m, data) \u001b[39m-\u001b[39m\u001b[39m>\u001b[39m \u001b[39mNone\u001b[39;00m:\n\u001b[0;32m    179\u001b[0m     \u001b[39mfrom\u001b[39;00m \u001b[39mpandas\u001b[39;00m\u001b[39m.\u001b[39;00m\u001b[39mcore\u001b[39;00m\u001b[39m.\u001b[39;00m\u001b[39marrays\u001b[39;00m\u001b[39m.\u001b[39;00m\u001b[39mstring_\u001b[39;00m \u001b[39mimport\u001b[39;00m StringDtype\n\u001b[1;32m--> 181\u001b[0m     \u001b[39mself\u001b[39m\u001b[39m.\u001b[39m_inferred_dtype \u001b[39m=\u001b[39m \u001b[39mself\u001b[39;49m\u001b[39m.\u001b[39;49m_validate(data)\n\u001b[0;32m    182\u001b[0m     \u001b[39mself\u001b[39m\u001b[39m.\u001b[39m_is_categorical \u001b[39m=\u001b[39m is_categorical_dtype(data\u001b[39m.\u001b[39mdtype)\n\u001b[0;32m    183\u001b[0m     \u001b[39mself\u001b[39m\u001b[39m.\u001b[39m_is_string \u001b[39m=\u001b[39m \u001b[39misinstance\u001b[39m(data\u001b[39m.\u001b[39mdtype, StringDtype)\n",
      "File \u001b[1;32mc:\\Users\\carlo\\miniconda3\\lib\\site-packages\\pandas\\core\\strings\\accessor.py:235\u001b[0m, in \u001b[0;36mStringMethods._validate\u001b[1;34m(data)\u001b[0m\n\u001b[0;32m    232\u001b[0m inferred_dtype \u001b[39m=\u001b[39m lib\u001b[39m.\u001b[39minfer_dtype(values, skipna\u001b[39m=\u001b[39m\u001b[39mTrue\u001b[39;00m)\n\u001b[0;32m    234\u001b[0m \u001b[39mif\u001b[39;00m inferred_dtype \u001b[39mnot\u001b[39;00m \u001b[39min\u001b[39;00m allowed_types:\n\u001b[1;32m--> 235\u001b[0m     \u001b[39mraise\u001b[39;00m \u001b[39mAttributeError\u001b[39;00m(\u001b[39m\"\u001b[39m\u001b[39mCan only use .str accessor with string values!\u001b[39m\u001b[39m\"\u001b[39m)\n\u001b[0;32m    236\u001b[0m \u001b[39mreturn\u001b[39;00m inferred_dtype\n",
      "\u001b[1;31mAttributeError\u001b[0m: Can only use .str accessor with string values!"
     ]
    }
   ],
   "source": [
    "ol_detection.fit(endog=apple_stock['open'], exog=None, fit_args={})"
   ]
  },
  {
   "cell_type": "code",
   "execution_count": null,
   "metadata": {},
   "outputs": [],
   "source": [
    "advantage_endpoint.company_info_download(\n",
    "    'CASH_FLOW',\n",
    "    'IBM',\n",
    "    '3month'\n",
    ")"
   ]
  },
  {
   "cell_type": "code",
   "execution_count": null,
   "metadata": {},
   "outputs": [],
   "source": [
    "advantage_endpoint.listing_info_download(date='2022-02-24')"
   ]
  },
  {
   "cell_type": "code",
   "execution_count": null,
   "metadata": {},
   "outputs": [],
   "source": [
    "advantage_endpoint.trend_indicator_download(\n",
    "    function='SMA',\n",
    "    symbol='IBM',\n",
    "    interval='1min',\n",
    "    time_period=10,\n",
    "    series_type='close'\n",
    ")"
   ]
  },
  {
   "cell_type": "code",
   "execution_count": null,
   "metadata": {},
   "outputs": [],
   "source": [
    "advantage_endpoint.trend_indicator_download(\n",
    "    function='T3',\n",
    "    symbol='IBM',\n",
    "    interval='1min',\n",
    "    time_period=10,\n",
    "    series_type='close'\n",
    ")"
   ]
  },
  {
   "cell_type": "code",
   "execution_count": null,
   "metadata": {},
   "outputs": [],
   "source": [
    "advantage_endpoint.econ_download(\n",
    "    function='FEDERAL_FUNDS_RATE',\n",
    "    interval='daily'\n",
    ")"
   ]
  },
  {
   "cell_type": "code",
   "execution_count": null,
   "metadata": {},
   "outputs": [],
   "source": [
    "advantage_endpoint.econ_download(\n",
    "    function='TREASURY_YIELD',\n",
    "    interval='daily',\n",
    "    maturity='3month'\n",
    ")"
   ]
  },
  {
   "cell_type": "code",
   "execution_count": null,
   "metadata": {},
   "outputs": [],
   "source": [
    "advantage_endpoint.econ_download(\n",
    "    function='NONFARM_PAYROLL',\n",
    "    interval='monthly'\n",
    ")"
   ]
  },
  {
   "cell_type": "code",
   "execution_count": null,
   "metadata": {},
   "outputs": [],
   "source": [
    "advantage_endpoint.econ_download(\n",
    "    function='CPI',\n",
    "    interval='monthly'\n",
    ")"
   ]
  },
  {
   "cell_type": "code",
   "execution_count": null,
   "metadata": {},
   "outputs": [],
   "source": [
    "advantage_endpoint.econ_download(\n",
    "    function='UNEMPLOYMENT',\n",
    "    interval='monthly'\n",
    ")"
   ]
  },
  {
   "cell_type": "code",
   "execution_count": null,
   "metadata": {},
   "outputs": [],
   "source": [
    "advantage_endpoint.cycle_indicator_download(\n",
    "    function='ULTOSC',\n",
    "    symbol='IBM',\n",
    "    interval='1min',\n",
    "    time_period=10,\n",
    "    series_type='close'\n",
    ")"
   ]
  },
  {
   "cell_type": "code",
   "execution_count": null,
   "metadata": {},
   "outputs": [],
   "source": [
    "advantage_endpoint.cycle_indicator_download(\n",
    "    function='ULTOSC',\n",
    "    symbol='IBM',\n",
    "    interval='1min',\n",
    "    time_period=10,\n",
    "    series_type='close'\n",
    ")"
   ]
  },
  {
   "cell_type": "code",
   "execution_count": null,
   "metadata": {},
   "outputs": [],
   "source": [
    "advantage_endpoint.market_news_sentiment_download('IBM', sort='Latest', limit=50)[0]"
   ]
  },
  {
   "cell_type": "code",
   "execution_count": null,
   "metadata": {},
   "outputs": [],
   "source": [
    "advantage_endpoint.market_news_sentiment_download('IBM', sort='relevance', limit=50)[1]"
   ]
  },
  {
   "cell_type": "code",
   "execution_count": null,
   "metadata": {},
   "outputs": [],
   "source": [
    "# import sqlite3\n",
    "\n",
    "\n",
    "# fp = r'~/newsqlitefile.sqlite'\n",
    "\n",
    "# import pandas as pd\n",
    "\n",
    "# a = pd.DataFrame({\"a\": range(10), \"v\": range(1, 11)})\n",
    "\n",
    "# newconn, _ = sqlite3.connect(fp)\n",
    "# a.to_sql(\"a\", newconn)\n",
    "\n",
    "# newconn.close()"
   ]
  }
 ],
 "metadata": {
  "kernelspec": {
   "display_name": "base",
   "language": "python",
   "name": "python3"
  },
  "language_info": {
   "codemirror_mode": {
    "name": "ipython",
    "version": 3
   },
   "file_extension": ".py",
   "mimetype": "text/x-python",
   "name": "python",
   "nbconvert_exporter": "python",
   "pygments_lexer": "ipython3",
   "version": "3.9.13"
  },
  "orig_nbformat": 4,
  "vscode": {
   "interpreter": {
    "hash": "3067ead486e059ec00ffe7555bdb889e6e264a24dc711bf108106cc7baee8d5d"
   }
  }
 },
 "nbformat": 4,
 "nbformat_minor": 2
}
