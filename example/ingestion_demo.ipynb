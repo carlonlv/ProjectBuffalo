{
 "cells": [
  {
   "cell_type": "code",
   "execution_count": 1,
   "metadata": {},
   "outputs": [],
   "source": [
    "import os\n",
    "\n",
    "os.chdir(r'C:\\Users\\carlo\\GitHub\\ProjectBuffalo')"
   ]
  },
  {
   "cell_type": "code",
   "execution_count": 2,
   "metadata": {},
   "outputs": [],
   "source": [
    "import buffalo.ingestion as ingestion"
   ]
  },
  {
   "cell_type": "code",
   "execution_count": 3,
   "metadata": {},
   "outputs": [
    {
     "name": "stdout",
     "output_type": "stream",
     "text": [
      "{'storage_folder': '../__cached_data', 'api_keys': {<API.ADVANTAGE: 1>: '2rrNROO0beX90lPH7ixQOp0mT_9SwF0d'}, 'watched_tickers': ['IBM', 'MSFT']}\n"
     ]
    }
   ],
   "source": [
    "ingestion.configuration.Configuration.print()"
   ]
  },
  {
   "cell_type": "code",
   "execution_count": 4,
   "metadata": {},
   "outputs": [],
   "source": [
    "advantage_endpoint = ingestion.advantage.AdvantageStockGrepper()"
   ]
  },
  {
   "cell_type": "code",
   "execution_count": 5,
   "metadata": {},
   "outputs": [],
   "source": [
    "apple_stock = advantage_endpoint.stock_download(\n",
    "    symbol='AAPL',\n",
    "    interval='daily',\n",
    "    year_slice=None, ## Intraday \n",
    "    adjusted=True\n",
    ")"
   ]
  },
  {
   "cell_type": "code",
   "execution_count": 6,
   "metadata": {},
   "outputs": [],
   "source": [
    "import buffalo.algorithm.outliers as ol_algo "
   ]
  },
  {
   "cell_type": "code",
   "execution_count": 7,
   "metadata": {},
   "outputs": [],
   "source": [
    "import pandas as pd"
   ]
  },
  {
   "cell_type": "code",
   "execution_count": 8,
   "metadata": {},
   "outputs": [],
   "source": [
    "apple_stock.to_csv('apple_stock.csv', index=False)"
   ]
  },
  {
   "cell_type": "code",
   "execution_count": 9,
   "metadata": {},
   "outputs": [],
   "source": [
    "ol_detection = ol_algo.IterativeTtestOutlierDetection(\n",
    "    types= pd.DataFrame({'type': ['IO', 'AO', 'TC']}),\n",
    "    maxit=1,\n",
    "    maxit_iloop=4,\n",
    "    maxit_oloop=4,\n",
    "    cval=None,\n",
    "    cval_reduce=0.14286,\n",
    "    discard_method='en_masse',\n",
    "    discard_cval=None,\n",
    "    tsmethod='ARIMA',\n",
    "    args_tsmethod={\n",
    "        \"order\": (1,0,1),\n",
    "        \"seasonal_order\": (0, 0, 0, 0),\n",
    "        \"with_intercept\": False\n",
    "    }\n",
    ")"
   ]
  },
  {
   "cell_type": "code",
   "execution_count": 11,
   "metadata": {},
   "outputs": [
    {
     "name": "stderr",
     "output_type": "stream",
     "text": [
      "Traceback (most recent call last):\n",
      "  File \"_pydevd_bundle/pydevd_cython.pyx\", line 1078, in _pydevd_bundle.pydevd_cython.PyDBFrame.trace_dispatch\n",
      "  File \"_pydevd_bundle/pydevd_cython.pyx\", line 297, in _pydevd_bundle.pydevd_cython.PyDBFrame.do_wait_suspend\n",
      "  File \"c:\\Users\\carlo\\miniconda3\\lib\\site-packages\\debugpy\\_vendored\\pydevd\\pydevd.py\", line 1976, in do_wait_suspend\n",
      "    keep_suspended = self._do_wait_suspend(thread, frame, event, arg, suspend_type, from_this_thread, frames_tracker)\n",
      "  File \"c:\\Users\\carlo\\miniconda3\\lib\\site-packages\\debugpy\\_vendored\\pydevd\\pydevd.py\", line 2011, in _do_wait_suspend\n",
      "    time.sleep(0.01)\n",
      "KeyboardInterrupt\n"
     ]
    },
    {
     "ename": "KeyboardInterrupt",
     "evalue": "",
     "output_type": "error",
     "traceback": [
      "\u001b[1;31m---------------------------------------------------------------------------\u001b[0m",
      "\u001b[1;31mKeyboardInterrupt\u001b[0m                         Traceback (most recent call last)",
      "Cell \u001b[1;32mIn[11], line 1\u001b[0m\n\u001b[1;32m----> 1\u001b[0m ol_detection\u001b[39m.\u001b[39;49mfit(endog\u001b[39m=\u001b[39;49mapple_stock[\u001b[39m'\u001b[39;49m\u001b[39mclose\u001b[39;49m\u001b[39m'\u001b[39;49m], exog\u001b[39m=\u001b[39;49m\u001b[39mNone\u001b[39;49;00m, fit_args\u001b[39m=\u001b[39;49m{})\n",
      "File \u001b[1;32m~\\GitHub\\ProjectBuffalo\\buffalo\\algorithm\\outliers.py:805\u001b[0m, in \u001b[0;36mIterativeTtestOutlierDetection.fit\u001b[1;34m(self, endog, exog, fit_args)\u001b[0m\n\u001b[0;32m    803\u001b[0m \u001b[39mwhile\u001b[39;00m its \u001b[39m<\u001b[39m \u001b[39mself\u001b[39m\u001b[39m.\u001b[39mmaxit:\n\u001b[0;32m    804\u001b[0m     \u001b[39mself\u001b[39m\u001b[39m.\u001b[39mfit_ts_model(endog, exog, fit_args, \u001b[39mFalse\u001b[39;00m)\n\u001b[1;32m--> 805\u001b[0m     located_ol \u001b[39m=\u001b[39m \u001b[39mself\u001b[39;49m\u001b[39m.\u001b[39;49mlocate_outlier_oloop(endog, exog, cval0, start_id, fit_args)\n\u001b[0;32m    806\u001b[0m     \u001b[39mif\u001b[39;00m \u001b[39mlen\u001b[39m(located_ol\u001b[39m.\u001b[39mindex) \u001b[39m>\u001b[39m \u001b[39m0\u001b[39m:\n\u001b[0;32m    807\u001b[0m         located_ol, endog, exog \u001b[39m=\u001b[39m \u001b[39mself\u001b[39m\u001b[39m.\u001b[39mdiscard_outliers(located_ol, endog, exog, \u001b[39mself\u001b[39m\u001b[39m.\u001b[39mdiscard_cval, fit_args)\n",
      "File \u001b[1;32m~\\GitHub\\ProjectBuffalo\\buffalo\\algorithm\\outliers.py:688\u001b[0m, in \u001b[0;36mIterativeTtestOutlierDetection.locate_outlier_oloop\u001b[1;34m(self, endog, exog, cval, id_start, fit_args)\u001b[0m\n\u001b[0;32m    685\u001b[0m \u001b[39mwhile\u001b[39;00m its \u001b[39m<\u001b[39m \u001b[39mself\u001b[39m\u001b[39m.\u001b[39mmaxit_oloop:\n\u001b[0;32m    686\u001b[0m     \u001b[39mself\u001b[39m\u001b[39m.\u001b[39mzero_inflated_first_resid()\n\u001b[1;32m--> 688\u001b[0m     inner_result \u001b[39m=\u001b[39m \u001b[39mself\u001b[39;49m\u001b[39m.\u001b[39;49mlocate_outlier_iloop(cval, id_start)\n\u001b[0;32m    690\u001b[0m     inner_result \u001b[39m=\u001b[39m inner_result[inner_result[\u001b[39m'\u001b[39m\u001b[39mtype\u001b[39m\u001b[39m'\u001b[39m] \u001b[39m!=\u001b[39m \u001b[39m'\u001b[39m\u001b[39mVC\u001b[39m\u001b[39m'\u001b[39m] \u001b[39m## TODO: Add VC support remove VC from response\u001b[39;00m\n\u001b[0;32m    692\u001b[0m     inner_result \u001b[39m=\u001b[39m \u001b[39mself\u001b[39m\u001b[39m.\u001b[39mremove_consecutive_outliers(inner_result)\n",
      "File \u001b[1;32m~\\GitHub\\ProjectBuffalo\\buffalo\\algorithm\\outliers.py:636\u001b[0m, in \u001b[0;36mIterativeTtestOutlierDetection.locate_outlier_iloop\u001b[1;34m(self, cval, id_start)\u001b[0m\n\u001b[0;32m    632\u001b[0m     \u001b[39mbreak\u001b[39;00m\n\u001b[0;32m    634\u001b[0m result \u001b[39m=\u001b[39m pd\u001b[39m.\u001b[39mconcat([result, located_ol], axis\u001b[39m=\u001b[39m\u001b[39m0\u001b[39m)\n\u001b[1;32m--> 636\u001b[0m ol_effect_matrix \u001b[39m=\u001b[39m \u001b[39mself\u001b[39;49m\u001b[39m.\u001b[39;49moutlier_effect_on_residuals(located_ol)\n\u001b[0;32m    638\u001b[0m resid_cp \u001b[39m-\u001b[39m\u001b[39m=\u001b[39m ol_effect_matrix\u001b[39m.\u001b[39msum(axis\u001b[39m=\u001b[39m\u001b[39m1\u001b[39m)\n\u001b[0;32m    640\u001b[0m its \u001b[39m+\u001b[39m\u001b[39m=\u001b[39m \u001b[39m1\u001b[39m\n",
      "File \u001b[1;32m~\\GitHub\\ProjectBuffalo\\buffalo\\algorithm\\outliers.py:517\u001b[0m, in \u001b[0;36mIterativeTtestOutlierDetection.outlier_effect_on_residuals\u001b[1;34m(self, located_ol)\u001b[0m\n\u001b[0;32m    515\u001b[0m result \u001b[39m=\u001b[39m []\n\u001b[0;32m    516\u001b[0m ids \u001b[39m=\u001b[39m []\n\u001b[1;32m--> 517\u001b[0m \u001b[39mfor\u001b[39;00m ol_type, temp_df \u001b[39min\u001b[39;00m located_ol\u001b[39m.\u001b[39mgroupby([\u001b[39m'\u001b[39m\u001b[39mtype\u001b[39m\u001b[39m'\u001b[39m, \u001b[39m'\u001b[39m\u001b[39mdelta\u001b[39m\u001b[39m'\u001b[39m, \u001b[39m'\u001b[39m\u001b[39mmin_n\u001b[39m\u001b[39m'\u001b[39m, \u001b[39m'\u001b[39m\u001b[39mtype_id\u001b[39m\u001b[39m'\u001b[39m], dropna\u001b[39m=\u001b[39m\u001b[39mFalse\u001b[39;00m):\n\u001b[0;32m    518\u001b[0m     \u001b[39mif\u001b[39;00m ol_type[\u001b[39m0\u001b[39m] \u001b[39m==\u001b[39m \u001b[39m'\u001b[39m\u001b[39mAO\u001b[39m\u001b[39m'\u001b[39m:\n\u001b[0;32m    519\u001b[0m         result\u001b[39m.\u001b[39mappend(xreg_ao(indices\u001b[39m=\u001b[39mtemp_df[\u001b[39m'\u001b[39m\u001b[39mt_index\u001b[39m\u001b[39m'\u001b[39m], weights\u001b[39m=\u001b[39mtemp_df[\u001b[39m'\u001b[39m\u001b[39mcoefhat\u001b[39m\u001b[39m'\u001b[39m]))\n",
      "File \u001b[1;32m~\\GitHub\\ProjectBuffalo\\buffalo\\algorithm\\outliers.py:517\u001b[0m, in \u001b[0;36mIterativeTtestOutlierDetection.outlier_effect_on_residuals\u001b[1;34m(self, located_ol)\u001b[0m\n\u001b[0;32m    515\u001b[0m result \u001b[39m=\u001b[39m []\n\u001b[0;32m    516\u001b[0m ids \u001b[39m=\u001b[39m []\n\u001b[1;32m--> 517\u001b[0m \u001b[39mfor\u001b[39;00m ol_type, temp_df \u001b[39min\u001b[39;00m located_ol\u001b[39m.\u001b[39mgroupby([\u001b[39m'\u001b[39m\u001b[39mtype\u001b[39m\u001b[39m'\u001b[39m, \u001b[39m'\u001b[39m\u001b[39mdelta\u001b[39m\u001b[39m'\u001b[39m, \u001b[39m'\u001b[39m\u001b[39mmin_n\u001b[39m\u001b[39m'\u001b[39m, \u001b[39m'\u001b[39m\u001b[39mtype_id\u001b[39m\u001b[39m'\u001b[39m], dropna\u001b[39m=\u001b[39m\u001b[39mFalse\u001b[39;00m):\n\u001b[0;32m    518\u001b[0m     \u001b[39mif\u001b[39;00m ol_type[\u001b[39m0\u001b[39m] \u001b[39m==\u001b[39m \u001b[39m'\u001b[39m\u001b[39mAO\u001b[39m\u001b[39m'\u001b[39m:\n\u001b[0;32m    519\u001b[0m         result\u001b[39m.\u001b[39mappend(xreg_ao(indices\u001b[39m=\u001b[39mtemp_df[\u001b[39m'\u001b[39m\u001b[39mt_index\u001b[39m\u001b[39m'\u001b[39m], weights\u001b[39m=\u001b[39mtemp_df[\u001b[39m'\u001b[39m\u001b[39mcoefhat\u001b[39m\u001b[39m'\u001b[39m]))\n",
      "File \u001b[1;32m_pydevd_bundle/pydevd_cython.pyx:1363\u001b[0m, in \u001b[0;36m_pydevd_bundle.pydevd_cython.SafeCallWrapper.__call__\u001b[1;34m()\u001b[0m\n",
      "File \u001b[1;32m_pydevd_bundle/pydevd_cython.pyx:662\u001b[0m, in \u001b[0;36m_pydevd_bundle.pydevd_cython.PyDBFrame.trace_dispatch\u001b[1;34m()\u001b[0m\n",
      "File \u001b[1;32m_pydevd_bundle/pydevd_cython.pyx:1087\u001b[0m, in \u001b[0;36m_pydevd_bundle.pydevd_cython.PyDBFrame.trace_dispatch\u001b[1;34m()\u001b[0m\n",
      "File \u001b[1;32m_pydevd_bundle/pydevd_cython.pyx:1078\u001b[0m, in \u001b[0;36m_pydevd_bundle.pydevd_cython.PyDBFrame.trace_dispatch\u001b[1;34m()\u001b[0m\n",
      "File \u001b[1;32m_pydevd_bundle/pydevd_cython.pyx:297\u001b[0m, in \u001b[0;36m_pydevd_bundle.pydevd_cython.PyDBFrame.do_wait_suspend\u001b[1;34m()\u001b[0m\n",
      "File \u001b[1;32mc:\\Users\\carlo\\miniconda3\\lib\\site-packages\\debugpy\\_vendored\\pydevd\\pydevd.py:1976\u001b[0m, in \u001b[0;36mPyDB.do_wait_suspend\u001b[1;34m(self, thread, frame, event, arg, exception_type)\u001b[0m\n\u001b[0;32m   1973\u001b[0m             from_this_thread\u001b[39m.\u001b[39mappend(frame_custom_thread_id)\n\u001b[0;32m   1975\u001b[0m     \u001b[39mwith\u001b[39;00m \u001b[39mself\u001b[39m\u001b[39m.\u001b[39m_threads_suspended_single_notification\u001b[39m.\u001b[39mnotify_thread_suspended(thread_id, stop_reason):\n\u001b[1;32m-> 1976\u001b[0m         keep_suspended \u001b[39m=\u001b[39m \u001b[39mself\u001b[39;49m\u001b[39m.\u001b[39;49m_do_wait_suspend(thread, frame, event, arg, suspend_type, from_this_thread, frames_tracker)\n\u001b[0;32m   1978\u001b[0m frames_list \u001b[39m=\u001b[39m \u001b[39mNone\u001b[39;00m\n\u001b[0;32m   1980\u001b[0m \u001b[39mif\u001b[39;00m keep_suspended:\n\u001b[0;32m   1981\u001b[0m     \u001b[39m# This means that we should pause again after a set next statement.\u001b[39;00m\n",
      "File \u001b[1;32mc:\\Users\\carlo\\miniconda3\\lib\\site-packages\\debugpy\\_vendored\\pydevd\\pydevd.py:2011\u001b[0m, in \u001b[0;36mPyDB._do_wait_suspend\u001b[1;34m(self, thread, frame, event, arg, suspend_type, from_this_thread, frames_tracker)\u001b[0m\n\u001b[0;32m   2008\u001b[0m         \u001b[39mself\u001b[39m\u001b[39m.\u001b[39m_call_mpl_hook()\n\u001b[0;32m   2010\u001b[0m     \u001b[39mself\u001b[39m\u001b[39m.\u001b[39mprocess_internal_commands()\n\u001b[1;32m-> 2011\u001b[0m     time\u001b[39m.\u001b[39;49msleep(\u001b[39m0.01\u001b[39;49m)\n\u001b[0;32m   2013\u001b[0m \u001b[39mself\u001b[39m\u001b[39m.\u001b[39mcancel_async_evaluation(get_current_thread_id(thread), \u001b[39mstr\u001b[39m(\u001b[39mid\u001b[39m(frame)))\n\u001b[0;32m   2015\u001b[0m \u001b[39m# process any stepping instructions\u001b[39;00m\n",
      "\u001b[1;31mKeyboardInterrupt\u001b[0m: "
     ]
    }
   ],
   "source": [
    "ol_detection.fit(endog=apple_stock['close'], exog=None, fit_args={})"
   ]
  },
  {
   "cell_type": "code",
   "execution_count": null,
   "metadata": {},
   "outputs": [],
   "source": [
    "advantage_endpoint.company_info_download(\n",
    "    'CASH_FLOW',\n",
    "    'IBM',\n",
    "    '3month'\n",
    ")"
   ]
  },
  {
   "cell_type": "code",
   "execution_count": null,
   "metadata": {},
   "outputs": [],
   "source": [
    "advantage_endpoint.listing_info_download(date='2022-02-24')"
   ]
  },
  {
   "cell_type": "code",
   "execution_count": null,
   "metadata": {},
   "outputs": [],
   "source": [
    "advantage_endpoint.trend_indicator_download(\n",
    "    function='SMA',\n",
    "    symbol='IBM',\n",
    "    interval='1min',\n",
    "    time_period=10,\n",
    "    series_type='close'\n",
    ")"
   ]
  },
  {
   "cell_type": "code",
   "execution_count": null,
   "metadata": {},
   "outputs": [],
   "source": [
    "advantage_endpoint.trend_indicator_download(\n",
    "    function='T3',\n",
    "    symbol='IBM',\n",
    "    interval='1min',\n",
    "    time_period=10,\n",
    "    series_type='close'\n",
    ")"
   ]
  },
  {
   "cell_type": "code",
   "execution_count": null,
   "metadata": {},
   "outputs": [],
   "source": [
    "advantage_endpoint.econ_download(\n",
    "    function='FEDERAL_FUNDS_RATE',\n",
    "    interval='daily'\n",
    ")"
   ]
  },
  {
   "cell_type": "code",
   "execution_count": null,
   "metadata": {},
   "outputs": [],
   "source": [
    "advantage_endpoint.econ_download(\n",
    "    function='TREASURY_YIELD',\n",
    "    interval='daily',\n",
    "    maturity='3month'\n",
    ")"
   ]
  },
  {
   "cell_type": "code",
   "execution_count": null,
   "metadata": {},
   "outputs": [],
   "source": [
    "advantage_endpoint.econ_download(\n",
    "    function='NONFARM_PAYROLL',\n",
    "    interval='monthly'\n",
    ")"
   ]
  },
  {
   "cell_type": "code",
   "execution_count": null,
   "metadata": {},
   "outputs": [],
   "source": [
    "advantage_endpoint.econ_download(\n",
    "    function='CPI',\n",
    "    interval='monthly'\n",
    ")"
   ]
  },
  {
   "cell_type": "code",
   "execution_count": null,
   "metadata": {},
   "outputs": [],
   "source": [
    "advantage_endpoint.econ_download(\n",
    "    function='UNEMPLOYMENT',\n",
    "    interval='monthly'\n",
    ")"
   ]
  },
  {
   "cell_type": "code",
   "execution_count": null,
   "metadata": {},
   "outputs": [],
   "source": [
    "advantage_endpoint.cycle_indicator_download(\n",
    "    function='ULTOSC',\n",
    "    symbol='IBM',\n",
    "    interval='1min',\n",
    "    time_period=10,\n",
    "    series_type='close'\n",
    ")"
   ]
  },
  {
   "cell_type": "code",
   "execution_count": null,
   "metadata": {},
   "outputs": [],
   "source": [
    "advantage_endpoint.cycle_indicator_download(\n",
    "    function='ULTOSC',\n",
    "    symbol='IBM',\n",
    "    interval='1min',\n",
    "    time_period=10,\n",
    "    series_type='close'\n",
    ")"
   ]
  },
  {
   "cell_type": "code",
   "execution_count": null,
   "metadata": {},
   "outputs": [],
   "source": [
    "advantage_endpoint.market_news_sentiment_download('IBM', sort='Latest', limit=50)[0]"
   ]
  },
  {
   "cell_type": "code",
   "execution_count": null,
   "metadata": {},
   "outputs": [],
   "source": [
    "advantage_endpoint.market_news_sentiment_download('IBM', sort='relevance', limit=50)[1]"
   ]
  },
  {
   "cell_type": "code",
   "execution_count": null,
   "metadata": {},
   "outputs": [],
   "source": [
    "# import sqlite3\n",
    "\n",
    "\n",
    "# fp = r'~/newsqlitefile.sqlite'\n",
    "\n",
    "# import pandas as pd\n",
    "\n",
    "# a = pd.DataFrame({\"a\": range(10), \"v\": range(1, 11)})\n",
    "\n",
    "# newconn, _ = sqlite3.connect(fp)\n",
    "# a.to_sql(\"a\", newconn)\n",
    "\n",
    "# newconn.close()"
   ]
  }
 ],
 "metadata": {
  "kernelspec": {
   "display_name": "base",
   "language": "python",
   "name": "python3"
  },
  "language_info": {
   "codemirror_mode": {
    "name": "ipython",
    "version": 3
   },
   "file_extension": ".py",
   "mimetype": "text/x-python",
   "name": "python",
   "nbconvert_exporter": "python",
   "pygments_lexer": "ipython3",
   "version": "3.10.8"
  },
  "orig_nbformat": 4,
  "vscode": {
   "interpreter": {
    "hash": "3067ead486e059ec00ffe7555bdb889e6e264a24dc711bf108106cc7baee8d5d"
   }
  }
 },
 "nbformat": 4,
 "nbformat_minor": 2
}
