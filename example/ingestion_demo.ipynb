{
 "cells": [
  {
   "cell_type": "code",
   "execution_count": 1,
   "metadata": {},
   "outputs": [],
   "source": [
    "import os\n",
    "\n",
    "os.chdir(r'C:\\Users\\carlo\\GitHub\\ProjectBuffalo')"
   ]
  },
  {
   "cell_type": "code",
   "execution_count": 2,
   "metadata": {},
   "outputs": [],
   "source": [
    "import buffalo.ingestion as ingestion"
   ]
  },
  {
   "cell_type": "code",
   "execution_count": 3,
   "metadata": {},
   "outputs": [
    {
     "name": "stdout",
     "output_type": "stream",
     "text": [
      "{'storage_folder': '../__cached_data', 'api_keys': {<API.ADVANTAGE: 1>: '2rrNROO0beX90lPH7ixQOp0mT_9SwF0d'}, 'watched_tickers': ['IBM', 'MSFT']}\n"
     ]
    }
   ],
   "source": [
    "ingestion.configuration.Configuration.print()"
   ]
  },
  {
   "cell_type": "code",
   "execution_count": 4,
   "metadata": {},
   "outputs": [],
   "source": [
    "advantage_endpoint = ingestion.advantage.AdvantageStockGrepper()"
   ]
  },
  {
   "cell_type": "code",
   "execution_count": 5,
   "metadata": {},
   "outputs": [],
   "source": [
    "apple_stock = advantage_endpoint.stock_download(\n",
    "    symbol='AAPL',\n",
    "    interval='daily',\n",
    "    year_slice=None, ## Intraday \n",
    "    adjusted=True\n",
    ")"
   ]
  },
  {
   "cell_type": "code",
   "execution_count": 9,
   "metadata": {},
   "outputs": [
    {
     "data": {
      "text/html": [
       "<div>\n",
       "<style scoped>\n",
       "    .dataframe tbody tr th:only-of-type {\n",
       "        vertical-align: middle;\n",
       "    }\n",
       "\n",
       "    .dataframe tbody tr th {\n",
       "        vertical-align: top;\n",
       "    }\n",
       "\n",
       "    .dataframe thead th {\n",
       "        text-align: right;\n",
       "    }\n",
       "</style>\n",
       "<table border=\"1\" class=\"dataframe\">\n",
       "  <thead>\n",
       "    <tr style=\"text-align: right;\">\n",
       "      <th></th>\n",
       "      <th>symbol</th>\n",
       "      <th>annualReports</th>\n",
       "      <th>quarterlyReports</th>\n",
       "    </tr>\n",
       "  </thead>\n",
       "  <tbody>\n",
       "    <tr>\n",
       "      <th>0</th>\n",
       "      <td>IBM</td>\n",
       "      <td>[{'fiscalDateEnding': '2022-12-31', 'reportedC...</td>\n",
       "      <td>[{'fiscalDateEnding': '2022-12-31', 'reportedC...</td>\n",
       "    </tr>\n",
       "  </tbody>\n",
       "</table>\n",
       "</div>"
      ],
      "text/plain": [
       "  symbol                                      annualReports  \\\n",
       "0    IBM  [{'fiscalDateEnding': '2022-12-31', 'reportedC...   \n",
       "\n",
       "                                    quarterlyReports  \n",
       "0  [{'fiscalDateEnding': '2022-12-31', 'reportedC...  "
      ]
     },
     "execution_count": 9,
     "metadata": {},
     "output_type": "execute_result"
    }
   ],
   "source": [
    "advantage_endpoint.company_info_download(\n",
    "    'CASH_FLOW',\n",
    "    'IBM',\n",
    "    '3month'\n",
    ")"
   ]
  },
  {
   "cell_type": "code",
   "execution_count": 10,
   "metadata": {},
   "outputs": [
    {
     "data": {
      "text/html": [
       "<div>\n",
       "<style scoped>\n",
       "    .dataframe tbody tr th:only-of-type {\n",
       "        vertical-align: middle;\n",
       "    }\n",
       "\n",
       "    .dataframe tbody tr th {\n",
       "        vertical-align: top;\n",
       "    }\n",
       "\n",
       "    .dataframe thead th {\n",
       "        text-align: right;\n",
       "    }\n",
       "</style>\n",
       "<table border=\"1\" class=\"dataframe\">\n",
       "  <thead>\n",
       "    <tr style=\"text-align: right;\">\n",
       "      <th></th>\n",
       "      <th>symbol</th>\n",
       "      <th>name</th>\n",
       "      <th>exchange</th>\n",
       "      <th>assetType</th>\n",
       "      <th>ipoDate</th>\n",
       "      <th>delistingDate</th>\n",
       "      <th>status</th>\n",
       "    </tr>\n",
       "  </thead>\n",
       "  <tbody>\n",
       "    <tr>\n",
       "      <th>0</th>\n",
       "      <td>A</td>\n",
       "      <td>Agilent Technologies Inc</td>\n",
       "      <td>NYSE</td>\n",
       "      <td>Stock</td>\n",
       "      <td>1999-11-18</td>\n",
       "      <td>NaN</td>\n",
       "      <td>Active</td>\n",
       "    </tr>\n",
       "    <tr>\n",
       "      <th>1</th>\n",
       "      <td>AA</td>\n",
       "      <td>Alcoa Corp</td>\n",
       "      <td>NYSE</td>\n",
       "      <td>Stock</td>\n",
       "      <td>2016-10-18</td>\n",
       "      <td>NaN</td>\n",
       "      <td>Active</td>\n",
       "    </tr>\n",
       "    <tr>\n",
       "      <th>2</th>\n",
       "      <td>AAA</td>\n",
       "      <td>AXS FIRST PRIORITY CLO BOND ETF</td>\n",
       "      <td>NYSE ARCA</td>\n",
       "      <td>ETF</td>\n",
       "      <td>2020-09-09</td>\n",
       "      <td>NaN</td>\n",
       "      <td>Active</td>\n",
       "    </tr>\n",
       "    <tr>\n",
       "      <th>3</th>\n",
       "      <td>AAAU</td>\n",
       "      <td>Goldman Sachs Physical Gold ETF</td>\n",
       "      <td>BATS</td>\n",
       "      <td>ETF</td>\n",
       "      <td>2018-08-15</td>\n",
       "      <td>NaN</td>\n",
       "      <td>Active</td>\n",
       "    </tr>\n",
       "    <tr>\n",
       "      <th>4</th>\n",
       "      <td>AAC</td>\n",
       "      <td>Ares Acquisition Corporation - Class A</td>\n",
       "      <td>NYSE</td>\n",
       "      <td>Stock</td>\n",
       "      <td>2021-03-25</td>\n",
       "      <td>NaN</td>\n",
       "      <td>Active</td>\n",
       "    </tr>\n",
       "    <tr>\n",
       "      <th>...</th>\n",
       "      <td>...</td>\n",
       "      <td>...</td>\n",
       "      <td>...</td>\n",
       "      <td>...</td>\n",
       "      <td>...</td>\n",
       "      <td>...</td>\n",
       "      <td>...</td>\n",
       "    </tr>\n",
       "    <tr>\n",
       "      <th>12039</th>\n",
       "      <td>ZYNE</td>\n",
       "      <td>Zynerba Pharmaceuticals Inc</td>\n",
       "      <td>NASDAQ</td>\n",
       "      <td>Stock</td>\n",
       "      <td>2015-08-05</td>\n",
       "      <td>NaN</td>\n",
       "      <td>Active</td>\n",
       "    </tr>\n",
       "    <tr>\n",
       "      <th>12040</th>\n",
       "      <td>ZYRX</td>\n",
       "      <td>Global Earnings Capital Ltd</td>\n",
       "      <td>NASDAQ</td>\n",
       "      <td>Stock</td>\n",
       "      <td>2007-07-13</td>\n",
       "      <td>NaN</td>\n",
       "      <td>Active</td>\n",
       "    </tr>\n",
       "    <tr>\n",
       "      <th>12041</th>\n",
       "      <td>ZYXI</td>\n",
       "      <td>Zynex Inc</td>\n",
       "      <td>NASDAQ</td>\n",
       "      <td>Stock</td>\n",
       "      <td>2012-07-23</td>\n",
       "      <td>NaN</td>\n",
       "      <td>Active</td>\n",
       "    </tr>\n",
       "    <tr>\n",
       "      <th>12042</th>\n",
       "      <td>ZZK</td>\n",
       "      <td>NaN</td>\n",
       "      <td>NYSE ARCA</td>\n",
       "      <td>Stock</td>\n",
       "      <td>2020-07-22</td>\n",
       "      <td>NaN</td>\n",
       "      <td>Active</td>\n",
       "    </tr>\n",
       "    <tr>\n",
       "      <th>12043</th>\n",
       "      <td>ZZZ</td>\n",
       "      <td>TEST TICKER FOR UTP</td>\n",
       "      <td>NYSE ARCA</td>\n",
       "      <td>Stock</td>\n",
       "      <td>2014-10-31</td>\n",
       "      <td>NaN</td>\n",
       "      <td>Active</td>\n",
       "    </tr>\n",
       "  </tbody>\n",
       "</table>\n",
       "<p>12044 rows × 7 columns</p>\n",
       "</div>"
      ],
      "text/plain": [
       "      symbol                                    name   exchange assetType  \\\n",
       "0          A                Agilent Technologies Inc       NYSE     Stock   \n",
       "1         AA                              Alcoa Corp       NYSE     Stock   \n",
       "2        AAA        AXS FIRST PRIORITY CLO BOND ETF   NYSE ARCA       ETF   \n",
       "3       AAAU         Goldman Sachs Physical Gold ETF       BATS       ETF   \n",
       "4        AAC  Ares Acquisition Corporation - Class A       NYSE     Stock   \n",
       "...      ...                                     ...        ...       ...   \n",
       "12039   ZYNE             Zynerba Pharmaceuticals Inc     NASDAQ     Stock   \n",
       "12040   ZYRX             Global Earnings Capital Ltd     NASDAQ     Stock   \n",
       "12041   ZYXI                               Zynex Inc     NASDAQ     Stock   \n",
       "12042    ZZK                                     NaN  NYSE ARCA     Stock   \n",
       "12043    ZZZ                     TEST TICKER FOR UTP  NYSE ARCA     Stock   \n",
       "\n",
       "          ipoDate  delistingDate  status  \n",
       "0      1999-11-18            NaN  Active  \n",
       "1      2016-10-18            NaN  Active  \n",
       "2      2020-09-09            NaN  Active  \n",
       "3      2018-08-15            NaN  Active  \n",
       "4      2021-03-25            NaN  Active  \n",
       "...           ...            ...     ...  \n",
       "12039  2015-08-05            NaN  Active  \n",
       "12040  2007-07-13            NaN  Active  \n",
       "12041  2012-07-23            NaN  Active  \n",
       "12042  2020-07-22            NaN  Active  \n",
       "12043  2014-10-31            NaN  Active  \n",
       "\n",
       "[12044 rows x 7 columns]"
      ]
     },
     "execution_count": 10,
     "metadata": {},
     "output_type": "execute_result"
    }
   ],
   "source": [
    "advantage_endpoint.listing_info_download(date='2022-02-24')"
   ]
  },
  {
   "cell_type": "code",
   "execution_count": 11,
   "metadata": {},
   "outputs": [
    {
     "data": {
      "text/html": [
       "<div>\n",
       "<style scoped>\n",
       "    .dataframe tbody tr th:only-of-type {\n",
       "        vertical-align: middle;\n",
       "    }\n",
       "\n",
       "    .dataframe tbody tr th {\n",
       "        vertical-align: top;\n",
       "    }\n",
       "\n",
       "    .dataframe thead th {\n",
       "        text-align: right;\n",
       "    }\n",
       "</style>\n",
       "<table border=\"1\" class=\"dataframe\">\n",
       "  <thead>\n",
       "    <tr style=\"text-align: right;\">\n",
       "      <th></th>\n",
       "      <th>time</th>\n",
       "      <th>SMA</th>\n",
       "    </tr>\n",
       "  </thead>\n",
       "  <tbody>\n",
       "    <tr>\n",
       "      <th>0</th>\n",
       "      <td>2023-03-15 19:58</td>\n",
       "      <td>123.3510</td>\n",
       "    </tr>\n",
       "    <tr>\n",
       "      <th>1</th>\n",
       "      <td>2023-03-15 19:53</td>\n",
       "      <td>123.3210</td>\n",
       "    </tr>\n",
       "    <tr>\n",
       "      <th>2</th>\n",
       "      <td>2023-03-15 19:38</td>\n",
       "      <td>123.3190</td>\n",
       "    </tr>\n",
       "    <tr>\n",
       "      <th>3</th>\n",
       "      <td>2023-03-15 19:30</td>\n",
       "      <td>123.2990</td>\n",
       "    </tr>\n",
       "    <tr>\n",
       "      <th>4</th>\n",
       "      <td>2023-03-15 18:38</td>\n",
       "      <td>123.2790</td>\n",
       "    </tr>\n",
       "    <tr>\n",
       "      <th>...</th>\n",
       "      <td>...</td>\n",
       "      <td>...</td>\n",
       "    </tr>\n",
       "    <tr>\n",
       "      <th>4096</th>\n",
       "      <td>2023-03-02 09:37</td>\n",
       "      <td>128.0535</td>\n",
       "    </tr>\n",
       "    <tr>\n",
       "      <th>4097</th>\n",
       "      <td>2023-03-02 09:36</td>\n",
       "      <td>128.0617</td>\n",
       "    </tr>\n",
       "    <tr>\n",
       "      <th>4098</th>\n",
       "      <td>2023-03-02 09:35</td>\n",
       "      <td>128.0802</td>\n",
       "    </tr>\n",
       "    <tr>\n",
       "      <th>4099</th>\n",
       "      <td>2023-03-02 09:34</td>\n",
       "      <td>128.0542</td>\n",
       "    </tr>\n",
       "    <tr>\n",
       "      <th>4100</th>\n",
       "      <td>2023-03-02 09:33</td>\n",
       "      <td>128.0422</td>\n",
       "    </tr>\n",
       "  </tbody>\n",
       "</table>\n",
       "<p>4101 rows × 2 columns</p>\n",
       "</div>"
      ],
      "text/plain": [
       "                  time       SMA\n",
       "0     2023-03-15 19:58  123.3510\n",
       "1     2023-03-15 19:53  123.3210\n",
       "2     2023-03-15 19:38  123.3190\n",
       "3     2023-03-15 19:30  123.2990\n",
       "4     2023-03-15 18:38  123.2790\n",
       "...                ...       ...\n",
       "4096  2023-03-02 09:37  128.0535\n",
       "4097  2023-03-02 09:36  128.0617\n",
       "4098  2023-03-02 09:35  128.0802\n",
       "4099  2023-03-02 09:34  128.0542\n",
       "4100  2023-03-02 09:33  128.0422\n",
       "\n",
       "[4101 rows x 2 columns]"
      ]
     },
     "execution_count": 11,
     "metadata": {},
     "output_type": "execute_result"
    }
   ],
   "source": [
    "advantage_endpoint.trend_indicator_download(\n",
    "    function='SMA',\n",
    "    symbol='IBM',\n",
    "    interval='1min',\n",
    "    time_period=10,\n",
    "    series_type='close'\n",
    ")"
   ]
  },
  {
   "cell_type": "code",
   "execution_count": 12,
   "metadata": {},
   "outputs": [
    {
     "data": {
      "text/html": [
       "<div>\n",
       "<style scoped>\n",
       "    .dataframe tbody tr th:only-of-type {\n",
       "        vertical-align: middle;\n",
       "    }\n",
       "\n",
       "    .dataframe tbody tr th {\n",
       "        vertical-align: top;\n",
       "    }\n",
       "\n",
       "    .dataframe thead th {\n",
       "        text-align: right;\n",
       "    }\n",
       "</style>\n",
       "<table border=\"1\" class=\"dataframe\">\n",
       "  <thead>\n",
       "    <tr style=\"text-align: right;\">\n",
       "      <th></th>\n",
       "      <th>time</th>\n",
       "      <th>T3</th>\n",
       "    </tr>\n",
       "  </thead>\n",
       "  <tbody>\n",
       "    <tr>\n",
       "      <th>0</th>\n",
       "      <td>2023-03-15 19:58</td>\n",
       "      <td>123.3875</td>\n",
       "    </tr>\n",
       "    <tr>\n",
       "      <th>1</th>\n",
       "      <td>2023-03-15 19:53</td>\n",
       "      <td>123.3757</td>\n",
       "    </tr>\n",
       "    <tr>\n",
       "      <th>2</th>\n",
       "      <td>2023-03-15 19:38</td>\n",
       "      <td>123.3594</td>\n",
       "    </tr>\n",
       "    <tr>\n",
       "      <th>3</th>\n",
       "      <td>2023-03-15 19:30</td>\n",
       "      <td>123.3404</td>\n",
       "    </tr>\n",
       "    <tr>\n",
       "      <th>4</th>\n",
       "      <td>2023-03-15 18:38</td>\n",
       "      <td>123.3232</td>\n",
       "    </tr>\n",
       "    <tr>\n",
       "      <th>...</th>\n",
       "      <td>...</td>\n",
       "      <td>...</td>\n",
       "    </tr>\n",
       "    <tr>\n",
       "      <th>4051</th>\n",
       "      <td>2023-03-02 10:22</td>\n",
       "      <td>128.2305</td>\n",
       "    </tr>\n",
       "    <tr>\n",
       "      <th>4052</th>\n",
       "      <td>2023-03-02 10:21</td>\n",
       "      <td>128.2450</td>\n",
       "    </tr>\n",
       "    <tr>\n",
       "      <th>4053</th>\n",
       "      <td>2023-03-02 10:20</td>\n",
       "      <td>128.2476</td>\n",
       "    </tr>\n",
       "    <tr>\n",
       "      <th>4054</th>\n",
       "      <td>2023-03-02 10:19</td>\n",
       "      <td>128.2431</td>\n",
       "    </tr>\n",
       "    <tr>\n",
       "      <th>4055</th>\n",
       "      <td>2023-03-02 10:18</td>\n",
       "      <td>128.2325</td>\n",
       "    </tr>\n",
       "  </tbody>\n",
       "</table>\n",
       "<p>4056 rows × 2 columns</p>\n",
       "</div>"
      ],
      "text/plain": [
       "                  time        T3\n",
       "0     2023-03-15 19:58  123.3875\n",
       "1     2023-03-15 19:53  123.3757\n",
       "2     2023-03-15 19:38  123.3594\n",
       "3     2023-03-15 19:30  123.3404\n",
       "4     2023-03-15 18:38  123.3232\n",
       "...                ...       ...\n",
       "4051  2023-03-02 10:22  128.2305\n",
       "4052  2023-03-02 10:21  128.2450\n",
       "4053  2023-03-02 10:20  128.2476\n",
       "4054  2023-03-02 10:19  128.2431\n",
       "4055  2023-03-02 10:18  128.2325\n",
       "\n",
       "[4056 rows x 2 columns]"
      ]
     },
     "execution_count": 12,
     "metadata": {},
     "output_type": "execute_result"
    }
   ],
   "source": [
    "advantage_endpoint.trend_indicator_download(\n",
    "    function='T3',\n",
    "    symbol='IBM',\n",
    "    interval='1min',\n",
    "    time_period=10,\n",
    "    series_type='close'\n",
    ")"
   ]
  },
  {
   "cell_type": "code",
   "execution_count": 13,
   "metadata": {},
   "outputs": [
    {
     "data": {
      "text/html": [
       "<div>\n",
       "<style scoped>\n",
       "    .dataframe tbody tr th:only-of-type {\n",
       "        vertical-align: middle;\n",
       "    }\n",
       "\n",
       "    .dataframe tbody tr th {\n",
       "        vertical-align: top;\n",
       "    }\n",
       "\n",
       "    .dataframe thead th {\n",
       "        text-align: right;\n",
       "    }\n",
       "</style>\n",
       "<table border=\"1\" class=\"dataframe\">\n",
       "  <thead>\n",
       "    <tr style=\"text-align: right;\">\n",
       "      <th></th>\n",
       "      <th>{</th>\n",
       "    </tr>\n",
       "  </thead>\n",
       "  <tbody>\n",
       "    <tr>\n",
       "      <th>0</th>\n",
       "      <td>\"Note\": \"Thank you for using Alpha Vantage...</td>\n",
       "    </tr>\n",
       "    <tr>\n",
       "      <th>1</th>\n",
       "      <td>}</td>\n",
       "    </tr>\n",
       "  </tbody>\n",
       "</table>\n",
       "</div>"
      ],
      "text/plain": [
       "                                                   {\n",
       "0      \"Note\": \"Thank you for using Alpha Vantage...\n",
       "1                                                  }"
      ]
     },
     "execution_count": 13,
     "metadata": {},
     "output_type": "execute_result"
    }
   ],
   "source": [
    "advantage_endpoint.econ_download(\n",
    "    function='FEDERAL_FUNDS_RATE',\n",
    "    interval='daily'\n",
    ")"
   ]
  },
  {
   "cell_type": "code",
   "execution_count": 14,
   "metadata": {},
   "outputs": [
    {
     "data": {
      "text/html": [
       "<div>\n",
       "<style scoped>\n",
       "    .dataframe tbody tr th:only-of-type {\n",
       "        vertical-align: middle;\n",
       "    }\n",
       "\n",
       "    .dataframe tbody tr th {\n",
       "        vertical-align: top;\n",
       "    }\n",
       "\n",
       "    .dataframe thead th {\n",
       "        text-align: right;\n",
       "    }\n",
       "</style>\n",
       "<table border=\"1\" class=\"dataframe\">\n",
       "  <thead>\n",
       "    <tr style=\"text-align: right;\">\n",
       "      <th></th>\n",
       "      <th>{</th>\n",
       "    </tr>\n",
       "  </thead>\n",
       "  <tbody>\n",
       "    <tr>\n",
       "      <th>0</th>\n",
       "      <td>\"Note\": \"Thank you for using Alpha Vantage...</td>\n",
       "    </tr>\n",
       "    <tr>\n",
       "      <th>1</th>\n",
       "      <td>}</td>\n",
       "    </tr>\n",
       "  </tbody>\n",
       "</table>\n",
       "</div>"
      ],
      "text/plain": [
       "                                                   {\n",
       "0      \"Note\": \"Thank you for using Alpha Vantage...\n",
       "1                                                  }"
      ]
     },
     "execution_count": 14,
     "metadata": {},
     "output_type": "execute_result"
    }
   ],
   "source": [
    "advantage_endpoint.econ_download(\n",
    "    function='TREASURY_YIELD',\n",
    "    interval='daily',\n",
    "    maturity='3month'\n",
    ")"
   ]
  },
  {
   "cell_type": "code",
   "execution_count": 15,
   "metadata": {},
   "outputs": [
    {
     "data": {
      "text/html": [
       "<div>\n",
       "<style scoped>\n",
       "    .dataframe tbody tr th:only-of-type {\n",
       "        vertical-align: middle;\n",
       "    }\n",
       "\n",
       "    .dataframe tbody tr th {\n",
       "        vertical-align: top;\n",
       "    }\n",
       "\n",
       "    .dataframe thead th {\n",
       "        text-align: right;\n",
       "    }\n",
       "</style>\n",
       "<table border=\"1\" class=\"dataframe\">\n",
       "  <thead>\n",
       "    <tr style=\"text-align: right;\">\n",
       "      <th></th>\n",
       "      <th>{</th>\n",
       "    </tr>\n",
       "  </thead>\n",
       "  <tbody>\n",
       "    <tr>\n",
       "      <th>0</th>\n",
       "      <td>\"Note\": \"Thank you for using Alpha Vantage...</td>\n",
       "    </tr>\n",
       "    <tr>\n",
       "      <th>1</th>\n",
       "      <td>}</td>\n",
       "    </tr>\n",
       "  </tbody>\n",
       "</table>\n",
       "</div>"
      ],
      "text/plain": [
       "                                                   {\n",
       "0      \"Note\": \"Thank you for using Alpha Vantage...\n",
       "1                                                  }"
      ]
     },
     "execution_count": 15,
     "metadata": {},
     "output_type": "execute_result"
    }
   ],
   "source": [
    "advantage_endpoint.econ_download(\n",
    "    function='NONFARM_PAYROLL',\n",
    "    interval='monthly'\n",
    ")"
   ]
  },
  {
   "cell_type": "code",
   "execution_count": 16,
   "metadata": {},
   "outputs": [
    {
     "data": {
      "text/html": [
       "<div>\n",
       "<style scoped>\n",
       "    .dataframe tbody tr th:only-of-type {\n",
       "        vertical-align: middle;\n",
       "    }\n",
       "\n",
       "    .dataframe tbody tr th {\n",
       "        vertical-align: top;\n",
       "    }\n",
       "\n",
       "    .dataframe thead th {\n",
       "        text-align: right;\n",
       "    }\n",
       "</style>\n",
       "<table border=\"1\" class=\"dataframe\">\n",
       "  <thead>\n",
       "    <tr style=\"text-align: right;\">\n",
       "      <th></th>\n",
       "      <th>{</th>\n",
       "    </tr>\n",
       "  </thead>\n",
       "  <tbody>\n",
       "    <tr>\n",
       "      <th>0</th>\n",
       "      <td>\"Note\": \"Thank you for using Alpha Vantage...</td>\n",
       "    </tr>\n",
       "    <tr>\n",
       "      <th>1</th>\n",
       "      <td>}</td>\n",
       "    </tr>\n",
       "  </tbody>\n",
       "</table>\n",
       "</div>"
      ],
      "text/plain": [
       "                                                   {\n",
       "0      \"Note\": \"Thank you for using Alpha Vantage...\n",
       "1                                                  }"
      ]
     },
     "execution_count": 16,
     "metadata": {},
     "output_type": "execute_result"
    }
   ],
   "source": [
    "advantage_endpoint.econ_download(\n",
    "    function='CPI',\n",
    "    interval='monthly'\n",
    ")"
   ]
  },
  {
   "cell_type": "code",
   "execution_count": 17,
   "metadata": {},
   "outputs": [
    {
     "data": {
      "text/html": [
       "<div>\n",
       "<style scoped>\n",
       "    .dataframe tbody tr th:only-of-type {\n",
       "        vertical-align: middle;\n",
       "    }\n",
       "\n",
       "    .dataframe tbody tr th {\n",
       "        vertical-align: top;\n",
       "    }\n",
       "\n",
       "    .dataframe thead th {\n",
       "        text-align: right;\n",
       "    }\n",
       "</style>\n",
       "<table border=\"1\" class=\"dataframe\">\n",
       "  <thead>\n",
       "    <tr style=\"text-align: right;\">\n",
       "      <th></th>\n",
       "      <th>{</th>\n",
       "    </tr>\n",
       "  </thead>\n",
       "  <tbody>\n",
       "    <tr>\n",
       "      <th>0</th>\n",
       "      <td>\"Note\": \"Thank you for using Alpha Vantage...</td>\n",
       "    </tr>\n",
       "    <tr>\n",
       "      <th>1</th>\n",
       "      <td>}</td>\n",
       "    </tr>\n",
       "  </tbody>\n",
       "</table>\n",
       "</div>"
      ],
      "text/plain": [
       "                                                   {\n",
       "0      \"Note\": \"Thank you for using Alpha Vantage...\n",
       "1                                                  }"
      ]
     },
     "execution_count": 17,
     "metadata": {},
     "output_type": "execute_result"
    }
   ],
   "source": [
    "advantage_endpoint.econ_download(\n",
    "    function='UNEMPLOYMENT',\n",
    "    interval='monthly'\n",
    ")"
   ]
  },
  {
   "cell_type": "code",
   "execution_count": 18,
   "metadata": {},
   "outputs": [
    {
     "data": {
      "text/html": [
       "<div>\n",
       "<style scoped>\n",
       "    .dataframe tbody tr th:only-of-type {\n",
       "        vertical-align: middle;\n",
       "    }\n",
       "\n",
       "    .dataframe tbody tr th {\n",
       "        vertical-align: top;\n",
       "    }\n",
       "\n",
       "    .dataframe thead th {\n",
       "        text-align: right;\n",
       "    }\n",
       "</style>\n",
       "<table border=\"1\" class=\"dataframe\">\n",
       "  <thead>\n",
       "    <tr style=\"text-align: right;\">\n",
       "      <th></th>\n",
       "      <th>{</th>\n",
       "    </tr>\n",
       "  </thead>\n",
       "  <tbody>\n",
       "    <tr>\n",
       "      <th>0</th>\n",
       "      <td>\"Note\": \"Thank you for using Alpha Vantage...</td>\n",
       "    </tr>\n",
       "    <tr>\n",
       "      <th>1</th>\n",
       "      <td>}</td>\n",
       "    </tr>\n",
       "  </tbody>\n",
       "</table>\n",
       "</div>"
      ],
      "text/plain": [
       "                                                   {\n",
       "0      \"Note\": \"Thank you for using Alpha Vantage...\n",
       "1                                                  }"
      ]
     },
     "execution_count": 18,
     "metadata": {},
     "output_type": "execute_result"
    }
   ],
   "source": [
    "advantage_endpoint.cycle_indicator_download(\n",
    "    function='ULTOSC',\n",
    "    symbol='IBM',\n",
    "    interval='1min',\n",
    "    time_period=10,\n",
    "    series_type='close'\n",
    ")"
   ]
  },
  {
   "cell_type": "code",
   "execution_count": 19,
   "metadata": {},
   "outputs": [
    {
     "data": {
      "text/html": [
       "<div>\n",
       "<style scoped>\n",
       "    .dataframe tbody tr th:only-of-type {\n",
       "        vertical-align: middle;\n",
       "    }\n",
       "\n",
       "    .dataframe tbody tr th {\n",
       "        vertical-align: top;\n",
       "    }\n",
       "\n",
       "    .dataframe thead th {\n",
       "        text-align: right;\n",
       "    }\n",
       "</style>\n",
       "<table border=\"1\" class=\"dataframe\">\n",
       "  <thead>\n",
       "    <tr style=\"text-align: right;\">\n",
       "      <th></th>\n",
       "      <th>{</th>\n",
       "    </tr>\n",
       "  </thead>\n",
       "  <tbody>\n",
       "    <tr>\n",
       "      <th>0</th>\n",
       "      <td>\"Note\": \"Thank you for using Alpha Vantage...</td>\n",
       "    </tr>\n",
       "    <tr>\n",
       "      <th>1</th>\n",
       "      <td>}</td>\n",
       "    </tr>\n",
       "  </tbody>\n",
       "</table>\n",
       "</div>"
      ],
      "text/plain": [
       "                                                   {\n",
       "0      \"Note\": \"Thank you for using Alpha Vantage...\n",
       "1                                                  }"
      ]
     },
     "execution_count": 19,
     "metadata": {},
     "output_type": "execute_result"
    }
   ],
   "source": [
    "advantage_endpoint.cycle_indicator_download(\n",
    "    function='ULTOSC',\n",
    "    symbol='IBM',\n",
    "    interval='1min',\n",
    "    time_period=10,\n",
    "    series_type='close'\n",
    ")"
   ]
  },
  {
   "cell_type": "code",
   "execution_count": 20,
   "metadata": {},
   "outputs": [
    {
     "ename": "KeyError",
     "evalue": "\"Key 'feed' not found. If specifying a record_path, all elements of data should have the path.\"",
     "output_type": "error",
     "traceback": [
      "\u001b[1;31m---------------------------------------------------------------------------\u001b[0m",
      "\u001b[1;31mKeyError\u001b[0m                                  Traceback (most recent call last)",
      "File \u001b[1;32mc:\\Users\\carlo\\miniconda3\\lib\\site-packages\\pandas\\io\\json\\_normalize.py:399\u001b[0m, in \u001b[0;36m_json_normalize.<locals>._pull_field\u001b[1;34m(js, spec, extract_record)\u001b[0m\n\u001b[0;32m    398\u001b[0m     \u001b[39melse\u001b[39;00m:\n\u001b[1;32m--> 399\u001b[0m         result \u001b[39m=\u001b[39m result[spec]\n\u001b[0;32m    400\u001b[0m \u001b[39mexcept\u001b[39;00m \u001b[39mKeyError\u001b[39;00m \u001b[39mas\u001b[39;00m e:\n",
      "\u001b[1;31mKeyError\u001b[0m: 'feed'",
      "\nThe above exception was the direct cause of the following exception:\n",
      "\u001b[1;31mKeyError\u001b[0m                                  Traceback (most recent call last)",
      "Cell \u001b[1;32mIn[20], line 1\u001b[0m\n\u001b[1;32m----> 1\u001b[0m advantage_endpoint\u001b[39m.\u001b[39;49mmarket_news_sentiment_download(\u001b[39m'\u001b[39;49m\u001b[39mIBM\u001b[39;49m\u001b[39m'\u001b[39;49m, sort\u001b[39m=\u001b[39;49m\u001b[39m'\u001b[39;49m\u001b[39mLatest\u001b[39;49m\u001b[39m'\u001b[39;49m, limit\u001b[39m=\u001b[39;49m\u001b[39m50\u001b[39;49m)[\u001b[39m0\u001b[39m]\n",
      "File \u001b[1;32m~\\GitHub\\ProjectBuffalo\\buffalo\\ingestion\\advantage.py:367\u001b[0m, in \u001b[0;36mAdvantageStockGrepper.market_news_sentiment_download\u001b[1;34m(self, tickers, topics, time_from, time_to, sort, limit)\u001b[0m\n\u001b[0;32m    364\u001b[0m \u001b[39mif\u001b[39;00m \u001b[39mlen\u001b[39m(data) \u001b[39m==\u001b[39m \u001b[39m0\u001b[39m:\n\u001b[0;32m    365\u001b[0m     warnings\u001b[39m.\u001b[39mwarn(\u001b[39mf\u001b[39m\u001b[39m'\u001b[39m\u001b[39mReading from \u001b[39m\u001b[39m{\u001b[39;00murl\u001b[39m}\u001b[39;00m\u001b[39m results in 0 rows.\u001b[39m\u001b[39m'\u001b[39m)\n\u001b[1;32m--> 367\u001b[0m result \u001b[39m=\u001b[39m pd\u001b[39m.\u001b[39;49mjson_normalize(data, record_path\u001b[39m=\u001b[39;49m[\u001b[39m'\u001b[39;49m\u001b[39mfeed\u001b[39;49m\u001b[39m'\u001b[39;49m], meta \u001b[39m=\u001b[39;49m [\u001b[39m'\u001b[39;49m\u001b[39mitems\u001b[39;49m\u001b[39m'\u001b[39;49m, \u001b[39m'\u001b[39;49m\u001b[39msentiment_score_definition\u001b[39;49m\u001b[39m'\u001b[39;49m, \u001b[39m'\u001b[39;49m\u001b[39mrelevance_score_definition\u001b[39;49m\u001b[39m'\u001b[39;49m])\n\u001b[0;32m    368\u001b[0m result \u001b[39m=\u001b[39m result\u001b[39m.\u001b[39mreset_index(drop\u001b[39m=\u001b[39m\u001b[39mFalse\u001b[39;00m)\n\u001b[0;32m    370\u001b[0m topic_lst \u001b[39m=\u001b[39m []\n",
      "File \u001b[1;32mc:\\Users\\carlo\\miniconda3\\lib\\site-packages\\pandas\\io\\json\\_normalize.py:518\u001b[0m, in \u001b[0;36m_json_normalize\u001b[1;34m(data, record_path, meta, meta_prefix, record_prefix, errors, sep, max_level)\u001b[0m\n\u001b[0;32m    515\u001b[0m                 meta_vals[key]\u001b[39m.\u001b[39mappend(meta_val)\n\u001b[0;32m    516\u001b[0m             records\u001b[39m.\u001b[39mextend(recs)\n\u001b[1;32m--> 518\u001b[0m _recursive_extract(data, record_path, {}, level\u001b[39m=\u001b[39;49m\u001b[39m0\u001b[39;49m)\n\u001b[0;32m    520\u001b[0m result \u001b[39m=\u001b[39m DataFrame(records)\n\u001b[0;32m    522\u001b[0m \u001b[39mif\u001b[39;00m record_prefix \u001b[39mis\u001b[39;00m \u001b[39mnot\u001b[39;00m \u001b[39mNone\u001b[39;00m:\n",
      "File \u001b[1;32mc:\\Users\\carlo\\miniconda3\\lib\\site-packages\\pandas\\io\\json\\_normalize.py:500\u001b[0m, in \u001b[0;36m_json_normalize.<locals>._recursive_extract\u001b[1;34m(data, path, seen_meta, level)\u001b[0m\n\u001b[0;32m    498\u001b[0m \u001b[39melse\u001b[39;00m:\n\u001b[0;32m    499\u001b[0m     \u001b[39mfor\u001b[39;00m obj \u001b[39min\u001b[39;00m data:\n\u001b[1;32m--> 500\u001b[0m         recs \u001b[39m=\u001b[39m _pull_records(obj, path[\u001b[39m0\u001b[39;49m])\n\u001b[0;32m    501\u001b[0m         recs \u001b[39m=\u001b[39m [\n\u001b[0;32m    502\u001b[0m             nested_to_record(r, sep\u001b[39m=\u001b[39msep, max_level\u001b[39m=\u001b[39mmax_level)\n\u001b[0;32m    503\u001b[0m             \u001b[39mif\u001b[39;00m \u001b[39misinstance\u001b[39m(r, \u001b[39mdict\u001b[39m)\n\u001b[0;32m    504\u001b[0m             \u001b[39melse\u001b[39;00m r\n\u001b[0;32m    505\u001b[0m             \u001b[39mfor\u001b[39;00m r \u001b[39min\u001b[39;00m recs\n\u001b[0;32m    506\u001b[0m         ]\n\u001b[0;32m    508\u001b[0m         \u001b[39m# For repeating the metadata later\u001b[39;00m\n",
      "File \u001b[1;32mc:\\Users\\carlo\\miniconda3\\lib\\site-packages\\pandas\\io\\json\\_normalize.py:422\u001b[0m, in \u001b[0;36m_json_normalize.<locals>._pull_records\u001b[1;34m(js, spec)\u001b[0m\n\u001b[0;32m    416\u001b[0m \u001b[39mdef\u001b[39;00m \u001b[39m_pull_records\u001b[39m(js: \u001b[39mdict\u001b[39m[\u001b[39mstr\u001b[39m, Any], spec: \u001b[39mlist\u001b[39m \u001b[39m|\u001b[39m \u001b[39mstr\u001b[39m) \u001b[39m-\u001b[39m\u001b[39m>\u001b[39m \u001b[39mlist\u001b[39m:\n\u001b[0;32m    417\u001b[0m     \u001b[39m\"\"\"\u001b[39;00m\n\u001b[0;32m    418\u001b[0m \u001b[39m    Internal function to pull field for records, and similar to\u001b[39;00m\n\u001b[0;32m    419\u001b[0m \u001b[39m    _pull_field, but require to return list. And will raise error\u001b[39;00m\n\u001b[0;32m    420\u001b[0m \u001b[39m    if has non iterable value.\u001b[39;00m\n\u001b[0;32m    421\u001b[0m \u001b[39m    \"\"\"\u001b[39;00m\n\u001b[1;32m--> 422\u001b[0m     result \u001b[39m=\u001b[39m _pull_field(js, spec, extract_record\u001b[39m=\u001b[39;49m\u001b[39mTrue\u001b[39;49;00m)\n\u001b[0;32m    424\u001b[0m     \u001b[39m# GH 31507 GH 30145, GH 26284 if result is not list, raise TypeError if not\u001b[39;00m\n\u001b[0;32m    425\u001b[0m     \u001b[39m# null, otherwise return an empty list\u001b[39;00m\n\u001b[0;32m    426\u001b[0m     \u001b[39mif\u001b[39;00m \u001b[39mnot\u001b[39;00m \u001b[39misinstance\u001b[39m(result, \u001b[39mlist\u001b[39m):\n",
      "File \u001b[1;32mc:\\Users\\carlo\\miniconda3\\lib\\site-packages\\pandas\\io\\json\\_normalize.py:402\u001b[0m, in \u001b[0;36m_json_normalize.<locals>._pull_field\u001b[1;34m(js, spec, extract_record)\u001b[0m\n\u001b[0;32m    400\u001b[0m \u001b[39mexcept\u001b[39;00m \u001b[39mKeyError\u001b[39;00m \u001b[39mas\u001b[39;00m e:\n\u001b[0;32m    401\u001b[0m     \u001b[39mif\u001b[39;00m extract_record:\n\u001b[1;32m--> 402\u001b[0m         \u001b[39mraise\u001b[39;00m \u001b[39mKeyError\u001b[39;00m(\n\u001b[0;32m    403\u001b[0m             \u001b[39mf\u001b[39m\u001b[39m\"\u001b[39m\u001b[39mKey \u001b[39m\u001b[39m{\u001b[39;00me\u001b[39m}\u001b[39;00m\u001b[39m not found. If specifying a record_path, all elements of \u001b[39m\u001b[39m\"\u001b[39m\n\u001b[0;32m    404\u001b[0m             \u001b[39mf\u001b[39m\u001b[39m\"\u001b[39m\u001b[39mdata should have the path.\u001b[39m\u001b[39m\"\u001b[39m\n\u001b[0;32m    405\u001b[0m         ) \u001b[39mfrom\u001b[39;00m \u001b[39me\u001b[39;00m\n\u001b[0;32m    406\u001b[0m     \u001b[39melif\u001b[39;00m errors \u001b[39m==\u001b[39m \u001b[39m\"\u001b[39m\u001b[39mignore\u001b[39m\u001b[39m\"\u001b[39m:\n\u001b[0;32m    407\u001b[0m         \u001b[39mreturn\u001b[39;00m np\u001b[39m.\u001b[39mnan\n",
      "\u001b[1;31mKeyError\u001b[0m: \"Key 'feed' not found. If specifying a record_path, all elements of data should have the path.\""
     ]
    }
   ],
   "source": [
    "advantage_endpoint.market_news_sentiment_download('IBM', sort='Latest', limit=50)[0]"
   ]
  },
  {
   "cell_type": "code",
   "execution_count": null,
   "metadata": {},
   "outputs": [],
   "source": [
    "advantage_endpoint.market_news_sentiment_download('IBM', sort='relevance', limit=50)[1]"
   ]
  },
  {
   "cell_type": "code",
   "execution_count": null,
   "metadata": {},
   "outputs": [],
   "source": [
    "# import sqlite3\n",
    "\n",
    "\n",
    "# fp = r'~/newsqlitefile.sqlite'\n",
    "\n",
    "# import pandas as pd\n",
    "\n",
    "# a = pd.DataFrame({\"a\": range(10), \"v\": range(1, 11)})\n",
    "\n",
    "# newconn, _ = sqlite3.connect(fp)\n",
    "# a.to_sql(\"a\", newconn)\n",
    "\n",
    "# newconn.close()"
   ]
  }
 ],
 "metadata": {
  "kernelspec": {
   "display_name": "base",
   "language": "python",
   "name": "python3"
  },
  "language_info": {
   "codemirror_mode": {
    "name": "ipython",
    "version": 3
   },
   "file_extension": ".py",
   "mimetype": "text/x-python",
   "name": "python",
   "nbconvert_exporter": "python",
   "pygments_lexer": "ipython3",
   "version": "3.10.8"
  },
  "orig_nbformat": 4,
  "vscode": {
   "interpreter": {
    "hash": "3067ead486e059ec00ffe7555bdb889e6e264a24dc711bf108106cc7baee8d5d"
   }
  }
 },
 "nbformat": 4,
 "nbformat_minor": 2
}
