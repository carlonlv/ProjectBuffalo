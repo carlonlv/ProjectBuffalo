{
 "cells": [
  {
   "cell_type": "code",
   "execution_count": 1,
   "metadata": {},
   "outputs": [],
   "source": [
    "import os\n",
    "\n",
    "os.chdir(r'/Users/jialunlyu/Documents/GitHub/ProjectBuffalo')"
   ]
  },
  {
   "cell_type": "code",
   "execution_count": 2,
   "metadata": {},
   "outputs": [],
   "source": [
    "import pandas as pd"
   ]
  },
  {
   "cell_type": "code",
   "execution_count": 3,
   "metadata": {},
   "outputs": [],
   "source": [
    "import buffalo.ingestion as ingestion"
   ]
  },
  {
   "cell_type": "code",
   "execution_count": 4,
   "metadata": {},
   "outputs": [
    {
     "name": "stdout",
     "output_type": "stream",
     "text": [
      "{'storage_folder': '../__cached_data', 'api_keys': {<API.ADVANTAGE: 1>: '2rrNROO0beX90lPH7ixQOp0mT_9SwF0d'}, 'watched_tickers': ['IBM', 'MSFT']}\n"
     ]
    }
   ],
   "source": [
    "ingestion.configuration.Configuration.print()"
   ]
  },
  {
   "cell_type": "code",
   "execution_count": 5,
   "metadata": {},
   "outputs": [],
   "source": [
    "ingestor = ingestion.DataIngestion(ingestion.enum.API.ADVANTAGE)"
   ]
  },
  {
   "cell_type": "code",
   "execution_count": 6,
   "metadata": {},
   "outputs": [],
   "source": [
    "tickers = ['AAPL', 'MSFT', 'IBM', 'META', 'JNJ', 'PFE', 'UNH', 'MARK', 'XLV', 'JPM', 'BAC', 'GS', 'MS', 'XLF', 'PG', 'KO', 'PEP', 'NKE', 'XLP', 'GE', 'HON', 'UTX', 'MMM', 'XLI']"
   ]
  },
  {
   "attachments": {},
   "cell_type": "markdown",
   "metadata": {},
   "source": [
    "#### Adjusted Daily Stock Data"
   ]
  },
  {
   "cell_type": "code",
   "execution_count": 7,
   "metadata": {},
   "outputs": [],
   "source": [
    "daily_stocks_args = pd.DataFrame({\n",
    "    'symbol': tickers,\n",
    "    'interval': 'daily',\n",
    "    'adjusted': True,\n",
    "    'data_type': ingestion.enum.DataType.STOCK,\n",
    "    'ingestion_type': ingestion.enum.IngestionType.REST,\n",
    "    'data_name': 'ADJUSTED_DAILY_STOCK'\n",
    "})"
   ]
  },
  {
   "cell_type": "code",
   "execution_count": 8,
   "metadata": {},
   "outputs": [
    {
     "name": "stderr",
     "output_type": "stream",
     "text": [
      " 46%|████▌     | 11/24 [01:04<00:46,  3.55s/it]"
     ]
    }
   ],
   "source": [
    "ingestor.ingestion_from_web(daily_stocks_args)"
   ]
  },
  {
   "cell_type": "code",
   "execution_count": null,
   "metadata": {},
   "outputs": [],
   "source": [
    "ingestor.store_data(r'cached_data/ingestion.sqlite', data_names=None)"
   ]
  },
  {
   "attachments": {},
   "cell_type": "markdown",
   "metadata": {},
   "source": [
    "#### Company Info"
   ]
  },
  {
   "cell_type": "code",
   "execution_count": null,
   "metadata": {},
   "outputs": [],
   "source": [
    "company_info = pd.DataFrame({\n",
    "    'symbol': tickers,\n",
    "    'data_type': ingestion.enum.DataType.COMPANY,\n",
    "    'ingestion_type': ingestion.enum.IngestionType.REST\n",
    "})"
   ]
  },
  {
   "cell_type": "code",
   "execution_count": null,
   "metadata": {},
   "outputs": [],
   "source": [
    "company_info = company_info.merge(pd.DataFrame({\n",
    "    'function': ['OVERVIEW', 'INCOME_STATEMENT', 'BALANCE_SHEET', 'CASH_FLOW', 'EARNINGS', 'EARNINGS_CALENDAR'],\n",
    "    'data_name': ['COMPANY_OVERVIEW', 'COMPANY_INCOME_STATEMENT', 'COMPANY_BALANCE_SHEET', 'COMPANY_CASH_FLOW', 'COMPANY_EARNINGS', 'COMPANY_EARNINGS_CALENDAR_3M']\n",
    "    }), how='cross')"
   ]
  },
  {
   "cell_type": "code",
   "execution_count": null,
   "metadata": {},
   "outputs": [],
   "source": [
    "ingestor.ingestion_from_web(company_info)"
   ]
  },
  {
   "cell_type": "code",
   "execution_count": null,
   "metadata": {},
   "outputs": [],
   "source": []
  },
  {
   "attachments": {},
   "cell_type": "markdown",
   "metadata": {},
   "source": [
    "#### Listing Info"
   ]
  },
  {
   "cell_type": "code",
   "execution_count": null,
   "metadata": {},
   "outputs": [],
   "source": [
    "listing_info = pd.DataFrame({\n",
    "    'date': ['2022-01-01'],\n",
    "    'data_type': ingestion.enum.DataType.STOCK_LISTING,\n",
    "    'ingestion_type': ingestion.enum.IngestionType.REST,\n",
    "    'data_name': 'LISTING_INFO'\n",
    "})"
   ]
  },
  {
   "cell_type": "code",
   "execution_count": null,
   "metadata": {},
   "outputs": [],
   "source": [
    "ingestor.ingestion_from_web(listing_info)"
   ]
  },
  {
   "cell_type": "code",
   "execution_count": null,
   "metadata": {},
   "outputs": [],
   "source": []
  },
  {
   "attachments": {},
   "cell_type": "markdown",
   "metadata": {},
   "source": [
    "#### Economic Indicators"
   ]
  },
  {
   "cell_type": "code",
   "execution_count": null,
   "metadata": {},
   "outputs": [],
   "source": [
    "economy = pd.DataFrame({\n",
    "    'function': ['FEDERAL_FUNDS_RATE', 'TREASURY_YIELD', 'NONFARM_PAYROLL', 'CPI', 'UNEMPLOYMENT'],\n",
    "    'interval': ['daily', 'daily', 'monthly', 'monthly', 'monthly'],\n",
    "    'maturity': '3month',\n",
    "    'data_type': ingestion.enum.DataType.ECON,\n",
    "    'ingestion_type': ingestion.enum.IngestionType.REST,\n",
    "    'data_name': 'ECONOMY'\n",
    "})"
   ]
  },
  {
   "cell_type": "code",
   "execution_count": null,
   "metadata": {},
   "outputs": [],
   "source": [
    "ingestor.ingestion_from_web(economy)"
   ]
  },
  {
   "cell_type": "code",
   "execution_count": null,
   "metadata": {},
   "outputs": [],
   "source": []
  },
  {
   "attachments": {},
   "cell_type": "markdown",
   "metadata": {},
   "source": [
    "#### SMA Trend Indicator"
   ]
  },
  {
   "cell_type": "code",
   "execution_count": null,
   "metadata": {},
   "outputs": [],
   "source": [
    "sma_trend = pd.DataFrame({\n",
    "    'symbol': tickers,\n",
    "    'function': 'SMA',\n",
    "    'interval': 'daily',\n",
    "    'data_type': ingestion.enum.DataType.TREND_INDICATOR,\n",
    "    'ingestion_type': ingestion.enum.IngestionType.REST,\n",
    "    'data_name': 'SMA'\n",
    "})"
   ]
  },
  {
   "cell_type": "code",
   "execution_count": null,
   "metadata": {},
   "outputs": [],
   "source": [
    "sma_trend = sma_trend.merge(pd.DataFrame({\n",
    "    'time_period': [10, 50, 200]\n",
    "}), how='cross').merge(pd.DataFrame({\n",
    "    'series_type': ['open', 'close', 'high', 'low']\n",
    "}), how='cross')"
   ]
  },
  {
   "cell_type": "code",
   "execution_count": null,
   "metadata": {},
   "outputs": [],
   "source": [
    "ingestor.ingestion_from_web(sma_trend)"
   ]
  },
  {
   "cell_type": "code",
   "execution_count": null,
   "metadata": {},
   "outputs": [],
   "source": []
  },
  {
   "attachments": {},
   "cell_type": "markdown",
   "metadata": {},
   "source": [
    "#### Cyclic Indicators"
   ]
  },
  {
   "cell_type": "code",
   "execution_count": null,
   "metadata": {},
   "outputs": [],
   "source": [
    "ht_sine_cycle = pd.DataFrame({\n",
    "    'symbol': tickers,\n",
    "    'function': 'HT_SINE',\n",
    "    'interval': 'daily',\n",
    "    'data_type': ingestion.enum.DataType.CYCLE_INDICATOR,\n",
    "    'ingestion_type': ingestion.enum.IngestionType.REST,\n",
    "    'data_name': 'HT_SINE'\n",
    "})"
   ]
  },
  {
   "cell_type": "code",
   "execution_count": null,
   "metadata": {},
   "outputs": [],
   "source": [
    "ingestor.ingestion_from_web(ht_sine_cycle)"
   ]
  },
  {
   "cell_type": "code",
   "execution_count": null,
   "metadata": {},
   "outputs": [],
   "source": []
  },
  {
   "attachments": {},
   "cell_type": "markdown",
   "metadata": {},
   "source": [
    "#### Momentum Indicator"
   ]
  },
  {
   "attachments": {},
   "cell_type": "markdown",
   "metadata": {},
   "source": []
  },
  {
   "cell_type": "code",
   "execution_count": null,
   "metadata": {},
   "outputs": [],
   "source": []
  },
  {
   "cell_type": "code",
   "execution_count": null,
   "metadata": {},
   "outputs": [],
   "source": []
  },
  {
   "cell_type": "code",
   "execution_count": null,
   "metadata": {},
   "outputs": [],
   "source": []
  },
  {
   "attachments": {},
   "cell_type": "markdown",
   "metadata": {},
   "source": [
    "#### Market News"
   ]
  },
  {
   "cell_type": "code",
   "execution_count": null,
   "metadata": {},
   "outputs": [],
   "source": [
    "news = pd.DataFrame({\n",
    "    'symbol': tickers,\n",
    "    'sort': 'Latest',\n",
    "    'limit': 50,\n",
    "    'data_type': ingestion.enum.DataType.MARKET_NEWS,\n",
    "    'ingestion_type': ingestion.enum.IngestionType.REST,\n",
    "    'data_name': 'MARKET_NEWS'\n",
    "})"
   ]
  },
  {
   "cell_type": "code",
   "execution_count": null,
   "metadata": {},
   "outputs": [],
   "source": [
    "ingestor.ingestion_from_web(news)"
   ]
  },
  {
   "attachments": {},
   "cell_type": "markdown",
   "metadata": {},
   "source": [
    "#### Storing All the Data to File"
   ]
  },
  {
   "cell_type": "code",
   "execution_count": null,
   "metadata": {},
   "outputs": [],
   "source": [
    "ingestor.store_data(r'cached_data/ingestion.sqlite', data_names=None)"
   ]
  }
 ],
 "metadata": {
  "kernelspec": {
   "display_name": "base",
   "language": "python",
   "name": "python3"
  },
  "language_info": {
   "codemirror_mode": {
    "name": "ipython",
    "version": 3
   },
   "file_extension": ".py",
   "mimetype": "text/x-python",
   "name": "python",
   "nbconvert_exporter": "python",
   "pygments_lexer": "ipython3",
   "version": "3.9.13"
  },
  "orig_nbformat": 4,
  "vscode": {
   "interpreter": {
    "hash": "3067ead486e059ec00ffe7555bdb889e6e264a24dc711bf108106cc7baee8d5d"
   }
  }
 },
 "nbformat": 4,
 "nbformat_minor": 2
}
