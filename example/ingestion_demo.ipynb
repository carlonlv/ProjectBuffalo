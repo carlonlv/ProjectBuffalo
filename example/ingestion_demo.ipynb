{
 "cells": [
  {
   "cell_type": "code",
   "execution_count": 1,
   "metadata": {},
   "outputs": [],
   "source": [
    "import os\n",
    "\n",
    "os.chdir(r'/Users/jialunlyu/Documents/GitHub/ProjectBuffalo/')"
   ]
  },
  {
   "cell_type": "code",
   "execution_count": 2,
   "metadata": {},
   "outputs": [],
   "source": [
    "import pandas as pd"
   ]
  },
  {
   "cell_type": "code",
   "execution_count": 3,
   "metadata": {},
   "outputs": [],
   "source": [
    "import buffalo.ingestion as ingestion"
   ]
  },
  {
   "cell_type": "code",
   "execution_count": 4,
   "metadata": {},
   "outputs": [
    {
     "name": "stdout",
     "output_type": "stream",
     "text": [
      "{'api_keys': {<API.ADVANTAGE: 1>: '2rrNROO0beX90lPH7ixQOp0mT_9SwF0d'}}\n"
     ]
    }
   ],
   "source": [
    "ingestion.configuration.Configuration.print()"
   ]
  },
  {
   "cell_type": "code",
   "execution_count": 5,
   "metadata": {},
   "outputs": [],
   "source": [
    "ingestor = ingestion.DataIngestion(ingestion.enum.API.ADVANTAGE)"
   ]
  },
  {
   "cell_type": "code",
   "execution_count": 6,
   "metadata": {},
   "outputs": [],
   "source": [
    "tickers = ['AAPL', 'MSFT', 'IBM', 'META', 'JNJ', 'PFE', 'UNH', 'MARK', 'XLV', 'JPM', 'BAC', 'GS', 'MS', 'XLF', 'PG', 'KO', 'PEP', 'NKE', 'XLP', 'GE', 'HON', 'UTX', 'MMM', 'XLI']"
   ]
  },
  {
   "attachments": {},
   "cell_type": "markdown",
   "metadata": {},
   "source": [
    "#### Adjusted Daily Stock Data"
   ]
  },
  {
   "cell_type": "code",
   "execution_count": 7,
   "metadata": {},
   "outputs": [],
   "source": [
    "daily_stocks_args = pd.DataFrame({\n",
    "    'symbol': tickers,\n",
    "    'interval': 'daily',\n",
    "    'adjusted': True,\n",
    "    'data_type': ingestion.enum.DataType.STOCK,\n",
    "    'ingestion_type': ingestion.enum.IngestionType.REST,\n",
    "    'data_name': 'ADJUSTED_DAILY_STOCK'\n",
    "})"
   ]
  },
  {
   "cell_type": "code",
   "execution_count": null,
   "metadata": {},
   "outputs": [],
   "source": [
    "ingestor.ingestion_from_web(daily_stocks_args)"
   ]
  },
  {
   "cell_type": "code",
   "execution_count": null,
   "metadata": {},
   "outputs": [],
   "source": [
    "ingestor.store_data(r'cached_data/ingestion.sqlite', data_names='ADJUSTED_DAILY_STOCK')"
   ]
  },
  {
   "attachments": {},
   "cell_type": "markdown",
   "metadata": {},
   "source": [
    "#### Company Info"
   ]
  },
  {
   "cell_type": "code",
   "execution_count": null,
   "metadata": {},
   "outputs": [],
   "source": [
    "company_info = pd.DataFrame({\n",
    "    'symbol': tickers,\n",
    "    'data_type': ingestion.enum.DataType.COMPANY,\n",
    "    'ingestion_type': ingestion.enum.IngestionType.REST\n",
    "})"
   ]
  },
  {
   "cell_type": "code",
   "execution_count": null,
   "metadata": {},
   "outputs": [],
   "source": [
    "company_info = company_info.merge(pd.DataFrame({\n",
    "    'function': ['OVERVIEW', 'INCOME_STATEMENT', 'BALANCE_SHEET', 'CASH_FLOW', 'EARNINGS', 'EARNINGS_CALENDAR'],\n",
    "    'data_name': ['COMPANY_OVERVIEW', 'COMPANY_INCOME_STATEMENT', 'COMPANY_BALANCE_SHEET', 'COMPANY_CASH_FLOW', 'COMPANY_EARNINGS', 'COMPANY_EARNINGS_CALENDAR_3M']\n",
    "    }), how='cross')"
   ]
  },
  {
   "cell_type": "code",
   "execution_count": null,
   "metadata": {},
   "outputs": [],
   "source": [
    "ingestor.ingestion_from_web(company_info)"
   ]
  },
  {
   "cell_type": "code",
   "execution_count": null,
   "metadata": {},
   "outputs": [],
   "source": [
    "ingestor.store_data(r'cached_data/ingestion.sqlite', data_names=company_info['data_name'])"
   ]
  },
  {
   "attachments": {},
   "cell_type": "markdown",
   "metadata": {},
   "source": [
    "#### Listing Info"
   ]
  },
  {
   "cell_type": "code",
   "execution_count": null,
   "metadata": {},
   "outputs": [],
   "source": [
    "listing_info = pd.DataFrame({\n",
    "    'date': ['2022-01-01'],\n",
    "    'data_type': ingestion.enum.DataType.STOCK_LISTING,\n",
    "    'ingestion_type': ingestion.enum.IngestionType.REST,\n",
    "    'data_name': 'LISTING_INFO'\n",
    "})"
   ]
  },
  {
   "cell_type": "code",
   "execution_count": null,
   "metadata": {},
   "outputs": [],
   "source": [
    "ingestor.ingestion_from_web(listing_info)"
   ]
  },
  {
   "cell_type": "code",
   "execution_count": null,
   "metadata": {},
   "outputs": [],
   "source": [
    "ingestor.store_data(r'cached_data/ingestion.sqlite', data_names=listing_info['data_name'])"
   ]
  },
  {
   "attachments": {},
   "cell_type": "markdown",
   "metadata": {},
   "source": [
    "#### Economic Indicators"
   ]
  },
  {
   "cell_type": "code",
   "execution_count": null,
   "metadata": {},
   "outputs": [],
   "source": [
    "economy = pd.DataFrame({\n",
    "    'function': ['FEDERAL_FUNDS_RATE', 'NONFARM_PAYROLL', 'CPI', 'UNEMPLOYMENT', 'REAL_GDP', 'REAL_GDP_PER_CAPITA'],\n",
    "    'interval': ['daily', None, 'monthly', None, 'quarterly', 'quarterly'],\n",
    "    'data_type': ingestion.enum.DataType.ECON,\n",
    "    'ingestion_type': ingestion.enum.IngestionType.REST,\n",
    "})\n",
    "economy['data_name'] = economy['function']"
   ]
  },
  {
   "cell_type": "code",
   "execution_count": null,
   "metadata": {},
   "outputs": [],
   "source": [
    "economy = pd.concat([economy, pd.DataFrame({\n",
    "    'function': 'TREASURY_YIELD',\n",
    "    'maturity': ['3month', '2year', '5year', '7year', '10year', '30year'],\n",
    "    'interval': 'daily',\n",
    "    'data_type': ingestion.enum.DataType.ECON,\n",
    "    'ingestion_type': ingestion.enum.IngestionType.REST,\n",
    "    'data_name': 'TREASURY_YIELD'\n",
    "})], ignore_index=True)"
   ]
  },
  {
   "cell_type": "code",
   "execution_count": null,
   "metadata": {},
   "outputs": [],
   "source": [
    "ingestor.ingestion_from_web(economy)"
   ]
  },
  {
   "cell_type": "code",
   "execution_count": null,
   "metadata": {},
   "outputs": [],
   "source": [
    "ingestor.store_data(r'cached_data/ingestion.sqlite', data_names=economy['data_name'])"
   ]
  },
  {
   "attachments": {},
   "cell_type": "markdown",
   "metadata": {},
   "source": [
    "#### SMA Trend Indicator"
   ]
  },
  {
   "cell_type": "code",
   "execution_count": null,
   "metadata": {},
   "outputs": [],
   "source": [
    "sma_trend = pd.DataFrame({\n",
    "    'symbol': tickers,\n",
    "    'function': 'SMA',\n",
    "    'interval': 'daily',\n",
    "    'data_type': ingestion.enum.DataType.TREND_INDICATOR,\n",
    "    'ingestion_type': ingestion.enum.IngestionType.REST,\n",
    "    'data_name': 'SMA'\n",
    "})"
   ]
  },
  {
   "cell_type": "code",
   "execution_count": null,
   "metadata": {},
   "outputs": [],
   "source": [
    "sma_trend = sma_trend.merge(pd.DataFrame({\n",
    "    'time_period': [10, 50, 200]\n",
    "}), how='cross').merge(pd.DataFrame({\n",
    "    'series_type': ['open', 'close', 'high', 'low']\n",
    "}), how='cross')"
   ]
  },
  {
   "cell_type": "code",
   "execution_count": null,
   "metadata": {},
   "outputs": [],
   "source": [
    "ingestor.ingestion_from_web(sma_trend)"
   ]
  },
  {
   "cell_type": "code",
   "execution_count": null,
   "metadata": {},
   "outputs": [],
   "source": [
    "ingestor.store_data(r'cached_data/ingestion.sqlite', data_names=sma_trend['data_name'])"
   ]
  },
  {
   "attachments": {},
   "cell_type": "markdown",
   "metadata": {},
   "source": [
    "#### Cyclic Indicators"
   ]
  },
  {
   "cell_type": "code",
   "execution_count": null,
   "metadata": {},
   "outputs": [],
   "source": [
    "ht_sine_cycle = pd.DataFrame({\n",
    "    'symbol': tickers,\n",
    "    'function': 'HT_SINE',\n",
    "    'interval': 'daily',\n",
    "    'data_type': ingestion.enum.DataType.CYCLE_INDICATOR,\n",
    "    'ingestion_type': ingestion.enum.IngestionType.REST,\n",
    "    'data_name': 'HT_SINE'\n",
    "})"
   ]
  },
  {
   "cell_type": "code",
   "execution_count": null,
   "metadata": {},
   "outputs": [],
   "source": [
    "ht_sine_cycle = ht_sine_cycle.merge(pd.DataFrame({'time_period': [10, 50, 200]}), how='cross').merge(pd.DataFrame({'series_type': ['open', 'high', 'low', 'close']}), how='cross')"
   ]
  },
  {
   "cell_type": "code",
   "execution_count": null,
   "metadata": {},
   "outputs": [],
   "source": [
    "ingestor.ingestion_from_web(ht_sine_cycle)"
   ]
  },
  {
   "cell_type": "code",
   "execution_count": null,
   "metadata": {},
   "outputs": [],
   "source": [
    "ingestor.store_data(r'cached_data/ingestion.sqlite', data_names=ht_sine_cycle['data_name'])"
   ]
  },
  {
   "attachments": {},
   "cell_type": "markdown",
   "metadata": {},
   "source": [
    "#### Momentum Indicator"
   ]
  },
  {
   "cell_type": "code",
   "execution_count": null,
   "metadata": {},
   "outputs": [],
   "source": [
    "momentum_cycle = pd.DataFrame({\n",
    "    'symbol': tickers,\n",
    "    'interval': 'daily',\n",
    "    'data_type': ingestion.enum.DataType.CYCLE_INDICATOR,\n",
    "    'ingestion_type': ingestion.enum.IngestionType.REST\n",
    "})"
   ]
  },
  {
   "cell_type": "code",
   "execution_count": null,
   "metadata": {},
   "outputs": [],
   "source": [
    "momentum_cycle = momentum_cycle.merge(pd.DataFrame({'function': ['MOM', 'ROC'], 'data_name': ['MOM', 'ROC']}), how='cross').merge(pd.DataFrame({'time_period': [10, 50, 200]}), how='cross').merge(pd.DataFrame({'series_type': ['open', 'high', 'low', 'close']}), how='cross')"
   ]
  },
  {
   "cell_type": "code",
   "execution_count": null,
   "metadata": {},
   "outputs": [],
   "source": [
    "ingestor.ingestion_from_web(momentum_cycle)"
   ]
  },
  {
   "cell_type": "code",
   "execution_count": null,
   "metadata": {},
   "outputs": [],
   "source": [
    "ingestor.store_data(r'cached_data/ingestion.sqlite', data_names=momentum_cycle['data_name'])"
   ]
  },
  {
   "attachments": {},
   "cell_type": "markdown",
   "metadata": {},
   "source": [
    "#### Market News"
   ]
  },
  {
   "cell_type": "code",
   "execution_count": null,
   "metadata": {},
   "outputs": [],
   "source": [
    "news = pd.DataFrame({\n",
    "    'symbol': tickers,\n",
    "    'sort': 'Latest',\n",
    "    'limit': 50,\n",
    "    'data_type': ingestion.enum.DataType.MARKET_NEWS,\n",
    "    'ingestion_type': ingestion.enum.IngestionType.REST,\n",
    "    'data_name': 'MARKET_NEWS'\n",
    "})"
   ]
  },
  {
   "cell_type": "code",
   "execution_count": null,
   "metadata": {},
   "outputs": [],
   "source": [
    "ingestor.ingestion_from_web(news)"
   ]
  },
  {
   "cell_type": "code",
   "execution_count": null,
   "metadata": {},
   "outputs": [],
   "source": [
    "ingestor.store_data(r'cached_data/ingestion.sqlite', data_names=news['data_name'])"
   ]
  }
 ],
 "metadata": {
  "kernelspec": {
   "display_name": "base",
   "language": "python",
   "name": "python3"
  },
  "language_info": {
   "codemirror_mode": {
    "name": "ipython",
    "version": 3
   },
   "file_extension": ".py",
   "mimetype": "text/x-python",
   "name": "python",
   "nbconvert_exporter": "python",
   "pygments_lexer": "ipython3",
   "version": "3.9.13"
  },
  "orig_nbformat": 4,
  "vscode": {
   "interpreter": {
    "hash": "3067ead486e059ec00ffe7555bdb889e6e264a24dc711bf108106cc7baee8d5d"
   }
  }
 },
 "nbformat": 4,
 "nbformat_minor": 2
}
