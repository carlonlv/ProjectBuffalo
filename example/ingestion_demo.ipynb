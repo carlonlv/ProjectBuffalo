{
 "cells": [
  {
   "cell_type": "code",
   "execution_count": 1,
   "metadata": {},
   "outputs": [],
   "source": [
    "import os\n",
    "\n",
    "os.chdir(r'C:\\Users\\carlo\\\\Documents\\ProjectBuffalo')"
   ]
  },
  {
   "cell_type": "code",
   "execution_count": 2,
   "metadata": {},
   "outputs": [],
   "source": [
    "import pandas as pd"
   ]
  },
  {
   "cell_type": "code",
   "execution_count": 3,
   "metadata": {},
   "outputs": [],
   "source": [
    "import buffalo.ingestion as ingestion"
   ]
  },
  {
   "cell_type": "code",
   "execution_count": 4,
   "metadata": {},
   "outputs": [
    {
     "name": "stdout",
     "output_type": "stream",
     "text": [
      "{'api_keys': {<API.ADVANTAGE: 1>: '2rrNROO0beX90lPH7ixQOp0mT_9SwF0d'}}\n"
     ]
    }
   ],
   "source": [
    "ingestion.configuration.Configuration.print()"
   ]
  },
  {
   "cell_type": "code",
   "execution_count": 5,
   "metadata": {},
   "outputs": [],
   "source": [
    "ingestor = ingestion.DataIngestion(ingestion.enum.API.ADVANTAGE)"
   ]
  },
  {
   "cell_type": "code",
   "execution_count": 6,
   "metadata": {},
   "outputs": [],
   "source": [
    "tickers = ['AAPL', 'MSFT', 'IBM', 'META', 'JNJ', 'PFE', 'UNH', 'MARK', 'XLV', 'JPM', 'BAC', 'GS', 'MS', 'XLF', 'PG', 'KO', 'PEP', 'NKE', 'XLP', 'GE', 'HON', 'UTX', 'MMM', 'XLI']"
   ]
  },
  {
   "attachments": {},
   "cell_type": "markdown",
   "metadata": {},
   "source": [
    "#### Adjusted Daily Stock Data"
   ]
  },
  {
   "cell_type": "code",
   "execution_count": null,
   "metadata": {},
   "outputs": [],
   "source": [
    "daily_stocks_args = pd.DataFrame({\n",
    "    'symbol': tickers,\n",
    "    'interval': 'daily',\n",
    "    'adjusted': True,\n",
    "    'data_type': ingestion.enum.DataType.STOCK,\n",
    "    'ingestion_type': ingestion.enum.IngestionType.REST,\n",
    "    'data_name': 'ADJUSTED_DAILY_STOCK'\n",
    "})"
   ]
  },
  {
   "cell_type": "code",
   "execution_count": null,
   "metadata": {},
   "outputs": [],
   "source": [
    "ingestor.ingestion_from_web(daily_stocks_args)"
   ]
  },
  {
   "cell_type": "code",
   "execution_count": null,
   "metadata": {},
   "outputs": [],
   "source": [
    "ingestor.store_data(r'cached_data/ingestion.sqlite', data_names='ADJUSTED_DAILY_STOCK')"
   ]
  },
  {
   "attachments": {},
   "cell_type": "markdown",
   "metadata": {},
   "source": [
    "#### Adjusted 1Min Stock Data"
   ]
  },
  {
   "cell_type": "code",
   "execution_count": 7,
   "metadata": {},
   "outputs": [],
   "source": [
    "onemin_stocks_args = pd.DataFrame({\n",
    "    'symbol': tickers,\n",
    "    'interval': '1min',\n",
    "    'adjusted': True,\n",
    "    'data_type': ingestion.enum.DataType.STOCK,\n",
    "    'ingestion_type': ingestion.enum.IngestionType.REST,\n",
    "    'data_name': 'ADJUSTED_1M_STOCK'\n",
    "})"
   ]
  },
  {
   "cell_type": "code",
   "execution_count": 8,
   "metadata": {},
   "outputs": [],
   "source": [
    "onemin_stocks_args = onemin_stocks_args.merge(pd.DataFrame({\n",
    "    'year_slice': ['year{}month{}'.format(year, month) for year in range(1, 3) for month in range(1, 13)]\n",
    "    }), how='cross')"
   ]
  },
  {
   "cell_type": "code",
   "execution_count": 9,
   "metadata": {},
   "outputs": [
    {
     "name": "stderr",
     "output_type": "stream",
     "text": [
      " 14%|█▍        | 83/576 [16:14<54:08,  6.59s/it]  C:\\Users\\carlo\\Documents\\ProjectBuffalo\\buffalo\\ingestion\\advantage.py:115: UserWarning: Ingestion results from https://www.alphavantage.co/query?function=TIME_SERIES_INTRADAY_EXTENDED&symbol=META&interval=1min&slice=year1month12&outputsize=full&datatype=csv&apikey=2rrNROO0beX90lPH7ixQOp0mT_9SwF0d in 0 rows.\n",
      "  warnings.warn(f'Ingestion results from {url} in 0 rows.')\n",
      " 15%|█▍        | 84/576 [17:15<3:06:31, 22.75s/it]C:\\Users\\carlo\\Documents\\ProjectBuffalo\\buffalo\\ingestion\\advantage.py:115: UserWarning: Ingestion results from https://www.alphavantage.co/query?function=TIME_SERIES_INTRADAY_EXTENDED&symbol=META&interval=1min&slice=year2month1&outputsize=full&datatype=csv&apikey=2rrNROO0beX90lPH7ixQOp0mT_9SwF0d in 0 rows.\n",
      "  warnings.warn(f'Ingestion results from {url} in 0 rows.')\n",
      " 15%|█▍        | 85/576 [17:15<2:10:50, 15.99s/it]C:\\Users\\carlo\\Documents\\ProjectBuffalo\\buffalo\\ingestion\\advantage.py:115: UserWarning: Ingestion results from https://www.alphavantage.co/query?function=TIME_SERIES_INTRADAY_EXTENDED&symbol=META&interval=1min&slice=year2month2&outputsize=full&datatype=csv&apikey=2rrNROO0beX90lPH7ixQOp0mT_9SwF0d in 0 rows.\n",
      "  warnings.warn(f'Ingestion results from {url} in 0 rows.')\n",
      " 16%|█▋        | 95/576 [17:20<07:26,  1.08it/s]  C:\\Users\\carlo\\Documents\\ProjectBuffalo\\buffalo\\ingestion\\advantage.py:115: UserWarning: Ingestion results from https://www.alphavantage.co/query?function=TIME_SERIES_INTRADAY_EXTENDED&symbol=META&interval=1min&slice=year2month12&outputsize=full&datatype=csv&apikey=2rrNROO0beX90lPH7ixQOp0mT_9SwF0d in 0 rows.\n",
      "  warnings.warn(f'Ingestion results from {url} in 0 rows.')\n",
      " 62%|██████▏   | 359/576 [1:12:16<21:32,  5.96s/it]  C:\\Users\\carlo\\Documents\\ProjectBuffalo\\buffalo\\ingestion\\advantage.py:115: UserWarning: Ingestion results from https://www.alphavantage.co/query?function=TIME_SERIES_INTRADAY_EXTENDED&symbol=PG&interval=1min&slice=year2month12&outputsize=full&datatype=csv&apikey=2rrNROO0beX90lPH7ixQOp0mT_9SwF0d in 0 rows.\n",
      "  warnings.warn(f'Ingestion results from {url} in 0 rows.')\n",
      "C:\\Users\\carlo\\Documents\\ProjectBuffalo\\buffalo\\ingestion\\__init__.py:101: UserWarning: 'Ingestion is not a subset of expected schema from https://www.alphavantage.co/query?function=TIME_SERIES_INTRADAY_EXTENDED&symbol=PG&interval=1min&slice=year2month12&outputsize=full&datatype=csv&apikey=2rrNROO0beX90lPH7ixQOp0mT_9SwF0d. (Expected: time,open,high,low,close,volume Actual: {})'\n",
      "  warnings.warn(str(other_exception))\n",
      " 88%|████████▊ | 504/576 [1:40:43<19:09, 15.97s/it]  C:\\Users\\carlo\\Documents\\ProjectBuffalo\\buffalo\\ingestion\\advantage.py:115: UserWarning: Ingestion results from https://www.alphavantage.co/query?function=TIME_SERIES_INTRADAY_EXTENDED&symbol=UTX&interval=1min&slice=year1month1&outputsize=full&datatype=csv&apikey=2rrNROO0beX90lPH7ixQOp0mT_9SwF0d in 0 rows.\n",
      "  warnings.warn(f'Ingestion results from {url} in 0 rows.')\n",
      " 88%|████████▊ | 505/576 [1:40:43<13:20, 11.28s/it]C:\\Users\\carlo\\Documents\\ProjectBuffalo\\buffalo\\ingestion\\advantage.py:115: UserWarning: Ingestion results from https://www.alphavantage.co/query?function=TIME_SERIES_INTRADAY_EXTENDED&symbol=UTX&interval=1min&slice=year1month2&outputsize=full&datatype=csv&apikey=2rrNROO0beX90lPH7ixQOp0mT_9SwF0d in 0 rows.\n",
      "  warnings.warn(f'Ingestion results from {url} in 0 rows.')\n",
      " 88%|████████▊ | 506/576 [1:40:43<09:18,  7.98s/it]C:\\Users\\carlo\\Documents\\ProjectBuffalo\\buffalo\\ingestion\\advantage.py:115: UserWarning: Ingestion results from https://www.alphavantage.co/query?function=TIME_SERIES_INTRADAY_EXTENDED&symbol=UTX&interval=1min&slice=year1month3&outputsize=full&datatype=csv&apikey=2rrNROO0beX90lPH7ixQOp0mT_9SwF0d in 0 rows.\n",
      "  warnings.warn(f'Ingestion results from {url} in 0 rows.')\n",
      " 88%|████████▊ | 507/576 [1:40:44<06:32,  5.68s/it]C:\\Users\\carlo\\Documents\\ProjectBuffalo\\buffalo\\ingestion\\advantage.py:115: UserWarning: Ingestion results from https://www.alphavantage.co/query?function=TIME_SERIES_INTRADAY_EXTENDED&symbol=UTX&interval=1min&slice=year1month4&outputsize=full&datatype=csv&apikey=2rrNROO0beX90lPH7ixQOp0mT_9SwF0d in 0 rows.\n",
      "  warnings.warn(f'Ingestion results from {url} in 0 rows.')\n",
      " 88%|████████▊ | 508/576 [1:41:44<25:05, 22.14s/it]C:\\Users\\carlo\\Documents\\ProjectBuffalo\\buffalo\\ingestion\\advantage.py:115: UserWarning: Ingestion results from https://www.alphavantage.co/query?function=TIME_SERIES_INTRADAY_EXTENDED&symbol=UTX&interval=1min&slice=year1month5&outputsize=full&datatype=csv&apikey=2rrNROO0beX90lPH7ixQOp0mT_9SwF0d in 0 rows.\n",
      "  warnings.warn(f'Ingestion results from {url} in 0 rows.')\n",
      " 88%|████████▊ | 509/576 [1:41:45<17:24, 15.59s/it]C:\\Users\\carlo\\Documents\\ProjectBuffalo\\buffalo\\ingestion\\advantage.py:115: UserWarning: Ingestion results from https://www.alphavantage.co/query?function=TIME_SERIES_INTRADAY_EXTENDED&symbol=UTX&interval=1min&slice=year1month6&outputsize=full&datatype=csv&apikey=2rrNROO0beX90lPH7ixQOp0mT_9SwF0d in 0 rows.\n",
      "  warnings.warn(f'Ingestion results from {url} in 0 rows.')\n",
      " 89%|████████▊ | 510/576 [1:41:45<12:07, 11.02s/it]C:\\Users\\carlo\\Documents\\ProjectBuffalo\\buffalo\\ingestion\\advantage.py:115: UserWarning: Ingestion results from https://www.alphavantage.co/query?function=TIME_SERIES_INTRADAY_EXTENDED&symbol=UTX&interval=1min&slice=year1month7&outputsize=full&datatype=csv&apikey=2rrNROO0beX90lPH7ixQOp0mT_9SwF0d in 0 rows.\n",
      "  warnings.warn(f'Ingestion results from {url} in 0 rows.')\n",
      " 89%|████████▊ | 511/576 [1:41:45<08:27,  7.81s/it]C:\\Users\\carlo\\Documents\\ProjectBuffalo\\buffalo\\ingestion\\advantage.py:115: UserWarning: Ingestion results from https://www.alphavantage.co/query?function=TIME_SERIES_INTRADAY_EXTENDED&symbol=UTX&interval=1min&slice=year1month8&outputsize=full&datatype=csv&apikey=2rrNROO0beX90lPH7ixQOp0mT_9SwF0d in 0 rows.\n",
      "  warnings.warn(f'Ingestion results from {url} in 0 rows.')\n",
      " 89%|████████▉ | 512/576 [1:41:46<05:56,  5.56s/it]C:\\Users\\carlo\\Documents\\ProjectBuffalo\\buffalo\\ingestion\\advantage.py:115: UserWarning: Ingestion results from https://www.alphavantage.co/query?function=TIME_SERIES_INTRADAY_EXTENDED&symbol=UTX&interval=1min&slice=year1month9&outputsize=full&datatype=csv&apikey=2rrNROO0beX90lPH7ixQOp0mT_9SwF0d in 0 rows.\n",
      "  warnings.warn(f'Ingestion results from {url} in 0 rows.')\n",
      " 89%|████████▉ | 513/576 [1:42:46<23:08, 22.04s/it]C:\\Users\\carlo\\Documents\\ProjectBuffalo\\buffalo\\ingestion\\advantage.py:115: UserWarning: Ingestion results from https://www.alphavantage.co/query?function=TIME_SERIES_INTRADAY_EXTENDED&symbol=UTX&interval=1min&slice=year1month10&outputsize=full&datatype=csv&apikey=2rrNROO0beX90lPH7ixQOp0mT_9SwF0d in 0 rows.\n",
      "  warnings.warn(f'Ingestion results from {url} in 0 rows.')\n",
      " 89%|████████▉ | 514/576 [1:42:46<16:02, 15.53s/it]C:\\Users\\carlo\\Documents\\ProjectBuffalo\\buffalo\\ingestion\\advantage.py:115: UserWarning: Ingestion results from https://www.alphavantage.co/query?function=TIME_SERIES_INTRADAY_EXTENDED&symbol=UTX&interval=1min&slice=year1month11&outputsize=full&datatype=csv&apikey=2rrNROO0beX90lPH7ixQOp0mT_9SwF0d in 0 rows.\n",
      "  warnings.warn(f'Ingestion results from {url} in 0 rows.')\n",
      " 89%|████████▉ | 515/576 [1:42:47<11:11, 11.01s/it]C:\\Users\\carlo\\Documents\\ProjectBuffalo\\buffalo\\ingestion\\advantage.py:115: UserWarning: Ingestion results from https://www.alphavantage.co/query?function=TIME_SERIES_INTRADAY_EXTENDED&symbol=UTX&interval=1min&slice=year1month12&outputsize=full&datatype=csv&apikey=2rrNROO0beX90lPH7ixQOp0mT_9SwF0d in 0 rows.\n",
      "  warnings.warn(f'Ingestion results from {url} in 0 rows.')\n",
      " 90%|████████▉ | 516/576 [1:42:47<07:53,  7.88s/it]C:\\Users\\carlo\\Documents\\ProjectBuffalo\\buffalo\\ingestion\\advantage.py:115: UserWarning: Ingestion results from https://www.alphavantage.co/query?function=TIME_SERIES_INTRADAY_EXTENDED&symbol=UTX&interval=1min&slice=year2month1&outputsize=full&datatype=csv&apikey=2rrNROO0beX90lPH7ixQOp0mT_9SwF0d in 0 rows.\n",
      "  warnings.warn(f'Ingestion results from {url} in 0 rows.')\n",
      " 90%|████████▉ | 517/576 [1:42:48<05:32,  5.63s/it]C:\\Users\\carlo\\Documents\\ProjectBuffalo\\buffalo\\ingestion\\advantage.py:115: UserWarning: Ingestion results from https://www.alphavantage.co/query?function=TIME_SERIES_INTRADAY_EXTENDED&symbol=UTX&interval=1min&slice=year2month2&outputsize=full&datatype=csv&apikey=2rrNROO0beX90lPH7ixQOp0mT_9SwF0d in 0 rows.\n",
      "  warnings.warn(f'Ingestion results from {url} in 0 rows.')\n",
      " 90%|████████▉ | 518/576 [1:43:48<21:21, 22.09s/it]C:\\Users\\carlo\\Documents\\ProjectBuffalo\\buffalo\\ingestion\\advantage.py:115: UserWarning: Ingestion results from https://www.alphavantage.co/query?function=TIME_SERIES_INTRADAY_EXTENDED&symbol=UTX&interval=1min&slice=year2month3&outputsize=full&datatype=csv&apikey=2rrNROO0beX90lPH7ixQOp0mT_9SwF0d in 0 rows.\n",
      "  warnings.warn(f'Ingestion results from {url} in 0 rows.')\n",
      " 90%|█████████ | 519/576 [1:43:49<14:48, 15.59s/it]C:\\Users\\carlo\\Documents\\ProjectBuffalo\\buffalo\\ingestion\\advantage.py:115: UserWarning: Ingestion results from https://www.alphavantage.co/query?function=TIME_SERIES_INTRADAY_EXTENDED&symbol=UTX&interval=1min&slice=year2month4&outputsize=full&datatype=csv&apikey=2rrNROO0beX90lPH7ixQOp0mT_9SwF0d in 0 rows.\n",
      "  warnings.warn(f'Ingestion results from {url} in 0 rows.')\n",
      " 90%|█████████ | 520/576 [1:43:49<10:17, 11.03s/it]C:\\Users\\carlo\\Documents\\ProjectBuffalo\\buffalo\\ingestion\\advantage.py:115: UserWarning: Ingestion results from https://www.alphavantage.co/query?function=TIME_SERIES_INTRADAY_EXTENDED&symbol=UTX&interval=1min&slice=year2month5&outputsize=full&datatype=csv&apikey=2rrNROO0beX90lPH7ixQOp0mT_9SwF0d in 0 rows.\n",
      "  warnings.warn(f'Ingestion results from {url} in 0 rows.')\n",
      " 90%|█████████ | 521/576 [1:43:50<07:11,  7.84s/it]C:\\Users\\carlo\\Documents\\ProjectBuffalo\\buffalo\\ingestion\\advantage.py:115: UserWarning: Ingestion results from https://www.alphavantage.co/query?function=TIME_SERIES_INTRADAY_EXTENDED&symbol=UTX&interval=1min&slice=year2month6&outputsize=full&datatype=csv&apikey=2rrNROO0beX90lPH7ixQOp0mT_9SwF0d in 0 rows.\n",
      "  warnings.warn(f'Ingestion results from {url} in 0 rows.')\n",
      " 91%|█████████ | 522/576 [1:43:50<05:02,  5.60s/it]C:\\Users\\carlo\\Documents\\ProjectBuffalo\\buffalo\\ingestion\\advantage.py:115: UserWarning: Ingestion results from https://www.alphavantage.co/query?function=TIME_SERIES_INTRADAY_EXTENDED&symbol=UTX&interval=1min&slice=year2month7&outputsize=full&datatype=csv&apikey=2rrNROO0beX90lPH7ixQOp0mT_9SwF0d in 0 rows.\n",
      "  warnings.warn(f'Ingestion results from {url} in 0 rows.')\n",
      " 91%|█████████ | 523/576 [1:44:50<19:29, 22.06s/it]C:\\Users\\carlo\\Documents\\ProjectBuffalo\\buffalo\\ingestion\\advantage.py:115: UserWarning: Ingestion results from https://www.alphavantage.co/query?function=TIME_SERIES_INTRADAY_EXTENDED&symbol=UTX&interval=1min&slice=year2month8&outputsize=full&datatype=csv&apikey=2rrNROO0beX90lPH7ixQOp0mT_9SwF0d in 0 rows.\n",
      "  warnings.warn(f'Ingestion results from {url} in 0 rows.')\n",
      " 91%|█████████ | 524/576 [1:44:51<13:28, 15.54s/it]C:\\Users\\carlo\\Documents\\ProjectBuffalo\\buffalo\\ingestion\\advantage.py:115: UserWarning: Ingestion results from https://www.alphavantage.co/query?function=TIME_SERIES_INTRADAY_EXTENDED&symbol=UTX&interval=1min&slice=year2month9&outputsize=full&datatype=csv&apikey=2rrNROO0beX90lPH7ixQOp0mT_9SwF0d in 0 rows.\n",
      "  warnings.warn(f'Ingestion results from {url} in 0 rows.')\n",
      " 91%|█████████ | 525/576 [1:44:51<09:20, 10.98s/it]C:\\Users\\carlo\\Documents\\ProjectBuffalo\\buffalo\\ingestion\\advantage.py:115: UserWarning: Ingestion results from https://www.alphavantage.co/query?function=TIME_SERIES_INTRADAY_EXTENDED&symbol=UTX&interval=1min&slice=year2month10&outputsize=full&datatype=csv&apikey=2rrNROO0beX90lPH7ixQOp0mT_9SwF0d in 0 rows.\n",
      "  warnings.warn(f'Ingestion results from {url} in 0 rows.')\n",
      " 91%|█████████▏| 526/576 [1:44:51<06:29,  7.80s/it]C:\\Users\\carlo\\Documents\\ProjectBuffalo\\buffalo\\ingestion\\advantage.py:115: UserWarning: Ingestion results from https://www.alphavantage.co/query?function=TIME_SERIES_INTRADAY_EXTENDED&symbol=UTX&interval=1min&slice=year2month11&outputsize=full&datatype=csv&apikey=2rrNROO0beX90lPH7ixQOp0mT_9SwF0d in 0 rows.\n",
      "  warnings.warn(f'Ingestion results from {url} in 0 rows.')\n",
      " 91%|█████████▏| 527/576 [1:44:52<04:33,  5.57s/it]C:\\Users\\carlo\\Documents\\ProjectBuffalo\\buffalo\\ingestion\\advantage.py:115: UserWarning: Ingestion results from https://www.alphavantage.co/query?function=TIME_SERIES_INTRADAY_EXTENDED&symbol=UTX&interval=1min&slice=year2month12&outputsize=full&datatype=csv&apikey=2rrNROO0beX90lPH7ixQOp0mT_9SwF0d in 0 rows.\n",
      "  warnings.warn(f'Ingestion results from {url} in 0 rows.')\n",
      "100%|██████████| 576/576 [1:54:33<00:00, 11.93s/it]\n"
     ]
    }
   ],
   "source": [
    "ingestor.ingestion_from_web(onemin_stocks_args)"
   ]
  },
  {
   "cell_type": "code",
   "execution_count": 10,
   "metadata": {},
   "outputs": [
    {
     "data": {
      "text/plain": [
       "open          float32\n",
       "high          float32\n",
       "low           float32\n",
       "close         float32\n",
       "volume         object\n",
       "symbol         object\n",
       "interval       object\n",
       "adjusted         bool\n",
       "year_slice     object\n",
       "dtype: object"
      ]
     },
     "execution_count": 10,
     "metadata": {},
     "output_type": "execute_result"
    }
   ],
   "source": [
    "ingestor.data['ADJUSTED_1M_STOCK'].dtypes"
   ]
  },
  {
   "cell_type": "code",
   "execution_count": 11,
   "metadata": {},
   "outputs": [],
   "source": [
    "ingestor.store_data(r'cached_data/ingestion.sqlite', data_names='ADJUSTED_1M_STOCK')"
   ]
  },
  {
   "attachments": {},
   "cell_type": "markdown",
   "metadata": {},
   "source": [
    "#### Company Info"
   ]
  },
  {
   "cell_type": "code",
   "execution_count": 12,
   "metadata": {},
   "outputs": [],
   "source": [
    "company_info = pd.DataFrame({\n",
    "    'symbol': tickers,\n",
    "    'data_type': ingestion.enum.DataType.COMPANY,\n",
    "    'ingestion_type': ingestion.enum.IngestionType.REST\n",
    "})"
   ]
  },
  {
   "cell_type": "code",
   "execution_count": 13,
   "metadata": {},
   "outputs": [],
   "source": [
    "company_info = company_info.merge(pd.DataFrame({\n",
    "    'function': ['OVERVIEW', 'INCOME_STATEMENT', 'BALANCE_SHEET', 'CASH_FLOW', 'EARNINGS', 'EARNINGS_CALENDAR'],\n",
    "    'data_name': ['COMPANY_OVERVIEW', 'COMPANY_INCOME_STATEMENT', 'COMPANY_BALANCE_SHEET', 'COMPANY_CASH_FLOW', 'COMPANY_EARNINGS', 'COMPANY_EARNINGS_CALENDAR_3M']\n",
    "    }), how='cross')"
   ]
  },
  {
   "cell_type": "code",
   "execution_count": 14,
   "metadata": {},
   "outputs": [
    {
     "name": "stderr",
     "output_type": "stream",
     "text": [
      "  3%|▎         | 5/144 [00:04<02:52,  1.24s/it]C:\\Users\\carlo\\Documents\\ProjectBuffalo\\buffalo\\ingestion\\advantage.py:115: UserWarning: Ingestion results from https://www.alphavantage.co/query?function=EARNINGS_CALENDAR&symbol=AAPL&horizon=3month&apikey=2rrNROO0beX90lPH7ixQOp0mT_9SwF0d in 0 rows.\n",
      "  warnings.warn(f'Ingestion results from {url} in 0 rows.')\n",
      "C:\\Users\\carlo\\Documents\\ProjectBuffalo\\buffalo\\ingestion\\__init__.py:101: UserWarning: 'Ingestion is not a subset of expected schema from https://www.alphavantage.co/query?function=EARNINGS_CALENDAR&symbol=AAPL&horizon=3month&apikey=2rrNROO0beX90lPH7ixQOp0mT_9SwF0d. (Expected: symbol,name,reportDate,fiscalDateEnding,estimate,currency Actual: {})'\n",
      "  warnings.warn(str(other_exception))\n",
      "  8%|▊         | 11/144 [01:05<10:25,  4.71s/it]C:\\Users\\carlo\\Documents\\ProjectBuffalo\\buffalo\\ingestion\\advantage.py:115: UserWarning: Ingestion results from https://www.alphavantage.co/query?function=EARNINGS_CALENDAR&symbol=MSFT&horizon=3month&apikey=2rrNROO0beX90lPH7ixQOp0mT_9SwF0d in 0 rows.\n",
      "  warnings.warn(f'Ingestion results from {url} in 0 rows.')\n",
      "C:\\Users\\carlo\\Documents\\ProjectBuffalo\\buffalo\\ingestion\\__init__.py:101: UserWarning: 'Ingestion is not a subset of expected schema from https://www.alphavantage.co/query?function=EARNINGS_CALENDAR&symbol=MSFT&horizon=3month&apikey=2rrNROO0beX90lPH7ixQOp0mT_9SwF0d. (Expected: symbol,name,reportDate,fiscalDateEnding,estimate,currency Actual: {})'\n",
      "  warnings.warn(str(other_exception))\n",
      " 12%|█▏        | 17/144 [02:06<10:38,  5.03s/it]C:\\Users\\carlo\\Documents\\ProjectBuffalo\\buffalo\\ingestion\\advantage.py:115: UserWarning: Ingestion results from https://www.alphavantage.co/query?function=EARNINGS_CALENDAR&symbol=IBM&horizon=3month&apikey=2rrNROO0beX90lPH7ixQOp0mT_9SwF0d in 0 rows.\n",
      "  warnings.warn(f'Ingestion results from {url} in 0 rows.')\n",
      "C:\\Users\\carlo\\Documents\\ProjectBuffalo\\buffalo\\ingestion\\__init__.py:101: UserWarning: 'Ingestion is not a subset of expected schema from https://www.alphavantage.co/query?function=EARNINGS_CALENDAR&symbol=IBM&horizon=3month&apikey=2rrNROO0beX90lPH7ixQOp0mT_9SwF0d. (Expected: symbol,name,reportDate,fiscalDateEnding,estimate,currency Actual: {})'\n",
      "  warnings.warn(str(other_exception))\n",
      " 12%|█▎        | 18/144 [02:06<07:27,  3.55s/it]C:\\Users\\carlo\\Documents\\ProjectBuffalo\\buffalo\\ingestion\\__init__.py:101: UserWarning: Unknown string format: None present at position 0\n",
      "  warnings.warn(str(other_exception))\n",
      " 16%|█▌        | 23/144 [03:07<10:13,  5.07s/it]C:\\Users\\carlo\\Documents\\ProjectBuffalo\\buffalo\\ingestion\\advantage.py:115: UserWarning: Ingestion results from https://www.alphavantage.co/query?function=EARNINGS_CALENDAR&symbol=META&horizon=3month&apikey=2rrNROO0beX90lPH7ixQOp0mT_9SwF0d in 0 rows.\n",
      "  warnings.warn(f'Ingestion results from {url} in 0 rows.')\n",
      "C:\\Users\\carlo\\Documents\\ProjectBuffalo\\buffalo\\ingestion\\__init__.py:101: UserWarning: 'Ingestion is not a subset of expected schema from https://www.alphavantage.co/query?function=EARNINGS_CALENDAR&symbol=META&horizon=3month&apikey=2rrNROO0beX90lPH7ixQOp0mT_9SwF0d. (Expected: symbol,name,reportDate,fiscalDateEnding,estimate,currency Actual: {})'\n",
      "  warnings.warn(str(other_exception))\n",
      " 20%|██        | 29/144 [04:09<09:43,  5.07s/it]C:\\Users\\carlo\\Documents\\ProjectBuffalo\\buffalo\\ingestion\\advantage.py:115: UserWarning: Ingestion results from https://www.alphavantage.co/query?function=EARNINGS_CALENDAR&symbol=JNJ&horizon=3month&apikey=2rrNROO0beX90lPH7ixQOp0mT_9SwF0d in 0 rows.\n",
      "  warnings.warn(f'Ingestion results from {url} in 0 rows.')\n",
      "C:\\Users\\carlo\\Documents\\ProjectBuffalo\\buffalo\\ingestion\\__init__.py:101: UserWarning: 'Ingestion is not a subset of expected schema from https://www.alphavantage.co/query?function=EARNINGS_CALENDAR&symbol=JNJ&horizon=3month&apikey=2rrNROO0beX90lPH7ixQOp0mT_9SwF0d. (Expected: symbol,name,reportDate,fiscalDateEnding,estimate,currency Actual: {})'\n",
      "  warnings.warn(str(other_exception))\n",
      " 24%|██▍       | 35/144 [05:10<09:12,  5.07s/it]C:\\Users\\carlo\\Documents\\ProjectBuffalo\\buffalo\\ingestion\\advantage.py:115: UserWarning: Ingestion results from https://www.alphavantage.co/query?function=EARNINGS_CALENDAR&symbol=PFE&horizon=3month&apikey=2rrNROO0beX90lPH7ixQOp0mT_9SwF0d in 0 rows.\n",
      "  warnings.warn(f'Ingestion results from {url} in 0 rows.')\n",
      "C:\\Users\\carlo\\Documents\\ProjectBuffalo\\buffalo\\ingestion\\__init__.py:101: UserWarning: 'Ingestion is not a subset of expected schema from https://www.alphavantage.co/query?function=EARNINGS_CALENDAR&symbol=PFE&horizon=3month&apikey=2rrNROO0beX90lPH7ixQOp0mT_9SwF0d. (Expected: symbol,name,reportDate,fiscalDateEnding,estimate,currency Actual: {})'\n",
      "  warnings.warn(str(other_exception))\n",
      " 28%|██▊       | 41/144 [06:11<08:42,  5.07s/it]C:\\Users\\carlo\\Documents\\ProjectBuffalo\\buffalo\\ingestion\\advantage.py:115: UserWarning: Ingestion results from https://www.alphavantage.co/query?function=EARNINGS_CALENDAR&symbol=UNH&horizon=3month&apikey=2rrNROO0beX90lPH7ixQOp0mT_9SwF0d in 0 rows.\n",
      "  warnings.warn(f'Ingestion results from {url} in 0 rows.')\n",
      "C:\\Users\\carlo\\Documents\\ProjectBuffalo\\buffalo\\ingestion\\__init__.py:101: UserWarning: 'Ingestion is not a subset of expected schema from https://www.alphavantage.co/query?function=EARNINGS_CALENDAR&symbol=UNH&horizon=3month&apikey=2rrNROO0beX90lPH7ixQOp0mT_9SwF0d. (Expected: symbol,name,reportDate,fiscalDateEnding,estimate,currency Actual: {})'\n",
      "  warnings.warn(str(other_exception))\n",
      " 29%|██▉       | 42/144 [06:11<06:05,  3.59s/it]C:\\Users\\carlo\\Documents\\ProjectBuffalo\\buffalo\\ingestion\\__init__.py:101: UserWarning: Unknown string format: None present at position 0\n",
      "  warnings.warn(str(other_exception))\n",
      " 33%|███▎      | 47/144 [07:13<08:33,  5.29s/it]C:\\Users\\carlo\\Documents\\ProjectBuffalo\\buffalo\\ingestion\\advantage.py:115: UserWarning: Ingestion results from https://www.alphavantage.co/query?function=EARNINGS_CALENDAR&symbol=MARK&horizon=3month&apikey=2rrNROO0beX90lPH7ixQOp0mT_9SwF0d in 0 rows.\n",
      "  warnings.warn(f'Ingestion results from {url} in 0 rows.')\n",
      "C:\\Users\\carlo\\Documents\\ProjectBuffalo\\buffalo\\ingestion\\__init__.py:101: UserWarning: 'Ingestion is not a subset of expected schema from https://www.alphavantage.co/query?function=EARNINGS_CALENDAR&symbol=MARK&horizon=3month&apikey=2rrNROO0beX90lPH7ixQOp0mT_9SwF0d. (Expected: symbol,name,reportDate,fiscalDateEnding,estimate,currency Actual: {})'\n",
      "  warnings.warn(str(other_exception))\n",
      " 33%|███▎      | 48/144 [07:13<05:59,  3.74s/it]C:\\Users\\carlo\\Documents\\ProjectBuffalo\\buffalo\\ingestion\\advantage.py:97: UserWarning: Ingestion deviates from expected schema from https://www.alphavantage.co/query?function=OVERVIEW&symbol=XLV&apikey=2rrNROO0beX90lPH7ixQOp0mT_9SwF0d. Missing keys: MarketCapitalization,AssetType,ReturnOnEquityTTM,EVToEBITDA,SharesOutstanding,ExDividendDate,RevenuePerShareTTM,TrailingPE,DividendYield,EVToRevenue,52WeekHigh,50DayMovingAverage,BookValue,52WeekLow,DividendDate,DividendPerShare,Exchange,AnalystTargetPrice,Industry,200DayMovingAverage,ForwardPE,Symbol,Country,Name,QuarterlyRevenueGrowthYOY,Description,Currency,OperatingMarginTTM,EBITDA,PEGRatio,ProfitMargin,RevenueTTM,DilutedEPSTTM,Sector,CIK,LatestQuarter,PriceToSalesRatioTTM,PERatio,EPS,PriceToBookRatio,Address,GrossProfitTTM,Beta,FiscalYearEnd,ReturnOnAssetsTTM,QuarterlyEarningsGrowthYOY.\n",
      "  warnings.warn(f'Ingestion deviates from expected schema from {url}. Missing keys: {concat_list(set(schema) - set(actual_schema))}.')\n",
      " 34%|███▍      | 49/144 [08:13<32:45, 20.69s/it]C:\\Users\\carlo\\Documents\\ProjectBuffalo\\buffalo\\ingestion\\advantage.py:97: UserWarning: Ingestion deviates from expected schema from https://www.alphavantage.co/query?function=INCOME_STATEMENT&symbol=XLV&apikey=2rrNROO0beX90lPH7ixQOp0mT_9SwF0d. Missing keys: quarterlyReports,annualReports,symbol.\n",
      "  warnings.warn(f'Ingestion deviates from expected schema from {url}. Missing keys: {concat_list(set(schema) - set(actual_schema))}.')\n",
      " 35%|███▍      | 50/144 [08:13<22:45, 14.52s/it]C:\\Users\\carlo\\Documents\\ProjectBuffalo\\buffalo\\ingestion\\advantage.py:97: UserWarning: Ingestion deviates from expected schema from https://www.alphavantage.co/query?function=BALANCE_SHEET&symbol=XLV&apikey=2rrNROO0beX90lPH7ixQOp0mT_9SwF0d. Missing keys: quarterlyReports,annualReports,symbol.\n",
      "  warnings.warn(f'Ingestion deviates from expected schema from {url}. Missing keys: {concat_list(set(schema) - set(actual_schema))}.')\n",
      " 35%|███▌      | 51/144 [08:13<15:48, 10.20s/it]C:\\Users\\carlo\\Documents\\ProjectBuffalo\\buffalo\\ingestion\\advantage.py:97: UserWarning: Ingestion deviates from expected schema from https://www.alphavantage.co/query?function=CASH_FLOW&symbol=XLV&apikey=2rrNROO0beX90lPH7ixQOp0mT_9SwF0d. Missing keys: quarterlyReports,annualReports,symbol.\n",
      "  warnings.warn(f'Ingestion deviates from expected schema from {url}. Missing keys: {concat_list(set(schema) - set(actual_schema))}.')\n",
      " 36%|███▌      | 52/144 [08:14<11:00,  7.18s/it]C:\\Users\\carlo\\Documents\\ProjectBuffalo\\buffalo\\ingestion\\advantage.py:97: UserWarning: Ingestion deviates from expected schema from https://www.alphavantage.co/query?function=EARNINGS&symbol=XLV&apikey=2rrNROO0beX90lPH7ixQOp0mT_9SwF0d. Missing keys: quarterlyEarnings,symbol,annualEarnings.\n",
      "  warnings.warn(f'Ingestion deviates from expected schema from {url}. Missing keys: {concat_list(set(schema) - set(actual_schema))}.')\n",
      " 37%|███▋      | 53/144 [08:14<07:40,  5.06s/it]C:\\Users\\carlo\\Documents\\ProjectBuffalo\\buffalo\\ingestion\\advantage.py:115: UserWarning: Ingestion results from https://www.alphavantage.co/query?function=EARNINGS_CALENDAR&symbol=XLV&horizon=3month&apikey=2rrNROO0beX90lPH7ixQOp0mT_9SwF0d in 0 rows.\n",
      "  warnings.warn(f'Ingestion results from {url} in 0 rows.')\n",
      "C:\\Users\\carlo\\Documents\\ProjectBuffalo\\buffalo\\ingestion\\__init__.py:101: UserWarning: 'Ingestion is not a subset of expected schema from https://www.alphavantage.co/query?function=EARNINGS_CALENDAR&symbol=XLV&horizon=3month&apikey=2rrNROO0beX90lPH7ixQOp0mT_9SwF0d. (Expected: symbol,name,reportDate,fiscalDateEnding,estimate,currency Actual: {})'\n",
      "  warnings.warn(str(other_exception))\n",
      " 38%|███▊      | 54/144 [08:14<05:22,  3.59s/it]C:\\Users\\carlo\\Documents\\ProjectBuffalo\\buffalo\\ingestion\\__init__.py:101: UserWarning: could not convert string to float: '-'\n",
      "  warnings.warn(str(other_exception))\n",
      " 41%|████      | 59/144 [09:15<07:11,  5.08s/it]C:\\Users\\carlo\\Documents\\ProjectBuffalo\\buffalo\\ingestion\\advantage.py:115: UserWarning: Ingestion results from https://www.alphavantage.co/query?function=EARNINGS_CALENDAR&symbol=JPM&horizon=3month&apikey=2rrNROO0beX90lPH7ixQOp0mT_9SwF0d in 0 rows.\n",
      "  warnings.warn(f'Ingestion results from {url} in 0 rows.')\n",
      "C:\\Users\\carlo\\Documents\\ProjectBuffalo\\buffalo\\ingestion\\__init__.py:101: UserWarning: 'Ingestion is not a subset of expected schema from https://www.alphavantage.co/query?function=EARNINGS_CALENDAR&symbol=JPM&horizon=3month&apikey=2rrNROO0beX90lPH7ixQOp0mT_9SwF0d. (Expected: symbol,name,reportDate,fiscalDateEnding,estimate,currency Actual: {})'\n",
      "  warnings.warn(str(other_exception))\n",
      " 42%|████▏     | 60/144 [09:15<05:01,  3.59s/it]C:\\Users\\carlo\\Documents\\ProjectBuffalo\\buffalo\\ingestion\\__init__.py:101: UserWarning: could not convert string to float: '-'\n",
      "  warnings.warn(str(other_exception))\n",
      " 45%|████▌     | 65/144 [10:16<06:40,  5.07s/it]C:\\Users\\carlo\\Documents\\ProjectBuffalo\\buffalo\\ingestion\\advantage.py:115: UserWarning: Ingestion results from https://www.alphavantage.co/query?function=EARNINGS_CALENDAR&symbol=BAC&horizon=3month&apikey=2rrNROO0beX90lPH7ixQOp0mT_9SwF0d in 0 rows.\n",
      "  warnings.warn(f'Ingestion results from {url} in 0 rows.')\n",
      "C:\\Users\\carlo\\Documents\\ProjectBuffalo\\buffalo\\ingestion\\__init__.py:101: UserWarning: 'Ingestion is not a subset of expected schema from https://www.alphavantage.co/query?function=EARNINGS_CALENDAR&symbol=BAC&horizon=3month&apikey=2rrNROO0beX90lPH7ixQOp0mT_9SwF0d. (Expected: symbol,name,reportDate,fiscalDateEnding,estimate,currency Actual: {})'\n",
      "  warnings.warn(str(other_exception))\n",
      " 46%|████▌     | 66/144 [10:16<04:39,  3.58s/it]C:\\Users\\carlo\\Documents\\ProjectBuffalo\\buffalo\\ingestion\\__init__.py:101: UserWarning: could not convert string to float: '-'\n",
      "  warnings.warn(str(other_exception))\n",
      " 49%|████▉     | 71/144 [11:17<06:10,  5.07s/it]C:\\Users\\carlo\\Documents\\ProjectBuffalo\\buffalo\\ingestion\\advantage.py:115: UserWarning: Ingestion results from https://www.alphavantage.co/query?function=EARNINGS_CALENDAR&symbol=GS&horizon=3month&apikey=2rrNROO0beX90lPH7ixQOp0mT_9SwF0d in 0 rows.\n",
      "  warnings.warn(f'Ingestion results from {url} in 0 rows.')\n",
      "C:\\Users\\carlo\\Documents\\ProjectBuffalo\\buffalo\\ingestion\\__init__.py:101: UserWarning: 'Ingestion is not a subset of expected schema from https://www.alphavantage.co/query?function=EARNINGS_CALENDAR&symbol=GS&horizon=3month&apikey=2rrNROO0beX90lPH7ixQOp0mT_9SwF0d. (Expected: symbol,name,reportDate,fiscalDateEnding,estimate,currency Actual: {})'\n",
      "  warnings.warn(str(other_exception))\n",
      " 50%|█████     | 72/144 [11:17<04:18,  3.59s/it]C:\\Users\\carlo\\Documents\\ProjectBuffalo\\buffalo\\ingestion\\__init__.py:101: UserWarning: could not convert string to float: '-'\n",
      "  warnings.warn(str(other_exception))\n",
      " 53%|█████▎    | 77/144 [12:18<05:40,  5.08s/it]C:\\Users\\carlo\\Documents\\ProjectBuffalo\\buffalo\\ingestion\\advantage.py:115: UserWarning: Ingestion results from https://www.alphavantage.co/query?function=EARNINGS_CALENDAR&symbol=MS&horizon=3month&apikey=2rrNROO0beX90lPH7ixQOp0mT_9SwF0d in 0 rows.\n",
      "  warnings.warn(f'Ingestion results from {url} in 0 rows.')\n",
      "C:\\Users\\carlo\\Documents\\ProjectBuffalo\\buffalo\\ingestion\\__init__.py:101: UserWarning: 'Ingestion is not a subset of expected schema from https://www.alphavantage.co/query?function=EARNINGS_CALENDAR&symbol=MS&horizon=3month&apikey=2rrNROO0beX90lPH7ixQOp0mT_9SwF0d. (Expected: symbol,name,reportDate,fiscalDateEnding,estimate,currency Actual: {})'\n",
      "  warnings.warn(str(other_exception))\n",
      " 54%|█████▍    | 78/144 [12:18<03:56,  3.58s/it]C:\\Users\\carlo\\Documents\\ProjectBuffalo\\buffalo\\ingestion\\advantage.py:97: UserWarning: Ingestion deviates from expected schema from https://www.alphavantage.co/query?function=OVERVIEW&symbol=XLF&apikey=2rrNROO0beX90lPH7ixQOp0mT_9SwF0d. Missing keys: MarketCapitalization,AssetType,ReturnOnEquityTTM,EVToEBITDA,SharesOutstanding,ExDividendDate,RevenuePerShareTTM,TrailingPE,DividendYield,EVToRevenue,52WeekHigh,50DayMovingAverage,BookValue,52WeekLow,DividendDate,DividendPerShare,Exchange,AnalystTargetPrice,Industry,200DayMovingAverage,ForwardPE,Symbol,Country,Name,QuarterlyRevenueGrowthYOY,Description,Currency,OperatingMarginTTM,EBITDA,PEGRatio,ProfitMargin,RevenueTTM,DilutedEPSTTM,Sector,CIK,LatestQuarter,PriceToSalesRatioTTM,PERatio,EPS,PriceToBookRatio,Address,GrossProfitTTM,Beta,FiscalYearEnd,ReturnOnAssetsTTM,QuarterlyEarningsGrowthYOY.\n",
      "  warnings.warn(f'Ingestion deviates from expected schema from {url}. Missing keys: {concat_list(set(schema) - set(actual_schema))}.')\n",
      " 55%|█████▍    | 79/144 [13:18<22:17, 20.58s/it]C:\\Users\\carlo\\Documents\\ProjectBuffalo\\buffalo\\ingestion\\advantage.py:97: UserWarning: Ingestion deviates from expected schema from https://www.alphavantage.co/query?function=INCOME_STATEMENT&symbol=XLF&apikey=2rrNROO0beX90lPH7ixQOp0mT_9SwF0d. Missing keys: quarterlyReports,annualReports,symbol.\n",
      "  warnings.warn(f'Ingestion deviates from expected schema from {url}. Missing keys: {concat_list(set(schema) - set(actual_schema))}.')\n",
      " 56%|█████▌    | 80/144 [13:19<15:25, 14.47s/it]C:\\Users\\carlo\\Documents\\ProjectBuffalo\\buffalo\\ingestion\\advantage.py:97: UserWarning: Ingestion deviates from expected schema from https://www.alphavantage.co/query?function=BALANCE_SHEET&symbol=XLF&apikey=2rrNROO0beX90lPH7ixQOp0mT_9SwF0d. Missing keys: quarterlyReports,annualReports,symbol.\n",
      "  warnings.warn(f'Ingestion deviates from expected schema from {url}. Missing keys: {concat_list(set(schema) - set(actual_schema))}.')\n",
      " 56%|█████▋    | 81/144 [13:19<10:40, 10.17s/it]C:\\Users\\carlo\\Documents\\ProjectBuffalo\\buffalo\\ingestion\\advantage.py:97: UserWarning: Ingestion deviates from expected schema from https://www.alphavantage.co/query?function=CASH_FLOW&symbol=XLF&apikey=2rrNROO0beX90lPH7ixQOp0mT_9SwF0d. Missing keys: quarterlyReports,annualReports,symbol.\n",
      "  warnings.warn(f'Ingestion deviates from expected schema from {url}. Missing keys: {concat_list(set(schema) - set(actual_schema))}.')\n",
      " 57%|█████▋    | 82/144 [13:19<07:23,  7.15s/it]C:\\Users\\carlo\\Documents\\ProjectBuffalo\\buffalo\\ingestion\\advantage.py:97: UserWarning: Ingestion deviates from expected schema from https://www.alphavantage.co/query?function=EARNINGS&symbol=XLF&apikey=2rrNROO0beX90lPH7ixQOp0mT_9SwF0d. Missing keys: quarterlyEarnings,symbol,annualEarnings.\n",
      "  warnings.warn(f'Ingestion deviates from expected schema from {url}. Missing keys: {concat_list(set(schema) - set(actual_schema))}.')\n",
      " 58%|█████▊    | 83/144 [13:19<05:07,  5.04s/it]C:\\Users\\carlo\\Documents\\ProjectBuffalo\\buffalo\\ingestion\\advantage.py:115: UserWarning: Ingestion results from https://www.alphavantage.co/query?function=EARNINGS_CALENDAR&symbol=XLF&horizon=3month&apikey=2rrNROO0beX90lPH7ixQOp0mT_9SwF0d in 0 rows.\n",
      "  warnings.warn(f'Ingestion results from {url} in 0 rows.')\n",
      "C:\\Users\\carlo\\Documents\\ProjectBuffalo\\buffalo\\ingestion\\__init__.py:101: UserWarning: 'Ingestion is not a subset of expected schema from https://www.alphavantage.co/query?function=EARNINGS_CALENDAR&symbol=XLF&horizon=3month&apikey=2rrNROO0beX90lPH7ixQOp0mT_9SwF0d. (Expected: symbol,name,reportDate,fiscalDateEnding,estimate,currency Actual: {})'\n",
      "  warnings.warn(str(other_exception))\n",
      " 62%|██████▏   | 89/144 [14:20<04:33,  4.97s/it]C:\\Users\\carlo\\Documents\\ProjectBuffalo\\buffalo\\ingestion\\advantage.py:115: UserWarning: Ingestion results from https://www.alphavantage.co/query?function=EARNINGS_CALENDAR&symbol=PG&horizon=3month&apikey=2rrNROO0beX90lPH7ixQOp0mT_9SwF0d in 0 rows.\n",
      "  warnings.warn(f'Ingestion results from {url} in 0 rows.')\n",
      "C:\\Users\\carlo\\Documents\\ProjectBuffalo\\buffalo\\ingestion\\__init__.py:101: UserWarning: 'Ingestion is not a subset of expected schema from https://www.alphavantage.co/query?function=EARNINGS_CALENDAR&symbol=PG&horizon=3month&apikey=2rrNROO0beX90lPH7ixQOp0mT_9SwF0d. (Expected: symbol,name,reportDate,fiscalDateEnding,estimate,currency Actual: {})'\n",
      "  warnings.warn(str(other_exception))\n",
      " 66%|██████▌   | 95/144 [15:21<04:08,  5.06s/it]C:\\Users\\carlo\\Documents\\ProjectBuffalo\\buffalo\\ingestion\\advantage.py:115: UserWarning: Ingestion results from https://www.alphavantage.co/query?function=EARNINGS_CALENDAR&symbol=KO&horizon=3month&apikey=2rrNROO0beX90lPH7ixQOp0mT_9SwF0d in 0 rows.\n",
      "  warnings.warn(f'Ingestion results from {url} in 0 rows.')\n",
      "C:\\Users\\carlo\\Documents\\ProjectBuffalo\\buffalo\\ingestion\\__init__.py:101: UserWarning: 'Ingestion is not a subset of expected schema from https://www.alphavantage.co/query?function=EARNINGS_CALENDAR&symbol=KO&horizon=3month&apikey=2rrNROO0beX90lPH7ixQOp0mT_9SwF0d. (Expected: symbol,name,reportDate,fiscalDateEnding,estimate,currency Actual: {})'\n",
      "  warnings.warn(str(other_exception))\n",
      " 70%|███████   | 101/144 [16:22<03:37,  5.07s/it]C:\\Users\\carlo\\Documents\\ProjectBuffalo\\buffalo\\ingestion\\advantage.py:115: UserWarning: Ingestion results from https://www.alphavantage.co/query?function=EARNINGS_CALENDAR&symbol=PEP&horizon=3month&apikey=2rrNROO0beX90lPH7ixQOp0mT_9SwF0d in 0 rows.\n",
      "  warnings.warn(f'Ingestion results from {url} in 0 rows.')\n",
      "C:\\Users\\carlo\\Documents\\ProjectBuffalo\\buffalo\\ingestion\\__init__.py:101: UserWarning: 'Ingestion is not a subset of expected schema from https://www.alphavantage.co/query?function=EARNINGS_CALENDAR&symbol=PEP&horizon=3month&apikey=2rrNROO0beX90lPH7ixQOp0mT_9SwF0d. (Expected: symbol,name,reportDate,fiscalDateEnding,estimate,currency Actual: {})'\n",
      "  warnings.warn(str(other_exception))\n",
      " 74%|███████▍  | 107/144 [17:24<03:15,  5.28s/it]C:\\Users\\carlo\\Documents\\ProjectBuffalo\\buffalo\\ingestion\\advantage.py:115: UserWarning: Ingestion results from https://www.alphavantage.co/query?function=EARNINGS_CALENDAR&symbol=NKE&horizon=3month&apikey=2rrNROO0beX90lPH7ixQOp0mT_9SwF0d in 0 rows.\n",
      "  warnings.warn(f'Ingestion results from {url} in 0 rows.')\n",
      "C:\\Users\\carlo\\Documents\\ProjectBuffalo\\buffalo\\ingestion\\__init__.py:101: UserWarning: 'Ingestion is not a subset of expected schema from https://www.alphavantage.co/query?function=EARNINGS_CALENDAR&symbol=NKE&horizon=3month&apikey=2rrNROO0beX90lPH7ixQOp0mT_9SwF0d. (Expected: symbol,name,reportDate,fiscalDateEnding,estimate,currency Actual: {})'\n",
      "  warnings.warn(str(other_exception))\n",
      " 75%|███████▌  | 108/144 [17:24<02:14,  3.74s/it]C:\\Users\\carlo\\Documents\\ProjectBuffalo\\buffalo\\ingestion\\advantage.py:97: UserWarning: Ingestion deviates from expected schema from https://www.alphavantage.co/query?function=OVERVIEW&symbol=XLP&apikey=2rrNROO0beX90lPH7ixQOp0mT_9SwF0d. Missing keys: MarketCapitalization,AssetType,ReturnOnEquityTTM,EVToEBITDA,SharesOutstanding,ExDividendDate,RevenuePerShareTTM,TrailingPE,DividendYield,EVToRevenue,52WeekHigh,50DayMovingAverage,BookValue,52WeekLow,DividendDate,DividendPerShare,Exchange,AnalystTargetPrice,Industry,200DayMovingAverage,ForwardPE,Symbol,Country,Name,QuarterlyRevenueGrowthYOY,Description,Currency,OperatingMarginTTM,EBITDA,PEGRatio,ProfitMargin,RevenueTTM,DilutedEPSTTM,Sector,CIK,LatestQuarter,PriceToSalesRatioTTM,PERatio,EPS,PriceToBookRatio,Address,GrossProfitTTM,Beta,FiscalYearEnd,ReturnOnAssetsTTM,QuarterlyEarningsGrowthYOY.\n",
      "  warnings.warn(f'Ingestion deviates from expected schema from {url}. Missing keys: {concat_list(set(schema) - set(actual_schema))}.')\n",
      " 76%|███████▌  | 109/144 [18:25<12:04, 20.70s/it]C:\\Users\\carlo\\Documents\\ProjectBuffalo\\buffalo\\ingestion\\advantage.py:97: UserWarning: Ingestion deviates from expected schema from https://www.alphavantage.co/query?function=INCOME_STATEMENT&symbol=XLP&apikey=2rrNROO0beX90lPH7ixQOp0mT_9SwF0d. Missing keys: quarterlyReports,annualReports,symbol.\n",
      "  warnings.warn(f'Ingestion deviates from expected schema from {url}. Missing keys: {concat_list(set(schema) - set(actual_schema))}.')\n",
      " 76%|███████▋  | 110/144 [18:25<08:14, 14.54s/it]C:\\Users\\carlo\\Documents\\ProjectBuffalo\\buffalo\\ingestion\\advantage.py:97: UserWarning: Ingestion deviates from expected schema from https://www.alphavantage.co/query?function=BALANCE_SHEET&symbol=XLP&apikey=2rrNROO0beX90lPH7ixQOp0mT_9SwF0d. Missing keys: quarterlyReports,annualReports,symbol.\n",
      "  warnings.warn(f'Ingestion deviates from expected schema from {url}. Missing keys: {concat_list(set(schema) - set(actual_schema))}.')\n",
      " 77%|███████▋  | 111/144 [18:25<05:36, 10.21s/it]C:\\Users\\carlo\\Documents\\ProjectBuffalo\\buffalo\\ingestion\\advantage.py:97: UserWarning: Ingestion deviates from expected schema from https://www.alphavantage.co/query?function=CASH_FLOW&symbol=XLP&apikey=2rrNROO0beX90lPH7ixQOp0mT_9SwF0d. Missing keys: quarterlyReports,annualReports,symbol.\n",
      "  warnings.warn(f'Ingestion deviates from expected schema from {url}. Missing keys: {concat_list(set(schema) - set(actual_schema))}.')\n",
      " 78%|███████▊  | 112/144 [18:25<03:50,  7.20s/it]C:\\Users\\carlo\\Documents\\ProjectBuffalo\\buffalo\\ingestion\\advantage.py:97: UserWarning: Ingestion deviates from expected schema from https://www.alphavantage.co/query?function=EARNINGS&symbol=XLP&apikey=2rrNROO0beX90lPH7ixQOp0mT_9SwF0d. Missing keys: quarterlyEarnings,symbol,annualEarnings.\n",
      "  warnings.warn(f'Ingestion deviates from expected schema from {url}. Missing keys: {concat_list(set(schema) - set(actual_schema))}.')\n",
      " 78%|███████▊  | 113/144 [18:25<02:37,  5.08s/it]C:\\Users\\carlo\\Documents\\ProjectBuffalo\\buffalo\\ingestion\\advantage.py:115: UserWarning: Ingestion results from https://www.alphavantage.co/query?function=EARNINGS_CALENDAR&symbol=XLP&horizon=3month&apikey=2rrNROO0beX90lPH7ixQOp0mT_9SwF0d in 0 rows.\n",
      "  warnings.warn(f'Ingestion results from {url} in 0 rows.')\n",
      "C:\\Users\\carlo\\Documents\\ProjectBuffalo\\buffalo\\ingestion\\__init__.py:101: UserWarning: 'Ingestion is not a subset of expected schema from https://www.alphavantage.co/query?function=EARNINGS_CALENDAR&symbol=XLP&horizon=3month&apikey=2rrNROO0beX90lPH7ixQOp0mT_9SwF0d. (Expected: symbol,name,reportDate,fiscalDateEnding,estimate,currency Actual: {})'\n",
      "  warnings.warn(str(other_exception))\n",
      " 83%|████████▎ | 119/144 [19:29<02:18,  5.54s/it]C:\\Users\\carlo\\Documents\\ProjectBuffalo\\buffalo\\ingestion\\advantage.py:115: UserWarning: Ingestion results from https://www.alphavantage.co/query?function=EARNINGS_CALENDAR&symbol=GE&horizon=3month&apikey=2rrNROO0beX90lPH7ixQOp0mT_9SwF0d in 0 rows.\n",
      "  warnings.warn(f'Ingestion results from {url} in 0 rows.')\n",
      "C:\\Users\\carlo\\Documents\\ProjectBuffalo\\buffalo\\ingestion\\__init__.py:101: UserWarning: 'Ingestion is not a subset of expected schema from https://www.alphavantage.co/query?function=EARNINGS_CALENDAR&symbol=GE&horizon=3month&apikey=2rrNROO0beX90lPH7ixQOp0mT_9SwF0d. (Expected: symbol,name,reportDate,fiscalDateEnding,estimate,currency Actual: {})'\n",
      "  warnings.warn(str(other_exception))\n",
      " 87%|████████▋ | 125/144 [20:30<01:37,  5.14s/it]C:\\Users\\carlo\\Documents\\ProjectBuffalo\\buffalo\\ingestion\\advantage.py:115: UserWarning: Ingestion results from https://www.alphavantage.co/query?function=EARNINGS_CALENDAR&symbol=HON&horizon=3month&apikey=2rrNROO0beX90lPH7ixQOp0mT_9SwF0d in 0 rows.\n",
      "  warnings.warn(f'Ingestion results from {url} in 0 rows.')\n",
      "C:\\Users\\carlo\\Documents\\ProjectBuffalo\\buffalo\\ingestion\\__init__.py:101: UserWarning: 'Ingestion is not a subset of expected schema from https://www.alphavantage.co/query?function=EARNINGS_CALENDAR&symbol=HON&horizon=3month&apikey=2rrNROO0beX90lPH7ixQOp0mT_9SwF0d. (Expected: symbol,name,reportDate,fiscalDateEnding,estimate,currency Actual: {})'\n",
      "  warnings.warn(str(other_exception))\n",
      " 88%|████████▊ | 126/144 [20:31<01:05,  3.64s/it]C:\\Users\\carlo\\Documents\\ProjectBuffalo\\buffalo\\ingestion\\advantage.py:97: UserWarning: Ingestion deviates from expected schema from https://www.alphavantage.co/query?function=OVERVIEW&symbol=UTX&apikey=2rrNROO0beX90lPH7ixQOp0mT_9SwF0d. Missing keys: MarketCapitalization,AssetType,ReturnOnEquityTTM,EVToEBITDA,SharesOutstanding,ExDividendDate,RevenuePerShareTTM,TrailingPE,DividendYield,EVToRevenue,52WeekHigh,50DayMovingAverage,BookValue,52WeekLow,DividendDate,DividendPerShare,Exchange,AnalystTargetPrice,Industry,200DayMovingAverage,ForwardPE,Symbol,Country,Name,QuarterlyRevenueGrowthYOY,Description,Currency,OperatingMarginTTM,EBITDA,PEGRatio,ProfitMargin,RevenueTTM,DilutedEPSTTM,Sector,CIK,LatestQuarter,PriceToSalesRatioTTM,PERatio,EPS,PriceToBookRatio,Address,GrossProfitTTM,Beta,FiscalYearEnd,ReturnOnAssetsTTM,QuarterlyEarningsGrowthYOY.\n",
      "  warnings.warn(f'Ingestion deviates from expected schema from {url}. Missing keys: {concat_list(set(schema) - set(actual_schema))}.')\n",
      " 88%|████████▊ | 127/144 [21:31<05:50, 20.63s/it]C:\\Users\\carlo\\Documents\\ProjectBuffalo\\buffalo\\ingestion\\advantage.py:97: UserWarning: Ingestion deviates from expected schema from https://www.alphavantage.co/query?function=INCOME_STATEMENT&symbol=UTX&apikey=2rrNROO0beX90lPH7ixQOp0mT_9SwF0d. Missing keys: quarterlyReports,annualReports,symbol.\n",
      "  warnings.warn(f'Ingestion deviates from expected schema from {url}. Missing keys: {concat_list(set(schema) - set(actual_schema))}.')\n",
      " 89%|████████▉ | 128/144 [21:31<03:51, 14.48s/it]C:\\Users\\carlo\\Documents\\ProjectBuffalo\\buffalo\\ingestion\\advantage.py:97: UserWarning: Ingestion deviates from expected schema from https://www.alphavantage.co/query?function=BALANCE_SHEET&symbol=UTX&apikey=2rrNROO0beX90lPH7ixQOp0mT_9SwF0d. Missing keys: quarterlyReports,annualReports,symbol.\n",
      "  warnings.warn(f'Ingestion deviates from expected schema from {url}. Missing keys: {concat_list(set(schema) - set(actual_schema))}.')\n",
      " 90%|████████▉ | 129/144 [21:31<02:32, 10.17s/it]C:\\Users\\carlo\\Documents\\ProjectBuffalo\\buffalo\\ingestion\\advantage.py:97: UserWarning: Ingestion deviates from expected schema from https://www.alphavantage.co/query?function=CASH_FLOW&symbol=UTX&apikey=2rrNROO0beX90lPH7ixQOp0mT_9SwF0d. Missing keys: quarterlyReports,annualReports,symbol.\n",
      "  warnings.warn(f'Ingestion deviates from expected schema from {url}. Missing keys: {concat_list(set(schema) - set(actual_schema))}.')\n",
      " 90%|█████████ | 130/144 [21:31<01:40,  7.16s/it]C:\\Users\\carlo\\Documents\\ProjectBuffalo\\buffalo\\ingestion\\advantage.py:97: UserWarning: Ingestion deviates from expected schema from https://www.alphavantage.co/query?function=EARNINGS&symbol=UTX&apikey=2rrNROO0beX90lPH7ixQOp0mT_9SwF0d. Missing keys: quarterlyEarnings,symbol,annualEarnings.\n",
      "  warnings.warn(f'Ingestion deviates from expected schema from {url}. Missing keys: {concat_list(set(schema) - set(actual_schema))}.')\n",
      " 91%|█████████ | 131/144 [21:31<01:05,  5.06s/it]C:\\Users\\carlo\\Documents\\ProjectBuffalo\\buffalo\\ingestion\\advantage.py:115: UserWarning: Ingestion results from https://www.alphavantage.co/query?function=EARNINGS_CALENDAR&symbol=UTX&horizon=3month&apikey=2rrNROO0beX90lPH7ixQOp0mT_9SwF0d in 0 rows.\n",
      "  warnings.warn(f'Ingestion results from {url} in 0 rows.')\n",
      "C:\\Users\\carlo\\Documents\\ProjectBuffalo\\buffalo\\ingestion\\__init__.py:101: UserWarning: 'Ingestion is not a subset of expected schema from https://www.alphavantage.co/query?function=EARNINGS_CALENDAR&symbol=UTX&horizon=3month&apikey=2rrNROO0beX90lPH7ixQOp0mT_9SwF0d. (Expected: symbol,name,reportDate,fiscalDateEnding,estimate,currency Actual: {})'\n",
      "  warnings.warn(str(other_exception))\n",
      " 95%|█████████▌| 137/144 [22:33<00:35,  5.08s/it]C:\\Users\\carlo\\Documents\\ProjectBuffalo\\buffalo\\ingestion\\advantage.py:115: UserWarning: Ingestion results from https://www.alphavantage.co/query?function=EARNINGS_CALENDAR&symbol=MMM&horizon=3month&apikey=2rrNROO0beX90lPH7ixQOp0mT_9SwF0d in 0 rows.\n",
      "  warnings.warn(f'Ingestion results from {url} in 0 rows.')\n",
      "C:\\Users\\carlo\\Documents\\ProjectBuffalo\\buffalo\\ingestion\\__init__.py:101: UserWarning: 'Ingestion is not a subset of expected schema from https://www.alphavantage.co/query?function=EARNINGS_CALENDAR&symbol=MMM&horizon=3month&apikey=2rrNROO0beX90lPH7ixQOp0mT_9SwF0d. (Expected: symbol,name,reportDate,fiscalDateEnding,estimate,currency Actual: {})'\n",
      "  warnings.warn(str(other_exception))\n",
      " 96%|█████████▌| 138/144 [22:33<00:21,  3.59s/it]C:\\Users\\carlo\\Documents\\ProjectBuffalo\\buffalo\\ingestion\\advantage.py:97: UserWarning: Ingestion deviates from expected schema from https://www.alphavantage.co/query?function=OVERVIEW&symbol=XLI&apikey=2rrNROO0beX90lPH7ixQOp0mT_9SwF0d. Missing keys: MarketCapitalization,AssetType,ReturnOnEquityTTM,EVToEBITDA,SharesOutstanding,ExDividendDate,RevenuePerShareTTM,TrailingPE,DividendYield,EVToRevenue,52WeekHigh,50DayMovingAverage,BookValue,52WeekLow,DividendDate,DividendPerShare,Exchange,AnalystTargetPrice,Industry,200DayMovingAverage,ForwardPE,Symbol,Country,Name,QuarterlyRevenueGrowthYOY,Description,Currency,OperatingMarginTTM,EBITDA,PEGRatio,ProfitMargin,RevenueTTM,DilutedEPSTTM,Sector,CIK,LatestQuarter,PriceToSalesRatioTTM,PERatio,EPS,PriceToBookRatio,Address,GrossProfitTTM,Beta,FiscalYearEnd,ReturnOnAssetsTTM,QuarterlyEarningsGrowthYOY.\n",
      "  warnings.warn(f'Ingestion deviates from expected schema from {url}. Missing keys: {concat_list(set(schema) - set(actual_schema))}.')\n",
      " 97%|█████████▋| 139/144 [23:33<01:42, 20.60s/it]C:\\Users\\carlo\\Documents\\ProjectBuffalo\\buffalo\\ingestion\\advantage.py:97: UserWarning: Ingestion deviates from expected schema from https://www.alphavantage.co/query?function=INCOME_STATEMENT&symbol=XLI&apikey=2rrNROO0beX90lPH7ixQOp0mT_9SwF0d. Missing keys: quarterlyReports,annualReports,symbol.\n",
      "  warnings.warn(f'Ingestion deviates from expected schema from {url}. Missing keys: {concat_list(set(schema) - set(actual_schema))}.')\n",
      " 97%|█████████▋| 140/144 [23:33<00:57, 14.47s/it]C:\\Users\\carlo\\Documents\\ProjectBuffalo\\buffalo\\ingestion\\advantage.py:97: UserWarning: Ingestion deviates from expected schema from https://www.alphavantage.co/query?function=BALANCE_SHEET&symbol=XLI&apikey=2rrNROO0beX90lPH7ixQOp0mT_9SwF0d. Missing keys: quarterlyReports,annualReports,symbol.\n",
      "  warnings.warn(f'Ingestion deviates from expected schema from {url}. Missing keys: {concat_list(set(schema) - set(actual_schema))}.')\n",
      " 98%|█████████▊| 141/144 [23:33<00:30, 10.17s/it]C:\\Users\\carlo\\Documents\\ProjectBuffalo\\buffalo\\ingestion\\advantage.py:97: UserWarning: Ingestion deviates from expected schema from https://www.alphavantage.co/query?function=CASH_FLOW&symbol=XLI&apikey=2rrNROO0beX90lPH7ixQOp0mT_9SwF0d. Missing keys: quarterlyReports,annualReports,symbol.\n",
      "  warnings.warn(f'Ingestion deviates from expected schema from {url}. Missing keys: {concat_list(set(schema) - set(actual_schema))}.')\n",
      " 99%|█████████▊| 142/144 [23:33<00:14,  7.16s/it]C:\\Users\\carlo\\Documents\\ProjectBuffalo\\buffalo\\ingestion\\advantage.py:97: UserWarning: Ingestion deviates from expected schema from https://www.alphavantage.co/query?function=EARNINGS&symbol=XLI&apikey=2rrNROO0beX90lPH7ixQOp0mT_9SwF0d. Missing keys: quarterlyEarnings,symbol,annualEarnings.\n",
      "  warnings.warn(f'Ingestion deviates from expected schema from {url}. Missing keys: {concat_list(set(schema) - set(actual_schema))}.')\n",
      " 99%|█████████▉| 143/144 [23:33<00:05,  5.05s/it]C:\\Users\\carlo\\Documents\\ProjectBuffalo\\buffalo\\ingestion\\advantage.py:115: UserWarning: Ingestion results from https://www.alphavantage.co/query?function=EARNINGS_CALENDAR&symbol=XLI&horizon=3month&apikey=2rrNROO0beX90lPH7ixQOp0mT_9SwF0d in 0 rows.\n",
      "  warnings.warn(f'Ingestion results from {url} in 0 rows.')\n",
      "C:\\Users\\carlo\\Documents\\ProjectBuffalo\\buffalo\\ingestion\\__init__.py:101: UserWarning: 'Ingestion is not a subset of expected schema from https://www.alphavantage.co/query?function=EARNINGS_CALENDAR&symbol=XLI&horizon=3month&apikey=2rrNROO0beX90lPH7ixQOp0mT_9SwF0d. (Expected: symbol,name,reportDate,fiscalDateEnding,estimate,currency Actual: {})'\n",
      "  warnings.warn(str(other_exception))\n",
      "100%|██████████| 144/144 [23:34<00:00,  9.82s/it]\n"
     ]
    }
   ],
   "source": [
    "ingestor.ingestion_from_web(company_info)"
   ]
  },
  {
   "cell_type": "code",
   "execution_count": 15,
   "metadata": {},
   "outputs": [],
   "source": [
    "ingestor.store_data(r'cached_data/ingestion.sqlite', data_names=company_info['data_name'])"
   ]
  },
  {
   "attachments": {},
   "cell_type": "markdown",
   "metadata": {},
   "source": [
    "#### Listing Info"
   ]
  },
  {
   "cell_type": "code",
   "execution_count": 21,
   "metadata": {},
   "outputs": [],
   "source": [
    "listing_info = pd.DataFrame({\n",
    "    'date': ['2022-01-01'],\n",
    "    'data_type': ingestion.enum.DataType.STOCK_LISTING,\n",
    "    'ingestion_type': ingestion.enum.IngestionType.REST,\n",
    "    'data_name': 'LISTING_INFO'\n",
    "})"
   ]
  },
  {
   "cell_type": "code",
   "execution_count": 22,
   "metadata": {},
   "outputs": [
    {
     "name": "stderr",
     "output_type": "stream",
     "text": [
      "100%|██████████| 1/1 [00:00<00:00,  1.12it/s]\n"
     ]
    }
   ],
   "source": [
    "ingestor.ingestion_from_web(listing_info)"
   ]
  },
  {
   "cell_type": "code",
   "execution_count": 24,
   "metadata": {},
   "outputs": [],
   "source": [
    "ingestor.store_data(r'cached_data/ingestion.sqlite', data_names=listing_info['data_name'])"
   ]
  },
  {
   "attachments": {},
   "cell_type": "markdown",
   "metadata": {},
   "source": [
    "#### Economic Indicators"
   ]
  },
  {
   "cell_type": "code",
   "execution_count": 25,
   "metadata": {},
   "outputs": [],
   "source": [
    "economy = pd.DataFrame({\n",
    "    'function': ['FEDERAL_FUNDS_RATE', 'NONFARM_PAYROLL', 'CPI', 'UNEMPLOYMENT', 'REAL_GDP', 'REAL_GDP_PER_CAPITA'],\n",
    "    'interval': ['daily', None, 'monthly', None, 'quarterly', 'quarterly'],\n",
    "    'data_type': ingestion.enum.DataType.ECON,\n",
    "    'ingestion_type': ingestion.enum.IngestionType.REST,\n",
    "})\n",
    "economy['data_name'] = economy['function']"
   ]
  },
  {
   "cell_type": "code",
   "execution_count": 26,
   "metadata": {},
   "outputs": [],
   "source": [
    "economy = pd.concat([economy, pd.DataFrame({\n",
    "    'function': 'TREASURY_YIELD',\n",
    "    'maturity': ['3month', '2year', '5year', '7year', '10year', '30year'],\n",
    "    'interval': 'daily',\n",
    "    'data_type': ingestion.enum.DataType.ECON,\n",
    "    'ingestion_type': ingestion.enum.IngestionType.REST,\n",
    "    'data_name': 'TREASURY_YIELD'\n",
    "})], ignore_index=True)"
   ]
  },
  {
   "cell_type": "code",
   "execution_count": 27,
   "metadata": {},
   "outputs": [
    {
     "name": "stderr",
     "output_type": "stream",
     "text": [
      "100%|██████████| 12/12 [02:07<00:00, 10.63s/it]\n"
     ]
    }
   ],
   "source": [
    "ingestor.ingestion_from_web(economy)"
   ]
  },
  {
   "cell_type": "code",
   "execution_count": 28,
   "metadata": {},
   "outputs": [],
   "source": [
    "ingestor.store_data(r'cached_data/ingestion.sqlite', data_names=economy['data_name'])"
   ]
  },
  {
   "attachments": {},
   "cell_type": "markdown",
   "metadata": {},
   "source": [
    "#### SMA Trend Indicator"
   ]
  },
  {
   "cell_type": "code",
   "execution_count": 29,
   "metadata": {},
   "outputs": [],
   "source": [
    "sma_trend = pd.DataFrame({\n",
    "    'symbol': tickers,\n",
    "    'function': 'SMA',\n",
    "    'interval': 'daily',\n",
    "    'data_type': ingestion.enum.DataType.TREND_INDICATOR,\n",
    "    'ingestion_type': ingestion.enum.IngestionType.REST,\n",
    "    'data_name': 'SMA'\n",
    "})"
   ]
  },
  {
   "cell_type": "code",
   "execution_count": 30,
   "metadata": {},
   "outputs": [],
   "source": [
    "sma_trend = sma_trend.merge(pd.DataFrame({\n",
    "    'time_period': [10, 50, 200]\n",
    "}), how='cross').merge(pd.DataFrame({\n",
    "    'series_type': ['open', 'close', 'high', 'low']\n",
    "}), how='cross')"
   ]
  },
  {
   "cell_type": "code",
   "execution_count": 31,
   "metadata": {},
   "outputs": [
    {
     "name": "stderr",
     "output_type": "stream",
     "text": [
      "100%|██████████| 288/288 [57:00<00:00, 11.88s/it]  \n"
     ]
    }
   ],
   "source": [
    "ingestor.ingestion_from_web(sma_trend)"
   ]
  },
  {
   "cell_type": "code",
   "execution_count": 32,
   "metadata": {},
   "outputs": [],
   "source": [
    "ingestor.store_data(r'cached_data/ingestion.sqlite', data_names=sma_trend['data_name'])"
   ]
  },
  {
   "attachments": {},
   "cell_type": "markdown",
   "metadata": {},
   "source": [
    "#### Cyclic Indicators"
   ]
  },
  {
   "cell_type": "code",
   "execution_count": 33,
   "metadata": {},
   "outputs": [],
   "source": [
    "ht_sine_cycle = pd.DataFrame({\n",
    "    'symbol': tickers,\n",
    "    'function': 'HT_SINE',\n",
    "    'interval': 'daily',\n",
    "    'data_type': ingestion.enum.DataType.CYCLE_INDICATOR,\n",
    "    'ingestion_type': ingestion.enum.IngestionType.REST,\n",
    "    'data_name': 'HT_SINE'\n",
    "})"
   ]
  },
  {
   "cell_type": "code",
   "execution_count": 34,
   "metadata": {},
   "outputs": [],
   "source": [
    "ht_sine_cycle = ht_sine_cycle.merge(pd.DataFrame({'time_period': [10, 50, 200]}), how='cross').merge(pd.DataFrame({'series_type': ['open', 'high', 'low', 'close']}), how='cross')"
   ]
  },
  {
   "cell_type": "code",
   "execution_count": 35,
   "metadata": {},
   "outputs": [
    {
     "name": "stderr",
     "output_type": "stream",
     "text": [
      "100%|██████████| 288/288 [57:13<00:00, 11.92s/it]  \n"
     ]
    }
   ],
   "source": [
    "ingestor.ingestion_from_web(ht_sine_cycle)"
   ]
  },
  {
   "cell_type": "code",
   "execution_count": 36,
   "metadata": {},
   "outputs": [],
   "source": [
    "ingestor.store_data(r'cached_data/ingestion.sqlite', data_names=ht_sine_cycle['data_name'])"
   ]
  },
  {
   "attachments": {},
   "cell_type": "markdown",
   "metadata": {},
   "source": [
    "#### Momentum Indicator"
   ]
  },
  {
   "cell_type": "code",
   "execution_count": 37,
   "metadata": {},
   "outputs": [],
   "source": [
    "momentum_cycle = pd.DataFrame({\n",
    "    'symbol': tickers,\n",
    "    'interval': 'daily',\n",
    "    'data_type': ingestion.enum.DataType.MOMENTUM_INDICATOR,\n",
    "    'ingestion_type': ingestion.enum.IngestionType.REST\n",
    "})"
   ]
  },
  {
   "cell_type": "code",
   "execution_count": 38,
   "metadata": {},
   "outputs": [],
   "source": [
    "momentum_cycle = momentum_cycle.merge(pd.DataFrame({'function': ['MOM', 'ROC'], 'data_name': ['MOM', 'ROC']}), how='cross').merge(pd.DataFrame({'time_period': [10, 50, 200]}), how='cross').merge(pd.DataFrame({'series_type': ['open', 'high', 'low', 'close']}), how='cross')"
   ]
  },
  {
   "cell_type": "code",
   "execution_count": 39,
   "metadata": {},
   "outputs": [
    {
     "name": "stderr",
     "output_type": "stream",
     "text": [
      "100%|██████████| 576/576 [11:43:00<00:00, 73.23s/it]        \n"
     ]
    }
   ],
   "source": [
    "ingestor.ingestion_from_web(momentum_cycle)"
   ]
  },
  {
   "cell_type": "code",
   "execution_count": 40,
   "metadata": {},
   "outputs": [],
   "source": [
    "ingestor.store_data(r'cached_data/ingestion.sqlite', data_names=momentum_cycle['data_name'])"
   ]
  },
  {
   "attachments": {},
   "cell_type": "markdown",
   "metadata": {},
   "source": [
    "#### Market News"
   ]
  },
  {
   "cell_type": "code",
   "execution_count": 41,
   "metadata": {},
   "outputs": [],
   "source": [
    "news = pd.DataFrame({\n",
    "    'tickers': tickers,\n",
    "    'sort': 'Latest',\n",
    "    'limit': 50,\n",
    "    'data_type': ingestion.enum.DataType.MARKET_NEWS,\n",
    "    'ingestion_type': ingestion.enum.IngestionType.REST,\n",
    "    'data_name': 'MARKET_NEWS'\n",
    "})"
   ]
  },
  {
   "cell_type": "code",
   "execution_count": 42,
   "metadata": {},
   "outputs": [
    {
     "name": "stderr",
     "output_type": "stream",
     "text": [
      " 33%|███▎      | 8/24 [01:04<02:39,  9.95s/it]C:\\Users\\carlo\\Documents\\ProjectBuffalo\\buffalo\\ingestion\\__init__.py:101: UserWarning: 'Ingestion is not a subset of expected schema from https://www.alphavantage.co/query?function=NEWS_SENTIMENT&tickers=XLV&sort=Latest&limit=50&apikey=2rrNROO0beX90lPH7ixQOp0mT_9SwF0d. (Expected: items,sentiment_score_definition,relevance_score_definition,feed Actual: Information)'\n",
      "  warnings.warn(str(other_exception))\n",
      " 54%|█████▍    | 13/24 [02:07<02:00, 10.94s/it]C:\\Users\\carlo\\Documents\\ProjectBuffalo\\buffalo\\ingestion\\__init__.py:101: UserWarning: 'Ingestion is not a subset of expected schema from https://www.alphavantage.co/query?function=NEWS_SENTIMENT&tickers=XLF&sort=Latest&limit=50&apikey=2rrNROO0beX90lPH7ixQOp0mT_9SwF0d. (Expected: items,sentiment_score_definition,relevance_score_definition,feed Actual: Information)'\n",
      "  warnings.warn(str(other_exception))\n",
      " 75%|███████▌  | 18/24 [02:09<00:13,  2.22s/it]C:\\Users\\carlo\\Documents\\ProjectBuffalo\\buffalo\\ingestion\\__init__.py:101: UserWarning: 'Ingestion is not a subset of expected schema from https://www.alphavantage.co/query?function=NEWS_SENTIMENT&tickers=XLP&sort=Latest&limit=50&apikey=2rrNROO0beX90lPH7ixQOp0mT_9SwF0d. (Expected: items,sentiment_score_definition,relevance_score_definition,feed Actual: Information)'\n",
      "  warnings.warn(str(other_exception))\n",
      " 88%|████████▊ | 21/24 [03:11<00:30, 10.27s/it]C:\\Users\\carlo\\Documents\\ProjectBuffalo\\buffalo\\ingestion\\__init__.py:101: UserWarning: 'Ingestion is not a subset of expected schema from https://www.alphavantage.co/query?function=NEWS_SENTIMENT&tickers=UTX&sort=Latest&limit=50&apikey=2rrNROO0beX90lPH7ixQOp0mT_9SwF0d. (Expected: items,sentiment_score_definition,relevance_score_definition,feed Actual: Information)'\n",
      "  warnings.warn(str(other_exception))\n",
      " 96%|█████████▌| 23/24 [03:12<00:05,  5.21s/it]C:\\Users\\carlo\\Documents\\ProjectBuffalo\\buffalo\\ingestion\\__init__.py:101: UserWarning: 'Ingestion is not a subset of expected schema from https://www.alphavantage.co/query?function=NEWS_SENTIMENT&tickers=XLI&sort=Latest&limit=50&apikey=2rrNROO0beX90lPH7ixQOp0mT_9SwF0d. (Expected: items,sentiment_score_definition,relevance_score_definition,feed Actual: Information)'\n",
      "  warnings.warn(str(other_exception))\n",
      "100%|██████████| 24/24 [04:13<00:00, 10.54s/it]\n"
     ]
    }
   ],
   "source": [
    "ingestor.ingestion_from_web(news)"
   ]
  },
  {
   "cell_type": "code",
   "execution_count": 43,
   "metadata": {},
   "outputs": [],
   "source": [
    "ingestor.store_data(r'cached_data/ingestion.sqlite', data_names=news['data_name'])"
   ]
  }
 ],
 "metadata": {
  "kernelspec": {
   "display_name": "base",
   "language": "python",
   "name": "python3"
  },
  "language_info": {
   "codemirror_mode": {
    "name": "ipython",
    "version": 3
   },
   "file_extension": ".py",
   "mimetype": "text/x-python",
   "name": "python",
   "nbconvert_exporter": "python",
   "pygments_lexer": "ipython3",
   "version": "3.10.11"
  },
  "orig_nbformat": 4,
  "vscode": {
   "interpreter": {
    "hash": "83d7478708aee50e506b587dee1e78eca81d8069298324b7efb66c776783145b"
   }
  }
 },
 "nbformat": 4,
 "nbformat_minor": 2
}
