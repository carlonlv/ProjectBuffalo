{
 "cells": [
  {
   "cell_type": "code",
   "execution_count": null,
   "metadata": {},
   "outputs": [],
   "source": [
    "import os\n",
    "\n",
    "os.chdir(r'/Users/jialunlyu/Documents/GitHub/ProjectBuffalo')"
   ]
  },
  {
   "cell_type": "code",
   "execution_count": null,
   "metadata": {},
   "outputs": [],
   "source": [
    "import buffalo.ingestion as ingestion"
   ]
  },
  {
   "cell_type": "code",
   "execution_count": null,
   "metadata": {},
   "outputs": [],
   "source": [
    "ingestion.configuration.Configuration.print()"
   ]
  },
  {
   "cell_type": "code",
   "execution_count": null,
   "metadata": {},
   "outputs": [],
   "source": [
    "advantage_endpoint = ingestion.advantage.AdvantageStockGrepper()"
   ]
  },
  {
   "cell_type": "code",
   "execution_count": null,
   "metadata": {},
   "outputs": [],
   "source": [
    "advantage_endpoint.stock_download(\n",
    "    symbol='AAPL',\n",
    "    interval='daily',\n",
    "    year_slice=None, ## Intraday \n",
    "    adjusted=True\n",
    ")"
   ]
  },
  {
   "cell_type": "code",
   "execution_count": null,
   "metadata": {},
   "outputs": [],
   "source": [
    "advantage_endpoint.company_info_download(\n",
    "    'CASH_FLOW',\n",
    "    'IBM',\n",
    "    '3month'\n",
    ")"
   ]
  },
  {
   "cell_type": "code",
   "execution_count": null,
   "metadata": {},
   "outputs": [],
   "source": [
    "advantage_endpoint.listing_info_download(date='2022-02-24')"
   ]
  },
  {
   "cell_type": "code",
   "execution_count": null,
   "metadata": {},
   "outputs": [],
   "source": [
    "advantage_endpoint.trend_indicator_download(\n",
    "    function='SMA',\n",
    "    symbol='IBM',\n",
    "    interval='1min',\n",
    "    time_period=10,\n",
    "    series_type='close'\n",
    ")"
   ]
  },
  {
   "cell_type": "code",
   "execution_count": null,
   "metadata": {},
   "outputs": [],
   "source": [
    "advantage_endpoint.trend_indicator_download(\n",
    "    function='T3',\n",
    "    symbol='IBM',\n",
    "    interval='1min',\n",
    "    time_period=10,\n",
    "    series_type='close'\n",
    ")"
   ]
  },
  {
   "cell_type": "code",
   "execution_count": null,
   "metadata": {},
   "outputs": [],
   "source": [
    "advantage_endpoint.econ_download(\n",
    "    function='FEDERAL_FUNDS_RATE',\n",
    "    interval='daily'\n",
    ")"
   ]
  },
  {
   "cell_type": "code",
   "execution_count": null,
   "metadata": {},
   "outputs": [],
   "source": [
    "advantage_endpoint.econ_download(\n",
    "    function='TREASURY_YIELD',\n",
    "    interval='daily',\n",
    "    maturity='3month'\n",
    ")"
   ]
  },
  {
   "cell_type": "code",
   "execution_count": null,
   "metadata": {},
   "outputs": [],
   "source": [
    "advantage_endpoint.econ_download(\n",
    "    function='NONFARM_PAYROLL',\n",
    "    interval='monthly'\n",
    ")"
   ]
  },
  {
   "cell_type": "code",
   "execution_count": null,
   "metadata": {},
   "outputs": [],
   "source": [
    "advantage_endpoint.econ_download(\n",
    "    function='CPI',\n",
    "    interval='monthly'\n",
    ")"
   ]
  },
  {
   "cell_type": "code",
   "execution_count": null,
   "metadata": {},
   "outputs": [],
   "source": [
    "advantage_endpoint.econ_download(\n",
    "    function='UNEMPLOYMENT',\n",
    "    interval='monthly'\n",
    ")"
   ]
  },
  {
   "cell_type": "code",
   "execution_count": null,
   "metadata": {},
   "outputs": [],
   "source": [
    "advantage_endpoint.cycle_indicator_download(\n",
    "    function='ULTOSC',\n",
    "    symbol='IBM',\n",
    "    interval='1min',\n",
    "    time_period=10,\n",
    "    series_type='close'\n",
    ")"
   ]
  },
  {
   "cell_type": "code",
   "execution_count": null,
   "metadata": {},
   "outputs": [],
   "source": [
    "advantage_endpoint.cycle_indicator_download(\n",
    "    function='ULTOSC',\n",
    "    symbol='IBM',\n",
    "    interval='1min',\n",
    "    time_period=10,\n",
    "    series_type='close'\n",
    ")"
   ]
  },
  {
   "cell_type": "code",
   "execution_count": null,
   "metadata": {},
   "outputs": [],
   "source": [
    "advantage_endpoint.market_news_sentiment_download('IBM', sort='Latest', limit=50)"
   ]
  },
  {
   "cell_type": "code",
   "execution_count": null,
   "metadata": {},
   "outputs": [],
   "source": [
    "# import sqlite3\n",
    "\n",
    "\n",
    "# fp = r'~/newsqlitefile.sqlite'\n",
    "\n",
    "# import pandas as pd\n",
    "\n",
    "# a = pd.DataFrame({\"a\": range(10), \"v\": range(1, 11)})\n",
    "\n",
    "# newconn, _ = sqlite3.connect(fp)\n",
    "# a.to_sql(\"a\", newconn)\n",
    "\n",
    "# newconn.close()"
   ]
  }
 ],
 "metadata": {
  "kernelspec": {
   "display_name": "base",
   "language": "python",
   "name": "python3"
  },
  "language_info": {
   "codemirror_mode": {
    "name": "ipython",
    "version": 3
   },
   "file_extension": ".py",
   "mimetype": "text/x-python",
   "name": "python",
   "nbconvert_exporter": "python",
   "pygments_lexer": "ipython3",
   "version": "3.9.13"
  },
  "orig_nbformat": 4,
  "vscode": {
   "interpreter": {
    "hash": "3067ead486e059ec00ffe7555bdb889e6e264a24dc711bf108106cc7baee8d5d"
   }
  }
 },
 "nbformat": 4,
 "nbformat_minor": 2
}
