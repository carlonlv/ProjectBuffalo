{
 "cells": [
  {
   "cell_type": "code",
   "execution_count": 1,
   "metadata": {},
   "outputs": [],
   "source": [
    "import os\n",
    "\n",
    "os.chdir(r'/Users/jialunlyu/Documents/GitHub/ProjectBuffalo')"
   ]
  },
  {
   "cell_type": "code",
   "execution_count": 2,
   "metadata": {},
   "outputs": [],
   "source": [
    "import pandas as pd"
   ]
  },
  {
   "cell_type": "code",
   "execution_count": 3,
   "metadata": {},
   "outputs": [],
   "source": [
    "import buffalo.ingestion as ingestion"
   ]
  },
  {
   "cell_type": "code",
   "execution_count": 4,
   "metadata": {},
   "outputs": [
    {
     "name": "stdout",
     "output_type": "stream",
     "text": [
      "{'storage_folder': '../__cached_data', 'api_keys': {<API.ADVANTAGE: 1>: '2rrNROO0beX90lPH7ixQOp0mT_9SwF0d'}, 'watched_tickers': ['IBM', 'MSFT']}\n"
     ]
    }
   ],
   "source": [
    "ingestion.configuration.Configuration.print()"
   ]
  },
  {
   "cell_type": "code",
   "execution_count": 5,
   "metadata": {},
   "outputs": [],
   "source": [
    "ingestor = ingestion.DataIngestion(ingestion.enum.API.ADVANTAGE)"
   ]
  },
  {
   "cell_type": "code",
   "execution_count": 6,
   "metadata": {},
   "outputs": [],
   "source": [
    "tickers = ['AAPL', 'MSFT', 'IBM', 'META', 'JNJ', 'PFE', 'UNH', 'MARK', 'XLV', 'JPM', 'BAC', 'GS', 'MS', 'XLF', 'PG', 'KO', 'PEP', 'NKE', 'XLP', 'GE', 'HON', 'UTX', 'MMM', 'XLI']"
   ]
  },
  {
   "attachments": {},
   "cell_type": "markdown",
   "metadata": {},
   "source": [
    "#### Adjusted Daily Stock Data"
   ]
  },
  {
   "cell_type": "code",
   "execution_count": 7,
   "metadata": {},
   "outputs": [],
   "source": [
    "daily_stocks_args = pd.DataFrame({\n",
    "    'symbol': tickers,\n",
    "    'interval': 'daily',\n",
    "    'adjusted': True,\n",
    "    'data_type': ingestion.enum.DataType.STOCK,\n",
    "    'ingestion_type': ingestion.enum.IngestionType.REST,\n",
    "    'data_name': 'ADJUSTED_DAILY_STOCK'\n",
    "})"
   ]
  },
  {
   "cell_type": "code",
   "execution_count": 8,
   "metadata": {},
   "outputs": [
    {
     "name": "stderr",
     "output_type": "stream",
     "text": [
      "100%|██████████| 24/24 [04:10<00:00, 10.43s/it]\n"
     ]
    }
   ],
   "source": [
    "ingestor.ingestion_from_web(daily_stocks_args)"
   ]
  },
  {
   "cell_type": "code",
   "execution_count": 9,
   "metadata": {},
   "outputs": [],
   "source": [
    "ingestor.store_data(r'cached_data/ingestion.sqlite', data_names=None)"
   ]
  },
  {
   "attachments": {},
   "cell_type": "markdown",
   "metadata": {},
   "source": [
    "#### Company Info"
   ]
  },
  {
   "cell_type": "code",
   "execution_count": 10,
   "metadata": {},
   "outputs": [],
   "source": [
    "company_info = pd.DataFrame({\n",
    "    'symbol': tickers,\n",
    "    'data_type': ingestion.enum.DataType.COMPANY,\n",
    "    'ingestion_type': ingestion.enum.IngestionType.REST\n",
    "})"
   ]
  },
  {
   "cell_type": "code",
   "execution_count": 11,
   "metadata": {},
   "outputs": [],
   "source": [
    "company_info = company_info.merge(pd.DataFrame({\n",
    "    'function': ['OVERVIEW', 'INCOME_STATEMENT', 'BALANCE_SHEET', 'CASH_FLOW', 'EARNINGS', 'EARNINGS_CALENDAR'],\n",
    "    'data_name': ['COMPANY_OVERVIEW', 'COMPANY_INCOME_STATEMENT', 'COMPANY_BALANCE_SHEET', 'COMPANY_CASH_FLOW', 'COMPANY_EARNINGS', 'COMPANY_EARNINGS_CALENDAR_3M']\n",
    "    }), how='cross')"
   ]
  },
  {
   "cell_type": "code",
   "execution_count": 12,
   "metadata": {},
   "outputs": [
    {
     "name": "stderr",
     "output_type": "stream",
     "text": [
      "  3%|▎         | 5/144 [00:01<00:26,  5.15it/s]/Users/jialunlyu/Documents/GitHub/ProjectBuffalo/buffalo/ingestion/advantage.py:73: UserWarning: Ingestion results from https://www.alphavantage.co/query?function=EARNINGS_CALENDAR&symbol=AAPL&horizon=3month&apikey=2rrNROO0beX90lPH7ixQOp0mT_9SwF0d in 0 rows.\n",
      "  warnings.warn(f'Ingestion results from {url} in 0 rows.')\n",
      " 37%|███▋      | 53/144 [08:10<07:42,  5.08s/it]/Users/jialunlyu/Documents/GitHub/ProjectBuffalo/buffalo/ingestion/advantage.py:73: UserWarning: Ingestion results from https://www.alphavantage.co/query?function=EARNINGS_CALENDAR&symbol=XLV&horizon=3month&apikey=2rrNROO0beX90lPH7ixQOp0mT_9SwF0d in 0 rows.\n",
      "  warnings.warn(f'Ingestion results from {url} in 0 rows.')\n",
      " 58%|█████▊    | 83/144 [13:16<05:09,  5.08s/it]/Users/jialunlyu/Documents/GitHub/ProjectBuffalo/buffalo/ingestion/advantage.py:73: UserWarning: Ingestion results from https://www.alphavantage.co/query?function=EARNINGS_CALENDAR&symbol=XLF&horizon=3month&apikey=2rrNROO0beX90lPH7ixQOp0mT_9SwF0d in 0 rows.\n",
      "  warnings.warn(f'Ingestion results from {url} in 0 rows.')\n",
      " 74%|███████▍  | 107/144 [17:21<03:08,  5.10s/it]/Users/jialunlyu/Documents/GitHub/ProjectBuffalo/buffalo/ingestion/advantage.py:73: UserWarning: Ingestion results from https://www.alphavantage.co/query?function=EARNINGS_CALENDAR&symbol=NKE&horizon=3month&apikey=2rrNROO0beX90lPH7ixQOp0mT_9SwF0d in 0 rows.\n",
      "  warnings.warn(f'Ingestion results from {url} in 0 rows.')\n",
      " 78%|███████▊  | 113/144 [18:22<02:36,  5.06s/it]/Users/jialunlyu/Documents/GitHub/ProjectBuffalo/buffalo/ingestion/advantage.py:73: UserWarning: Ingestion results from https://www.alphavantage.co/query?function=EARNINGS_CALENDAR&symbol=XLP&horizon=3month&apikey=2rrNROO0beX90lPH7ixQOp0mT_9SwF0d in 0 rows.\n",
      "  warnings.warn(f'Ingestion results from {url} in 0 rows.')\n",
      " 91%|█████████ | 131/144 [21:26<01:06,  5.10s/it]/Users/jialunlyu/Documents/GitHub/ProjectBuffalo/buffalo/ingestion/advantage.py:73: UserWarning: Ingestion results from https://www.alphavantage.co/query?function=EARNINGS_CALENDAR&symbol=UTX&horizon=3month&apikey=2rrNROO0beX90lPH7ixQOp0mT_9SwF0d in 0 rows.\n",
      "  warnings.warn(f'Ingestion results from {url} in 0 rows.')\n",
      " 99%|█████████▉| 143/144 [23:28<00:05,  5.05s/it]/Users/jialunlyu/Documents/GitHub/ProjectBuffalo/buffalo/ingestion/advantage.py:73: UserWarning: Ingestion results from https://www.alphavantage.co/query?function=EARNINGS_CALENDAR&symbol=XLI&horizon=3month&apikey=2rrNROO0beX90lPH7ixQOp0mT_9SwF0d in 0 rows.\n",
      "  warnings.warn(f'Ingestion results from {url} in 0 rows.')\n",
      "100%|██████████| 144/144 [23:28<00:00,  9.78s/it]\n"
     ]
    }
   ],
   "source": [
    "ingestor.ingestion_from_web(company_info)"
   ]
  },
  {
   "attachments": {},
   "cell_type": "markdown",
   "metadata": {},
   "source": [
    "#### Listing Info"
   ]
  },
  {
   "cell_type": "code",
   "execution_count": 13,
   "metadata": {},
   "outputs": [],
   "source": [
    "listing_info = pd.DataFrame({\n",
    "    'date': ['2022-01-01'],\n",
    "    'data_type': ingestion.enum.DataType.STOCK_LISTING,\n",
    "    'ingestion_type': ingestion.enum.IngestionType.REST,\n",
    "    'data_name': 'LISTING_INFO'\n",
    "})"
   ]
  },
  {
   "cell_type": "code",
   "execution_count": 14,
   "metadata": {},
   "outputs": [
    {
     "name": "stderr",
     "output_type": "stream",
     "text": [
      "  0%|          | 0/1 [00:00<?, ?it/s]/Users/jialunlyu/Documents/GitHub/ProjectBuffalo/buffalo/ingestion/advantage.py:73: UserWarning: Ingestion results from https://www.alphavantage.co/query?function=LISTING_STATUS&date=2022-01-01&state=active&apikey=2rrNROO0beX90lPH7ixQOp0mT_9SwF0d in 0 rows.\n",
      "  warnings.warn(f'Ingestion results from {url} in 0 rows.')\n",
      "100%|██████████| 1/1 [00:00<00:00,  5.83it/s]\n"
     ]
    }
   ],
   "source": [
    "ingestor.ingestion_from_web(listing_info)"
   ]
  },
  {
   "attachments": {},
   "cell_type": "markdown",
   "metadata": {},
   "source": [
    "#### Economic Indicators"
   ]
  },
  {
   "cell_type": "code",
   "execution_count": 15,
   "metadata": {},
   "outputs": [],
   "source": [
    "economy = pd.DataFrame({\n",
    "    'function': ['FEDERAL_FUNDS_RATE', 'TREASURY_YIELD', 'NONFARM_PAYROLL', 'CPI', 'UNEMPLOYMENT'],\n",
    "    'interval': ['daily', 'daily', 'monthly', 'monthly', 'monthly'],\n",
    "    'maturity': '3month',\n",
    "    'data_type': ingestion.enum.DataType.ECON,\n",
    "    'ingestion_type': ingestion.enum.IngestionType.REST,\n",
    "    'data_name': 'ECONOMY'\n",
    "})"
   ]
  },
  {
   "cell_type": "code",
   "execution_count": 16,
   "metadata": {},
   "outputs": [
    {
     "name": "stderr",
     "output_type": "stream",
     "text": [
      "100%|██████████| 5/5 [01:01<00:00, 12.24s/it]\n"
     ]
    }
   ],
   "source": [
    "ingestor.ingestion_from_web(economy)"
   ]
  },
  {
   "attachments": {},
   "cell_type": "markdown",
   "metadata": {},
   "source": [
    "#### SMA Trend Indicator"
   ]
  },
  {
   "cell_type": "code",
   "execution_count": 17,
   "metadata": {},
   "outputs": [],
   "source": [
    "sma_trend = pd.DataFrame({\n",
    "    'symbol': tickers,\n",
    "    'function': 'SMA',\n",
    "    'interval': 'daily',\n",
    "    'data_type': ingestion.enum.DataType.TREND_INDICATOR,\n",
    "    'ingestion_type': ingestion.enum.IngestionType.REST,\n",
    "    'data_name': 'SMA'\n",
    "})"
   ]
  },
  {
   "cell_type": "code",
   "execution_count": 18,
   "metadata": {},
   "outputs": [],
   "source": [
    "sma_trend = sma_trend.merge(pd.DataFrame({\n",
    "    'time_period': [10, 50, 200]\n",
    "}), how='cross').merge(pd.DataFrame({\n",
    "    'series_type': ['open', 'close', 'high', 'low']\n",
    "}), how='cross')"
   ]
  },
  {
   "cell_type": "code",
   "execution_count": 19,
   "metadata": {},
   "outputs": [
    {
     "name": "stderr",
     "output_type": "stream",
     "text": [
      "100%|██████████| 288/288 [49:37<00:00, 10.34s/it]  \n"
     ]
    }
   ],
   "source": [
    "ingestor.ingestion_from_web(sma_trend)"
   ]
  },
  {
   "attachments": {},
   "cell_type": "markdown",
   "metadata": {},
   "source": [
    "#### Cyclic Indicators"
   ]
  },
  {
   "cell_type": "code",
   "execution_count": 20,
   "metadata": {},
   "outputs": [],
   "source": [
    "ht_sine_cycle = pd.DataFrame({\n",
    "    'symbol': tickers,\n",
    "    'function': 'HT_SINE',\n",
    "    'interval': 'daily',\n",
    "    'data_type': ingestion.enum.DataType.CYCLE_INDICATOR,\n",
    "    'ingestion_type': ingestion.enum.IngestionType.REST,\n",
    "    'data_name': 'HT_SINE'\n",
    "})"
   ]
  },
  {
   "cell_type": "code",
   "execution_count": 21,
   "metadata": {},
   "outputs": [],
   "source": [
    "ht_sine_cycle = ht_sine_cycle.merge(pd.DataFrame({'time_period': [50, 200]}), how='cross').merge(pd.DataFrame({'series_type': ['open', 'high', 'low', 'close']}), how='cross')"
   ]
  },
  {
   "cell_type": "code",
   "execution_count": 22,
   "metadata": {},
   "outputs": [
    {
     "name": "stderr",
     "output_type": "stream",
     "text": [
      "100%|██████████| 192/192 [32:30<00:00, 10.16s/it] \n"
     ]
    }
   ],
   "source": [
    "ingestor.ingestion_from_web(ht_sine_cycle)"
   ]
  },
  {
   "attachments": {},
   "cell_type": "markdown",
   "metadata": {},
   "source": [
    "#### Momentum Indicator"
   ]
  },
  {
   "cell_type": "code",
   "execution_count": 23,
   "metadata": {},
   "outputs": [],
   "source": [
    "momentum_cycle = pd.DataFrame({\n",
    "    'symbol': tickers,\n",
    "    'interval': 'daily',\n",
    "    'data_type': ingestion.enum.DataType.CYCLE_INDICATOR,\n",
    "    'ingestion_type': ingestion.enum.IngestionType.REST\n",
    "})"
   ]
  },
  {
   "cell_type": "code",
   "execution_count": 24,
   "metadata": {},
   "outputs": [],
   "source": [
    "momentum_cycle = momentum_cycle.merge(pd.DataFrame({'function': ['MOM', 'ROC']}), how='cross').merge(pd.DataFrame({'time_period': [50, 200]}), how='cross').merge(pd.DataFrame({'series_type': ['open', 'high', 'low', 'close']}), how='cross')"
   ]
  },
  {
   "cell_type": "code",
   "execution_count": 25,
   "metadata": {},
   "outputs": [
    {
     "name": "stderr",
     "output_type": "stream",
     "text": [
      "100%|██████████| 384/384 [1:07:21<00:00, 10.52s/it]\n"
     ]
    }
   ],
   "source": [
    "ingestor.ingestion_from_web(momentum_cycle)"
   ]
  },
  {
   "attachments": {},
   "cell_type": "markdown",
   "metadata": {},
   "source": [
    "#### Market News"
   ]
  },
  {
   "cell_type": "code",
   "execution_count": 26,
   "metadata": {},
   "outputs": [],
   "source": [
    "news = pd.DataFrame({\n",
    "    'symbol': tickers,\n",
    "    'sort': 'Latest',\n",
    "    'limit': 50,\n",
    "    'data_type': ingestion.enum.DataType.MARKET_NEWS,\n",
    "    'ingestion_type': ingestion.enum.IngestionType.REST,\n",
    "    'data_name': 'MARKET_NEWS'\n",
    "})"
   ]
  },
  {
   "cell_type": "code",
   "execution_count": 27,
   "metadata": {},
   "outputs": [
    {
     "name": "stderr",
     "output_type": "stream",
     "text": [
      "  0%|          | 0/24 [00:00<?, ?it/s]\n"
     ]
    },
    {
     "ename": "TypeError",
     "evalue": "market_news_sentiment_download() got an unexpected keyword argument 'symbol'",
     "output_type": "error",
     "traceback": [
      "\u001b[0;31m---------------------------------------------------------------------------\u001b[0m",
      "\u001b[0;31mTypeError\u001b[0m                                 Traceback (most recent call last)",
      "\u001b[0;32m/var/folders/k2/94jcyybj1v5gsbpwvycnh6y80000gn/T/ipykernel_48703/2242956584.py\u001b[0m in \u001b[0;36m<module>\u001b[0;34m\u001b[0m\n\u001b[0;32m----> 1\u001b[0;31m \u001b[0mingestor\u001b[0m\u001b[0;34m.\u001b[0m\u001b[0mingestion_from_web\u001b[0m\u001b[0;34m(\u001b[0m\u001b[0mnews\u001b[0m\u001b[0;34m)\u001b[0m\u001b[0;34m\u001b[0m\u001b[0;34m\u001b[0m\u001b[0m\n\u001b[0m",
      "\u001b[0;32m~/Documents/GitHub/ProjectBuffalo/buffalo/ingestion/__init__.py\u001b[0m in \u001b[0;36mingestion_from_web\u001b[0;34m(self, args_df, wait_time, max_retries)\u001b[0m\n\u001b[1;32m     90\u001b[0m             \u001b[0mretries\u001b[0m \u001b[0;34m=\u001b[0m \u001b[0;36m0\u001b[0m\u001b[0;34m\u001b[0m\u001b[0;34m\u001b[0m\u001b[0m\n\u001b[1;32m     91\u001b[0m             \u001b[0;32mtry\u001b[0m\u001b[0;34m:\u001b[0m\u001b[0;34m\u001b[0m\u001b[0;34m\u001b[0m\u001b[0m\n\u001b[0;32m---> 92\u001b[0;31m                 \u001b[0m_ingestion_from_web\u001b[0m\u001b[0;34m(\u001b[0m\u001b[0;34m**\u001b[0m\u001b[0margs_df\u001b[0m\u001b[0;34m.\u001b[0m\u001b[0mloc\u001b[0m\u001b[0;34m[\u001b[0m\u001b[0mi\u001b[0m\u001b[0;34m]\u001b[0m\u001b[0;34m.\u001b[0m\u001b[0mto_dict\u001b[0m\u001b[0;34m(\u001b[0m\u001b[0;34m)\u001b[0m\u001b[0;34m)\u001b[0m\u001b[0;34m\u001b[0m\u001b[0;34m\u001b[0m\u001b[0m\n\u001b[0m\u001b[1;32m     93\u001b[0m             \u001b[0;32mexcept\u001b[0m \u001b[0mConnectionRefusedError\u001b[0m\u001b[0;34m:\u001b[0m\u001b[0;34m\u001b[0m\u001b[0;34m\u001b[0m\u001b[0m\n\u001b[1;32m     94\u001b[0m                 \u001b[0;32mif\u001b[0m \u001b[0mretries\u001b[0m \u001b[0;34m>\u001b[0m \u001b[0mmax_retries\u001b[0m\u001b[0;34m:\u001b[0m\u001b[0;34m\u001b[0m\u001b[0;34m\u001b[0m\u001b[0m\n",
      "\u001b[0;32m~/Documents/GitHub/ProjectBuffalo/buffalo/ingestion/__init__.py\u001b[0m in \u001b[0;36m_ingestion_from_web\u001b[0;34m(data_type, ingestion_type, end_points, data_name, **ingestion_args)\u001b[0m\n\u001b[1;32m     74\u001b[0m                 \u001b[0mdata_name\u001b[0m \u001b[0;34m=\u001b[0m \u001b[0mcreate_and_dodge_new_name\u001b[0m\u001b[0;34m(\u001b[0m\u001b[0mself\u001b[0m\u001b[0;34m.\u001b[0m\u001b[0mdata\u001b[0m\u001b[0;34m.\u001b[0m\u001b[0mkeys\u001b[0m\u001b[0;34m(\u001b[0m\u001b[0;34m)\u001b[0m\u001b[0;34m,\u001b[0m \u001b[0;34m'NewFile'\u001b[0m\u001b[0;34m,\u001b[0m \u001b[0;34m''\u001b[0m\u001b[0;34m)\u001b[0m\u001b[0;34m\u001b[0m\u001b[0;34m\u001b[0m\u001b[0m\n\u001b[1;32m     75\u001b[0m \u001b[0;34m\u001b[0m\u001b[0m\n\u001b[0;32m---> 76\u001b[0;31m             \u001b[0mnew_data\u001b[0m \u001b[0;34m=\u001b[0m \u001b[0mtarget_end_point\u001b[0m\u001b[0;34m.\u001b[0m\u001b[0mingestion_methods\u001b[0m\u001b[0;34m[\u001b[0m\u001b[0;34m(\u001b[0m\u001b[0mdata_type\u001b[0m\u001b[0;34m,\u001b[0m \u001b[0mingestion_type\u001b[0m\u001b[0;34m)\u001b[0m\u001b[0;34m]\u001b[0m\u001b[0;34m(\u001b[0m\u001b[0;34m**\u001b[0m\u001b[0mingestion_args\u001b[0m\u001b[0;34m)\u001b[0m\u001b[0;34m\u001b[0m\u001b[0;34m\u001b[0m\u001b[0m\n\u001b[0m\u001b[1;32m     77\u001b[0m \u001b[0;34m\u001b[0m\u001b[0m\n\u001b[1;32m     78\u001b[0m             \u001b[0;32mfor\u001b[0m \u001b[0ming_k\u001b[0m\u001b[0;34m,\u001b[0m \u001b[0ming_v\u001b[0m \u001b[0;32min\u001b[0m \u001b[0mingestion_args\u001b[0m\u001b[0;34m.\u001b[0m\u001b[0mitems\u001b[0m\u001b[0;34m(\u001b[0m\u001b[0;34m)\u001b[0m\u001b[0;34m:\u001b[0m\u001b[0;34m\u001b[0m\u001b[0;34m\u001b[0m\u001b[0m\n",
      "\u001b[0;31mTypeError\u001b[0m: market_news_sentiment_download() got an unexpected keyword argument 'symbol'"
     ]
    }
   ],
   "source": [
    "ingestor.ingestion_from_web(news)"
   ]
  },
  {
   "attachments": {},
   "cell_type": "markdown",
   "metadata": {},
   "source": [
    "#### Storing All the Data to File"
   ]
  },
  {
   "cell_type": "code",
   "execution_count": 29,
   "metadata": {},
   "outputs": [
    {
     "data": {
      "text/plain": [
       "dict_keys(['ADJUSTED_DAILY_STOCK', 'COMPANY_OVERVIEW', 'COMPANY_INCOME_STATEMENT', 'COMPANY_BALANCE_SHEET', 'COMPANY_CASH_FLOW', 'COMPANY_EARNINGS', 'COMPANY_EARNINGS_CALENDAR_3M', 'LISTING_INFO', 'ECONOMY', 'SMA', 'HT_SINE', 'NewFile', 'NewFile1'])"
      ]
     },
     "execution_count": 29,
     "metadata": {},
     "output_type": "execute_result"
    }
   ],
   "source": [
    "ingestor.data.keys()"
   ]
  },
  {
   "cell_type": "code",
   "execution_count": 32,
   "metadata": {},
   "outputs": [],
   "source": [
    "ingestor.store_data(r'cached_data/ingestion.sqlite', data_names=['COMPANY_EARNINGS', 'COMPANY_EARNINGS_CALENDAR_3M', 'LISTING_INFO', 'ECONOMY', 'SMA', 'HT_SINE'])"
   ]
  }
 ],
 "metadata": {
  "kernelspec": {
   "display_name": "base",
   "language": "python",
   "name": "python3"
  },
  "language_info": {
   "codemirror_mode": {
    "name": "ipython",
    "version": 3
   },
   "file_extension": ".py",
   "mimetype": "text/x-python",
   "name": "python",
   "nbconvert_exporter": "python",
   "pygments_lexer": "ipython3",
   "version": "3.9.13"
  },
  "orig_nbformat": 4,
  "vscode": {
   "interpreter": {
    "hash": "3067ead486e059ec00ffe7555bdb889e6e264a24dc711bf108106cc7baee8d5d"
   }
  }
 },
 "nbformat": 4,
 "nbformat_minor": 2
}
