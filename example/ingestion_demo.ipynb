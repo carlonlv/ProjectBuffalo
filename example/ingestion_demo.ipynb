{
 "cells": [
  {
   "cell_type": "code",
   "execution_count": 1,
   "metadata": {},
   "outputs": [],
   "source": [
    "import os\n",
    "\n",
    "os.chdir(r'C:\\Users\\carlo\\GitHub\\ProjectBuffalo')"
   ]
  },
  {
   "cell_type": "code",
   "execution_count": 2,
   "metadata": {},
   "outputs": [],
   "source": [
    "import buffalo.ingestion as ingestion"
   ]
  },
  {
   "cell_type": "code",
   "execution_count": 3,
   "metadata": {},
   "outputs": [
    {
     "name": "stdout",
     "output_type": "stream",
     "text": [
      "{'storage_folder': '../__cached_data', 'api_keys': {<API.ADVANTAGE: 1>: '2rrNROO0beX90lPH7ixQOp0mT_9SwF0d'}, 'watched_tickers': ['IBM', 'MSFT']}\n"
     ]
    }
   ],
   "source": [
    "ingestion.configuration.Configuration.print()"
   ]
  },
  {
   "cell_type": "code",
   "execution_count": 4,
   "metadata": {},
   "outputs": [],
   "source": [
    "advantage_endpoint = ingestion.advantage.AdvantageStockGrepper()"
   ]
  },
  {
   "cell_type": "code",
   "execution_count": 5,
   "metadata": {},
   "outputs": [],
   "source": [
    "apple_stock = advantage_endpoint.stock_download(\n",
    "    symbol='AAPL',\n",
    "    interval='daily',\n",
    "    year_slice=None, ## Intraday \n",
    "    adjusted=True\n",
    ")"
   ]
  },
  {
   "cell_type": "code",
   "execution_count": 6,
   "metadata": {},
   "outputs": [],
   "source": [
    "import buffalo.algorithm.outliers as ol_algo "
   ]
  },
  {
   "cell_type": "code",
   "execution_count": 7,
   "metadata": {},
   "outputs": [],
   "source": [
    "import pandas as pd"
   ]
  },
  {
   "cell_type": "code",
   "execution_count": 8,
   "metadata": {},
   "outputs": [],
   "source": [
    "apple_stock.to_csv('apple_stock.csv', index=False)"
   ]
  },
  {
   "cell_type": "code",
   "execution_count": 9,
   "metadata": {},
   "outputs": [],
   "source": [
    "ol_detection = ol_algo.IterativeTtestOutlierDetection(\n",
    "    types= pd.DataFrame({'type': ['IO', 'AO', 'TC']}),\n",
    "    maxit=1,\n",
    "    maxit_iloop=4,\n",
    "    maxit_oloop=4,\n",
    "    cval=None,\n",
    "    cval_reduce=0.14286,\n",
    "    discard_method='en-masse',\n",
    "    discard_cval=None,\n",
    "    tsmethod='ARIMA',\n",
    "    args_tsmethod={\n",
    "        \"order\": (1,0,1),\n",
    "        \"seasonal_order\": (0, 0, 0, 0),\n",
    "        \"with_intercept\": False\n",
    "    }\n",
    ")"
   ]
  },
  {
   "cell_type": "code",
   "execution_count": 10,
   "metadata": {},
   "outputs": [
    {
     "name": "stderr",
     "output_type": "stream",
     "text": [
      "C:\\Users\\carlo\\GitHub\\ProjectBuffalo\\buffalo\\algorithm\\outliers.py:633: UserWarning: Maximum number of iterations reached for inner loop.\n",
      "  warnings.warn('Maximum number of iterations reached for inner loop.')\n",
      "C:\\Users\\carlo\\GitHub\\ProjectBuffalo\\buffalo\\algorithm\\outliers.py:633: UserWarning: Maximum number of iterations reached for inner loop.\n",
      "  warnings.warn('Maximum number of iterations reached for inner loop.')\n",
      "C:\\Users\\carlo\\GitHub\\ProjectBuffalo\\buffalo\\algorithm\\outliers.py:633: UserWarning: Maximum number of iterations reached for inner loop.\n",
      "  warnings.warn('Maximum number of iterations reached for inner loop.')\n",
      "C:\\Users\\carlo\\GitHub\\ProjectBuffalo\\buffalo\\algorithm\\outliers.py:700: UserWarning: Maximum number of iterations reached for outer loop.\n",
      "  warnings.warn('Maximum number of iterations reached for outer loop.')\n",
      "c:\\Users\\carlo\\miniconda3\\lib\\site-packages\\statsmodels\\base\\model.py:604: ConvergenceWarning: Maximum Likelihood optimization failed to converge. Check mle_retvals\n",
      "  warnings.warn(\"Maximum Likelihood optimization failed to \"\n",
      "c:\\Users\\carlo\\miniconda3\\lib\\site-packages\\statsmodels\\base\\model.py:604: ConvergenceWarning: Maximum Likelihood optimization failed to converge. Check mle_retvals\n",
      "  warnings.warn(\"Maximum Likelihood optimization failed to \"\n",
      "c:\\Users\\carlo\\miniconda3\\lib\\site-packages\\statsmodels\\base\\model.py:604: ConvergenceWarning: Maximum Likelihood optimization failed to converge. Check mle_retvals\n",
      "  warnings.warn(\"Maximum Likelihood optimization failed to \"\n",
      "c:\\Users\\carlo\\miniconda3\\lib\\site-packages\\statsmodels\\base\\model.py:604: ConvergenceWarning: Maximum Likelihood optimization failed to converge. Check mle_retvals\n",
      "  warnings.warn(\"Maximum Likelihood optimization failed to \"\n",
      "c:\\Users\\carlo\\miniconda3\\lib\\site-packages\\statsmodels\\base\\model.py:604: ConvergenceWarning: Maximum Likelihood optimization failed to converge. Check mle_retvals\n",
      "  warnings.warn(\"Maximum Likelihood optimization failed to \"\n",
      "c:\\Users\\carlo\\miniconda3\\lib\\site-packages\\statsmodels\\base\\model.py:604: ConvergenceWarning: Maximum Likelihood optimization failed to converge. Check mle_retvals\n",
      "  warnings.warn(\"Maximum Likelihood optimization failed to \"\n",
      "c:\\Users\\carlo\\miniconda3\\lib\\site-packages\\statsmodels\\base\\model.py:604: ConvergenceWarning: Maximum Likelihood optimization failed to converge. Check mle_retvals\n",
      "  warnings.warn(\"Maximum Likelihood optimization failed to \"\n"
     ]
    },
    {
     "data": {
      "text/plain": [
       "(   type_id    id type  residuals t_index   coefhat       tstat  delta min_n\n",
       " 0        1  2011   AO   3.791667     312   32.9867    8.599244    NaN   NaN\n",
       " 1        2    73   TC -22.276292     747  -14.6746   -5.141766    0.7   NaN\n",
       " 2        1  1104   AO   3.184153     802  -27.1779   -8.934221    NaN   NaN\n",
       " 3        1  2040   AO   4.046009     819  -15.3601   -5.189223    NaN   NaN\n",
       " 4        0  1815   IO   6.646394    2325  365.7705  125.910671    NaN   NaN\n",
       " 5        2  1856   TC  -4.512623    2521  545.3019  267.173885    0.7   NaN\n",
       " 6        2   266   TC  -4.292360    2530  -41.2551   -4.434125    0.7   NaN\n",
       " 7        2   344   TC  18.319899    2642   62.1507    8.751155    0.7   NaN\n",
       " 8        0   525   IO  -8.039846    3277  -26.6587   -6.618347    NaN   NaN\n",
       " 9        1   559   AO   6.643573    3698  -25.0883   -9.601339    NaN   NaN\n",
       " 10       2  2186   TC   5.807351    3706  -15.7576   -5.122757    0.7   NaN\n",
       " 11       0   563   IO   7.713799    3712  -35.9969   -8.673952    NaN   NaN\n",
       " 12       1  2350   AO   2.531771    3762  -31.1224   -6.312860    NaN   NaN\n",
       " 13       2  1013   TC   4.990981    3766  -49.6176   -8.371453    0.7   NaN\n",
       " 14       0  2514   IO  -5.749841    5810  -20.0703   -5.507766    NaN   NaN,\n",
       " 0       150.590000\n",
       " 1       152.870000\n",
       " 2       151.600000\n",
       " 3       153.830000\n",
       " 4       151.030000\n",
       "            ...    \n",
       " 5871   -193.206159\n",
       " 5872   -197.896159\n",
       " 5873   -200.016159\n",
       " 5874   -201.266159\n",
       " 5875   -203.896159\n",
       " Length: 5876, dtype: float64,\n",
       " id    ol_id_2011  ol_id_73  ol_id_1104  ol_id_2040  ol_id_1815  ol_id_1856  \\\n",
       " 0            0.0       0.0         0.0         0.0    0.000000    0.000000   \n",
       " 1            0.0       0.0         0.0         0.0    0.000000    0.000000   \n",
       " 2            0.0       0.0         0.0         0.0    0.000000    0.000000   \n",
       " 3            0.0       0.0         0.0         0.0    0.000000    0.000000   \n",
       " 4            0.0       0.0         0.0         0.0    0.000000    0.000000   \n",
       " ...          ...       ...         ...         ...         ...         ...   \n",
       " 5871         0.0       0.0         0.0         0.0    0.047778    0.122516   \n",
       " 5872         0.0       0.0         0.0         0.0    0.047749    0.122443   \n",
       " 5873         0.0       0.0         0.0         0.0    0.047721    0.122369   \n",
       " 5874         0.0       0.0         0.0         0.0    0.047692    0.122296   \n",
       " 5875         0.0       0.0         0.0         0.0    0.047663    0.122223   \n",
       " \n",
       " id    ol_id_266  ol_id_344      ol_id_525      ol_id_559     ol_id_2186  \\\n",
       " 0      0.000000   0.000000   0.000000e+00   0.000000e+00   0.000000e+00   \n",
       " 1      0.000000   0.000000   0.000000e+00   0.000000e+00   0.000000e+00   \n",
       " 2      0.000000   0.000000   0.000000e+00   0.000000e+00   0.000000e+00   \n",
       " 3      0.000000   0.000000   0.000000e+00   0.000000e+00   0.000000e+00   \n",
       " 4      0.000000   0.000000   0.000000e+00   0.000000e+00   0.000000e+00   \n",
       " ...         ...        ...            ...            ...            ...   \n",
       " 5871   0.124817   0.150702  4.940656e-324  4.940656e-324  4.940656e-324   \n",
       " 5872   0.124742   0.150612  4.940656e-324  4.940656e-324  4.940656e-324   \n",
       " 5873   0.124668   0.150522  4.940656e-324  4.940656e-324  4.940656e-324   \n",
       " 5874   0.124593   0.150431  4.940656e-324  4.940656e-324  4.940656e-324   \n",
       " 5875   0.124518   0.150341  4.940656e-324  4.940656e-324  4.940656e-324   \n",
       " \n",
       " id        ol_id_563     ol_id_2350     ol_id_1013     ol_id_2514  \n",
       " 0      0.000000e+00   0.000000e+00   0.000000e+00   0.000000e+00  \n",
       " 1      0.000000e+00   0.000000e+00   0.000000e+00   0.000000e+00  \n",
       " 2      0.000000e+00   0.000000e+00   0.000000e+00   0.000000e+00  \n",
       " 3      0.000000e+00   0.000000e+00   0.000000e+00   0.000000e+00  \n",
       " 4      0.000000e+00   0.000000e+00   0.000000e+00   0.000000e+00  \n",
       " ...             ...            ...            ...            ...  \n",
       " 5871  4.940656e-324  4.940656e-324  4.940656e-324  7.456768e-313  \n",
       " 5872  4.940656e-324  4.940656e-324  4.940656e-324  5.219738e-313  \n",
       " 5873  4.940656e-324  4.940656e-324  4.940656e-324  3.653816e-313  \n",
       " 5874  4.940656e-324  4.940656e-324  4.940656e-324  2.557671e-313  \n",
       " 5875  4.940656e-324  4.940656e-324  4.940656e-324  1.790370e-313  \n",
       " \n",
       " [5876 rows x 15 columns])"
      ]
     },
     "execution_count": 10,
     "metadata": {},
     "output_type": "execute_result"
    }
   ],
   "source": [
    "ol_detection.fit(endog=apple_stock['close'], exog=None, fit_args={})"
   ]
  },
  {
   "cell_type": "code",
   "execution_count": null,
   "metadata": {},
   "outputs": [],
   "source": [
    "advantage_endpoint.company_info_download(\n",
    "    'CASH_FLOW',\n",
    "    'IBM',\n",
    "    '3month'\n",
    ")"
   ]
  },
  {
   "cell_type": "code",
   "execution_count": null,
   "metadata": {},
   "outputs": [],
   "source": [
    "advantage_endpoint.listing_info_download(date='2022-02-24')"
   ]
  },
  {
   "cell_type": "code",
   "execution_count": null,
   "metadata": {},
   "outputs": [],
   "source": [
    "advantage_endpoint.trend_indicator_download(\n",
    "    function='SMA',\n",
    "    symbol='IBM',\n",
    "    interval='1min',\n",
    "    time_period=10,\n",
    "    series_type='close'\n",
    ")"
   ]
  },
  {
   "cell_type": "code",
   "execution_count": null,
   "metadata": {},
   "outputs": [],
   "source": [
    "advantage_endpoint.trend_indicator_download(\n",
    "    function='T3',\n",
    "    symbol='IBM',\n",
    "    interval='1min',\n",
    "    time_period=10,\n",
    "    series_type='close'\n",
    ")"
   ]
  },
  {
   "cell_type": "code",
   "execution_count": null,
   "metadata": {},
   "outputs": [],
   "source": [
    "advantage_endpoint.econ_download(\n",
    "    function='FEDERAL_FUNDS_RATE',\n",
    "    interval='daily'\n",
    ")"
   ]
  },
  {
   "cell_type": "code",
   "execution_count": null,
   "metadata": {},
   "outputs": [],
   "source": [
    "advantage_endpoint.econ_download(\n",
    "    function='TREASURY_YIELD',\n",
    "    interval='daily',\n",
    "    maturity='3month'\n",
    ")"
   ]
  },
  {
   "cell_type": "code",
   "execution_count": null,
   "metadata": {},
   "outputs": [],
   "source": [
    "advantage_endpoint.econ_download(\n",
    "    function='NONFARM_PAYROLL',\n",
    "    interval='monthly'\n",
    ")"
   ]
  },
  {
   "cell_type": "code",
   "execution_count": null,
   "metadata": {},
   "outputs": [],
   "source": [
    "advantage_endpoint.econ_download(\n",
    "    function='CPI',\n",
    "    interval='monthly'\n",
    ")"
   ]
  },
  {
   "cell_type": "code",
   "execution_count": null,
   "metadata": {},
   "outputs": [],
   "source": [
    "advantage_endpoint.econ_download(\n",
    "    function='UNEMPLOYMENT',\n",
    "    interval='monthly'\n",
    ")"
   ]
  },
  {
   "cell_type": "code",
   "execution_count": null,
   "metadata": {},
   "outputs": [],
   "source": [
    "advantage_endpoint.cycle_indicator_download(\n",
    "    function='ULTOSC',\n",
    "    symbol='IBM',\n",
    "    interval='1min',\n",
    "    time_period=10,\n",
    "    series_type='close'\n",
    ")"
   ]
  },
  {
   "cell_type": "code",
   "execution_count": null,
   "metadata": {},
   "outputs": [],
   "source": [
    "advantage_endpoint.cycle_indicator_download(\n",
    "    function='ULTOSC',\n",
    "    symbol='IBM',\n",
    "    interval='1min',\n",
    "    time_period=10,\n",
    "    series_type='close'\n",
    ")"
   ]
  },
  {
   "cell_type": "code",
   "execution_count": null,
   "metadata": {},
   "outputs": [],
   "source": [
    "advantage_endpoint.market_news_sentiment_download('IBM', sort='Latest', limit=50)[0]"
   ]
  },
  {
   "cell_type": "code",
   "execution_count": null,
   "metadata": {},
   "outputs": [],
   "source": [
    "advantage_endpoint.market_news_sentiment_download('IBM', sort='relevance', limit=50)[1]"
   ]
  },
  {
   "cell_type": "code",
   "execution_count": null,
   "metadata": {},
   "outputs": [],
   "source": [
    "# import sqlite3\n",
    "\n",
    "\n",
    "# fp = r'~/newsqlitefile.sqlite'\n",
    "\n",
    "# import pandas as pd\n",
    "\n",
    "# a = pd.DataFrame({\"a\": range(10), \"v\": range(1, 11)})\n",
    "\n",
    "# newconn, _ = sqlite3.connect(fp)\n",
    "# a.to_sql(\"a\", newconn)\n",
    "\n",
    "# newconn.close()"
   ]
  }
 ],
 "metadata": {
  "kernelspec": {
   "display_name": "base",
   "language": "python",
   "name": "python3"
  },
  "language_info": {
   "codemirror_mode": {
    "name": "ipython",
    "version": 3
   },
   "file_extension": ".py",
   "mimetype": "text/x-python",
   "name": "python",
   "nbconvert_exporter": "python",
   "pygments_lexer": "ipython3",
   "version": "3.9.13"
  },
  "orig_nbformat": 4,
  "vscode": {
   "interpreter": {
    "hash": "3067ead486e059ec00ffe7555bdb889e6e264a24dc711bf108106cc7baee8d5d"
   }
  }
 },
 "nbformat": 4,
 "nbformat_minor": 2
}
