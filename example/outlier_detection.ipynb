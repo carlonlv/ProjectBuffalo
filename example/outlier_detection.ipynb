{
 "cells": [
  {
   "cell_type": "code",
   "execution_count": null,
   "metadata": {},
   "outputs": [],
   "source": [
    "import os\n",
    "\n",
    "os.chdir(r'/Users/jialunlyu/Documents/GitHub/ProjectBuffalo')"
   ]
  },
  {
   "cell_type": "code",
   "execution_count": null,
   "metadata": {},
   "outputs": [],
   "source": [
    "import pandas as pd\n",
    "import numpy as np\n",
    "import buffalo.algorithm.outliers as ol_algo "
   ]
  },
  {
   "cell_type": "code",
   "execution_count": null,
   "metadata": {},
   "outputs": [],
   "source": [
    "import matplotlib.pyplot as plt"
   ]
  },
  {
   "cell_type": "code",
   "execution_count": null,
   "metadata": {},
   "outputs": [],
   "source": [
    "from statsmodels.tsa.api import ArmaProcess"
   ]
  },
  {
   "cell_type": "code",
   "execution_count": null,
   "metadata": {},
   "outputs": [],
   "source": [
    "armaprocess = ArmaProcess(ar=np.array([0.75]), ma=np.array([0.23]))"
   ]
  },
  {
   "cell_type": "code",
   "execution_count": null,
   "metadata": {},
   "outputs": [],
   "source": [
    "obs = armaprocess.generate_sample(5000)"
   ]
  },
  {
   "cell_type": "code",
   "execution_count": null,
   "metadata": {},
   "outputs": [],
   "source": [
    "plt.plot(obs)"
   ]
  },
  {
   "cell_type": "code",
   "execution_count": null,
   "metadata": {},
   "outputs": [],
   "source": [
    "def add_outliers(obs, ol_info):\n",
    "    obs = obs.copy()\n",
    "    added = []\n",
    "    for i in range(len(ol_info.index)):\n",
    "        position = np.random.choice(range(len(obs)), ol_info.iloc[i]['Num'])\n",
    "        effect = np.random.normal(ol_info.iloc[i]['effect_mean'], ol_info.iloc[i]['effect_std'], ol_info.iloc[i]['Num'])\n",
    "        if ol_info.iloc[i]['type'] == 'AO':\n",
    "            obs[position] += effect\n",
    "        added.append(pd.merge(\n",
    "            pd.DataFrame({'position': position, 'effect': effect}),\n",
    "            ol_info,\n",
    "            how='cross'\n",
    "        ))\n",
    "    return obs, pd.concat(added, axis=0)"
   ]
  },
  {
   "cell_type": "code",
   "execution_count": null,
   "metadata": {},
   "outputs": [],
   "source": [
    "ol_type = pd.DataFrame({\n",
    "    'type': ['AO'],\n",
    "    'Num': [100],\n",
    "    'effect_mean': [20],\n",
    "    'effect_std': [4]\n",
    "})"
   ]
  },
  {
   "cell_type": "code",
   "execution_count": null,
   "metadata": {},
   "outputs": [],
   "source": [
    "ol_obs, ol_info = add_outliers(obs.copy(), ol_type)"
   ]
  },
  {
   "cell_type": "code",
   "execution_count": null,
   "metadata": {},
   "outputs": [],
   "source": [
    "plt.plot(ol_obs)"
   ]
  },
  {
   "cell_type": "code",
   "execution_count": null,
   "metadata": {},
   "outputs": [],
   "source": [
    "ol_detection = ol_algo.IterativeTtestOutlierDetection(\n",
    "    types= pd.DataFrame({'type': ['AO']}),\n",
    "    maxit=2,\n",
    "    maxit_iloop=4,\n",
    "    maxit_oloop=4,\n",
    "    cval=None,\n",
    "    cval_reduce=0.14286,\n",
    "    discard_method='en-masse',\n",
    "    discard_cval=None,\n",
    "    tsmethod='ARIMA',\n",
    "    args_tsmethod={\n",
    "        \"order\": (1,0,1),\n",
    "        \"seasonal_order\": (0, 0, 0, 0),\n",
    "        \"with_intercept\": False\n",
    "    }\n",
    ")"
   ]
  },
  {
   "cell_type": "code",
   "execution_count": null,
   "metadata": {},
   "outputs": [],
   "source": [
    "result, endog, exog = ol_detection.fit(endog=pd.DataFrame(ol_obs)[0], exog=None)"
   ]
  },
  {
   "cell_type": "code",
   "execution_count": null,
   "metadata": {},
   "outputs": [],
   "source": [
    "plt.plot(endog)"
   ]
  }
 ],
 "metadata": {
  "kernelspec": {
   "display_name": "base",
   "language": "python",
   "name": "python3"
  },
  "language_info": {
   "codemirror_mode": {
    "name": "ipython",
    "version": 3
   },
   "file_extension": ".py",
   "mimetype": "text/x-python",
   "name": "python",
   "nbconvert_exporter": "python",
   "pygments_lexer": "ipython3",
   "version": "3.9.13"
  },
  "orig_nbformat": 4
 },
 "nbformat": 4,
 "nbformat_minor": 2
}
