{
 "cells": [
  {
   "cell_type": "code",
   "execution_count": 1,
   "metadata": {},
   "outputs": [],
   "source": [
    "import os\n",
    "\n",
    "os.chdir(r'/Users/jialunlyu/Documents/GitHub/ProjectBuffalo/')"
   ]
  },
  {
   "cell_type": "code",
   "execution_count": 2,
   "metadata": {},
   "outputs": [],
   "source": [
    "import buffalo.ingestion as ingestion\n",
    "import buffalo.predictor as predictor"
   ]
  },
  {
   "cell_type": "code",
   "execution_count": 3,
   "metadata": {},
   "outputs": [],
   "source": [
    "import torch\n",
    "import pandas as pd"
   ]
  },
  {
   "cell_type": "code",
   "execution_count": 4,
   "metadata": {},
   "outputs": [],
   "source": [
    "ingestor = ingestion.DataIngestion(ingestion.enum.API.ADVANTAGE)"
   ]
  },
  {
   "cell_type": "code",
   "execution_count": 5,
   "metadata": {},
   "outputs": [],
   "source": [
    "ingestor.load_data(r'cached_data/ingestion.sqlite')"
   ]
  },
  {
   "cell_type": "code",
   "execution_count": 6,
   "metadata": {},
   "outputs": [],
   "source": [
    "timestamps = ingestor.data['ADJUSTED_DAILY_STOCK'].query('symbol == \"AAPL\"').index"
   ]
  },
  {
   "cell_type": "code",
   "execution_count": 7,
   "metadata": {},
   "outputs": [
    {
     "data": {
      "text/plain": [
       "DatetimeIndex(['2023-03-24', '2023-03-23', '2023-03-22', '2023-03-21',\n",
       "               '2023-03-20', '2023-03-17', '2023-03-16', '2023-03-15',\n",
       "               '2023-03-14', '2023-03-13',\n",
       "               ...\n",
       "               '1999-11-12', '1999-11-11', '1999-11-10', '1999-11-09',\n",
       "               '1999-11-08', '1999-11-05', '1999-11-04', '1999-11-03',\n",
       "               '1999-11-02', '1999-11-01'],\n",
       "              dtype='datetime64[ns]', name='time', length=5887, freq=None)"
      ]
     },
     "execution_count": 7,
     "metadata": {},
     "output_type": "execute_result"
    }
   ],
   "source": [
    "timestamps"
   ]
  },
  {
   "cell_type": "code",
   "execution_count": 8,
   "metadata": {},
   "outputs": [
    {
     "name": "stdout",
     "output_type": "stream",
     "text": [
      "Detected seasonality const,sin_0.20703125,sin_0.41015625,cos_0.41015625,sin_0.42578125,cos_0.42578125,sin_0.3828125,cos_0.3828125,sin_0.1875 from ts.\n"
     ]
    },
    {
     "data": {
      "text/plain": [
       "0    2023-03-25\n",
       "1    2023-03-26\n",
       "2    2023-03-27\n",
       "3    2023-03-28\n",
       "4    2023-03-29\n",
       "5    2023-03-30\n",
       "6    2023-03-31\n",
       "7    2023-04-01\n",
       "8    2023-04-02\n",
       "9    2023-04-03\n",
       "10   2023-04-04\n",
       "11   2023-04-05\n",
       "12   2023-04-06\n",
       "13   2023-04-07\n",
       "14   2023-04-08\n",
       "15   2023-04-09\n",
       "16   2023-04-10\n",
       "17   2023-04-11\n",
       "18   2023-04-12\n",
       "19   2023-04-13\n",
       "dtype: datetime64[ns]"
      ]
     },
     "execution_count": 8,
     "metadata": {},
     "output_type": "execute_result"
    }
   ],
   "source": [
    "predictor.util.predict_next_timestamps(timestamps, unit='D', num_indices=20)"
   ]
  },
  {
   "cell_type": "code",
   "execution_count": null,
   "metadata": {},
   "outputs": [],
   "source": [
    "ingestor.data['ADJUSTED_DAILY_STOCK']"
   ]
  },
  {
   "cell_type": "code",
   "execution_count": null,
   "metadata": {},
   "outputs": [],
   "source": [
    "predictor.util.detect_seasonality_timestamps(ingestor.data['ADJUSTED_DAILY_STOCK'].index, [1, 7, 14])"
   ]
  },
  {
   "cell_type": "code",
   "execution_count": null,
   "metadata": {},
   "outputs": [],
   "source": [
    "stock_data = ingestor.data['ADJUSTED_DAILY_STOCK']\n",
    "for k, v in ingestor.data.items():\n",
    "    if k != 'ADJUSTED_DAILY_STOCK':\n",
    "        stock_data = predictor.util.align_dataframe_by_time(stock_data, v)"
   ]
  }
 ],
 "metadata": {
  "kernelspec": {
   "display_name": "base",
   "language": "python",
   "name": "python3"
  },
  "language_info": {
   "codemirror_mode": {
    "name": "ipython",
    "version": 3
   },
   "file_extension": ".py",
   "mimetype": "text/x-python",
   "name": "python",
   "nbconvert_exporter": "python",
   "pygments_lexer": "ipython3",
   "version": "3.9.13"
  },
  "orig_nbformat": 4
 },
 "nbformat": 4,
 "nbformat_minor": 2
}
