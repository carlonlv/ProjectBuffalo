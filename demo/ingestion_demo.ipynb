{
 "cells": [
  {
   "cell_type": "code",
   "execution_count": 1,
   "metadata": {},
   "outputs": [],
   "source": [
    "import os\n",
    "\n",
    "os.chdir(r'..')"
   ]
  },
  {
   "cell_type": "code",
   "execution_count": 2,
   "metadata": {},
   "outputs": [],
   "source": [
    "import buffalo.Ingestion.Stock as StockIngestion"
   ]
  },
  {
   "cell_type": "code",
   "execution_count": 3,
   "metadata": {},
   "outputs": [],
   "source": [
    "stock_grepper = StockIngestion.PolygonStockGrepper()"
   ]
  },
  {
   "cell_type": "code",
   "execution_count": 4,
   "metadata": {},
   "outputs": [
    {
     "data": {
      "text/plain": [
       "'2rrNROO0beX90lPH7ixQOp0mT_9SwF0d'"
      ]
     },
     "execution_count": 4,
     "metadata": {},
     "output_type": "execute_result"
    }
   ],
   "source": [
    "stock_grepper.client.API_KEY"
   ]
  },
  {
   "cell_type": "code",
   "execution_count": 7,
   "metadata": {},
   "outputs": [
    {
     "data": {
      "text/plain": [
       "[Agg(open=130.465, high=133.41, low=129.89, close=130.15, volume=70790813.0, vwap=131.6292, timestamp=1673240400000, transactions=645365, otc=None),\n",
       " Agg(open=130.26, high=131.2636, low=128.12, close=130.73, volume=63896155.0, vwap=129.822, timestamp=1673326800000, transactions=554940, otc=None),\n",
       " Agg(open=131.25, high=133.51, low=130.46, close=133.49, volume=69458949.0, vwap=132.3081, timestamp=1673413200000, transactions=561278, otc=None),\n",
       " Agg(open=133.88, high=134.26, low=131.44, close=133.41, volume=71379648.0, vwap=133.171, timestamp=1673499600000, transactions=635331, otc=None),\n",
       " Agg(open=132.03, high=134.92, low=131.66, close=134.76, volume=57809719.0, vwap=133.6773, timestamp=1673586000000, transactions=537385, otc=None),\n",
       " Agg(open=134.83, high=137.29, low=134.13, close=135.94, volume=63612627.0, vwap=135.7587, timestamp=1673931600000, transactions=595831, otc=None),\n",
       " Agg(open=136.815, high=138.61, low=135.03, close=135.21, volume=69672800.0, vwap=136.3316, timestamp=1674018000000, transactions=578304, otc=None),\n",
       " Agg(open=134.08, high=136.25, low=133.77, close=135.27, volume=58280413.0, vwap=134.9653, timestamp=1674104400000, transactions=491674, otc=None),\n",
       " Agg(open=135.28, high=138.02, low=134.22, close=137.87, volume=80200655.0, vwap=136.3762, timestamp=1674190800000, transactions=552230, otc=None),\n",
       " Agg(open=138.12, high=143.315, low=137.9, close=141.11, volume=81760313.0, vwap=141.2116, timestamp=1674450000000, transactions=719288, otc=None),\n",
       " Agg(open=140.305, high=143.16, low=140.3, close=142.53, volume=66435142.0, vwap=142.0507, timestamp=1674536400000, transactions=498679, otc=None),\n",
       " Agg(open=140.89, high=142.43, low=138.81, close=141.86, volume=65799349.0, vwap=140.7526, timestamp=1674622800000, transactions=536505, otc=None),\n",
       " Agg(open=143.17, high=144.25, low=141.9, close=143.96, volume=54105068.0, vwap=143.3429, timestamp=1674709200000, transactions=472135, otc=None),\n",
       " Agg(open=143.155, high=147.23, low=143.08, close=145.93, volume=70547743.0, vwap=145.8365, timestamp=1674795600000, transactions=560022, otc=None),\n",
       " Agg(open=144.955, high=145.55, low=142.85, close=143, volume=64015274.0, vwap=143.6524, timestamp=1675054800000, transactions=551111, otc=None),\n",
       " Agg(open=142.7, high=144.34, low=142.28, close=144.29, volume=65874459.0, vwap=143.6473, timestamp=1675141200000, transactions=468170, otc=None),\n",
       " Agg(open=143.97, high=146.61, low=141.32, close=145.43, volume=77663426.0, vwap=143.8723, timestamp=1675227600000, transactions=693374, otc=None),\n",
       " Agg(open=148.9, high=151.18, low=148.17, close=150.82, volume=118351634.0, vwap=149.3765, timestamp=1675314000000, transactions=996212, otc=None),\n",
       " Agg(open=148.03, high=157.38, low=147.83, close=154.5, volume=154356723.0, vwap=154.244, timestamp=1675400400000, transactions=1141348, otc=None)]"
      ]
     },
     "execution_count": 7,
     "metadata": {},
     "output_type": "execute_result"
    }
   ],
   "source": [
    "stock_grepper.client.get_aggs(ticker=\"AAPL\", multiplier=1, timespan=\"day\", from_=\"2023-01-09\", to=\"2023-02-10\")"
   ]
  },
  {
   "cell_type": "code",
   "execution_count": 8,
   "metadata": {},
   "outputs": [
    {
     "name": "stderr",
     "output_type": "stream",
     "text": [
      "c:\\Users\\carlo\\miniconda3\\lib\\site-packages\\debugpy\\_vendored\\pydevd\\_pydev_bundle\\_pydev_imports_tipper.py:219: FutureWarning: pandas.Float64Index is deprecated and will be removed from pandas in a future version. Use pandas.Index with the appropriate dtype instead.\n",
      "  obj = getattr(obj_to_complete, d)\n",
      "c:\\Users\\carlo\\miniconda3\\lib\\site-packages\\debugpy\\_vendored\\pydevd\\_pydev_bundle\\_pydev_imports_tipper.py:219: FutureWarning: pandas.Int64Index is deprecated and will be removed from pandas in a future version. Use pandas.Index with the appropriate dtype instead.\n",
      "  obj = getattr(obj_to_complete, d)\n",
      "c:\\Users\\carlo\\miniconda3\\lib\\site-packages\\debugpy\\_vendored\\pydevd\\_pydev_bundle\\_pydev_imports_tipper.py:219: FutureWarning: pandas.UInt64Index is deprecated and will be removed from pandas in a future version. Use pandas.Index with the appropriate dtype instead.\n",
      "  obj = getattr(obj_to_complete, d)\n"
     ]
    },
    {
     "ename": "BadResponse",
     "evalue": "404 page not found",
     "output_type": "error",
     "traceback": [
      "\u001b[1;31m---------------------------------------------------------------------------\u001b[0m",
      "\u001b[1;31mBadResponse\u001b[0m                               Traceback (most recent call last)",
      "Cell \u001b[1;32mIn[8], line 1\u001b[0m\n\u001b[1;32m----> 1\u001b[0m stock_grepper\u001b[39m.\u001b[39;49msnapshot_download(ticker\u001b[39m=\u001b[39;49m\u001b[39m\"\u001b[39;49m\u001b[39mAAPL\u001b[39;49m\u001b[39m\"\u001b[39;49m, include_otc\u001b[39m=\u001b[39;49m\u001b[39mTrue\u001b[39;49;00m)\n",
      "File \u001b[1;32mc:\\Users\\carlo\\GitHub\\ProjectBuffalo\\buffalo\\Ingestion\\Stock\\PolygonStockGrepper.py:114\u001b[0m, in \u001b[0;36mPolygonStockGrepper.snapshot_download\u001b[1;34m(self, stores, returns, file_name, table_name, file_type, **download_args)\u001b[0m\n\u001b[0;32m    112\u001b[0m download_args[\u001b[39m\"\u001b[39m\u001b[39mraw\u001b[39m\u001b[39m\"\u001b[39m] \u001b[39m=\u001b[39m \u001b[39mFalse\u001b[39;00m\n\u001b[0;32m    113\u001b[0m download_args[\u001b[39m\"\u001b[39m\u001b[39mmarket_type\u001b[39m\u001b[39m\"\u001b[39m] \u001b[39m=\u001b[39m polygon\u001b[39m.\u001b[39mrest\u001b[39m.\u001b[39msnapshot\u001b[39m.\u001b[39mSnapshotMarketType\u001b[39m.\u001b[39mSTOCKS\n\u001b[1;32m--> 114\u001b[0m data \u001b[39m=\u001b[39m pd\u001b[39m.\u001b[39mconcat([pd\u001b[39m.\u001b[39mjson_normalize(json\u001b[39m.\u001b[39mloads(x)) \u001b[39mfor\u001b[39;00m x \u001b[39min\u001b[39;00m do_call(\u001b[39mself\u001b[39m\u001b[39m.\u001b[39mclient\u001b[39m.\u001b[39mget_snapshot_ticker, \u001b[39m*\u001b[39m\u001b[39m*\u001b[39mdownload_args)])\n\u001b[0;32m    115\u001b[0m \u001b[39mif\u001b[39;00m stores:\n\u001b[0;32m    116\u001b[0m     file_path \u001b[39m=\u001b[39m os\u001b[39m.\u001b[39mpath\u001b[39m.\u001b[39mjoin(Configuration\u001b[39m.\u001b[39mstorage_folder, file_name\u001b[39m.\u001b[39mformat(datetime\u001b[39m=\u001b[39mdatetime\u001b[39m.\u001b[39mnow()\u001b[39m.\u001b[39mstrftime(\u001b[39mr\u001b[39m\u001b[39m'\u001b[39m\u001b[39m%\u001b[39m\u001b[39my\u001b[39m\u001b[39m%\u001b[39m\u001b[39mm\u001b[39m\u001b[39m%d\u001b[39;00m\u001b[39m%\u001b[39m\u001b[39mH\u001b[39m\u001b[39m%\u001b[39m\u001b[39mM\u001b[39m\u001b[39m%\u001b[39m\u001b[39mS\u001b[39m\u001b[39m'\u001b[39m), file_type\u001b[39m=\u001b[39mfile_type))\n",
      "File \u001b[1;32mc:\\Users\\carlo\\GitHub\\ProjectBuffalo\\buffalo\\Utility\\helper.py:13\u001b[0m, in \u001b[0;36mdo_call\u001b[1;34m(func, *args, **kwargs)\u001b[0m\n\u001b[0;32m     11\u001b[0m sig \u001b[39m=\u001b[39m inspect\u001b[39m.\u001b[39msignature(func)\n\u001b[0;32m     12\u001b[0m filtered_dict \u001b[39m=\u001b[39m {filter_key : kwargs[filter_key] \u001b[39mfor\u001b[39;00m filter_key \u001b[39min\u001b[39;00m kwargs\u001b[39m.\u001b[39mkeys() \u001b[39mif\u001b[39;00m filter_key \u001b[39min\u001b[39;00m sig\u001b[39m.\u001b[39mparameters\u001b[39m.\u001b[39mkeys()}\n\u001b[1;32m---> 13\u001b[0m \u001b[39mreturn\u001b[39;00m func(\u001b[39m*\u001b[39margs, \u001b[39m*\u001b[39m\u001b[39m*\u001b[39mfiltered_dict)\n",
      "File \u001b[1;32mc:\\Users\\carlo\\miniconda3\\lib\\site-packages\\polygon\\rest\\snapshot.py:106\u001b[0m, in \u001b[0;36mSnapshotClient.get_snapshot_ticker\u001b[1;34m(self, market_type, ticker, params, raw, options)\u001b[0m\n\u001b[0;32m    104\u001b[0m locale \u001b[39m=\u001b[39m get_locale(market_type)\n\u001b[0;32m    105\u001b[0m url \u001b[39m=\u001b[39m \u001b[39mf\u001b[39m\u001b[39m\"\u001b[39m\u001b[39m/v2/snapshot/locale/\u001b[39m\u001b[39m{\u001b[39;00mlocale\u001b[39m}\u001b[39;00m\u001b[39m/markets/\u001b[39m\u001b[39m{\u001b[39;00mmarket_type\u001b[39m}\u001b[39;00m\u001b[39m/tickers/\u001b[39m\u001b[39m{\u001b[39;00mticker\u001b[39m}\u001b[39;00m\u001b[39m\"\u001b[39m\n\u001b[1;32m--> 106\u001b[0m \u001b[39mreturn\u001b[39;00m \u001b[39mself\u001b[39;49m\u001b[39m.\u001b[39;49m_get(\n\u001b[0;32m    107\u001b[0m     path\u001b[39m=\u001b[39;49murl,\n\u001b[0;32m    108\u001b[0m     params\u001b[39m=\u001b[39;49m\u001b[39mself\u001b[39;49m\u001b[39m.\u001b[39;49m_get_params(\u001b[39mself\u001b[39;49m\u001b[39m.\u001b[39;49mget_snapshot_ticker, \u001b[39mlocals\u001b[39;49m()),\n\u001b[0;32m    109\u001b[0m     result_key\u001b[39m=\u001b[39;49m\u001b[39m\"\u001b[39;49m\u001b[39mticker\u001b[39;49m\u001b[39m\"\u001b[39;49m,\n\u001b[0;32m    110\u001b[0m     deserializer\u001b[39m=\u001b[39;49mTickerSnapshot\u001b[39m.\u001b[39;49mfrom_dict,\n\u001b[0;32m    111\u001b[0m     raw\u001b[39m=\u001b[39;49mraw,\n\u001b[0;32m    112\u001b[0m     options\u001b[39m=\u001b[39;49moptions,\n\u001b[0;32m    113\u001b[0m )\n",
      "File \u001b[1;32mc:\\Users\\carlo\\miniconda3\\lib\\site-packages\\polygon\\rest\\base.py:88\u001b[0m, in \u001b[0;36mBaseClient._get\u001b[1;34m(self, path, params, result_key, deserializer, raw, options)\u001b[0m\n\u001b[0;32m     79\u001b[0m resp \u001b[39m=\u001b[39m \u001b[39mself\u001b[39m\u001b[39m.\u001b[39mclient\u001b[39m.\u001b[39mrequest(\n\u001b[0;32m     80\u001b[0m     \u001b[39m\"\u001b[39m\u001b[39mGET\u001b[39m\u001b[39m\"\u001b[39m,\n\u001b[0;32m     81\u001b[0m     \u001b[39mself\u001b[39m\u001b[39m.\u001b[39mBASE \u001b[39m+\u001b[39m path,\n\u001b[1;32m   (...)\u001b[0m\n\u001b[0;32m     84\u001b[0m     headers\u001b[39m=\u001b[39m\u001b[39mself\u001b[39m\u001b[39m.\u001b[39m_concat_headers(option\u001b[39m.\u001b[39mheaders),\n\u001b[0;32m     85\u001b[0m )\n\u001b[0;32m     87\u001b[0m \u001b[39mif\u001b[39;00m resp\u001b[39m.\u001b[39mstatus \u001b[39m!=\u001b[39m \u001b[39m200\u001b[39m:\n\u001b[1;32m---> 88\u001b[0m     \u001b[39mraise\u001b[39;00m BadResponse(resp\u001b[39m.\u001b[39mdata\u001b[39m.\u001b[39mdecode(\u001b[39m\"\u001b[39m\u001b[39mutf-8\u001b[39m\u001b[39m\"\u001b[39m))\n\u001b[0;32m     90\u001b[0m \u001b[39mif\u001b[39;00m raw:\n\u001b[0;32m     91\u001b[0m     \u001b[39mreturn\u001b[39;00m resp\n",
      "\u001b[1;31mBadResponse\u001b[0m: 404 page not found"
     ]
    }
   ],
   "source": [
    "stock_grepper.snapshot_download(ticker=\"AAPL\", include_otc=True)"
   ]
  }
 ],
 "metadata": {
  "kernelspec": {
   "display_name": "base",
   "language": "python",
   "name": "python3"
  },
  "language_info": {
   "codemirror_mode": {
    "name": "ipython",
    "version": 3
   },
   "file_extension": ".py",
   "mimetype": "text/x-python",
   "name": "python",
   "nbconvert_exporter": "python",
   "pygments_lexer": "ipython3",
   "version": "3.10.8"
  },
  "orig_nbformat": 4,
  "vscode": {
   "interpreter": {
    "hash": "83d7478708aee50e506b587dee1e78eca81d8069298324b7efb66c776783145b"
   }
  }
 },
 "nbformat": 4,
 "nbformat_minor": 2
}
